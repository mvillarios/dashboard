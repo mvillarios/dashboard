{
 "cells": [
  {
   "cell_type": "code",
   "execution_count": 1,
   "metadata": {},
   "outputs": [],
   "source": [
    "import numpy as np\n",
    "import pandas as pd\n",
    "import matplotlib as mpl\n",
    "import matplotlib.pyplot as plt\n",
    "import plotly.express as px\n",
    "from dash import Dash\n",
    "import json\n",
    "from wordcloud import WordCloud, STOPWORDS\n",
    "from dash import Dash, dcc, Output, Input  # pip install dash\n",
    "import dash_bootstrap_components as dbc    # pip install dash-bootstrap-components"
   ]
  },
  {
   "cell_type": "code",
   "execution_count": 2,
   "metadata": {},
   "outputs": [
    {
     "name": "stdout",
     "output_type": "stream",
     "text": [
      "Archivo cargado correctamente\n"
     ]
    }
   ],
   "source": [
    "df_movies = pd.read_csv('datasets/MovieLens/movies.csv')\n",
    "\n",
    "print(\"Archivo cargado correctamente\")"
   ]
  },
  {
   "cell_type": "code",
   "execution_count": 3,
   "metadata": {},
   "outputs": [
    {
     "name": "stdout",
     "output_type": "stream",
     "text": [
      "Archivo cargado correctamente\n"
     ]
    }
   ],
   "source": [
    "df_ratings = pd.read_csv('datasets/MovieLens/ratings.csv')\n",
    "\n",
    "print(\"Archivo cargado correctamente\")"
   ]
  },
  {
   "cell_type": "code",
   "execution_count": 4,
   "metadata": {},
   "outputs": [
    {
     "data": {
      "text/html": [
       "<div>\n",
       "<style scoped>\n",
       "    .dataframe tbody tr th:only-of-type {\n",
       "        vertical-align: middle;\n",
       "    }\n",
       "\n",
       "    .dataframe tbody tr th {\n",
       "        vertical-align: top;\n",
       "    }\n",
       "\n",
       "    .dataframe thead th {\n",
       "        text-align: right;\n",
       "    }\n",
       "</style>\n",
       "<table border=\"1\" class=\"dataframe\">\n",
       "  <thead>\n",
       "    <tr style=\"text-align: right;\">\n",
       "      <th></th>\n",
       "      <th>title</th>\n",
       "      <th>genres</th>\n",
       "    </tr>\n",
       "    <tr>\n",
       "      <th>movieId</th>\n",
       "      <th></th>\n",
       "      <th></th>\n",
       "    </tr>\n",
       "  </thead>\n",
       "  <tbody>\n",
       "    <tr>\n",
       "      <th>1</th>\n",
       "      <td>Toy Story (1995)</td>\n",
       "      <td>Adventure|Animation|Children|Comedy|Fantasy</td>\n",
       "    </tr>\n",
       "    <tr>\n",
       "      <th>2</th>\n",
       "      <td>Jumanji (1995)</td>\n",
       "      <td>Adventure|Children|Fantasy</td>\n",
       "    </tr>\n",
       "    <tr>\n",
       "      <th>3</th>\n",
       "      <td>Grumpier Old Men (1995)</td>\n",
       "      <td>Comedy|Romance</td>\n",
       "    </tr>\n",
       "    <tr>\n",
       "      <th>4</th>\n",
       "      <td>Waiting to Exhale (1995)</td>\n",
       "      <td>Comedy|Drama|Romance</td>\n",
       "    </tr>\n",
       "    <tr>\n",
       "      <th>5</th>\n",
       "      <td>Father of the Bride Part II (1995)</td>\n",
       "      <td>Comedy</td>\n",
       "    </tr>\n",
       "  </tbody>\n",
       "</table>\n",
       "</div>"
      ],
      "text/plain": [
       "                                      title  \\\n",
       "movieId                                       \n",
       "1                          Toy Story (1995)   \n",
       "2                            Jumanji (1995)   \n",
       "3                   Grumpier Old Men (1995)   \n",
       "4                  Waiting to Exhale (1995)   \n",
       "5        Father of the Bride Part II (1995)   \n",
       "\n",
       "                                              genres  \n",
       "movieId                                               \n",
       "1        Adventure|Animation|Children|Comedy|Fantasy  \n",
       "2                         Adventure|Children|Fantasy  \n",
       "3                                     Comedy|Romance  \n",
       "4                               Comedy|Drama|Romance  \n",
       "5                                             Comedy  "
      ]
     },
     "execution_count": 4,
     "metadata": {},
     "output_type": "execute_result"
    }
   ],
   "source": [
    "df_movies.set_index('movieId', inplace=True)\n",
    "\n",
    "df_movies.head()"
   ]
  },
  {
   "cell_type": "code",
   "execution_count": 5,
   "metadata": {},
   "outputs": [
    {
     "data": {
      "text/html": [
       "<div>\n",
       "<style scoped>\n",
       "    .dataframe tbody tr th:only-of-type {\n",
       "        vertical-align: middle;\n",
       "    }\n",
       "\n",
       "    .dataframe tbody tr th {\n",
       "        vertical-align: top;\n",
       "    }\n",
       "\n",
       "    .dataframe thead th {\n",
       "        text-align: right;\n",
       "    }\n",
       "</style>\n",
       "<table border=\"1\" class=\"dataframe\">\n",
       "  <thead>\n",
       "    <tr style=\"text-align: right;\">\n",
       "      <th></th>\n",
       "      <th>userId</th>\n",
       "      <th>movieId</th>\n",
       "      <th>rating</th>\n",
       "    </tr>\n",
       "  </thead>\n",
       "  <tbody>\n",
       "    <tr>\n",
       "      <th>0</th>\n",
       "      <td>1</td>\n",
       "      <td>296</td>\n",
       "      <td>5.0</td>\n",
       "    </tr>\n",
       "    <tr>\n",
       "      <th>1</th>\n",
       "      <td>1</td>\n",
       "      <td>306</td>\n",
       "      <td>3.5</td>\n",
       "    </tr>\n",
       "    <tr>\n",
       "      <th>2</th>\n",
       "      <td>1</td>\n",
       "      <td>307</td>\n",
       "      <td>5.0</td>\n",
       "    </tr>\n",
       "    <tr>\n",
       "      <th>3</th>\n",
       "      <td>1</td>\n",
       "      <td>665</td>\n",
       "      <td>5.0</td>\n",
       "    </tr>\n",
       "    <tr>\n",
       "      <th>4</th>\n",
       "      <td>1</td>\n",
       "      <td>899</td>\n",
       "      <td>3.5</td>\n",
       "    </tr>\n",
       "  </tbody>\n",
       "</table>\n",
       "</div>"
      ],
      "text/plain": [
       "   userId  movieId  rating\n",
       "0       1      296     5.0\n",
       "1       1      306     3.5\n",
       "2       1      307     5.0\n",
       "3       1      665     5.0\n",
       "4       1      899     3.5"
      ]
     },
     "execution_count": 5,
     "metadata": {},
     "output_type": "execute_result"
    }
   ],
   "source": [
    "df_ratings.drop('timestamp', axis=1, inplace=True)\n",
    "\n",
    "df_ratings.head()"
   ]
  },
  {
   "cell_type": "code",
   "execution_count": 6,
   "metadata": {},
   "outputs": [
    {
     "data": {
      "text/html": [
       "<div>\n",
       "<style scoped>\n",
       "    .dataframe tbody tr th:only-of-type {\n",
       "        vertical-align: middle;\n",
       "    }\n",
       "\n",
       "    .dataframe tbody tr th {\n",
       "        vertical-align: top;\n",
       "    }\n",
       "\n",
       "    .dataframe thead th {\n",
       "        text-align: right;\n",
       "    }\n",
       "</style>\n",
       "<table border=\"1\" class=\"dataframe\">\n",
       "  <thead>\n",
       "    <tr style=\"text-align: right;\">\n",
       "      <th></th>\n",
       "      <th>movieId</th>\n",
       "      <th>rating</th>\n",
       "    </tr>\n",
       "  </thead>\n",
       "  <tbody>\n",
       "    <tr>\n",
       "      <th>29523</th>\n",
       "      <td>136782</td>\n",
       "      <td>5.0</td>\n",
       "    </tr>\n",
       "    <tr>\n",
       "      <th>49654</th>\n",
       "      <td>186119</td>\n",
       "      <td>5.0</td>\n",
       "    </tr>\n",
       "    <tr>\n",
       "      <th>29643</th>\n",
       "      <td>137032</td>\n",
       "      <td>5.0</td>\n",
       "    </tr>\n",
       "    <tr>\n",
       "      <th>49041</th>\n",
       "      <td>184643</td>\n",
       "      <td>5.0</td>\n",
       "    </tr>\n",
       "    <tr>\n",
       "      <th>29646</th>\n",
       "      <td>137038</td>\n",
       "      <td>5.0</td>\n",
       "    </tr>\n",
       "    <tr>\n",
       "      <th>...</th>\n",
       "      <td>...</td>\n",
       "      <td>...</td>\n",
       "    </tr>\n",
       "    <tr>\n",
       "      <th>5693</th>\n",
       "      <td>5805</td>\n",
       "      <td>0.5</td>\n",
       "    </tr>\n",
       "    <tr>\n",
       "      <th>55757</th>\n",
       "      <td>199922</td>\n",
       "      <td>0.5</td>\n",
       "    </tr>\n",
       "    <tr>\n",
       "      <th>53387</th>\n",
       "      <td>194608</td>\n",
       "      <td>0.5</td>\n",
       "    </tr>\n",
       "    <tr>\n",
       "      <th>58517</th>\n",
       "      <td>207153</td>\n",
       "      <td>0.5</td>\n",
       "    </tr>\n",
       "    <tr>\n",
       "      <th>45900</th>\n",
       "      <td>177419</td>\n",
       "      <td>0.5</td>\n",
       "    </tr>\n",
       "  </tbody>\n",
       "</table>\n",
       "<p>59047 rows × 2 columns</p>\n",
       "</div>"
      ],
      "text/plain": [
       "       movieId  rating\n",
       "29523   136782     5.0\n",
       "49654   186119     5.0\n",
       "29643   137032     5.0\n",
       "49041   184643     5.0\n",
       "29646   137038     5.0\n",
       "...        ...     ...\n",
       "5693      5805     0.5\n",
       "55757   199922     0.5\n",
       "53387   194608     0.5\n",
       "58517   207153     0.5\n",
       "45900   177419     0.5\n",
       "\n",
       "[59047 rows x 2 columns]"
      ]
     },
     "execution_count": 6,
     "metadata": {},
     "output_type": "execute_result"
    }
   ],
   "source": [
    "df_prom_ratings = df_ratings.groupby('movieId')['rating'].mean().reset_index()\n",
    "\n",
    "df_prom_ratings.sort_values(by='rating', ascending=False, axis=0, inplace=True)\n",
    "\n",
    "df_prom_ratings"
   ]
  },
  {
   "cell_type": "code",
   "execution_count": 7,
   "metadata": {},
   "outputs": [
    {
     "data": {
      "text/html": [
       "<div>\n",
       "<style scoped>\n",
       "    .dataframe tbody tr th:only-of-type {\n",
       "        vertical-align: middle;\n",
       "    }\n",
       "\n",
       "    .dataframe tbody tr th {\n",
       "        vertical-align: top;\n",
       "    }\n",
       "\n",
       "    .dataframe thead th {\n",
       "        text-align: right;\n",
       "    }\n",
       "</style>\n",
       "<table border=\"1\" class=\"dataframe\">\n",
       "  <thead>\n",
       "    <tr style=\"text-align: right;\">\n",
       "      <th></th>\n",
       "      <th>movieId</th>\n",
       "      <th>title</th>\n",
       "      <th>genres</th>\n",
       "      <th>rating</th>\n",
       "    </tr>\n",
       "  </thead>\n",
       "  <tbody>\n",
       "    <tr>\n",
       "      <th>29523</th>\n",
       "      <td>136782</td>\n",
       "      <td>The Girl is in Trouble (2015)</td>\n",
       "      <td>Thriller</td>\n",
       "      <td>5.0</td>\n",
       "    </tr>\n",
       "    <tr>\n",
       "      <th>49654</th>\n",
       "      <td>186119</td>\n",
       "      <td>A Gift Horse (2015)</td>\n",
       "      <td>Children</td>\n",
       "      <td>5.0</td>\n",
       "    </tr>\n",
       "    <tr>\n",
       "      <th>29643</th>\n",
       "      <td>137032</td>\n",
       "      <td>The Perfect Neighbor (2005)</td>\n",
       "      <td>Drama|Thriller</td>\n",
       "      <td>5.0</td>\n",
       "    </tr>\n",
       "    <tr>\n",
       "      <th>49041</th>\n",
       "      <td>184643</td>\n",
       "      <td>Relentless (2018)</td>\n",
       "      <td>Thriller</td>\n",
       "      <td>5.0</td>\n",
       "    </tr>\n",
       "    <tr>\n",
       "      <th>29646</th>\n",
       "      <td>137038</td>\n",
       "      <td>The Perfect Wife (2001)</td>\n",
       "      <td>Drama|Thriller</td>\n",
       "      <td>5.0</td>\n",
       "    </tr>\n",
       "  </tbody>\n",
       "</table>\n",
       "</div>"
      ],
      "text/plain": [
       "       movieId                          title          genres  rating\n",
       "29523   136782  The Girl is in Trouble (2015)        Thriller     5.0\n",
       "49654   186119            A Gift Horse (2015)        Children     5.0\n",
       "29643   137032    The Perfect Neighbor (2005)  Drama|Thriller     5.0\n",
       "49041   184643              Relentless (2018)        Thriller     5.0\n",
       "29646   137038        The Perfect Wife (2001)  Drama|Thriller     5.0"
      ]
     },
     "execution_count": 7,
     "metadata": {},
     "output_type": "execute_result"
    }
   ],
   "source": [
    "df_movies_rating = df_movies.merge(df_prom_ratings, on='movieId')\n",
    "df_movies_rating.sort_values(by='rating', ascending=False, axis=0, inplace=True)\n",
    "df_movies_rating.head()"
   ]
  },
  {
   "cell_type": "code",
   "execution_count": 8,
   "metadata": {},
   "outputs": [
    {
     "data": {
      "text/html": [
       "<div>\n",
       "<style scoped>\n",
       "    .dataframe tbody tr th:only-of-type {\n",
       "        vertical-align: middle;\n",
       "    }\n",
       "\n",
       "    .dataframe tbody tr th {\n",
       "        vertical-align: top;\n",
       "    }\n",
       "\n",
       "    .dataframe thead th {\n",
       "        text-align: right;\n",
       "    }\n",
       "</style>\n",
       "<table border=\"1\" class=\"dataframe\">\n",
       "  <thead>\n",
       "    <tr style=\"text-align: right;\">\n",
       "      <th></th>\n",
       "      <th>movieId</th>\n",
       "      <th>title</th>\n",
       "      <th>genres</th>\n",
       "      <th>rating</th>\n",
       "      <th>count</th>\n",
       "    </tr>\n",
       "  </thead>\n",
       "  <tbody>\n",
       "    <tr>\n",
       "      <th>2566</th>\n",
       "      <td>356</td>\n",
       "      <td>Forrest Gump (1994)</td>\n",
       "      <td>Comedy|Drama|Romance|War</td>\n",
       "      <td>4.048011</td>\n",
       "      <td>81491</td>\n",
       "    </tr>\n",
       "    <tr>\n",
       "      <th>1532</th>\n",
       "      <td>318</td>\n",
       "      <td>Shawshank Redemption, The (1994)</td>\n",
       "      <td>Crime|Drama</td>\n",
       "      <td>4.413576</td>\n",
       "      <td>81482</td>\n",
       "    </tr>\n",
       "    <tr>\n",
       "      <th>2038</th>\n",
       "      <td>296</td>\n",
       "      <td>Pulp Fiction (1994)</td>\n",
       "      <td>Comedy|Crime|Drama|Thriller</td>\n",
       "      <td>4.188912</td>\n",
       "      <td>79672</td>\n",
       "    </tr>\n",
       "    <tr>\n",
       "      <th>2209</th>\n",
       "      <td>593</td>\n",
       "      <td>Silence of the Lambs, The (1991)</td>\n",
       "      <td>Crime|Horror|Thriller</td>\n",
       "      <td>4.151342</td>\n",
       "      <td>74127</td>\n",
       "    </tr>\n",
       "    <tr>\n",
       "      <th>2201</th>\n",
       "      <td>2571</td>\n",
       "      <td>Matrix, The (1999)</td>\n",
       "      <td>Action|Sci-Fi|Thriller</td>\n",
       "      <td>4.154099</td>\n",
       "      <td>72674</td>\n",
       "    </tr>\n",
       "  </tbody>\n",
       "</table>\n",
       "</div>"
      ],
      "text/plain": [
       "      movieId                             title                       genres  \\\n",
       "2566      356               Forrest Gump (1994)     Comedy|Drama|Romance|War   \n",
       "1532      318  Shawshank Redemption, The (1994)                  Crime|Drama   \n",
       "2038      296               Pulp Fiction (1994)  Comedy|Crime|Drama|Thriller   \n",
       "2209      593  Silence of the Lambs, The (1991)        Crime|Horror|Thriller   \n",
       "2201     2571                Matrix, The (1999)       Action|Sci-Fi|Thriller   \n",
       "\n",
       "        rating  count  \n",
       "2566  4.048011  81491  \n",
       "1532  4.413576  81482  \n",
       "2038  4.188912  79672  \n",
       "2209  4.151342  74127  \n",
       "2201  4.154099  72674  "
      ]
     },
     "execution_count": 8,
     "metadata": {},
     "output_type": "execute_result"
    }
   ],
   "source": [
    "num_votos = df_ratings['movieId'].value_counts().reset_index()\n",
    "\n",
    "df_movies_rating_final = df_movies_rating.merge(num_votos, on='movieId')\n",
    "df_movies_rating_final.sort_values(by='count', ascending=False, axis=0, inplace=True)\n",
    "\n",
    "df_movies_rating_final.head()"
   ]
  },
  {
   "cell_type": "code",
   "execution_count": 9,
   "metadata": {},
   "outputs": [
    {
     "name": "stderr",
     "output_type": "stream",
     "text": [
      "C:\\Users\\mvill\\AppData\\Local\\Temp\\ipykernel_23120\\1283463326.py:2: SettingWithCopyWarning: \n",
      "A value is trying to be set on a copy of a slice from a DataFrame\n",
      "\n",
      "See the caveats in the documentation: https://pandas.pydata.org/pandas-docs/stable/user_guide/indexing.html#returning-a-view-versus-a-copy\n",
      "  df_movies_rating_filtered.sort_values(by='rating', ascending=False, axis=0, inplace=True)\n",
      "C:\\Users\\mvill\\AppData\\Local\\Temp\\ipykernel_23120\\1283463326.py:4: SettingWithCopyWarning: \n",
      "A value is trying to be set on a copy of a slice from a DataFrame\n",
      "\n",
      "See the caveats in the documentation: https://pandas.pydata.org/pandas-docs/stable/user_guide/indexing.html#returning-a-view-versus-a-copy\n",
      "  df_movies_rating_filtered.drop(['genres'], axis=1, inplace=True)\n"
     ]
    },
    {
     "data": {
      "text/html": [
       "<div>\n",
       "<style scoped>\n",
       "    .dataframe tbody tr th:only-of-type {\n",
       "        vertical-align: middle;\n",
       "    }\n",
       "\n",
       "    .dataframe tbody tr th {\n",
       "        vertical-align: top;\n",
       "    }\n",
       "\n",
       "    .dataframe thead th {\n",
       "        text-align: right;\n",
       "    }\n",
       "</style>\n",
       "<table border=\"1\" class=\"dataframe\">\n",
       "  <thead>\n",
       "    <tr style=\"text-align: right;\">\n",
       "      <th></th>\n",
       "      <th>movieId</th>\n",
       "      <th>title</th>\n",
       "      <th>rating</th>\n",
       "      <th>count</th>\n",
       "    </tr>\n",
       "  </thead>\n",
       "  <tbody>\n",
       "    <tr>\n",
       "      <th>1532</th>\n",
       "      <td>318</td>\n",
       "      <td>Shawshank Redemption, The (1994)</td>\n",
       "      <td>4.413576</td>\n",
       "      <td>81482</td>\n",
       "    </tr>\n",
       "    <tr>\n",
       "      <th>1633</th>\n",
       "      <td>858</td>\n",
       "      <td>Godfather, The (1972)</td>\n",
       "      <td>4.324336</td>\n",
       "      <td>52498</td>\n",
       "    </tr>\n",
       "    <tr>\n",
       "      <th>1648</th>\n",
       "      <td>50</td>\n",
       "      <td>Usual Suspects, The (1995)</td>\n",
       "      <td>4.284353</td>\n",
       "      <td>55366</td>\n",
       "    </tr>\n",
       "    <tr>\n",
       "      <th>1652</th>\n",
       "      <td>1221</td>\n",
       "      <td>Godfather: Part II, The (1974)</td>\n",
       "      <td>4.261759</td>\n",
       "      <td>34188</td>\n",
       "    </tr>\n",
       "    <tr>\n",
       "      <th>1655</th>\n",
       "      <td>2019</td>\n",
       "      <td>Seven Samurai (Shichinin no samurai) (1954)</td>\n",
       "      <td>4.254769</td>\n",
       "      <td>13367</td>\n",
       "    </tr>\n",
       "  </tbody>\n",
       "</table>\n",
       "</div>"
      ],
      "text/plain": [
       "      movieId                                        title    rating  count\n",
       "1532      318             Shawshank Redemption, The (1994)  4.413576  81482\n",
       "1633      858                        Godfather, The (1972)  4.324336  52498\n",
       "1648       50                   Usual Suspects, The (1995)  4.284353  55366\n",
       "1652     1221               Godfather: Part II, The (1974)  4.261759  34188\n",
       "1655     2019  Seven Samurai (Shichinin no samurai) (1954)  4.254769  13367"
      ]
     },
     "execution_count": 9,
     "metadata": {},
     "output_type": "execute_result"
    }
   ],
   "source": [
    "df_movies_rating_filtered = df_movies_rating_final.loc[df_movies_rating_final['count'] >= 6000]\n",
    "df_movies_rating_filtered.sort_values(by='rating', ascending=False, axis=0, inplace=True)\n",
    "\n",
    "df_movies_rating_filtered.drop(['genres'], axis=1, inplace=True)\n",
    "\n",
    "\n",
    "\n",
    "df_movies_rating_filtered.head()"
   ]
  },
  {
   "cell_type": "code",
   "execution_count": 10,
   "metadata": {},
   "outputs": [
    {
     "name": "stdout",
     "output_type": "stream",
     "text": [
      "Archivo cargado correctamente\n"
     ]
    }
   ],
   "source": [
    "df_movies_metadata = pd.read_csv('datasets/IMBD/movies_metadata.csv',\n",
    "                             low_memory=False)\n",
    "\n",
    "print(\"Archivo cargado correctamente\")"
   ]
  },
  {
   "cell_type": "code",
   "execution_count": 11,
   "metadata": {},
   "outputs": [],
   "source": [
    "df_movies_meta = df_movies_metadata\n",
    "\n",
    "# Eliminar fila con id 1997-08-20\n",
    "\n",
    "df_movies_meta.drop(df_movies_meta[df_movies_meta['id'].astype(str).str.contains('-')].index, inplace=True)\n",
    "\n",
    "df_movies_meta['id'] = df_movies_meta['id'].astype(int)"
   ]
  },
  {
   "cell_type": "code",
   "execution_count": 12,
   "metadata": {},
   "outputs": [
    {
     "name": "stdout",
     "output_type": "stream",
     "text": [
      "Archivo cargado correctamente\n"
     ]
    }
   ],
   "source": [
    "df_links = pd.read_csv('datasets/IMBD/links.csv')\n",
    "\n",
    "print(\"Archivo cargado correctamente\")"
   ]
  },
  {
   "cell_type": "code",
   "execution_count": 13,
   "metadata": {},
   "outputs": [
    {
     "data": {
      "text/html": [
       "<div>\n",
       "<style scoped>\n",
       "    .dataframe tbody tr th:only-of-type {\n",
       "        vertical-align: middle;\n",
       "    }\n",
       "\n",
       "    .dataframe tbody tr th {\n",
       "        vertical-align: top;\n",
       "    }\n",
       "\n",
       "    .dataframe thead th {\n",
       "        text-align: right;\n",
       "    }\n",
       "</style>\n",
       "<table border=\"1\" class=\"dataframe\">\n",
       "  <thead>\n",
       "    <tr style=\"text-align: right;\">\n",
       "      <th></th>\n",
       "      <th>movieId</th>\n",
       "      <th>id</th>\n",
       "    </tr>\n",
       "  </thead>\n",
       "  <tbody>\n",
       "    <tr>\n",
       "      <th>0</th>\n",
       "      <td>1</td>\n",
       "      <td>862</td>\n",
       "    </tr>\n",
       "    <tr>\n",
       "      <th>1</th>\n",
       "      <td>2</td>\n",
       "      <td>8844</td>\n",
       "    </tr>\n",
       "    <tr>\n",
       "      <th>2</th>\n",
       "      <td>3</td>\n",
       "      <td>15602</td>\n",
       "    </tr>\n",
       "    <tr>\n",
       "      <th>3</th>\n",
       "      <td>4</td>\n",
       "      <td>31357</td>\n",
       "    </tr>\n",
       "    <tr>\n",
       "      <th>4</th>\n",
       "      <td>5</td>\n",
       "      <td>11862</td>\n",
       "    </tr>\n",
       "  </tbody>\n",
       "</table>\n",
       "</div>"
      ],
      "text/plain": [
       "   movieId     id\n",
       "0        1    862\n",
       "1        2   8844\n",
       "2        3  15602\n",
       "3        4  31357\n",
       "4        5  11862"
      ]
     },
     "execution_count": 13,
     "metadata": {},
     "output_type": "execute_result"
    }
   ],
   "source": [
    "df_links = df_links[['movieId', 'tmdbId']]\n",
    "\n",
    "# Cambia el nombre del a segunda columna para que coincida con el df_movies_meta\n",
    "df_links.rename(columns={'tmdbId': 'id'}, inplace=True)\n",
    "\n",
    "df_links.dropna(inplace=True)\n",
    "\n",
    "df_links['id'] = df_links['id'].astype('int')\n",
    "\n",
    "df_links.head()\n"
   ]
  },
  {
   "cell_type": "code",
   "execution_count": 14,
   "metadata": {},
   "outputs": [],
   "source": [
    "# Concatena los df de links y movies_meta usando Concat\n",
    "df_movies_meta_link = pd.merge(df_movies_meta, df_links, on='id')"
   ]
  },
  {
   "cell_type": "code",
   "execution_count": 15,
   "metadata": {},
   "outputs": [
    {
     "data": {
      "text/html": [
       "<div>\n",
       "<style scoped>\n",
       "    .dataframe tbody tr th:only-of-type {\n",
       "        vertical-align: middle;\n",
       "    }\n",
       "\n",
       "    .dataframe tbody tr th {\n",
       "        vertical-align: top;\n",
       "    }\n",
       "\n",
       "    .dataframe thead th {\n",
       "        text-align: right;\n",
       "    }\n",
       "</style>\n",
       "<table border=\"1\" class=\"dataframe\">\n",
       "  <thead>\n",
       "    <tr style=\"text-align: right;\">\n",
       "      <th></th>\n",
       "      <th>movieId</th>\n",
       "      <th>title_x</th>\n",
       "      <th>rating</th>\n",
       "      <th>count</th>\n",
       "      <th>adult</th>\n",
       "      <th>belongs_to_collection</th>\n",
       "      <th>budget</th>\n",
       "      <th>genres</th>\n",
       "      <th>homepage</th>\n",
       "      <th>id</th>\n",
       "      <th>...</th>\n",
       "      <th>release_date</th>\n",
       "      <th>revenue</th>\n",
       "      <th>runtime</th>\n",
       "      <th>spoken_languages</th>\n",
       "      <th>status</th>\n",
       "      <th>tagline</th>\n",
       "      <th>title_y</th>\n",
       "      <th>video</th>\n",
       "      <th>vote_average</th>\n",
       "      <th>vote_count</th>\n",
       "    </tr>\n",
       "  </thead>\n",
       "  <tbody>\n",
       "    <tr>\n",
       "      <th>0</th>\n",
       "      <td>318</td>\n",
       "      <td>Shawshank Redemption, The (1994)</td>\n",
       "      <td>4.413576</td>\n",
       "      <td>81482</td>\n",
       "      <td>False</td>\n",
       "      <td>NaN</td>\n",
       "      <td>25000000</td>\n",
       "      <td>[{'id': 18, 'name': 'Drama'}, {'id': 80, 'name...</td>\n",
       "      <td>NaN</td>\n",
       "      <td>278</td>\n",
       "      <td>...</td>\n",
       "      <td>1994-09-23</td>\n",
       "      <td>28341469.0</td>\n",
       "      <td>142.0</td>\n",
       "      <td>[{'iso_639_1': 'en', 'name': 'English'}]</td>\n",
       "      <td>Released</td>\n",
       "      <td>Fear can hold you prisoner. Hope can set you f...</td>\n",
       "      <td>The Shawshank Redemption</td>\n",
       "      <td>False</td>\n",
       "      <td>8.5</td>\n",
       "      <td>8358.0</td>\n",
       "    </tr>\n",
       "    <tr>\n",
       "      <th>1</th>\n",
       "      <td>858</td>\n",
       "      <td>Godfather, The (1972)</td>\n",
       "      <td>4.324336</td>\n",
       "      <td>52498</td>\n",
       "      <td>False</td>\n",
       "      <td>{'id': 230, 'name': 'The Godfather Collection'...</td>\n",
       "      <td>6000000</td>\n",
       "      <td>[{'id': 18, 'name': 'Drama'}, {'id': 80, 'name...</td>\n",
       "      <td>http://www.thegodfather.com/</td>\n",
       "      <td>238</td>\n",
       "      <td>...</td>\n",
       "      <td>1972-03-14</td>\n",
       "      <td>245066411.0</td>\n",
       "      <td>175.0</td>\n",
       "      <td>[{'iso_639_1': 'en', 'name': 'English'}, {'iso...</td>\n",
       "      <td>Released</td>\n",
       "      <td>An offer you can't refuse.</td>\n",
       "      <td>The Godfather</td>\n",
       "      <td>False</td>\n",
       "      <td>8.5</td>\n",
       "      <td>6024.0</td>\n",
       "    </tr>\n",
       "    <tr>\n",
       "      <th>2</th>\n",
       "      <td>50</td>\n",
       "      <td>Usual Suspects, The (1995)</td>\n",
       "      <td>4.284353</td>\n",
       "      <td>55366</td>\n",
       "      <td>False</td>\n",
       "      <td>NaN</td>\n",
       "      <td>6000000</td>\n",
       "      <td>[{'id': 18, 'name': 'Drama'}, {'id': 80, 'name...</td>\n",
       "      <td>http://www.mgm.com/#/our-titles/2083/The-Usual...</td>\n",
       "      <td>629</td>\n",
       "      <td>...</td>\n",
       "      <td>1995-07-19</td>\n",
       "      <td>23341568.0</td>\n",
       "      <td>106.0</td>\n",
       "      <td>[{'iso_639_1': 'es', 'name': 'Español'}, {'iso...</td>\n",
       "      <td>Released</td>\n",
       "      <td>Five Criminals. One Line Up. No Coincidence.</td>\n",
       "      <td>The Usual Suspects</td>\n",
       "      <td>False</td>\n",
       "      <td>8.1</td>\n",
       "      <td>3334.0</td>\n",
       "    </tr>\n",
       "    <tr>\n",
       "      <th>3</th>\n",
       "      <td>1221</td>\n",
       "      <td>Godfather: Part II, The (1974)</td>\n",
       "      <td>4.261759</td>\n",
       "      <td>34188</td>\n",
       "      <td>False</td>\n",
       "      <td>{'id': 230, 'name': 'The Godfather Collection'...</td>\n",
       "      <td>13000000</td>\n",
       "      <td>[{'id': 18, 'name': 'Drama'}, {'id': 80, 'name...</td>\n",
       "      <td>NaN</td>\n",
       "      <td>240</td>\n",
       "      <td>...</td>\n",
       "      <td>1974-12-20</td>\n",
       "      <td>47542841.0</td>\n",
       "      <td>200.0</td>\n",
       "      <td>[{'iso_639_1': 'en', 'name': 'English'}, {'iso...</td>\n",
       "      <td>Released</td>\n",
       "      <td>I don't feel I have to wipe everybody out, Tom...</td>\n",
       "      <td>The Godfather: Part II</td>\n",
       "      <td>False</td>\n",
       "      <td>8.3</td>\n",
       "      <td>3418.0</td>\n",
       "    </tr>\n",
       "    <tr>\n",
       "      <th>4</th>\n",
       "      <td>2019</td>\n",
       "      <td>Seven Samurai (Shichinin no samurai) (1954)</td>\n",
       "      <td>4.254769</td>\n",
       "      <td>13367</td>\n",
       "      <td>False</td>\n",
       "      <td>NaN</td>\n",
       "      <td>2000000</td>\n",
       "      <td>[{'id': 28, 'name': 'Action'}, {'id': 18, 'nam...</td>\n",
       "      <td>NaN</td>\n",
       "      <td>346</td>\n",
       "      <td>...</td>\n",
       "      <td>1954-04-26</td>\n",
       "      <td>271841.0</td>\n",
       "      <td>207.0</td>\n",
       "      <td>[{'iso_639_1': 'ja', 'name': '日本語'}]</td>\n",
       "      <td>Released</td>\n",
       "      <td>The Mighty Warriors Who Became the Seven Natio...</td>\n",
       "      <td>Seven Samurai</td>\n",
       "      <td>False</td>\n",
       "      <td>8.2</td>\n",
       "      <td>892.0</td>\n",
       "    </tr>\n",
       "  </tbody>\n",
       "</table>\n",
       "<p>5 rows × 28 columns</p>\n",
       "</div>"
      ],
      "text/plain": [
       "   movieId                                      title_x    rating  count  \\\n",
       "0      318             Shawshank Redemption, The (1994)  4.413576  81482   \n",
       "1      858                        Godfather, The (1972)  4.324336  52498   \n",
       "2       50                   Usual Suspects, The (1995)  4.284353  55366   \n",
       "3     1221               Godfather: Part II, The (1974)  4.261759  34188   \n",
       "4     2019  Seven Samurai (Shichinin no samurai) (1954)  4.254769  13367   \n",
       "\n",
       "   adult                              belongs_to_collection    budget  \\\n",
       "0  False                                                NaN  25000000   \n",
       "1  False  {'id': 230, 'name': 'The Godfather Collection'...   6000000   \n",
       "2  False                                                NaN   6000000   \n",
       "3  False  {'id': 230, 'name': 'The Godfather Collection'...  13000000   \n",
       "4  False                                                NaN   2000000   \n",
       "\n",
       "                                              genres  \\\n",
       "0  [{'id': 18, 'name': 'Drama'}, {'id': 80, 'name...   \n",
       "1  [{'id': 18, 'name': 'Drama'}, {'id': 80, 'name...   \n",
       "2  [{'id': 18, 'name': 'Drama'}, {'id': 80, 'name...   \n",
       "3  [{'id': 18, 'name': 'Drama'}, {'id': 80, 'name...   \n",
       "4  [{'id': 28, 'name': 'Action'}, {'id': 18, 'nam...   \n",
       "\n",
       "                                            homepage   id  ... release_date  \\\n",
       "0                                                NaN  278  ...   1994-09-23   \n",
       "1                       http://www.thegodfather.com/  238  ...   1972-03-14   \n",
       "2  http://www.mgm.com/#/our-titles/2083/The-Usual...  629  ...   1995-07-19   \n",
       "3                                                NaN  240  ...   1974-12-20   \n",
       "4                                                NaN  346  ...   1954-04-26   \n",
       "\n",
       "       revenue runtime                                   spoken_languages  \\\n",
       "0   28341469.0   142.0           [{'iso_639_1': 'en', 'name': 'English'}]   \n",
       "1  245066411.0   175.0  [{'iso_639_1': 'en', 'name': 'English'}, {'iso...   \n",
       "2   23341568.0   106.0  [{'iso_639_1': 'es', 'name': 'Español'}, {'iso...   \n",
       "3   47542841.0   200.0  [{'iso_639_1': 'en', 'name': 'English'}, {'iso...   \n",
       "4     271841.0   207.0               [{'iso_639_1': 'ja', 'name': '日本語'}]   \n",
       "\n",
       "     status                                            tagline  \\\n",
       "0  Released  Fear can hold you prisoner. Hope can set you f...   \n",
       "1  Released                         An offer you can't refuse.   \n",
       "2  Released       Five Criminals. One Line Up. No Coincidence.   \n",
       "3  Released  I don't feel I have to wipe everybody out, Tom...   \n",
       "4  Released  The Mighty Warriors Who Became the Seven Natio...   \n",
       "\n",
       "                    title_y  video vote_average  vote_count  \n",
       "0  The Shawshank Redemption  False          8.5      8358.0  \n",
       "1             The Godfather  False          8.5      6024.0  \n",
       "2        The Usual Suspects  False          8.1      3334.0  \n",
       "3    The Godfather: Part II  False          8.3      3418.0  \n",
       "4             Seven Samurai  False          8.2       892.0  \n",
       "\n",
       "[5 rows x 28 columns]"
      ]
     },
     "execution_count": 15,
     "metadata": {},
     "output_type": "execute_result"
    }
   ],
   "source": [
    "# Une el df filtrado y el df de movies_meta usando merge\n",
    "# Ocupar este dataframe para crear otros dataframes\n",
    "df_final_usable = df_movies_rating_filtered.merge(df_movies_meta_link, on='movieId')\n",
    "\n",
    "df_final_usable.head()"
   ]
  },
  {
   "cell_type": "code",
   "execution_count": 16,
   "metadata": {},
   "outputs": [
    {
     "name": "stderr",
     "output_type": "stream",
     "text": [
      "C:\\Users\\mvill\\AppData\\Local\\Temp\\ipykernel_23120\\1209811455.py:3: SettingWithCopyWarning: \n",
      "A value is trying to be set on a copy of a slice from a DataFrame\n",
      "\n",
      "See the caveats in the documentation: https://pandas.pydata.org/pandas-docs/stable/user_guide/indexing.html#returning-a-view-versus-a-copy\n",
      "  df_final.rename(columns={'title_y': 'title'}, inplace=True)\n"
     ]
    }
   ],
   "source": [
    "df_final = df_final_usable[['movieId', 'title_y', 'rating', 'count', 'budget', 'revenue', 'release_date']]\n",
    "\n",
    "df_final.rename(columns={'title_y': 'title'}, inplace=True)"
   ]
  },
  {
   "cell_type": "code",
   "execution_count": 17,
   "metadata": {},
   "outputs": [
    {
     "data": {
      "text/html": [
       "<div>\n",
       "<style scoped>\n",
       "    .dataframe tbody tr th:only-of-type {\n",
       "        vertical-align: middle;\n",
       "    }\n",
       "\n",
       "    .dataframe tbody tr th {\n",
       "        vertical-align: top;\n",
       "    }\n",
       "\n",
       "    .dataframe thead th {\n",
       "        text-align: right;\n",
       "    }\n",
       "</style>\n",
       "<table border=\"1\" class=\"dataframe\">\n",
       "  <thead>\n",
       "    <tr style=\"text-align: right;\">\n",
       "      <th></th>\n",
       "      <th>movieId</th>\n",
       "      <th>title</th>\n",
       "      <th>rating</th>\n",
       "      <th>count</th>\n",
       "      <th>budget</th>\n",
       "      <th>revenue</th>\n",
       "      <th>release_date</th>\n",
       "    </tr>\n",
       "  </thead>\n",
       "  <tbody>\n",
       "    <tr>\n",
       "      <th>0</th>\n",
       "      <td>318</td>\n",
       "      <td>The Shawshank Redemption</td>\n",
       "      <td>4.413576</td>\n",
       "      <td>81482</td>\n",
       "      <td>25000000</td>\n",
       "      <td>2.834147e+07</td>\n",
       "      <td>1994-09-23</td>\n",
       "    </tr>\n",
       "    <tr>\n",
       "      <th>1</th>\n",
       "      <td>858</td>\n",
       "      <td>The Godfather</td>\n",
       "      <td>4.324336</td>\n",
       "      <td>52498</td>\n",
       "      <td>6000000</td>\n",
       "      <td>2.450664e+08</td>\n",
       "      <td>1972-03-14</td>\n",
       "    </tr>\n",
       "    <tr>\n",
       "      <th>2</th>\n",
       "      <td>50</td>\n",
       "      <td>The Usual Suspects</td>\n",
       "      <td>4.284353</td>\n",
       "      <td>55366</td>\n",
       "      <td>6000000</td>\n",
       "      <td>2.334157e+07</td>\n",
       "      <td>1995-07-19</td>\n",
       "    </tr>\n",
       "    <tr>\n",
       "      <th>3</th>\n",
       "      <td>1221</td>\n",
       "      <td>The Godfather: Part II</td>\n",
       "      <td>4.261759</td>\n",
       "      <td>34188</td>\n",
       "      <td>13000000</td>\n",
       "      <td>4.754284e+07</td>\n",
       "      <td>1974-12-20</td>\n",
       "    </tr>\n",
       "    <tr>\n",
       "      <th>4</th>\n",
       "      <td>2019</td>\n",
       "      <td>Seven Samurai</td>\n",
       "      <td>4.254769</td>\n",
       "      <td>13367</td>\n",
       "      <td>2000000</td>\n",
       "      <td>2.718410e+05</td>\n",
       "      <td>1954-04-26</td>\n",
       "    </tr>\n",
       "    <tr>\n",
       "      <th>5</th>\n",
       "      <td>527</td>\n",
       "      <td>Schindler's List</td>\n",
       "      <td>4.247579</td>\n",
       "      <td>60411</td>\n",
       "      <td>22000000</td>\n",
       "      <td>3.213656e+08</td>\n",
       "      <td>1993-11-29</td>\n",
       "    </tr>\n",
       "    <tr>\n",
       "      <th>6</th>\n",
       "      <td>1203</td>\n",
       "      <td>12 Angry Men</td>\n",
       "      <td>4.243014</td>\n",
       "      <td>16569</td>\n",
       "      <td>350000</td>\n",
       "      <td>1.000000e+06</td>\n",
       "      <td>1957-03-25</td>\n",
       "    </tr>\n",
       "    <tr>\n",
       "      <th>7</th>\n",
       "      <td>904</td>\n",
       "      <td>Rear Window</td>\n",
       "      <td>4.237948</td>\n",
       "      <td>20162</td>\n",
       "      <td>1000000</td>\n",
       "      <td>3.676431e+07</td>\n",
       "      <td>1954-08-01</td>\n",
       "    </tr>\n",
       "    <tr>\n",
       "      <th>8</th>\n",
       "      <td>2959</td>\n",
       "      <td>Fight Club</td>\n",
       "      <td>4.228311</td>\n",
       "      <td>58773</td>\n",
       "      <td>63000000</td>\n",
       "      <td>1.008538e+08</td>\n",
       "      <td>1999-10-15</td>\n",
       "    </tr>\n",
       "    <tr>\n",
       "      <th>9</th>\n",
       "      <td>1193</td>\n",
       "      <td>One Flew Over the Cuckoo's Nest</td>\n",
       "      <td>4.218662</td>\n",
       "      <td>36058</td>\n",
       "      <td>3000000</td>\n",
       "      <td>1.089813e+08</td>\n",
       "      <td>1975-11-18</td>\n",
       "    </tr>\n",
       "    <tr>\n",
       "      <th>10</th>\n",
       "      <td>750</td>\n",
       "      <td>Dr. Strangelove or: How I Learned to Stop Worr...</td>\n",
       "      <td>4.215804</td>\n",
       "      <td>26714</td>\n",
       "      <td>1800000</td>\n",
       "      <td>9.440272e+06</td>\n",
       "      <td>1964-01-29</td>\n",
       "    </tr>\n",
       "    <tr>\n",
       "      <th>11</th>\n",
       "      <td>5618</td>\n",
       "      <td>Spirited Away</td>\n",
       "      <td>4.212267</td>\n",
       "      <td>22719</td>\n",
       "      <td>15000000</td>\n",
       "      <td>2.749251e+08</td>\n",
       "      <td>2001-07-20</td>\n",
       "    </tr>\n",
       "    <tr>\n",
       "      <th>12</th>\n",
       "      <td>912</td>\n",
       "      <td>Casablanca</td>\n",
       "      <td>4.206564</td>\n",
       "      <td>26890</td>\n",
       "      <td>878000</td>\n",
       "      <td>1.046250e+07</td>\n",
       "      <td>1942-11-26</td>\n",
       "    </tr>\n",
       "    <tr>\n",
       "      <th>13</th>\n",
       "      <td>922</td>\n",
       "      <td>Sunset Boulevard</td>\n",
       "      <td>4.206501</td>\n",
       "      <td>7368</td>\n",
       "      <td>1752000</td>\n",
       "      <td>5.000000e+06</td>\n",
       "      <td>1950-08-10</td>\n",
       "    </tr>\n",
       "    <tr>\n",
       "      <th>14</th>\n",
       "      <td>1212</td>\n",
       "      <td>The Third Man</td>\n",
       "      <td>4.201487</td>\n",
       "      <td>7194</td>\n",
       "      <td>0</td>\n",
       "      <td>5.963490e+05</td>\n",
       "      <td>1949-08-31</td>\n",
       "    </tr>\n",
       "    <tr>\n",
       "      <th>15</th>\n",
       "      <td>44555</td>\n",
       "      <td>The Lives of Others</td>\n",
       "      <td>4.200392</td>\n",
       "      <td>9177</td>\n",
       "      <td>2000000</td>\n",
       "      <td>7.000000e+07</td>\n",
       "      <td>2006-03-15</td>\n",
       "    </tr>\n",
       "    <tr>\n",
       "      <th>16</th>\n",
       "      <td>908</td>\n",
       "      <td>North by Northwest</td>\n",
       "      <td>4.196617</td>\n",
       "      <td>16850</td>\n",
       "      <td>4000000</td>\n",
       "      <td>1.327500e+07</td>\n",
       "      <td>1959-07-07</td>\n",
       "    </tr>\n",
       "    <tr>\n",
       "      <th>17</th>\n",
       "      <td>296</td>\n",
       "      <td>Pulp Fiction</td>\n",
       "      <td>4.188912</td>\n",
       "      <td>79672</td>\n",
       "      <td>8000000</td>\n",
       "      <td>2.139288e+08</td>\n",
       "      <td>1994-09-10</td>\n",
       "    </tr>\n",
       "    <tr>\n",
       "      <th>18</th>\n",
       "      <td>6016</td>\n",
       "      <td>City of God</td>\n",
       "      <td>4.181587</td>\n",
       "      <td>19894</td>\n",
       "      <td>3300000</td>\n",
       "      <td>3.064177e+07</td>\n",
       "      <td>2002-02-05</td>\n",
       "    </tr>\n",
       "    <tr>\n",
       "      <th>19</th>\n",
       "      <td>1213</td>\n",
       "      <td>GoodFellas</td>\n",
       "      <td>4.180525</td>\n",
       "      <td>32663</td>\n",
       "      <td>25000000</td>\n",
       "      <td>4.683639e+07</td>\n",
       "      <td>1990-09-12</td>\n",
       "    </tr>\n",
       "    <tr>\n",
       "      <th>20</th>\n",
       "      <td>58559</td>\n",
       "      <td>The Dark Knight</td>\n",
       "      <td>4.166538</td>\n",
       "      <td>41519</td>\n",
       "      <td>185000000</td>\n",
       "      <td>1.004558e+09</td>\n",
       "      <td>2008-07-16</td>\n",
       "    </tr>\n",
       "    <tr>\n",
       "      <th>21</th>\n",
       "      <td>1252</td>\n",
       "      <td>Chinatown</td>\n",
       "      <td>4.158633</td>\n",
       "      <td>16929</td>\n",
       "      <td>6000000</td>\n",
       "      <td>3.000000e+07</td>\n",
       "      <td>1974-06-20</td>\n",
       "    </tr>\n",
       "    <tr>\n",
       "      <th>22</th>\n",
       "      <td>79132</td>\n",
       "      <td>Inception</td>\n",
       "      <td>4.155508</td>\n",
       "      <td>38895</td>\n",
       "      <td>160000000</td>\n",
       "      <td>8.255328e+08</td>\n",
       "      <td>2010-07-14</td>\n",
       "    </tr>\n",
       "    <tr>\n",
       "      <th>23</th>\n",
       "      <td>2324</td>\n",
       "      <td>Life Is Beautiful</td>\n",
       "      <td>4.154342</td>\n",
       "      <td>23976</td>\n",
       "      <td>20000000</td>\n",
       "      <td>2.294000e+08</td>\n",
       "      <td>1997-12-20</td>\n",
       "    </tr>\n",
       "    <tr>\n",
       "      <th>24</th>\n",
       "      <td>2571</td>\n",
       "      <td>The Matrix</td>\n",
       "      <td>4.154099</td>\n",
       "      <td>72674</td>\n",
       "      <td>63000000</td>\n",
       "      <td>4.635174e+08</td>\n",
       "      <td>1999-03-30</td>\n",
       "    </tr>\n",
       "    <tr>\n",
       "      <th>25</th>\n",
       "      <td>913</td>\n",
       "      <td>The Maltese Falcon</td>\n",
       "      <td>4.154075</td>\n",
       "      <td>12257</td>\n",
       "      <td>375000</td>\n",
       "      <td>1.000000e+06</td>\n",
       "      <td>1941-11-18</td>\n",
       "    </tr>\n",
       "    <tr>\n",
       "      <th>26</th>\n",
       "      <td>5971</td>\n",
       "      <td>My Neighbor Totoro</td>\n",
       "      <td>4.152463</td>\n",
       "      <td>9340</td>\n",
       "      <td>0</td>\n",
       "      <td>0.000000e+00</td>\n",
       "      <td>1988-04-16</td>\n",
       "    </tr>\n",
       "    <tr>\n",
       "      <th>27</th>\n",
       "      <td>593</td>\n",
       "      <td>The Silence of the Lambs</td>\n",
       "      <td>4.151342</td>\n",
       "      <td>74127</td>\n",
       "      <td>19000000</td>\n",
       "      <td>2.727429e+08</td>\n",
       "      <td>1991-02-01</td>\n",
       "    </tr>\n",
       "    <tr>\n",
       "      <th>28</th>\n",
       "      <td>4226</td>\n",
       "      <td>Memento</td>\n",
       "      <td>4.149958</td>\n",
       "      <td>41195</td>\n",
       "      <td>9000000</td>\n",
       "      <td>3.972310e+07</td>\n",
       "      <td>2000-10-11</td>\n",
       "    </tr>\n",
       "    <tr>\n",
       "      <th>29</th>\n",
       "      <td>1136</td>\n",
       "      <td>Monty Python and the Holy Grail</td>\n",
       "      <td>4.147655</td>\n",
       "      <td>37723</td>\n",
       "      <td>400000</td>\n",
       "      <td>5.028948e+06</td>\n",
       "      <td>1975-03-13</td>\n",
       "    </tr>\n",
       "    <tr>\n",
       "      <th>30</th>\n",
       "      <td>1207</td>\n",
       "      <td>To Kill a Mockingbird</td>\n",
       "      <td>4.146441</td>\n",
       "      <td>15986</td>\n",
       "      <td>2000000</td>\n",
       "      <td>1.312985e+07</td>\n",
       "      <td>1962-12-25</td>\n",
       "    </tr>\n",
       "    <tr>\n",
       "      <th>31</th>\n",
       "      <td>1196</td>\n",
       "      <td>The Empire Strikes Back</td>\n",
       "      <td>4.144122</td>\n",
       "      <td>57361</td>\n",
       "      <td>18000000</td>\n",
       "      <td>5.384000e+08</td>\n",
       "      <td>1980-05-17</td>\n",
       "    </tr>\n",
       "    <tr>\n",
       "      <th>32</th>\n",
       "      <td>1234</td>\n",
       "      <td>The Sting</td>\n",
       "      <td>4.142360</td>\n",
       "      <td>15675</td>\n",
       "      <td>5500000</td>\n",
       "      <td>1.596163e+08</td>\n",
       "      <td>1973-12-25</td>\n",
       "    </tr>\n",
       "    <tr>\n",
       "      <th>33</th>\n",
       "      <td>2329</td>\n",
       "      <td>American History X</td>\n",
       "      <td>4.140001</td>\n",
       "      <td>31157</td>\n",
       "      <td>20000000</td>\n",
       "      <td>2.387513e+07</td>\n",
       "      <td>1998-10-30</td>\n",
       "    </tr>\n",
       "    <tr>\n",
       "      <th>34</th>\n",
       "      <td>3000</td>\n",
       "      <td>Princess Mononoke</td>\n",
       "      <td>4.138094</td>\n",
       "      <td>13136</td>\n",
       "      <td>26500000</td>\n",
       "      <td>1.593753e+08</td>\n",
       "      <td>1997-07-12</td>\n",
       "    </tr>\n",
       "    <tr>\n",
       "      <th>35</th>\n",
       "      <td>112552</td>\n",
       "      <td>Whiplash</td>\n",
       "      <td>4.137848</td>\n",
       "      <td>11179</td>\n",
       "      <td>3300000</td>\n",
       "      <td>1.309200e+07</td>\n",
       "      <td>2014-10-10</td>\n",
       "    </tr>\n",
       "    <tr>\n",
       "      <th>36</th>\n",
       "      <td>898</td>\n",
       "      <td>The Philadelphia Story</td>\n",
       "      <td>4.137713</td>\n",
       "      <td>6499</td>\n",
       "      <td>0</td>\n",
       "      <td>0.000000e+00</td>\n",
       "      <td>1940-12-05</td>\n",
       "    </tr>\n",
       "    <tr>\n",
       "      <th>37</th>\n",
       "      <td>1204</td>\n",
       "      <td>Lawrence of Arabia</td>\n",
       "      <td>4.136036</td>\n",
       "      <td>13173</td>\n",
       "      <td>15000000</td>\n",
       "      <td>6.999538e+07</td>\n",
       "      <td>1962-12-10</td>\n",
       "    </tr>\n",
       "    <tr>\n",
       "      <th>38</th>\n",
       "      <td>1172</td>\n",
       "      <td>Cinema Paradiso</td>\n",
       "      <td>4.131081</td>\n",
       "      <td>9456</td>\n",
       "      <td>0</td>\n",
       "      <td>1.199040e+07</td>\n",
       "      <td>1988-11-17</td>\n",
       "    </tr>\n",
       "    <tr>\n",
       "      <th>39</th>\n",
       "      <td>1201</td>\n",
       "      <td>The Good, the Bad and the Ugly</td>\n",
       "      <td>4.129336</td>\n",
       "      <td>18162</td>\n",
       "      <td>1200000</td>\n",
       "      <td>6.000000e+06</td>\n",
       "      <td>1966-12-23</td>\n",
       "    </tr>\n",
       "    <tr>\n",
       "      <th>40</th>\n",
       "      <td>1197</td>\n",
       "      <td>The Princess Bride</td>\n",
       "      <td>4.129097</td>\n",
       "      <td>37863</td>\n",
       "      <td>16000000</td>\n",
       "      <td>3.085781e+07</td>\n",
       "      <td>1987-09-18</td>\n",
       "    </tr>\n",
       "    <tr>\n",
       "      <th>41</th>\n",
       "      <td>1233</td>\n",
       "      <td>Das Boot</td>\n",
       "      <td>4.127091</td>\n",
       "      <td>13573</td>\n",
       "      <td>14000000</td>\n",
       "      <td>8.500000e+07</td>\n",
       "      <td>1981-09-16</td>\n",
       "    </tr>\n",
       "    <tr>\n",
       "      <th>42</th>\n",
       "      <td>1148</td>\n",
       "      <td>The Wrong Trousers</td>\n",
       "      <td>4.124787</td>\n",
       "      <td>15270</td>\n",
       "      <td>0</td>\n",
       "      <td>0.000000e+00</td>\n",
       "      <td>1993-12-17</td>\n",
       "    </tr>\n",
       "    <tr>\n",
       "      <th>43</th>\n",
       "      <td>92259</td>\n",
       "      <td>The Intouchables</td>\n",
       "      <td>4.124755</td>\n",
       "      <td>12745</td>\n",
       "      <td>13000000</td>\n",
       "      <td>4.264809e+08</td>\n",
       "      <td>2011-11-02</td>\n",
       "    </tr>\n",
       "    <tr>\n",
       "      <th>44</th>\n",
       "      <td>1198</td>\n",
       "      <td>Raiders of the Lost Ark</td>\n",
       "      <td>4.123923</td>\n",
       "      <td>54675</td>\n",
       "      <td>18000000</td>\n",
       "      <td>3.899260e+08</td>\n",
       "      <td>1981-06-12</td>\n",
       "    </tr>\n",
       "    <tr>\n",
       "      <th>45</th>\n",
       "      <td>48516</td>\n",
       "      <td>The Departed</td>\n",
       "      <td>4.121237</td>\n",
       "      <td>25343</td>\n",
       "      <td>90000000</td>\n",
       "      <td>2.898474e+08</td>\n",
       "      <td>2006-10-05</td>\n",
       "    </tr>\n",
       "    <tr>\n",
       "      <th>46</th>\n",
       "      <td>903</td>\n",
       "      <td>Vertigo</td>\n",
       "      <td>4.120822</td>\n",
       "      <td>15945</td>\n",
       "      <td>2479000</td>\n",
       "      <td>2.800000e+07</td>\n",
       "      <td>1958-05-09</td>\n",
       "    </tr>\n",
       "    <tr>\n",
       "      <th>47</th>\n",
       "      <td>260</td>\n",
       "      <td>Star Wars</td>\n",
       "      <td>4.120189</td>\n",
       "      <td>68717</td>\n",
       "      <td>11000000</td>\n",
       "      <td>7.753980e+08</td>\n",
       "      <td>1977-05-25</td>\n",
       "    </tr>\n",
       "    <tr>\n",
       "      <th>48</th>\n",
       "      <td>541</td>\n",
       "      <td>Blade Runner</td>\n",
       "      <td>4.115838</td>\n",
       "      <td>36702</td>\n",
       "      <td>28000000</td>\n",
       "      <td>3.313962e+07</td>\n",
       "      <td>1982-06-25</td>\n",
       "    </tr>\n",
       "    <tr>\n",
       "      <th>49</th>\n",
       "      <td>1208</td>\n",
       "      <td>Apocalypse Now</td>\n",
       "      <td>4.114714</td>\n",
       "      <td>26370</td>\n",
       "      <td>31500000</td>\n",
       "      <td>8.946038e+07</td>\n",
       "      <td>1979-08-15</td>\n",
       "    </tr>\n",
       "  </tbody>\n",
       "</table>\n",
       "</div>"
      ],
      "text/plain": [
       "    movieId                                              title    rating  \\\n",
       "0       318                           The Shawshank Redemption  4.413576   \n",
       "1       858                                      The Godfather  4.324336   \n",
       "2        50                                 The Usual Suspects  4.284353   \n",
       "3      1221                             The Godfather: Part II  4.261759   \n",
       "4      2019                                      Seven Samurai  4.254769   \n",
       "5       527                                   Schindler's List  4.247579   \n",
       "6      1203                                       12 Angry Men  4.243014   \n",
       "7       904                                        Rear Window  4.237948   \n",
       "8      2959                                         Fight Club  4.228311   \n",
       "9      1193                    One Flew Over the Cuckoo's Nest  4.218662   \n",
       "10      750  Dr. Strangelove or: How I Learned to Stop Worr...  4.215804   \n",
       "11     5618                                      Spirited Away  4.212267   \n",
       "12      912                                         Casablanca  4.206564   \n",
       "13      922                                   Sunset Boulevard  4.206501   \n",
       "14     1212                                      The Third Man  4.201487   \n",
       "15    44555                                The Lives of Others  4.200392   \n",
       "16      908                                 North by Northwest  4.196617   \n",
       "17      296                                       Pulp Fiction  4.188912   \n",
       "18     6016                                        City of God  4.181587   \n",
       "19     1213                                         GoodFellas  4.180525   \n",
       "20    58559                                    The Dark Knight  4.166538   \n",
       "21     1252                                          Chinatown  4.158633   \n",
       "22    79132                                          Inception  4.155508   \n",
       "23     2324                                  Life Is Beautiful  4.154342   \n",
       "24     2571                                         The Matrix  4.154099   \n",
       "25      913                                 The Maltese Falcon  4.154075   \n",
       "26     5971                                 My Neighbor Totoro  4.152463   \n",
       "27      593                           The Silence of the Lambs  4.151342   \n",
       "28     4226                                            Memento  4.149958   \n",
       "29     1136                    Monty Python and the Holy Grail  4.147655   \n",
       "30     1207                              To Kill a Mockingbird  4.146441   \n",
       "31     1196                            The Empire Strikes Back  4.144122   \n",
       "32     1234                                          The Sting  4.142360   \n",
       "33     2329                                 American History X  4.140001   \n",
       "34     3000                                  Princess Mononoke  4.138094   \n",
       "35   112552                                           Whiplash  4.137848   \n",
       "36      898                             The Philadelphia Story  4.137713   \n",
       "37     1204                                 Lawrence of Arabia  4.136036   \n",
       "38     1172                                    Cinema Paradiso  4.131081   \n",
       "39     1201                     The Good, the Bad and the Ugly  4.129336   \n",
       "40     1197                                 The Princess Bride  4.129097   \n",
       "41     1233                                           Das Boot  4.127091   \n",
       "42     1148                                 The Wrong Trousers  4.124787   \n",
       "43    92259                                   The Intouchables  4.124755   \n",
       "44     1198                            Raiders of the Lost Ark  4.123923   \n",
       "45    48516                                       The Departed  4.121237   \n",
       "46      903                                            Vertigo  4.120822   \n",
       "47      260                                          Star Wars  4.120189   \n",
       "48      541                                       Blade Runner  4.115838   \n",
       "49     1208                                     Apocalypse Now  4.114714   \n",
       "\n",
       "    count     budget       revenue release_date  \n",
       "0   81482   25000000  2.834147e+07   1994-09-23  \n",
       "1   52498    6000000  2.450664e+08   1972-03-14  \n",
       "2   55366    6000000  2.334157e+07   1995-07-19  \n",
       "3   34188   13000000  4.754284e+07   1974-12-20  \n",
       "4   13367    2000000  2.718410e+05   1954-04-26  \n",
       "5   60411   22000000  3.213656e+08   1993-11-29  \n",
       "6   16569     350000  1.000000e+06   1957-03-25  \n",
       "7   20162    1000000  3.676431e+07   1954-08-01  \n",
       "8   58773   63000000  1.008538e+08   1999-10-15  \n",
       "9   36058    3000000  1.089813e+08   1975-11-18  \n",
       "10  26714    1800000  9.440272e+06   1964-01-29  \n",
       "11  22719   15000000  2.749251e+08   2001-07-20  \n",
       "12  26890     878000  1.046250e+07   1942-11-26  \n",
       "13   7368    1752000  5.000000e+06   1950-08-10  \n",
       "14   7194          0  5.963490e+05   1949-08-31  \n",
       "15   9177    2000000  7.000000e+07   2006-03-15  \n",
       "16  16850    4000000  1.327500e+07   1959-07-07  \n",
       "17  79672    8000000  2.139288e+08   1994-09-10  \n",
       "18  19894    3300000  3.064177e+07   2002-02-05  \n",
       "19  32663   25000000  4.683639e+07   1990-09-12  \n",
       "20  41519  185000000  1.004558e+09   2008-07-16  \n",
       "21  16929    6000000  3.000000e+07   1974-06-20  \n",
       "22  38895  160000000  8.255328e+08   2010-07-14  \n",
       "23  23976   20000000  2.294000e+08   1997-12-20  \n",
       "24  72674   63000000  4.635174e+08   1999-03-30  \n",
       "25  12257     375000  1.000000e+06   1941-11-18  \n",
       "26   9340          0  0.000000e+00   1988-04-16  \n",
       "27  74127   19000000  2.727429e+08   1991-02-01  \n",
       "28  41195    9000000  3.972310e+07   2000-10-11  \n",
       "29  37723     400000  5.028948e+06   1975-03-13  \n",
       "30  15986    2000000  1.312985e+07   1962-12-25  \n",
       "31  57361   18000000  5.384000e+08   1980-05-17  \n",
       "32  15675    5500000  1.596163e+08   1973-12-25  \n",
       "33  31157   20000000  2.387513e+07   1998-10-30  \n",
       "34  13136   26500000  1.593753e+08   1997-07-12  \n",
       "35  11179    3300000  1.309200e+07   2014-10-10  \n",
       "36   6499          0  0.000000e+00   1940-12-05  \n",
       "37  13173   15000000  6.999538e+07   1962-12-10  \n",
       "38   9456          0  1.199040e+07   1988-11-17  \n",
       "39  18162    1200000  6.000000e+06   1966-12-23  \n",
       "40  37863   16000000  3.085781e+07   1987-09-18  \n",
       "41  13573   14000000  8.500000e+07   1981-09-16  \n",
       "42  15270          0  0.000000e+00   1993-12-17  \n",
       "43  12745   13000000  4.264809e+08   2011-11-02  \n",
       "44  54675   18000000  3.899260e+08   1981-06-12  \n",
       "45  25343   90000000  2.898474e+08   2006-10-05  \n",
       "46  15945    2479000  2.800000e+07   1958-05-09  \n",
       "47  68717   11000000  7.753980e+08   1977-05-25  \n",
       "48  36702   28000000  3.313962e+07   1982-06-25  \n",
       "49  26370   31500000  8.946038e+07   1979-08-15  "
      ]
     },
     "execution_count": 17,
     "metadata": {},
     "output_type": "execute_result"
    }
   ],
   "source": [
    "df_final.head(50)"
   ]
  },
  {
   "cell_type": "code",
   "execution_count": 18,
   "metadata": {},
   "outputs": [
    {
     "name": "stderr",
     "output_type": "stream",
     "text": [
      "C:\\Users\\mvill\\AppData\\Local\\Temp\\ipykernel_23120\\808503251.py:2: SettingWithCopyWarning: \n",
      "A value is trying to be set on a copy of a slice from a DataFrame.\n",
      "Try using .loc[row_indexer,col_indexer] = value instead\n",
      "\n",
      "See the caveats in the documentation: https://pandas.pydata.org/pandas-docs/stable/user_guide/indexing.html#returning-a-view-versus-a-copy\n",
      "  df_final['release_date'] = pd.to_datetime(df_final['release_date'], format='%Y-%m-%d')\n",
      "C:\\Users\\mvill\\AppData\\Local\\Temp\\ipykernel_23120\\808503251.py:4: SettingWithCopyWarning: \n",
      "A value is trying to be set on a copy of a slice from a DataFrame.\n",
      "Try using .loc[row_indexer,col_indexer] = value instead\n",
      "\n",
      "See the caveats in the documentation: https://pandas.pydata.org/pandas-docs/stable/user_guide/indexing.html#returning-a-view-versus-a-copy\n",
      "  df_final['budget'] = pd.to_numeric(df_final['budget'], errors='coerce')\n",
      "C:\\Users\\mvill\\AppData\\Local\\Temp\\ipykernel_23120\\808503251.py:6: SettingWithCopyWarning: \n",
      "A value is trying to be set on a copy of a slice from a DataFrame.\n",
      "Try using .loc[row_indexer,col_indexer] = value instead\n",
      "\n",
      "See the caveats in the documentation: https://pandas.pydata.org/pandas-docs/stable/user_guide/indexing.html#returning-a-view-versus-a-copy\n",
      "  df_final['revenue'] = pd.to_numeric(df_final['revenue'], errors='coerce')\n"
     ]
    },
    {
     "data": {
      "text/html": [
       "<div>\n",
       "<style scoped>\n",
       "    .dataframe tbody tr th:only-of-type {\n",
       "        vertical-align: middle;\n",
       "    }\n",
       "\n",
       "    .dataframe tbody tr th {\n",
       "        vertical-align: top;\n",
       "    }\n",
       "\n",
       "    .dataframe thead th {\n",
       "        text-align: right;\n",
       "    }\n",
       "</style>\n",
       "<table border=\"1\" class=\"dataframe\">\n",
       "  <thead>\n",
       "    <tr style=\"text-align: right;\">\n",
       "      <th></th>\n",
       "      <th>movieId</th>\n",
       "      <th>title</th>\n",
       "      <th>rating</th>\n",
       "      <th>count</th>\n",
       "      <th>budget</th>\n",
       "      <th>revenue</th>\n",
       "      <th>release_date</th>\n",
       "    </tr>\n",
       "  </thead>\n",
       "  <tbody>\n",
       "    <tr>\n",
       "      <th>0</th>\n",
       "      <td>318</td>\n",
       "      <td>The Shawshank Redemption</td>\n",
       "      <td>4.413576</td>\n",
       "      <td>81482</td>\n",
       "      <td>25000000</td>\n",
       "      <td>2.834147e+07</td>\n",
       "      <td>1994-09-23</td>\n",
       "    </tr>\n",
       "    <tr>\n",
       "      <th>1</th>\n",
       "      <td>858</td>\n",
       "      <td>The Godfather</td>\n",
       "      <td>4.324336</td>\n",
       "      <td>52498</td>\n",
       "      <td>6000000</td>\n",
       "      <td>2.450664e+08</td>\n",
       "      <td>1972-03-14</td>\n",
       "    </tr>\n",
       "    <tr>\n",
       "      <th>2</th>\n",
       "      <td>50</td>\n",
       "      <td>The Usual Suspects</td>\n",
       "      <td>4.284353</td>\n",
       "      <td>55366</td>\n",
       "      <td>6000000</td>\n",
       "      <td>2.334157e+07</td>\n",
       "      <td>1995-07-19</td>\n",
       "    </tr>\n",
       "    <tr>\n",
       "      <th>3</th>\n",
       "      <td>1221</td>\n",
       "      <td>The Godfather: Part II</td>\n",
       "      <td>4.261759</td>\n",
       "      <td>34188</td>\n",
       "      <td>13000000</td>\n",
       "      <td>4.754284e+07</td>\n",
       "      <td>1974-12-20</td>\n",
       "    </tr>\n",
       "    <tr>\n",
       "      <th>4</th>\n",
       "      <td>2019</td>\n",
       "      <td>Seven Samurai</td>\n",
       "      <td>4.254769</td>\n",
       "      <td>13367</td>\n",
       "      <td>2000000</td>\n",
       "      <td>2.718410e+05</td>\n",
       "      <td>1954-04-26</td>\n",
       "    </tr>\n",
       "    <tr>\n",
       "      <th>5</th>\n",
       "      <td>527</td>\n",
       "      <td>Schindler's List</td>\n",
       "      <td>4.247579</td>\n",
       "      <td>60411</td>\n",
       "      <td>22000000</td>\n",
       "      <td>3.213656e+08</td>\n",
       "      <td>1993-11-29</td>\n",
       "    </tr>\n",
       "    <tr>\n",
       "      <th>6</th>\n",
       "      <td>1203</td>\n",
       "      <td>12 Angry Men</td>\n",
       "      <td>4.243014</td>\n",
       "      <td>16569</td>\n",
       "      <td>350000</td>\n",
       "      <td>1.000000e+06</td>\n",
       "      <td>1957-03-25</td>\n",
       "    </tr>\n",
       "    <tr>\n",
       "      <th>7</th>\n",
       "      <td>904</td>\n",
       "      <td>Rear Window</td>\n",
       "      <td>4.237948</td>\n",
       "      <td>20162</td>\n",
       "      <td>1000000</td>\n",
       "      <td>3.676431e+07</td>\n",
       "      <td>1954-08-01</td>\n",
       "    </tr>\n",
       "    <tr>\n",
       "      <th>8</th>\n",
       "      <td>2959</td>\n",
       "      <td>Fight Club</td>\n",
       "      <td>4.228311</td>\n",
       "      <td>58773</td>\n",
       "      <td>63000000</td>\n",
       "      <td>1.008538e+08</td>\n",
       "      <td>1999-10-15</td>\n",
       "    </tr>\n",
       "    <tr>\n",
       "      <th>9</th>\n",
       "      <td>1193</td>\n",
       "      <td>One Flew Over the Cuckoo's Nest</td>\n",
       "      <td>4.218662</td>\n",
       "      <td>36058</td>\n",
       "      <td>3000000</td>\n",
       "      <td>1.089813e+08</td>\n",
       "      <td>1975-11-18</td>\n",
       "    </tr>\n",
       "    <tr>\n",
       "      <th>10</th>\n",
       "      <td>750</td>\n",
       "      <td>Dr. Strangelove or: How I Learned to Stop Worr...</td>\n",
       "      <td>4.215804</td>\n",
       "      <td>26714</td>\n",
       "      <td>1800000</td>\n",
       "      <td>9.440272e+06</td>\n",
       "      <td>1964-01-29</td>\n",
       "    </tr>\n",
       "    <tr>\n",
       "      <th>11</th>\n",
       "      <td>5618</td>\n",
       "      <td>Spirited Away</td>\n",
       "      <td>4.212267</td>\n",
       "      <td>22719</td>\n",
       "      <td>15000000</td>\n",
       "      <td>2.749251e+08</td>\n",
       "      <td>2001-07-20</td>\n",
       "    </tr>\n",
       "    <tr>\n",
       "      <th>12</th>\n",
       "      <td>912</td>\n",
       "      <td>Casablanca</td>\n",
       "      <td>4.206564</td>\n",
       "      <td>26890</td>\n",
       "      <td>878000</td>\n",
       "      <td>1.046250e+07</td>\n",
       "      <td>1942-11-26</td>\n",
       "    </tr>\n",
       "    <tr>\n",
       "      <th>13</th>\n",
       "      <td>922</td>\n",
       "      <td>Sunset Boulevard</td>\n",
       "      <td>4.206501</td>\n",
       "      <td>7368</td>\n",
       "      <td>1752000</td>\n",
       "      <td>5.000000e+06</td>\n",
       "      <td>1950-08-10</td>\n",
       "    </tr>\n",
       "    <tr>\n",
       "      <th>14</th>\n",
       "      <td>1212</td>\n",
       "      <td>The Third Man</td>\n",
       "      <td>4.201487</td>\n",
       "      <td>7194</td>\n",
       "      <td>0</td>\n",
       "      <td>5.963490e+05</td>\n",
       "      <td>1949-08-31</td>\n",
       "    </tr>\n",
       "    <tr>\n",
       "      <th>15</th>\n",
       "      <td>44555</td>\n",
       "      <td>The Lives of Others</td>\n",
       "      <td>4.200392</td>\n",
       "      <td>9177</td>\n",
       "      <td>2000000</td>\n",
       "      <td>7.000000e+07</td>\n",
       "      <td>2006-03-15</td>\n",
       "    </tr>\n",
       "    <tr>\n",
       "      <th>16</th>\n",
       "      <td>908</td>\n",
       "      <td>North by Northwest</td>\n",
       "      <td>4.196617</td>\n",
       "      <td>16850</td>\n",
       "      <td>4000000</td>\n",
       "      <td>1.327500e+07</td>\n",
       "      <td>1959-07-07</td>\n",
       "    </tr>\n",
       "    <tr>\n",
       "      <th>17</th>\n",
       "      <td>296</td>\n",
       "      <td>Pulp Fiction</td>\n",
       "      <td>4.188912</td>\n",
       "      <td>79672</td>\n",
       "      <td>8000000</td>\n",
       "      <td>2.139288e+08</td>\n",
       "      <td>1994-09-10</td>\n",
       "    </tr>\n",
       "    <tr>\n",
       "      <th>18</th>\n",
       "      <td>6016</td>\n",
       "      <td>City of God</td>\n",
       "      <td>4.181587</td>\n",
       "      <td>19894</td>\n",
       "      <td>3300000</td>\n",
       "      <td>3.064177e+07</td>\n",
       "      <td>2002-02-05</td>\n",
       "    </tr>\n",
       "    <tr>\n",
       "      <th>19</th>\n",
       "      <td>1213</td>\n",
       "      <td>GoodFellas</td>\n",
       "      <td>4.180525</td>\n",
       "      <td>32663</td>\n",
       "      <td>25000000</td>\n",
       "      <td>4.683639e+07</td>\n",
       "      <td>1990-09-12</td>\n",
       "    </tr>\n",
       "    <tr>\n",
       "      <th>20</th>\n",
       "      <td>58559</td>\n",
       "      <td>The Dark Knight</td>\n",
       "      <td>4.166538</td>\n",
       "      <td>41519</td>\n",
       "      <td>185000000</td>\n",
       "      <td>1.004558e+09</td>\n",
       "      <td>2008-07-16</td>\n",
       "    </tr>\n",
       "    <tr>\n",
       "      <th>21</th>\n",
       "      <td>1252</td>\n",
       "      <td>Chinatown</td>\n",
       "      <td>4.158633</td>\n",
       "      <td>16929</td>\n",
       "      <td>6000000</td>\n",
       "      <td>3.000000e+07</td>\n",
       "      <td>1974-06-20</td>\n",
       "    </tr>\n",
       "    <tr>\n",
       "      <th>22</th>\n",
       "      <td>79132</td>\n",
       "      <td>Inception</td>\n",
       "      <td>4.155508</td>\n",
       "      <td>38895</td>\n",
       "      <td>160000000</td>\n",
       "      <td>8.255328e+08</td>\n",
       "      <td>2010-07-14</td>\n",
       "    </tr>\n",
       "    <tr>\n",
       "      <th>23</th>\n",
       "      <td>2324</td>\n",
       "      <td>Life Is Beautiful</td>\n",
       "      <td>4.154342</td>\n",
       "      <td>23976</td>\n",
       "      <td>20000000</td>\n",
       "      <td>2.294000e+08</td>\n",
       "      <td>1997-12-20</td>\n",
       "    </tr>\n",
       "    <tr>\n",
       "      <th>24</th>\n",
       "      <td>2571</td>\n",
       "      <td>The Matrix</td>\n",
       "      <td>4.154099</td>\n",
       "      <td>72674</td>\n",
       "      <td>63000000</td>\n",
       "      <td>4.635174e+08</td>\n",
       "      <td>1999-03-30</td>\n",
       "    </tr>\n",
       "    <tr>\n",
       "      <th>25</th>\n",
       "      <td>913</td>\n",
       "      <td>The Maltese Falcon</td>\n",
       "      <td>4.154075</td>\n",
       "      <td>12257</td>\n",
       "      <td>375000</td>\n",
       "      <td>1.000000e+06</td>\n",
       "      <td>1941-11-18</td>\n",
       "    </tr>\n",
       "    <tr>\n",
       "      <th>26</th>\n",
       "      <td>5971</td>\n",
       "      <td>My Neighbor Totoro</td>\n",
       "      <td>4.152463</td>\n",
       "      <td>9340</td>\n",
       "      <td>0</td>\n",
       "      <td>0.000000e+00</td>\n",
       "      <td>1988-04-16</td>\n",
       "    </tr>\n",
       "    <tr>\n",
       "      <th>27</th>\n",
       "      <td>593</td>\n",
       "      <td>The Silence of the Lambs</td>\n",
       "      <td>4.151342</td>\n",
       "      <td>74127</td>\n",
       "      <td>19000000</td>\n",
       "      <td>2.727429e+08</td>\n",
       "      <td>1991-02-01</td>\n",
       "    </tr>\n",
       "    <tr>\n",
       "      <th>28</th>\n",
       "      <td>4226</td>\n",
       "      <td>Memento</td>\n",
       "      <td>4.149958</td>\n",
       "      <td>41195</td>\n",
       "      <td>9000000</td>\n",
       "      <td>3.972310e+07</td>\n",
       "      <td>2000-10-11</td>\n",
       "    </tr>\n",
       "    <tr>\n",
       "      <th>29</th>\n",
       "      <td>1136</td>\n",
       "      <td>Monty Python and the Holy Grail</td>\n",
       "      <td>4.147655</td>\n",
       "      <td>37723</td>\n",
       "      <td>400000</td>\n",
       "      <td>5.028948e+06</td>\n",
       "      <td>1975-03-13</td>\n",
       "    </tr>\n",
       "    <tr>\n",
       "      <th>30</th>\n",
       "      <td>1207</td>\n",
       "      <td>To Kill a Mockingbird</td>\n",
       "      <td>4.146441</td>\n",
       "      <td>15986</td>\n",
       "      <td>2000000</td>\n",
       "      <td>1.312985e+07</td>\n",
       "      <td>1962-12-25</td>\n",
       "    </tr>\n",
       "    <tr>\n",
       "      <th>31</th>\n",
       "      <td>1196</td>\n",
       "      <td>The Empire Strikes Back</td>\n",
       "      <td>4.144122</td>\n",
       "      <td>57361</td>\n",
       "      <td>18000000</td>\n",
       "      <td>5.384000e+08</td>\n",
       "      <td>1980-05-17</td>\n",
       "    </tr>\n",
       "    <tr>\n",
       "      <th>32</th>\n",
       "      <td>1234</td>\n",
       "      <td>The Sting</td>\n",
       "      <td>4.142360</td>\n",
       "      <td>15675</td>\n",
       "      <td>5500000</td>\n",
       "      <td>1.596163e+08</td>\n",
       "      <td>1973-12-25</td>\n",
       "    </tr>\n",
       "    <tr>\n",
       "      <th>33</th>\n",
       "      <td>2329</td>\n",
       "      <td>American History X</td>\n",
       "      <td>4.140001</td>\n",
       "      <td>31157</td>\n",
       "      <td>20000000</td>\n",
       "      <td>2.387513e+07</td>\n",
       "      <td>1998-10-30</td>\n",
       "    </tr>\n",
       "    <tr>\n",
       "      <th>34</th>\n",
       "      <td>3000</td>\n",
       "      <td>Princess Mononoke</td>\n",
       "      <td>4.138094</td>\n",
       "      <td>13136</td>\n",
       "      <td>26500000</td>\n",
       "      <td>1.593753e+08</td>\n",
       "      <td>1997-07-12</td>\n",
       "    </tr>\n",
       "    <tr>\n",
       "      <th>35</th>\n",
       "      <td>112552</td>\n",
       "      <td>Whiplash</td>\n",
       "      <td>4.137848</td>\n",
       "      <td>11179</td>\n",
       "      <td>3300000</td>\n",
       "      <td>1.309200e+07</td>\n",
       "      <td>2014-10-10</td>\n",
       "    </tr>\n",
       "    <tr>\n",
       "      <th>36</th>\n",
       "      <td>898</td>\n",
       "      <td>The Philadelphia Story</td>\n",
       "      <td>4.137713</td>\n",
       "      <td>6499</td>\n",
       "      <td>0</td>\n",
       "      <td>0.000000e+00</td>\n",
       "      <td>1940-12-05</td>\n",
       "    </tr>\n",
       "    <tr>\n",
       "      <th>37</th>\n",
       "      <td>1204</td>\n",
       "      <td>Lawrence of Arabia</td>\n",
       "      <td>4.136036</td>\n",
       "      <td>13173</td>\n",
       "      <td>15000000</td>\n",
       "      <td>6.999538e+07</td>\n",
       "      <td>1962-12-10</td>\n",
       "    </tr>\n",
       "    <tr>\n",
       "      <th>38</th>\n",
       "      <td>1172</td>\n",
       "      <td>Cinema Paradiso</td>\n",
       "      <td>4.131081</td>\n",
       "      <td>9456</td>\n",
       "      <td>0</td>\n",
       "      <td>1.199040e+07</td>\n",
       "      <td>1988-11-17</td>\n",
       "    </tr>\n",
       "    <tr>\n",
       "      <th>39</th>\n",
       "      <td>1201</td>\n",
       "      <td>The Good, the Bad and the Ugly</td>\n",
       "      <td>4.129336</td>\n",
       "      <td>18162</td>\n",
       "      <td>1200000</td>\n",
       "      <td>6.000000e+06</td>\n",
       "      <td>1966-12-23</td>\n",
       "    </tr>\n",
       "    <tr>\n",
       "      <th>40</th>\n",
       "      <td>1197</td>\n",
       "      <td>The Princess Bride</td>\n",
       "      <td>4.129097</td>\n",
       "      <td>37863</td>\n",
       "      <td>16000000</td>\n",
       "      <td>3.085781e+07</td>\n",
       "      <td>1987-09-18</td>\n",
       "    </tr>\n",
       "    <tr>\n",
       "      <th>41</th>\n",
       "      <td>1233</td>\n",
       "      <td>Das Boot</td>\n",
       "      <td>4.127091</td>\n",
       "      <td>13573</td>\n",
       "      <td>14000000</td>\n",
       "      <td>8.500000e+07</td>\n",
       "      <td>1981-09-16</td>\n",
       "    </tr>\n",
       "    <tr>\n",
       "      <th>42</th>\n",
       "      <td>1148</td>\n",
       "      <td>The Wrong Trousers</td>\n",
       "      <td>4.124787</td>\n",
       "      <td>15270</td>\n",
       "      <td>0</td>\n",
       "      <td>0.000000e+00</td>\n",
       "      <td>1993-12-17</td>\n",
       "    </tr>\n",
       "    <tr>\n",
       "      <th>43</th>\n",
       "      <td>92259</td>\n",
       "      <td>The Intouchables</td>\n",
       "      <td>4.124755</td>\n",
       "      <td>12745</td>\n",
       "      <td>13000000</td>\n",
       "      <td>4.264809e+08</td>\n",
       "      <td>2011-11-02</td>\n",
       "    </tr>\n",
       "    <tr>\n",
       "      <th>44</th>\n",
       "      <td>1198</td>\n",
       "      <td>Raiders of the Lost Ark</td>\n",
       "      <td>4.123923</td>\n",
       "      <td>54675</td>\n",
       "      <td>18000000</td>\n",
       "      <td>3.899260e+08</td>\n",
       "      <td>1981-06-12</td>\n",
       "    </tr>\n",
       "    <tr>\n",
       "      <th>45</th>\n",
       "      <td>48516</td>\n",
       "      <td>The Departed</td>\n",
       "      <td>4.121237</td>\n",
       "      <td>25343</td>\n",
       "      <td>90000000</td>\n",
       "      <td>2.898474e+08</td>\n",
       "      <td>2006-10-05</td>\n",
       "    </tr>\n",
       "    <tr>\n",
       "      <th>46</th>\n",
       "      <td>903</td>\n",
       "      <td>Vertigo</td>\n",
       "      <td>4.120822</td>\n",
       "      <td>15945</td>\n",
       "      <td>2479000</td>\n",
       "      <td>2.800000e+07</td>\n",
       "      <td>1958-05-09</td>\n",
       "    </tr>\n",
       "    <tr>\n",
       "      <th>47</th>\n",
       "      <td>260</td>\n",
       "      <td>Star Wars</td>\n",
       "      <td>4.120189</td>\n",
       "      <td>68717</td>\n",
       "      <td>11000000</td>\n",
       "      <td>7.753980e+08</td>\n",
       "      <td>1977-05-25</td>\n",
       "    </tr>\n",
       "    <tr>\n",
       "      <th>48</th>\n",
       "      <td>541</td>\n",
       "      <td>Blade Runner</td>\n",
       "      <td>4.115838</td>\n",
       "      <td>36702</td>\n",
       "      <td>28000000</td>\n",
       "      <td>3.313962e+07</td>\n",
       "      <td>1982-06-25</td>\n",
       "    </tr>\n",
       "    <tr>\n",
       "      <th>49</th>\n",
       "      <td>1208</td>\n",
       "      <td>Apocalypse Now</td>\n",
       "      <td>4.114714</td>\n",
       "      <td>26370</td>\n",
       "      <td>31500000</td>\n",
       "      <td>8.946038e+07</td>\n",
       "      <td>1979-08-15</td>\n",
       "    </tr>\n",
       "  </tbody>\n",
       "</table>\n",
       "</div>"
      ],
      "text/plain": [
       "    movieId                                              title    rating  \\\n",
       "0       318                           The Shawshank Redemption  4.413576   \n",
       "1       858                                      The Godfather  4.324336   \n",
       "2        50                                 The Usual Suspects  4.284353   \n",
       "3      1221                             The Godfather: Part II  4.261759   \n",
       "4      2019                                      Seven Samurai  4.254769   \n",
       "5       527                                   Schindler's List  4.247579   \n",
       "6      1203                                       12 Angry Men  4.243014   \n",
       "7       904                                        Rear Window  4.237948   \n",
       "8      2959                                         Fight Club  4.228311   \n",
       "9      1193                    One Flew Over the Cuckoo's Nest  4.218662   \n",
       "10      750  Dr. Strangelove or: How I Learned to Stop Worr...  4.215804   \n",
       "11     5618                                      Spirited Away  4.212267   \n",
       "12      912                                         Casablanca  4.206564   \n",
       "13      922                                   Sunset Boulevard  4.206501   \n",
       "14     1212                                      The Third Man  4.201487   \n",
       "15    44555                                The Lives of Others  4.200392   \n",
       "16      908                                 North by Northwest  4.196617   \n",
       "17      296                                       Pulp Fiction  4.188912   \n",
       "18     6016                                        City of God  4.181587   \n",
       "19     1213                                         GoodFellas  4.180525   \n",
       "20    58559                                    The Dark Knight  4.166538   \n",
       "21     1252                                          Chinatown  4.158633   \n",
       "22    79132                                          Inception  4.155508   \n",
       "23     2324                                  Life Is Beautiful  4.154342   \n",
       "24     2571                                         The Matrix  4.154099   \n",
       "25      913                                 The Maltese Falcon  4.154075   \n",
       "26     5971                                 My Neighbor Totoro  4.152463   \n",
       "27      593                           The Silence of the Lambs  4.151342   \n",
       "28     4226                                            Memento  4.149958   \n",
       "29     1136                    Monty Python and the Holy Grail  4.147655   \n",
       "30     1207                              To Kill a Mockingbird  4.146441   \n",
       "31     1196                            The Empire Strikes Back  4.144122   \n",
       "32     1234                                          The Sting  4.142360   \n",
       "33     2329                                 American History X  4.140001   \n",
       "34     3000                                  Princess Mononoke  4.138094   \n",
       "35   112552                                           Whiplash  4.137848   \n",
       "36      898                             The Philadelphia Story  4.137713   \n",
       "37     1204                                 Lawrence of Arabia  4.136036   \n",
       "38     1172                                    Cinema Paradiso  4.131081   \n",
       "39     1201                     The Good, the Bad and the Ugly  4.129336   \n",
       "40     1197                                 The Princess Bride  4.129097   \n",
       "41     1233                                           Das Boot  4.127091   \n",
       "42     1148                                 The Wrong Trousers  4.124787   \n",
       "43    92259                                   The Intouchables  4.124755   \n",
       "44     1198                            Raiders of the Lost Ark  4.123923   \n",
       "45    48516                                       The Departed  4.121237   \n",
       "46      903                                            Vertigo  4.120822   \n",
       "47      260                                          Star Wars  4.120189   \n",
       "48      541                                       Blade Runner  4.115838   \n",
       "49     1208                                     Apocalypse Now  4.114714   \n",
       "\n",
       "    count     budget       revenue release_date  \n",
       "0   81482   25000000  2.834147e+07   1994-09-23  \n",
       "1   52498    6000000  2.450664e+08   1972-03-14  \n",
       "2   55366    6000000  2.334157e+07   1995-07-19  \n",
       "3   34188   13000000  4.754284e+07   1974-12-20  \n",
       "4   13367    2000000  2.718410e+05   1954-04-26  \n",
       "5   60411   22000000  3.213656e+08   1993-11-29  \n",
       "6   16569     350000  1.000000e+06   1957-03-25  \n",
       "7   20162    1000000  3.676431e+07   1954-08-01  \n",
       "8   58773   63000000  1.008538e+08   1999-10-15  \n",
       "9   36058    3000000  1.089813e+08   1975-11-18  \n",
       "10  26714    1800000  9.440272e+06   1964-01-29  \n",
       "11  22719   15000000  2.749251e+08   2001-07-20  \n",
       "12  26890     878000  1.046250e+07   1942-11-26  \n",
       "13   7368    1752000  5.000000e+06   1950-08-10  \n",
       "14   7194          0  5.963490e+05   1949-08-31  \n",
       "15   9177    2000000  7.000000e+07   2006-03-15  \n",
       "16  16850    4000000  1.327500e+07   1959-07-07  \n",
       "17  79672    8000000  2.139288e+08   1994-09-10  \n",
       "18  19894    3300000  3.064177e+07   2002-02-05  \n",
       "19  32663   25000000  4.683639e+07   1990-09-12  \n",
       "20  41519  185000000  1.004558e+09   2008-07-16  \n",
       "21  16929    6000000  3.000000e+07   1974-06-20  \n",
       "22  38895  160000000  8.255328e+08   2010-07-14  \n",
       "23  23976   20000000  2.294000e+08   1997-12-20  \n",
       "24  72674   63000000  4.635174e+08   1999-03-30  \n",
       "25  12257     375000  1.000000e+06   1941-11-18  \n",
       "26   9340          0  0.000000e+00   1988-04-16  \n",
       "27  74127   19000000  2.727429e+08   1991-02-01  \n",
       "28  41195    9000000  3.972310e+07   2000-10-11  \n",
       "29  37723     400000  5.028948e+06   1975-03-13  \n",
       "30  15986    2000000  1.312985e+07   1962-12-25  \n",
       "31  57361   18000000  5.384000e+08   1980-05-17  \n",
       "32  15675    5500000  1.596163e+08   1973-12-25  \n",
       "33  31157   20000000  2.387513e+07   1998-10-30  \n",
       "34  13136   26500000  1.593753e+08   1997-07-12  \n",
       "35  11179    3300000  1.309200e+07   2014-10-10  \n",
       "36   6499          0  0.000000e+00   1940-12-05  \n",
       "37  13173   15000000  6.999538e+07   1962-12-10  \n",
       "38   9456          0  1.199040e+07   1988-11-17  \n",
       "39  18162    1200000  6.000000e+06   1966-12-23  \n",
       "40  37863   16000000  3.085781e+07   1987-09-18  \n",
       "41  13573   14000000  8.500000e+07   1981-09-16  \n",
       "42  15270          0  0.000000e+00   1993-12-17  \n",
       "43  12745   13000000  4.264809e+08   2011-11-02  \n",
       "44  54675   18000000  3.899260e+08   1981-06-12  \n",
       "45  25343   90000000  2.898474e+08   2006-10-05  \n",
       "46  15945    2479000  2.800000e+07   1958-05-09  \n",
       "47  68717   11000000  7.753980e+08   1977-05-25  \n",
       "48  36702   28000000  3.313962e+07   1982-06-25  \n",
       "49  26370   31500000  8.946038e+07   1979-08-15  "
      ]
     },
     "execution_count": 18,
     "metadata": {},
     "output_type": "execute_result"
    }
   ],
   "source": [
    "# Convertir la columna 'release_date' a tipo de dato datetime\n",
    "df_final['release_date'] = pd.to_datetime(df_final['release_date'], format='%Y-%m-%d')\n",
    "\n",
    "df_final['budget'] = pd.to_numeric(df_final['budget'], errors='coerce')\n",
    "\n",
    "df_final['revenue'] = pd.to_numeric(df_final['revenue'], errors='coerce')\n",
    "\n",
    "df_final.head(50)"
   ]
  },
  {
   "cell_type": "code",
   "execution_count": 19,
   "metadata": {},
   "outputs": [
    {
     "data": {
      "application/vnd.plotly.v1+json": {
       "config": {
        "plotlyServerURL": "https://plot.ly"
       },
       "data": [
        {
         "alignmentgroup": "True",
         "hovertemplate": "Número de votos=%{x}<br>Título=%{y}<extra></extra>",
         "legendgroup": "",
         "marker": {
          "color": "#636efa",
          "pattern": {
           "shape": ""
          }
         },
         "name": "",
         "offsetgroup": "",
         "orientation": "h",
         "showlegend": false,
         "textposition": "auto",
         "type": "bar",
         "x": [
          58773,
          59184,
          60411,
          64144,
          68717,
          72674,
          74127,
          79672,
          81482,
          81491
         ],
         "xaxis": "x",
         "y": [
          "Fight Club",
          "Braveheart",
          "Schindler's List",
          "Jurassic Park",
          "Star Wars",
          "The Matrix",
          "The Silence of the Lambs",
          "Pulp Fiction",
          "The Shawshank Redemption",
          "Forrest Gump"
         ],
         "yaxis": "y"
        }
       ],
       "layout": {
        "barmode": "relative",
        "legend": {
         "tracegroupgap": 0
        },
        "template": {
         "data": {
          "bar": [
           {
            "error_x": {
             "color": "#2a3f5f"
            },
            "error_y": {
             "color": "#2a3f5f"
            },
            "marker": {
             "line": {
              "color": "#E5ECF6",
              "width": 0.5
             },
             "pattern": {
              "fillmode": "overlay",
              "size": 10,
              "solidity": 0.2
             }
            },
            "type": "bar"
           }
          ],
          "barpolar": [
           {
            "marker": {
             "line": {
              "color": "#E5ECF6",
              "width": 0.5
             },
             "pattern": {
              "fillmode": "overlay",
              "size": 10,
              "solidity": 0.2
             }
            },
            "type": "barpolar"
           }
          ],
          "carpet": [
           {
            "aaxis": {
             "endlinecolor": "#2a3f5f",
             "gridcolor": "white",
             "linecolor": "white",
             "minorgridcolor": "white",
             "startlinecolor": "#2a3f5f"
            },
            "baxis": {
             "endlinecolor": "#2a3f5f",
             "gridcolor": "white",
             "linecolor": "white",
             "minorgridcolor": "white",
             "startlinecolor": "#2a3f5f"
            },
            "type": "carpet"
           }
          ],
          "choropleth": [
           {
            "colorbar": {
             "outlinewidth": 0,
             "ticks": ""
            },
            "type": "choropleth"
           }
          ],
          "contour": [
           {
            "colorbar": {
             "outlinewidth": 0,
             "ticks": ""
            },
            "colorscale": [
             [
              0,
              "#0d0887"
             ],
             [
              0.1111111111111111,
              "#46039f"
             ],
             [
              0.2222222222222222,
              "#7201a8"
             ],
             [
              0.3333333333333333,
              "#9c179e"
             ],
             [
              0.4444444444444444,
              "#bd3786"
             ],
             [
              0.5555555555555556,
              "#d8576b"
             ],
             [
              0.6666666666666666,
              "#ed7953"
             ],
             [
              0.7777777777777778,
              "#fb9f3a"
             ],
             [
              0.8888888888888888,
              "#fdca26"
             ],
             [
              1,
              "#f0f921"
             ]
            ],
            "type": "contour"
           }
          ],
          "contourcarpet": [
           {
            "colorbar": {
             "outlinewidth": 0,
             "ticks": ""
            },
            "type": "contourcarpet"
           }
          ],
          "heatmap": [
           {
            "colorbar": {
             "outlinewidth": 0,
             "ticks": ""
            },
            "colorscale": [
             [
              0,
              "#0d0887"
             ],
             [
              0.1111111111111111,
              "#46039f"
             ],
             [
              0.2222222222222222,
              "#7201a8"
             ],
             [
              0.3333333333333333,
              "#9c179e"
             ],
             [
              0.4444444444444444,
              "#bd3786"
             ],
             [
              0.5555555555555556,
              "#d8576b"
             ],
             [
              0.6666666666666666,
              "#ed7953"
             ],
             [
              0.7777777777777778,
              "#fb9f3a"
             ],
             [
              0.8888888888888888,
              "#fdca26"
             ],
             [
              1,
              "#f0f921"
             ]
            ],
            "type": "heatmap"
           }
          ],
          "heatmapgl": [
           {
            "colorbar": {
             "outlinewidth": 0,
             "ticks": ""
            },
            "colorscale": [
             [
              0,
              "#0d0887"
             ],
             [
              0.1111111111111111,
              "#46039f"
             ],
             [
              0.2222222222222222,
              "#7201a8"
             ],
             [
              0.3333333333333333,
              "#9c179e"
             ],
             [
              0.4444444444444444,
              "#bd3786"
             ],
             [
              0.5555555555555556,
              "#d8576b"
             ],
             [
              0.6666666666666666,
              "#ed7953"
             ],
             [
              0.7777777777777778,
              "#fb9f3a"
             ],
             [
              0.8888888888888888,
              "#fdca26"
             ],
             [
              1,
              "#f0f921"
             ]
            ],
            "type": "heatmapgl"
           }
          ],
          "histogram": [
           {
            "marker": {
             "pattern": {
              "fillmode": "overlay",
              "size": 10,
              "solidity": 0.2
             }
            },
            "type": "histogram"
           }
          ],
          "histogram2d": [
           {
            "colorbar": {
             "outlinewidth": 0,
             "ticks": ""
            },
            "colorscale": [
             [
              0,
              "#0d0887"
             ],
             [
              0.1111111111111111,
              "#46039f"
             ],
             [
              0.2222222222222222,
              "#7201a8"
             ],
             [
              0.3333333333333333,
              "#9c179e"
             ],
             [
              0.4444444444444444,
              "#bd3786"
             ],
             [
              0.5555555555555556,
              "#d8576b"
             ],
             [
              0.6666666666666666,
              "#ed7953"
             ],
             [
              0.7777777777777778,
              "#fb9f3a"
             ],
             [
              0.8888888888888888,
              "#fdca26"
             ],
             [
              1,
              "#f0f921"
             ]
            ],
            "type": "histogram2d"
           }
          ],
          "histogram2dcontour": [
           {
            "colorbar": {
             "outlinewidth": 0,
             "ticks": ""
            },
            "colorscale": [
             [
              0,
              "#0d0887"
             ],
             [
              0.1111111111111111,
              "#46039f"
             ],
             [
              0.2222222222222222,
              "#7201a8"
             ],
             [
              0.3333333333333333,
              "#9c179e"
             ],
             [
              0.4444444444444444,
              "#bd3786"
             ],
             [
              0.5555555555555556,
              "#d8576b"
             ],
             [
              0.6666666666666666,
              "#ed7953"
             ],
             [
              0.7777777777777778,
              "#fb9f3a"
             ],
             [
              0.8888888888888888,
              "#fdca26"
             ],
             [
              1,
              "#f0f921"
             ]
            ],
            "type": "histogram2dcontour"
           }
          ],
          "mesh3d": [
           {
            "colorbar": {
             "outlinewidth": 0,
             "ticks": ""
            },
            "type": "mesh3d"
           }
          ],
          "parcoords": [
           {
            "line": {
             "colorbar": {
              "outlinewidth": 0,
              "ticks": ""
             }
            },
            "type": "parcoords"
           }
          ],
          "pie": [
           {
            "automargin": true,
            "type": "pie"
           }
          ],
          "scatter": [
           {
            "fillpattern": {
             "fillmode": "overlay",
             "size": 10,
             "solidity": 0.2
            },
            "type": "scatter"
           }
          ],
          "scatter3d": [
           {
            "line": {
             "colorbar": {
              "outlinewidth": 0,
              "ticks": ""
             }
            },
            "marker": {
             "colorbar": {
              "outlinewidth": 0,
              "ticks": ""
             }
            },
            "type": "scatter3d"
           }
          ],
          "scattercarpet": [
           {
            "marker": {
             "colorbar": {
              "outlinewidth": 0,
              "ticks": ""
             }
            },
            "type": "scattercarpet"
           }
          ],
          "scattergeo": [
           {
            "marker": {
             "colorbar": {
              "outlinewidth": 0,
              "ticks": ""
             }
            },
            "type": "scattergeo"
           }
          ],
          "scattergl": [
           {
            "marker": {
             "colorbar": {
              "outlinewidth": 0,
              "ticks": ""
             }
            },
            "type": "scattergl"
           }
          ],
          "scattermapbox": [
           {
            "marker": {
             "colorbar": {
              "outlinewidth": 0,
              "ticks": ""
             }
            },
            "type": "scattermapbox"
           }
          ],
          "scatterpolar": [
           {
            "marker": {
             "colorbar": {
              "outlinewidth": 0,
              "ticks": ""
             }
            },
            "type": "scatterpolar"
           }
          ],
          "scatterpolargl": [
           {
            "marker": {
             "colorbar": {
              "outlinewidth": 0,
              "ticks": ""
             }
            },
            "type": "scatterpolargl"
           }
          ],
          "scatterternary": [
           {
            "marker": {
             "colorbar": {
              "outlinewidth": 0,
              "ticks": ""
             }
            },
            "type": "scatterternary"
           }
          ],
          "surface": [
           {
            "colorbar": {
             "outlinewidth": 0,
             "ticks": ""
            },
            "colorscale": [
             [
              0,
              "#0d0887"
             ],
             [
              0.1111111111111111,
              "#46039f"
             ],
             [
              0.2222222222222222,
              "#7201a8"
             ],
             [
              0.3333333333333333,
              "#9c179e"
             ],
             [
              0.4444444444444444,
              "#bd3786"
             ],
             [
              0.5555555555555556,
              "#d8576b"
             ],
             [
              0.6666666666666666,
              "#ed7953"
             ],
             [
              0.7777777777777778,
              "#fb9f3a"
             ],
             [
              0.8888888888888888,
              "#fdca26"
             ],
             [
              1,
              "#f0f921"
             ]
            ],
            "type": "surface"
           }
          ],
          "table": [
           {
            "cells": {
             "fill": {
              "color": "#EBF0F8"
             },
             "line": {
              "color": "white"
             }
            },
            "header": {
             "fill": {
              "color": "#C8D4E3"
             },
             "line": {
              "color": "white"
             }
            },
            "type": "table"
           }
          ]
         },
         "layout": {
          "annotationdefaults": {
           "arrowcolor": "#2a3f5f",
           "arrowhead": 0,
           "arrowwidth": 1
          },
          "autotypenumbers": "strict",
          "coloraxis": {
           "colorbar": {
            "outlinewidth": 0,
            "ticks": ""
           }
          },
          "colorscale": {
           "diverging": [
            [
             0,
             "#8e0152"
            ],
            [
             0.1,
             "#c51b7d"
            ],
            [
             0.2,
             "#de77ae"
            ],
            [
             0.3,
             "#f1b6da"
            ],
            [
             0.4,
             "#fde0ef"
            ],
            [
             0.5,
             "#f7f7f7"
            ],
            [
             0.6,
             "#e6f5d0"
            ],
            [
             0.7,
             "#b8e186"
            ],
            [
             0.8,
             "#7fbc41"
            ],
            [
             0.9,
             "#4d9221"
            ],
            [
             1,
             "#276419"
            ]
           ],
           "sequential": [
            [
             0,
             "#0d0887"
            ],
            [
             0.1111111111111111,
             "#46039f"
            ],
            [
             0.2222222222222222,
             "#7201a8"
            ],
            [
             0.3333333333333333,
             "#9c179e"
            ],
            [
             0.4444444444444444,
             "#bd3786"
            ],
            [
             0.5555555555555556,
             "#d8576b"
            ],
            [
             0.6666666666666666,
             "#ed7953"
            ],
            [
             0.7777777777777778,
             "#fb9f3a"
            ],
            [
             0.8888888888888888,
             "#fdca26"
            ],
            [
             1,
             "#f0f921"
            ]
           ],
           "sequentialminus": [
            [
             0,
             "#0d0887"
            ],
            [
             0.1111111111111111,
             "#46039f"
            ],
            [
             0.2222222222222222,
             "#7201a8"
            ],
            [
             0.3333333333333333,
             "#9c179e"
            ],
            [
             0.4444444444444444,
             "#bd3786"
            ],
            [
             0.5555555555555556,
             "#d8576b"
            ],
            [
             0.6666666666666666,
             "#ed7953"
            ],
            [
             0.7777777777777778,
             "#fb9f3a"
            ],
            [
             0.8888888888888888,
             "#fdca26"
            ],
            [
             1,
             "#f0f921"
            ]
           ]
          },
          "colorway": [
           "#636efa",
           "#EF553B",
           "#00cc96",
           "#ab63fa",
           "#FFA15A",
           "#19d3f3",
           "#FF6692",
           "#B6E880",
           "#FF97FF",
           "#FECB52"
          ],
          "font": {
           "color": "#2a3f5f"
          },
          "geo": {
           "bgcolor": "white",
           "lakecolor": "white",
           "landcolor": "#E5ECF6",
           "showlakes": true,
           "showland": true,
           "subunitcolor": "white"
          },
          "hoverlabel": {
           "align": "left"
          },
          "hovermode": "closest",
          "mapbox": {
           "style": "light"
          },
          "paper_bgcolor": "white",
          "plot_bgcolor": "#E5ECF6",
          "polar": {
           "angularaxis": {
            "gridcolor": "white",
            "linecolor": "white",
            "ticks": ""
           },
           "bgcolor": "#E5ECF6",
           "radialaxis": {
            "gridcolor": "white",
            "linecolor": "white",
            "ticks": ""
           }
          },
          "scene": {
           "xaxis": {
            "backgroundcolor": "#E5ECF6",
            "gridcolor": "white",
            "gridwidth": 2,
            "linecolor": "white",
            "showbackground": true,
            "ticks": "",
            "zerolinecolor": "white"
           },
           "yaxis": {
            "backgroundcolor": "#E5ECF6",
            "gridcolor": "white",
            "gridwidth": 2,
            "linecolor": "white",
            "showbackground": true,
            "ticks": "",
            "zerolinecolor": "white"
           },
           "zaxis": {
            "backgroundcolor": "#E5ECF6",
            "gridcolor": "white",
            "gridwidth": 2,
            "linecolor": "white",
            "showbackground": true,
            "ticks": "",
            "zerolinecolor": "white"
           }
          },
          "shapedefaults": {
           "line": {
            "color": "#2a3f5f"
           }
          },
          "ternary": {
           "aaxis": {
            "gridcolor": "white",
            "linecolor": "white",
            "ticks": ""
           },
           "baxis": {
            "gridcolor": "white",
            "linecolor": "white",
            "ticks": ""
           },
           "bgcolor": "#E5ECF6",
           "caxis": {
            "gridcolor": "white",
            "linecolor": "white",
            "ticks": ""
           }
          },
          "title": {
           "x": 0.05
          },
          "xaxis": {
           "automargin": true,
           "gridcolor": "white",
           "linecolor": "white",
           "ticks": "",
           "title": {
            "standoff": 15
           },
           "zerolinecolor": "white",
           "zerolinewidth": 2
          },
          "yaxis": {
           "automargin": true,
           "gridcolor": "white",
           "linecolor": "white",
           "ticks": "",
           "title": {
            "standoff": 15
           },
           "zerolinecolor": "white",
           "zerolinewidth": 2
          }
         }
        },
        "title": {
         "text": "Top 10 Películas por numero de votos"
        },
        "xaxis": {
         "anchor": "y",
         "domain": [
          0,
          1
         ],
         "range": [
          55000,
          85000
         ],
         "title": {
          "text": "Número de votos"
         }
        },
        "yaxis": {
         "anchor": "x",
         "domain": [
          0,
          1
         ],
         "title": {
          "text": "Título"
         }
        }
       }
      }
     },
     "metadata": {},
     "output_type": "display_data"
    }
   ],
   "source": [
    "df_votes_count = df_final.sort_values(by='count', ascending=False, axis=0)\n",
    "\n",
    "px.bar(df_votes_count.head(10).sort_values(by='count', ascending=True),\n",
    "       x='count',\n",
    "       y='title',\n",
    "       title='Top 10 Películas por numero de votos',\n",
    "       labels={'title': 'Título', 'count': 'Número de votos'},\n",
    "       orientation='h',\n",
    "       range_x=[55000, 85000])"
   ]
  },
  {
   "cell_type": "code",
   "execution_count": 20,
   "metadata": {},
   "outputs": [
    {
     "data": {
      "application/vnd.plotly.v1+json": {
       "config": {
        "plotlyServerURL": "https://plot.ly"
       },
       "data": [
        {
         "alignmentgroup": "True",
         "hovertemplate": "Valoracion=%{x}<br>Título=%{y}<extra></extra>",
         "legendgroup": "",
         "marker": {
          "color": "#636efa",
          "pattern": {
           "shape": ""
          }
         },
         "name": "",
         "offsetgroup": "",
         "orientation": "h",
         "showlegend": false,
         "textposition": "auto",
         "type": "bar",
         "x": [
          4.2186616007543405,
          4.228310618821568,
          4.237947624243627,
          4.243014062405697,
          4.247579083279535,
          4.25476920775043,
          4.2617585117585115,
          4.284353213163313,
          4.324336165187245,
          4.413576004516335
         ],
         "xaxis": "x",
         "y": [
          "One Flew Over the Cuckoo's Nest",
          "Fight Club",
          "Rear Window",
          "12 Angry Men",
          "Schindler's List",
          "Seven Samurai",
          "The Godfather: Part II",
          "The Usual Suspects",
          "The Godfather",
          "The Shawshank Redemption"
         ],
         "yaxis": "y"
        }
       ],
       "layout": {
        "barmode": "relative",
        "legend": {
         "tracegroupgap": 0
        },
        "template": {
         "data": {
          "bar": [
           {
            "error_x": {
             "color": "#2a3f5f"
            },
            "error_y": {
             "color": "#2a3f5f"
            },
            "marker": {
             "line": {
              "color": "#E5ECF6",
              "width": 0.5
             },
             "pattern": {
              "fillmode": "overlay",
              "size": 10,
              "solidity": 0.2
             }
            },
            "type": "bar"
           }
          ],
          "barpolar": [
           {
            "marker": {
             "line": {
              "color": "#E5ECF6",
              "width": 0.5
             },
             "pattern": {
              "fillmode": "overlay",
              "size": 10,
              "solidity": 0.2
             }
            },
            "type": "barpolar"
           }
          ],
          "carpet": [
           {
            "aaxis": {
             "endlinecolor": "#2a3f5f",
             "gridcolor": "white",
             "linecolor": "white",
             "minorgridcolor": "white",
             "startlinecolor": "#2a3f5f"
            },
            "baxis": {
             "endlinecolor": "#2a3f5f",
             "gridcolor": "white",
             "linecolor": "white",
             "minorgridcolor": "white",
             "startlinecolor": "#2a3f5f"
            },
            "type": "carpet"
           }
          ],
          "choropleth": [
           {
            "colorbar": {
             "outlinewidth": 0,
             "ticks": ""
            },
            "type": "choropleth"
           }
          ],
          "contour": [
           {
            "colorbar": {
             "outlinewidth": 0,
             "ticks": ""
            },
            "colorscale": [
             [
              0,
              "#0d0887"
             ],
             [
              0.1111111111111111,
              "#46039f"
             ],
             [
              0.2222222222222222,
              "#7201a8"
             ],
             [
              0.3333333333333333,
              "#9c179e"
             ],
             [
              0.4444444444444444,
              "#bd3786"
             ],
             [
              0.5555555555555556,
              "#d8576b"
             ],
             [
              0.6666666666666666,
              "#ed7953"
             ],
             [
              0.7777777777777778,
              "#fb9f3a"
             ],
             [
              0.8888888888888888,
              "#fdca26"
             ],
             [
              1,
              "#f0f921"
             ]
            ],
            "type": "contour"
           }
          ],
          "contourcarpet": [
           {
            "colorbar": {
             "outlinewidth": 0,
             "ticks": ""
            },
            "type": "contourcarpet"
           }
          ],
          "heatmap": [
           {
            "colorbar": {
             "outlinewidth": 0,
             "ticks": ""
            },
            "colorscale": [
             [
              0,
              "#0d0887"
             ],
             [
              0.1111111111111111,
              "#46039f"
             ],
             [
              0.2222222222222222,
              "#7201a8"
             ],
             [
              0.3333333333333333,
              "#9c179e"
             ],
             [
              0.4444444444444444,
              "#bd3786"
             ],
             [
              0.5555555555555556,
              "#d8576b"
             ],
             [
              0.6666666666666666,
              "#ed7953"
             ],
             [
              0.7777777777777778,
              "#fb9f3a"
             ],
             [
              0.8888888888888888,
              "#fdca26"
             ],
             [
              1,
              "#f0f921"
             ]
            ],
            "type": "heatmap"
           }
          ],
          "heatmapgl": [
           {
            "colorbar": {
             "outlinewidth": 0,
             "ticks": ""
            },
            "colorscale": [
             [
              0,
              "#0d0887"
             ],
             [
              0.1111111111111111,
              "#46039f"
             ],
             [
              0.2222222222222222,
              "#7201a8"
             ],
             [
              0.3333333333333333,
              "#9c179e"
             ],
             [
              0.4444444444444444,
              "#bd3786"
             ],
             [
              0.5555555555555556,
              "#d8576b"
             ],
             [
              0.6666666666666666,
              "#ed7953"
             ],
             [
              0.7777777777777778,
              "#fb9f3a"
             ],
             [
              0.8888888888888888,
              "#fdca26"
             ],
             [
              1,
              "#f0f921"
             ]
            ],
            "type": "heatmapgl"
           }
          ],
          "histogram": [
           {
            "marker": {
             "pattern": {
              "fillmode": "overlay",
              "size": 10,
              "solidity": 0.2
             }
            },
            "type": "histogram"
           }
          ],
          "histogram2d": [
           {
            "colorbar": {
             "outlinewidth": 0,
             "ticks": ""
            },
            "colorscale": [
             [
              0,
              "#0d0887"
             ],
             [
              0.1111111111111111,
              "#46039f"
             ],
             [
              0.2222222222222222,
              "#7201a8"
             ],
             [
              0.3333333333333333,
              "#9c179e"
             ],
             [
              0.4444444444444444,
              "#bd3786"
             ],
             [
              0.5555555555555556,
              "#d8576b"
             ],
             [
              0.6666666666666666,
              "#ed7953"
             ],
             [
              0.7777777777777778,
              "#fb9f3a"
             ],
             [
              0.8888888888888888,
              "#fdca26"
             ],
             [
              1,
              "#f0f921"
             ]
            ],
            "type": "histogram2d"
           }
          ],
          "histogram2dcontour": [
           {
            "colorbar": {
             "outlinewidth": 0,
             "ticks": ""
            },
            "colorscale": [
             [
              0,
              "#0d0887"
             ],
             [
              0.1111111111111111,
              "#46039f"
             ],
             [
              0.2222222222222222,
              "#7201a8"
             ],
             [
              0.3333333333333333,
              "#9c179e"
             ],
             [
              0.4444444444444444,
              "#bd3786"
             ],
             [
              0.5555555555555556,
              "#d8576b"
             ],
             [
              0.6666666666666666,
              "#ed7953"
             ],
             [
              0.7777777777777778,
              "#fb9f3a"
             ],
             [
              0.8888888888888888,
              "#fdca26"
             ],
             [
              1,
              "#f0f921"
             ]
            ],
            "type": "histogram2dcontour"
           }
          ],
          "mesh3d": [
           {
            "colorbar": {
             "outlinewidth": 0,
             "ticks": ""
            },
            "type": "mesh3d"
           }
          ],
          "parcoords": [
           {
            "line": {
             "colorbar": {
              "outlinewidth": 0,
              "ticks": ""
             }
            },
            "type": "parcoords"
           }
          ],
          "pie": [
           {
            "automargin": true,
            "type": "pie"
           }
          ],
          "scatter": [
           {
            "fillpattern": {
             "fillmode": "overlay",
             "size": 10,
             "solidity": 0.2
            },
            "type": "scatter"
           }
          ],
          "scatter3d": [
           {
            "line": {
             "colorbar": {
              "outlinewidth": 0,
              "ticks": ""
             }
            },
            "marker": {
             "colorbar": {
              "outlinewidth": 0,
              "ticks": ""
             }
            },
            "type": "scatter3d"
           }
          ],
          "scattercarpet": [
           {
            "marker": {
             "colorbar": {
              "outlinewidth": 0,
              "ticks": ""
             }
            },
            "type": "scattercarpet"
           }
          ],
          "scattergeo": [
           {
            "marker": {
             "colorbar": {
              "outlinewidth": 0,
              "ticks": ""
             }
            },
            "type": "scattergeo"
           }
          ],
          "scattergl": [
           {
            "marker": {
             "colorbar": {
              "outlinewidth": 0,
              "ticks": ""
             }
            },
            "type": "scattergl"
           }
          ],
          "scattermapbox": [
           {
            "marker": {
             "colorbar": {
              "outlinewidth": 0,
              "ticks": ""
             }
            },
            "type": "scattermapbox"
           }
          ],
          "scatterpolar": [
           {
            "marker": {
             "colorbar": {
              "outlinewidth": 0,
              "ticks": ""
             }
            },
            "type": "scatterpolar"
           }
          ],
          "scatterpolargl": [
           {
            "marker": {
             "colorbar": {
              "outlinewidth": 0,
              "ticks": ""
             }
            },
            "type": "scatterpolargl"
           }
          ],
          "scatterternary": [
           {
            "marker": {
             "colorbar": {
              "outlinewidth": 0,
              "ticks": ""
             }
            },
            "type": "scatterternary"
           }
          ],
          "surface": [
           {
            "colorbar": {
             "outlinewidth": 0,
             "ticks": ""
            },
            "colorscale": [
             [
              0,
              "#0d0887"
             ],
             [
              0.1111111111111111,
              "#46039f"
             ],
             [
              0.2222222222222222,
              "#7201a8"
             ],
             [
              0.3333333333333333,
              "#9c179e"
             ],
             [
              0.4444444444444444,
              "#bd3786"
             ],
             [
              0.5555555555555556,
              "#d8576b"
             ],
             [
              0.6666666666666666,
              "#ed7953"
             ],
             [
              0.7777777777777778,
              "#fb9f3a"
             ],
             [
              0.8888888888888888,
              "#fdca26"
             ],
             [
              1,
              "#f0f921"
             ]
            ],
            "type": "surface"
           }
          ],
          "table": [
           {
            "cells": {
             "fill": {
              "color": "#EBF0F8"
             },
             "line": {
              "color": "white"
             }
            },
            "header": {
             "fill": {
              "color": "#C8D4E3"
             },
             "line": {
              "color": "white"
             }
            },
            "type": "table"
           }
          ]
         },
         "layout": {
          "annotationdefaults": {
           "arrowcolor": "#2a3f5f",
           "arrowhead": 0,
           "arrowwidth": 1
          },
          "autotypenumbers": "strict",
          "coloraxis": {
           "colorbar": {
            "outlinewidth": 0,
            "ticks": ""
           }
          },
          "colorscale": {
           "diverging": [
            [
             0,
             "#8e0152"
            ],
            [
             0.1,
             "#c51b7d"
            ],
            [
             0.2,
             "#de77ae"
            ],
            [
             0.3,
             "#f1b6da"
            ],
            [
             0.4,
             "#fde0ef"
            ],
            [
             0.5,
             "#f7f7f7"
            ],
            [
             0.6,
             "#e6f5d0"
            ],
            [
             0.7,
             "#b8e186"
            ],
            [
             0.8,
             "#7fbc41"
            ],
            [
             0.9,
             "#4d9221"
            ],
            [
             1,
             "#276419"
            ]
           ],
           "sequential": [
            [
             0,
             "#0d0887"
            ],
            [
             0.1111111111111111,
             "#46039f"
            ],
            [
             0.2222222222222222,
             "#7201a8"
            ],
            [
             0.3333333333333333,
             "#9c179e"
            ],
            [
             0.4444444444444444,
             "#bd3786"
            ],
            [
             0.5555555555555556,
             "#d8576b"
            ],
            [
             0.6666666666666666,
             "#ed7953"
            ],
            [
             0.7777777777777778,
             "#fb9f3a"
            ],
            [
             0.8888888888888888,
             "#fdca26"
            ],
            [
             1,
             "#f0f921"
            ]
           ],
           "sequentialminus": [
            [
             0,
             "#0d0887"
            ],
            [
             0.1111111111111111,
             "#46039f"
            ],
            [
             0.2222222222222222,
             "#7201a8"
            ],
            [
             0.3333333333333333,
             "#9c179e"
            ],
            [
             0.4444444444444444,
             "#bd3786"
            ],
            [
             0.5555555555555556,
             "#d8576b"
            ],
            [
             0.6666666666666666,
             "#ed7953"
            ],
            [
             0.7777777777777778,
             "#fb9f3a"
            ],
            [
             0.8888888888888888,
             "#fdca26"
            ],
            [
             1,
             "#f0f921"
            ]
           ]
          },
          "colorway": [
           "#636efa",
           "#EF553B",
           "#00cc96",
           "#ab63fa",
           "#FFA15A",
           "#19d3f3",
           "#FF6692",
           "#B6E880",
           "#FF97FF",
           "#FECB52"
          ],
          "font": {
           "color": "#2a3f5f"
          },
          "geo": {
           "bgcolor": "white",
           "lakecolor": "white",
           "landcolor": "#E5ECF6",
           "showlakes": true,
           "showland": true,
           "subunitcolor": "white"
          },
          "hoverlabel": {
           "align": "left"
          },
          "hovermode": "closest",
          "mapbox": {
           "style": "light"
          },
          "paper_bgcolor": "white",
          "plot_bgcolor": "#E5ECF6",
          "polar": {
           "angularaxis": {
            "gridcolor": "white",
            "linecolor": "white",
            "ticks": ""
           },
           "bgcolor": "#E5ECF6",
           "radialaxis": {
            "gridcolor": "white",
            "linecolor": "white",
            "ticks": ""
           }
          },
          "scene": {
           "xaxis": {
            "backgroundcolor": "#E5ECF6",
            "gridcolor": "white",
            "gridwidth": 2,
            "linecolor": "white",
            "showbackground": true,
            "ticks": "",
            "zerolinecolor": "white"
           },
           "yaxis": {
            "backgroundcolor": "#E5ECF6",
            "gridcolor": "white",
            "gridwidth": 2,
            "linecolor": "white",
            "showbackground": true,
            "ticks": "",
            "zerolinecolor": "white"
           },
           "zaxis": {
            "backgroundcolor": "#E5ECF6",
            "gridcolor": "white",
            "gridwidth": 2,
            "linecolor": "white",
            "showbackground": true,
            "ticks": "",
            "zerolinecolor": "white"
           }
          },
          "shapedefaults": {
           "line": {
            "color": "#2a3f5f"
           }
          },
          "ternary": {
           "aaxis": {
            "gridcolor": "white",
            "linecolor": "white",
            "ticks": ""
           },
           "baxis": {
            "gridcolor": "white",
            "linecolor": "white",
            "ticks": ""
           },
           "bgcolor": "#E5ECF6",
           "caxis": {
            "gridcolor": "white",
            "linecolor": "white",
            "ticks": ""
           }
          },
          "title": {
           "x": 0.05
          },
          "xaxis": {
           "automargin": true,
           "gridcolor": "white",
           "linecolor": "white",
           "ticks": "",
           "title": {
            "standoff": 15
           },
           "zerolinecolor": "white",
           "zerolinewidth": 2
          },
          "yaxis": {
           "automargin": true,
           "gridcolor": "white",
           "linecolor": "white",
           "ticks": "",
           "title": {
            "standoff": 15
           },
           "zerolinecolor": "white",
           "zerolinewidth": 2
          }
         }
        },
        "title": {
         "text": "Top 10 Películas por valoracion"
        },
        "xaxis": {
         "anchor": "y",
         "domain": [
          0,
          1
         ],
         "range": [
          4,
          4.5
         ],
         "title": {
          "text": "Valoracion"
         }
        },
        "yaxis": {
         "anchor": "x",
         "domain": [
          0,
          1
         ],
         "title": {
          "text": "Título"
         }
        }
       }
      }
     },
     "metadata": {},
     "output_type": "display_data"
    }
   ],
   "source": [
    "df_rating = df_final.sort_values(by='rating', ascending=False, axis=0)\n",
    "\n",
    "px.bar(df_rating.head(10).sort_values(by='rating', ascending=True),\n",
    "       x='rating',\n",
    "       y='title',\n",
    "       title='Top 10 Películas por valoracion',\n",
    "       labels={'title': 'Título', 'rating': 'Valoracion'},\n",
    "       orientation='h',\n",
    "       range_x=[4.0, 4.5])"
   ]
  },
  {
   "cell_type": "code",
   "execution_count": 21,
   "metadata": {},
   "outputs": [
    {
     "name": "stderr",
     "output_type": "stream",
     "text": [
      "C:\\Users\\mvill\\AppData\\Local\\Temp\\ipykernel_23120\\3235675759.py:6: SettingWithCopyWarning:\n",
      "\n",
      "\n",
      "A value is trying to be set on a copy of a slice from a DataFrame.\n",
      "Try using .loc[row_indexer,col_indexer] = value instead\n",
      "\n",
      "See the caveats in the documentation: https://pandas.pydata.org/pandas-docs/stable/user_guide/indexing.html#returning-a-view-versus-a-copy\n",
      "\n",
      "C:\\Users\\mvill\\AppData\\Local\\Temp\\ipykernel_23120\\3235675759.py:9: SettingWithCopyWarning:\n",
      "\n",
      "\n",
      "A value is trying to be set on a copy of a slice from a DataFrame.\n",
      "Try using .loc[row_indexer,col_indexer] = value instead\n",
      "\n",
      "See the caveats in the documentation: https://pandas.pydata.org/pandas-docs/stable/user_guide/indexing.html#returning-a-view-versus-a-copy\n",
      "\n",
      "C:\\Users\\mvill\\AppData\\Local\\Temp\\ipykernel_23120\\3235675759.py:12: SettingWithCopyWarning:\n",
      "\n",
      "\n",
      "A value is trying to be set on a copy of a slice from a DataFrame.\n",
      "Try using .loc[row_indexer,col_indexer] = value instead\n",
      "\n",
      "See the caveats in the documentation: https://pandas.pydata.org/pandas-docs/stable/user_guide/indexing.html#returning-a-view-versus-a-copy\n",
      "\n"
     ]
    },
    {
     "data": {
      "text/html": [
       "<div>\n",
       "<style scoped>\n",
       "    .dataframe tbody tr th:only-of-type {\n",
       "        vertical-align: middle;\n",
       "    }\n",
       "\n",
       "    .dataframe tbody tr th {\n",
       "        vertical-align: top;\n",
       "    }\n",
       "\n",
       "    .dataframe thead th {\n",
       "        text-align: right;\n",
       "    }\n",
       "</style>\n",
       "<table border=\"1\" class=\"dataframe\">\n",
       "  <thead>\n",
       "    <tr style=\"text-align: right;\">\n",
       "      <th></th>\n",
       "      <th>production_countries</th>\n",
       "      <th>count</th>\n",
       "    </tr>\n",
       "  </thead>\n",
       "  <tbody>\n",
       "    <tr>\n",
       "      <th>0</th>\n",
       "      <td>United States of America</td>\n",
       "      <td>738</td>\n",
       "    </tr>\n",
       "    <tr>\n",
       "      <th>1</th>\n",
       "      <td>United Kingdom</td>\n",
       "      <td>118</td>\n",
       "    </tr>\n",
       "    <tr>\n",
       "      <th>2</th>\n",
       "      <td>Germany</td>\n",
       "      <td>46</td>\n",
       "    </tr>\n",
       "    <tr>\n",
       "      <th>3</th>\n",
       "      <td>France</td>\n",
       "      <td>31</td>\n",
       "    </tr>\n",
       "    <tr>\n",
       "      <th>4</th>\n",
       "      <td>Canada</td>\n",
       "      <td>22</td>\n",
       "    </tr>\n",
       "  </tbody>\n",
       "</table>\n",
       "</div>"
      ],
      "text/plain": [
       "       production_countries  count\n",
       "0  United States of America    738\n",
       "1            United Kingdom    118\n",
       "2                   Germany     46\n",
       "3                    France     31\n",
       "4                    Canada     22"
      ]
     },
     "execution_count": 21,
     "metadata": {},
     "output_type": "execute_result"
    }
   ],
   "source": [
    "df_country = df_final_usable[['movieId', 'title_y','production_countries']]\n",
    "\n",
    "df_country.head()\n",
    "\n",
    "# Replace all single quotes with double quotes in the production_countries column\n",
    "df_country['production_countries'] = df_country['production_countries'].str.replace(\"'\", '\"')\n",
    "\n",
    "# Convert the production_countries column to a list of dictionaries\n",
    "df_country['production_countries'] = df_country['production_countries'].apply(lambda x: json.loads(x) if x != '[]' else [])\n",
    "\n",
    "# Extract the name of the country from the list of dictionaries\n",
    "df_country['production_countries'] = df_country['production_countries'].apply(lambda x: x[0]['name'] if x != [] else np.nan)\n",
    "\n",
    "# Count the number of movies produced in each country\n",
    "df_country_count = df_country['production_countries'].value_counts().reset_index()\n",
    "\n",
    "df_country_count.head()"
   ]
  },
  {
   "cell_type": "code",
   "execution_count": 22,
   "metadata": {},
   "outputs": [
    {
     "data": {
      "application/vnd.plotly.v1+json": {
       "config": {
        "plotlyServerURL": "https://plot.ly"
       },
       "data": [
        {
         "coloraxis": "coloraxis",
         "geo": "geo",
         "hovertemplate": "production_countries=%{location}<br>count=%{z}<extra></extra>",
         "locationmode": "country names",
         "locations": [
          "United States of America",
          "United Kingdom",
          "Germany",
          "France",
          "Canada",
          "Australia",
          "Japan",
          "New Zealand",
          "Italy",
          "China",
          "India",
          "Czech Republic",
          "Spain",
          "Mexico",
          "Hong Kong",
          "South Korea",
          "Belgium",
          "Austria",
          "Iceland",
          "Norway",
          "Brazil",
          "Ireland",
          "South Africa",
          "Peru"
         ],
         "name": "",
         "type": "choropleth",
         "z": [
          738,
          118,
          46,
          31,
          22,
          19,
          14,
          8,
          5,
          5,
          3,
          3,
          3,
          3,
          3,
          1,
          1,
          1,
          1,
          1,
          1,
          1,
          1,
          1
         ]
        }
       ],
       "layout": {
        "coloraxis": {
         "colorbar": {
          "title": {
           "text": "count"
          }
         },
         "colorscale": [
          [
           0,
           "#0d0887"
          ],
          [
           0.1111111111111111,
           "#46039f"
          ],
          [
           0.2222222222222222,
           "#7201a8"
          ],
          [
           0.3333333333333333,
           "#9c179e"
          ],
          [
           0.4444444444444444,
           "#bd3786"
          ],
          [
           0.5555555555555556,
           "#d8576b"
          ],
          [
           0.6666666666666666,
           "#ed7953"
          ],
          [
           0.7777777777777778,
           "#fb9f3a"
          ],
          [
           0.8888888888888888,
           "#fdca26"
          ],
          [
           1,
           "#f0f921"
          ]
         ]
        },
        "geo": {
         "center": {},
         "domain": {
          "x": [
           0,
           1
          ],
          "y": [
           0,
           1
          ]
         }
        },
        "legend": {
         "tracegroupgap": 0
        },
        "template": {
         "data": {
          "bar": [
           {
            "error_x": {
             "color": "#2a3f5f"
            },
            "error_y": {
             "color": "#2a3f5f"
            },
            "marker": {
             "line": {
              "color": "#E5ECF6",
              "width": 0.5
             },
             "pattern": {
              "fillmode": "overlay",
              "size": 10,
              "solidity": 0.2
             }
            },
            "type": "bar"
           }
          ],
          "barpolar": [
           {
            "marker": {
             "line": {
              "color": "#E5ECF6",
              "width": 0.5
             },
             "pattern": {
              "fillmode": "overlay",
              "size": 10,
              "solidity": 0.2
             }
            },
            "type": "barpolar"
           }
          ],
          "carpet": [
           {
            "aaxis": {
             "endlinecolor": "#2a3f5f",
             "gridcolor": "white",
             "linecolor": "white",
             "minorgridcolor": "white",
             "startlinecolor": "#2a3f5f"
            },
            "baxis": {
             "endlinecolor": "#2a3f5f",
             "gridcolor": "white",
             "linecolor": "white",
             "minorgridcolor": "white",
             "startlinecolor": "#2a3f5f"
            },
            "type": "carpet"
           }
          ],
          "choropleth": [
           {
            "colorbar": {
             "outlinewidth": 0,
             "ticks": ""
            },
            "type": "choropleth"
           }
          ],
          "contour": [
           {
            "colorbar": {
             "outlinewidth": 0,
             "ticks": ""
            },
            "colorscale": [
             [
              0,
              "#0d0887"
             ],
             [
              0.1111111111111111,
              "#46039f"
             ],
             [
              0.2222222222222222,
              "#7201a8"
             ],
             [
              0.3333333333333333,
              "#9c179e"
             ],
             [
              0.4444444444444444,
              "#bd3786"
             ],
             [
              0.5555555555555556,
              "#d8576b"
             ],
             [
              0.6666666666666666,
              "#ed7953"
             ],
             [
              0.7777777777777778,
              "#fb9f3a"
             ],
             [
              0.8888888888888888,
              "#fdca26"
             ],
             [
              1,
              "#f0f921"
             ]
            ],
            "type": "contour"
           }
          ],
          "contourcarpet": [
           {
            "colorbar": {
             "outlinewidth": 0,
             "ticks": ""
            },
            "type": "contourcarpet"
           }
          ],
          "heatmap": [
           {
            "colorbar": {
             "outlinewidth": 0,
             "ticks": ""
            },
            "colorscale": [
             [
              0,
              "#0d0887"
             ],
             [
              0.1111111111111111,
              "#46039f"
             ],
             [
              0.2222222222222222,
              "#7201a8"
             ],
             [
              0.3333333333333333,
              "#9c179e"
             ],
             [
              0.4444444444444444,
              "#bd3786"
             ],
             [
              0.5555555555555556,
              "#d8576b"
             ],
             [
              0.6666666666666666,
              "#ed7953"
             ],
             [
              0.7777777777777778,
              "#fb9f3a"
             ],
             [
              0.8888888888888888,
              "#fdca26"
             ],
             [
              1,
              "#f0f921"
             ]
            ],
            "type": "heatmap"
           }
          ],
          "heatmapgl": [
           {
            "colorbar": {
             "outlinewidth": 0,
             "ticks": ""
            },
            "colorscale": [
             [
              0,
              "#0d0887"
             ],
             [
              0.1111111111111111,
              "#46039f"
             ],
             [
              0.2222222222222222,
              "#7201a8"
             ],
             [
              0.3333333333333333,
              "#9c179e"
             ],
             [
              0.4444444444444444,
              "#bd3786"
             ],
             [
              0.5555555555555556,
              "#d8576b"
             ],
             [
              0.6666666666666666,
              "#ed7953"
             ],
             [
              0.7777777777777778,
              "#fb9f3a"
             ],
             [
              0.8888888888888888,
              "#fdca26"
             ],
             [
              1,
              "#f0f921"
             ]
            ],
            "type": "heatmapgl"
           }
          ],
          "histogram": [
           {
            "marker": {
             "pattern": {
              "fillmode": "overlay",
              "size": 10,
              "solidity": 0.2
             }
            },
            "type": "histogram"
           }
          ],
          "histogram2d": [
           {
            "colorbar": {
             "outlinewidth": 0,
             "ticks": ""
            },
            "colorscale": [
             [
              0,
              "#0d0887"
             ],
             [
              0.1111111111111111,
              "#46039f"
             ],
             [
              0.2222222222222222,
              "#7201a8"
             ],
             [
              0.3333333333333333,
              "#9c179e"
             ],
             [
              0.4444444444444444,
              "#bd3786"
             ],
             [
              0.5555555555555556,
              "#d8576b"
             ],
             [
              0.6666666666666666,
              "#ed7953"
             ],
             [
              0.7777777777777778,
              "#fb9f3a"
             ],
             [
              0.8888888888888888,
              "#fdca26"
             ],
             [
              1,
              "#f0f921"
             ]
            ],
            "type": "histogram2d"
           }
          ],
          "histogram2dcontour": [
           {
            "colorbar": {
             "outlinewidth": 0,
             "ticks": ""
            },
            "colorscale": [
             [
              0,
              "#0d0887"
             ],
             [
              0.1111111111111111,
              "#46039f"
             ],
             [
              0.2222222222222222,
              "#7201a8"
             ],
             [
              0.3333333333333333,
              "#9c179e"
             ],
             [
              0.4444444444444444,
              "#bd3786"
             ],
             [
              0.5555555555555556,
              "#d8576b"
             ],
             [
              0.6666666666666666,
              "#ed7953"
             ],
             [
              0.7777777777777778,
              "#fb9f3a"
             ],
             [
              0.8888888888888888,
              "#fdca26"
             ],
             [
              1,
              "#f0f921"
             ]
            ],
            "type": "histogram2dcontour"
           }
          ],
          "mesh3d": [
           {
            "colorbar": {
             "outlinewidth": 0,
             "ticks": ""
            },
            "type": "mesh3d"
           }
          ],
          "parcoords": [
           {
            "line": {
             "colorbar": {
              "outlinewidth": 0,
              "ticks": ""
             }
            },
            "type": "parcoords"
           }
          ],
          "pie": [
           {
            "automargin": true,
            "type": "pie"
           }
          ],
          "scatter": [
           {
            "fillpattern": {
             "fillmode": "overlay",
             "size": 10,
             "solidity": 0.2
            },
            "type": "scatter"
           }
          ],
          "scatter3d": [
           {
            "line": {
             "colorbar": {
              "outlinewidth": 0,
              "ticks": ""
             }
            },
            "marker": {
             "colorbar": {
              "outlinewidth": 0,
              "ticks": ""
             }
            },
            "type": "scatter3d"
           }
          ],
          "scattercarpet": [
           {
            "marker": {
             "colorbar": {
              "outlinewidth": 0,
              "ticks": ""
             }
            },
            "type": "scattercarpet"
           }
          ],
          "scattergeo": [
           {
            "marker": {
             "colorbar": {
              "outlinewidth": 0,
              "ticks": ""
             }
            },
            "type": "scattergeo"
           }
          ],
          "scattergl": [
           {
            "marker": {
             "colorbar": {
              "outlinewidth": 0,
              "ticks": ""
             }
            },
            "type": "scattergl"
           }
          ],
          "scattermapbox": [
           {
            "marker": {
             "colorbar": {
              "outlinewidth": 0,
              "ticks": ""
             }
            },
            "type": "scattermapbox"
           }
          ],
          "scatterpolar": [
           {
            "marker": {
             "colorbar": {
              "outlinewidth": 0,
              "ticks": ""
             }
            },
            "type": "scatterpolar"
           }
          ],
          "scatterpolargl": [
           {
            "marker": {
             "colorbar": {
              "outlinewidth": 0,
              "ticks": ""
             }
            },
            "type": "scatterpolargl"
           }
          ],
          "scatterternary": [
           {
            "marker": {
             "colorbar": {
              "outlinewidth": 0,
              "ticks": ""
             }
            },
            "type": "scatterternary"
           }
          ],
          "surface": [
           {
            "colorbar": {
             "outlinewidth": 0,
             "ticks": ""
            },
            "colorscale": [
             [
              0,
              "#0d0887"
             ],
             [
              0.1111111111111111,
              "#46039f"
             ],
             [
              0.2222222222222222,
              "#7201a8"
             ],
             [
              0.3333333333333333,
              "#9c179e"
             ],
             [
              0.4444444444444444,
              "#bd3786"
             ],
             [
              0.5555555555555556,
              "#d8576b"
             ],
             [
              0.6666666666666666,
              "#ed7953"
             ],
             [
              0.7777777777777778,
              "#fb9f3a"
             ],
             [
              0.8888888888888888,
              "#fdca26"
             ],
             [
              1,
              "#f0f921"
             ]
            ],
            "type": "surface"
           }
          ],
          "table": [
           {
            "cells": {
             "fill": {
              "color": "#EBF0F8"
             },
             "line": {
              "color": "white"
             }
            },
            "header": {
             "fill": {
              "color": "#C8D4E3"
             },
             "line": {
              "color": "white"
             }
            },
            "type": "table"
           }
          ]
         },
         "layout": {
          "annotationdefaults": {
           "arrowcolor": "#2a3f5f",
           "arrowhead": 0,
           "arrowwidth": 1
          },
          "autotypenumbers": "strict",
          "coloraxis": {
           "colorbar": {
            "outlinewidth": 0,
            "ticks": ""
           }
          },
          "colorscale": {
           "diverging": [
            [
             0,
             "#8e0152"
            ],
            [
             0.1,
             "#c51b7d"
            ],
            [
             0.2,
             "#de77ae"
            ],
            [
             0.3,
             "#f1b6da"
            ],
            [
             0.4,
             "#fde0ef"
            ],
            [
             0.5,
             "#f7f7f7"
            ],
            [
             0.6,
             "#e6f5d0"
            ],
            [
             0.7,
             "#b8e186"
            ],
            [
             0.8,
             "#7fbc41"
            ],
            [
             0.9,
             "#4d9221"
            ],
            [
             1,
             "#276419"
            ]
           ],
           "sequential": [
            [
             0,
             "#0d0887"
            ],
            [
             0.1111111111111111,
             "#46039f"
            ],
            [
             0.2222222222222222,
             "#7201a8"
            ],
            [
             0.3333333333333333,
             "#9c179e"
            ],
            [
             0.4444444444444444,
             "#bd3786"
            ],
            [
             0.5555555555555556,
             "#d8576b"
            ],
            [
             0.6666666666666666,
             "#ed7953"
            ],
            [
             0.7777777777777778,
             "#fb9f3a"
            ],
            [
             0.8888888888888888,
             "#fdca26"
            ],
            [
             1,
             "#f0f921"
            ]
           ],
           "sequentialminus": [
            [
             0,
             "#0d0887"
            ],
            [
             0.1111111111111111,
             "#46039f"
            ],
            [
             0.2222222222222222,
             "#7201a8"
            ],
            [
             0.3333333333333333,
             "#9c179e"
            ],
            [
             0.4444444444444444,
             "#bd3786"
            ],
            [
             0.5555555555555556,
             "#d8576b"
            ],
            [
             0.6666666666666666,
             "#ed7953"
            ],
            [
             0.7777777777777778,
             "#fb9f3a"
            ],
            [
             0.8888888888888888,
             "#fdca26"
            ],
            [
             1,
             "#f0f921"
            ]
           ]
          },
          "colorway": [
           "#636efa",
           "#EF553B",
           "#00cc96",
           "#ab63fa",
           "#FFA15A",
           "#19d3f3",
           "#FF6692",
           "#B6E880",
           "#FF97FF",
           "#FECB52"
          ],
          "font": {
           "color": "#2a3f5f"
          },
          "geo": {
           "bgcolor": "white",
           "lakecolor": "white",
           "landcolor": "#E5ECF6",
           "showlakes": true,
           "showland": true,
           "subunitcolor": "white"
          },
          "hoverlabel": {
           "align": "left"
          },
          "hovermode": "closest",
          "mapbox": {
           "style": "light"
          },
          "paper_bgcolor": "white",
          "plot_bgcolor": "#E5ECF6",
          "polar": {
           "angularaxis": {
            "gridcolor": "white",
            "linecolor": "white",
            "ticks": ""
           },
           "bgcolor": "#E5ECF6",
           "radialaxis": {
            "gridcolor": "white",
            "linecolor": "white",
            "ticks": ""
           }
          },
          "scene": {
           "xaxis": {
            "backgroundcolor": "#E5ECF6",
            "gridcolor": "white",
            "gridwidth": 2,
            "linecolor": "white",
            "showbackground": true,
            "ticks": "",
            "zerolinecolor": "white"
           },
           "yaxis": {
            "backgroundcolor": "#E5ECF6",
            "gridcolor": "white",
            "gridwidth": 2,
            "linecolor": "white",
            "showbackground": true,
            "ticks": "",
            "zerolinecolor": "white"
           },
           "zaxis": {
            "backgroundcolor": "#E5ECF6",
            "gridcolor": "white",
            "gridwidth": 2,
            "linecolor": "white",
            "showbackground": true,
            "ticks": "",
            "zerolinecolor": "white"
           }
          },
          "shapedefaults": {
           "line": {
            "color": "#2a3f5f"
           }
          },
          "ternary": {
           "aaxis": {
            "gridcolor": "white",
            "linecolor": "white",
            "ticks": ""
           },
           "baxis": {
            "gridcolor": "white",
            "linecolor": "white",
            "ticks": ""
           },
           "bgcolor": "#E5ECF6",
           "caxis": {
            "gridcolor": "white",
            "linecolor": "white",
            "ticks": ""
           }
          },
          "title": {
           "x": 0.05
          },
          "xaxis": {
           "automargin": true,
           "gridcolor": "white",
           "linecolor": "white",
           "ticks": "",
           "title": {
            "standoff": 15
           },
           "zerolinecolor": "white",
           "zerolinewidth": 2
          },
          "yaxis": {
           "automargin": true,
           "gridcolor": "white",
           "linecolor": "white",
           "ticks": "",
           "title": {
            "standoff": 15
           },
           "zerolinecolor": "white",
           "zerolinewidth": 2
          }
         }
        },
        "title": {
         "text": "Cantidad de peliculas por pais"
        }
       }
      }
     },
     "metadata": {},
     "output_type": "display_data"
    }
   ],
   "source": [
    "# Con EEUU\n",
    "\n",
    "px.choropleth(df_country_count,\n",
    "                locations='production_countries',\n",
    "                color='count',\n",
    "                locationmode='country names',\n",
    "                title='Cantidad de peliculas por pais',\n",
    "                color_continuous_scale=px.colors.sequential.Plasma,) # Buscar color para colorblind"
   ]
  },
  {
   "cell_type": "code",
   "execution_count": 23,
   "metadata": {},
   "outputs": [
    {
     "data": {
      "application/vnd.plotly.v1+json": {
       "config": {
        "plotlyServerURL": "https://plot.ly"
       },
       "data": [
        {
         "coloraxis": "coloraxis",
         "geo": "geo",
         "hovertemplate": "production_countries=%{location}<br>count=%{z}<extra></extra>",
         "locationmode": "country names",
         "locations": [
          "United Kingdom",
          "Germany",
          "France",
          "Canada",
          "Australia",
          "Japan",
          "New Zealand",
          "Italy",
          "China",
          "India",
          "Czech Republic",
          "Spain",
          "Mexico",
          "Hong Kong",
          "South Korea",
          "Belgium",
          "Austria",
          "Iceland",
          "Norway",
          "Brazil",
          "Ireland",
          "South Africa",
          "Peru"
         ],
         "name": "",
         "type": "choropleth",
         "z": [
          118,
          46,
          31,
          22,
          19,
          14,
          8,
          5,
          5,
          3,
          3,
          3,
          3,
          3,
          1,
          1,
          1,
          1,
          1,
          1,
          1,
          1,
          1
         ]
        }
       ],
       "layout": {
        "coloraxis": {
         "colorbar": {
          "title": {
           "text": "count"
          }
         },
         "colorscale": [
          [
           0,
           "#0d0887"
          ],
          [
           0.1111111111111111,
           "#46039f"
          ],
          [
           0.2222222222222222,
           "#7201a8"
          ],
          [
           0.3333333333333333,
           "#9c179e"
          ],
          [
           0.4444444444444444,
           "#bd3786"
          ],
          [
           0.5555555555555556,
           "#d8576b"
          ],
          [
           0.6666666666666666,
           "#ed7953"
          ],
          [
           0.7777777777777778,
           "#fb9f3a"
          ],
          [
           0.8888888888888888,
           "#fdca26"
          ],
          [
           1,
           "#f0f921"
          ]
         ]
        },
        "geo": {
         "center": {},
         "domain": {
          "x": [
           0,
           1
          ],
          "y": [
           0,
           1
          ]
         }
        },
        "legend": {
         "tracegroupgap": 0
        },
        "template": {
         "data": {
          "bar": [
           {
            "error_x": {
             "color": "#2a3f5f"
            },
            "error_y": {
             "color": "#2a3f5f"
            },
            "marker": {
             "line": {
              "color": "#E5ECF6",
              "width": 0.5
             },
             "pattern": {
              "fillmode": "overlay",
              "size": 10,
              "solidity": 0.2
             }
            },
            "type": "bar"
           }
          ],
          "barpolar": [
           {
            "marker": {
             "line": {
              "color": "#E5ECF6",
              "width": 0.5
             },
             "pattern": {
              "fillmode": "overlay",
              "size": 10,
              "solidity": 0.2
             }
            },
            "type": "barpolar"
           }
          ],
          "carpet": [
           {
            "aaxis": {
             "endlinecolor": "#2a3f5f",
             "gridcolor": "white",
             "linecolor": "white",
             "minorgridcolor": "white",
             "startlinecolor": "#2a3f5f"
            },
            "baxis": {
             "endlinecolor": "#2a3f5f",
             "gridcolor": "white",
             "linecolor": "white",
             "minorgridcolor": "white",
             "startlinecolor": "#2a3f5f"
            },
            "type": "carpet"
           }
          ],
          "choropleth": [
           {
            "colorbar": {
             "outlinewidth": 0,
             "ticks": ""
            },
            "type": "choropleth"
           }
          ],
          "contour": [
           {
            "colorbar": {
             "outlinewidth": 0,
             "ticks": ""
            },
            "colorscale": [
             [
              0,
              "#0d0887"
             ],
             [
              0.1111111111111111,
              "#46039f"
             ],
             [
              0.2222222222222222,
              "#7201a8"
             ],
             [
              0.3333333333333333,
              "#9c179e"
             ],
             [
              0.4444444444444444,
              "#bd3786"
             ],
             [
              0.5555555555555556,
              "#d8576b"
             ],
             [
              0.6666666666666666,
              "#ed7953"
             ],
             [
              0.7777777777777778,
              "#fb9f3a"
             ],
             [
              0.8888888888888888,
              "#fdca26"
             ],
             [
              1,
              "#f0f921"
             ]
            ],
            "type": "contour"
           }
          ],
          "contourcarpet": [
           {
            "colorbar": {
             "outlinewidth": 0,
             "ticks": ""
            },
            "type": "contourcarpet"
           }
          ],
          "heatmap": [
           {
            "colorbar": {
             "outlinewidth": 0,
             "ticks": ""
            },
            "colorscale": [
             [
              0,
              "#0d0887"
             ],
             [
              0.1111111111111111,
              "#46039f"
             ],
             [
              0.2222222222222222,
              "#7201a8"
             ],
             [
              0.3333333333333333,
              "#9c179e"
             ],
             [
              0.4444444444444444,
              "#bd3786"
             ],
             [
              0.5555555555555556,
              "#d8576b"
             ],
             [
              0.6666666666666666,
              "#ed7953"
             ],
             [
              0.7777777777777778,
              "#fb9f3a"
             ],
             [
              0.8888888888888888,
              "#fdca26"
             ],
             [
              1,
              "#f0f921"
             ]
            ],
            "type": "heatmap"
           }
          ],
          "heatmapgl": [
           {
            "colorbar": {
             "outlinewidth": 0,
             "ticks": ""
            },
            "colorscale": [
             [
              0,
              "#0d0887"
             ],
             [
              0.1111111111111111,
              "#46039f"
             ],
             [
              0.2222222222222222,
              "#7201a8"
             ],
             [
              0.3333333333333333,
              "#9c179e"
             ],
             [
              0.4444444444444444,
              "#bd3786"
             ],
             [
              0.5555555555555556,
              "#d8576b"
             ],
             [
              0.6666666666666666,
              "#ed7953"
             ],
             [
              0.7777777777777778,
              "#fb9f3a"
             ],
             [
              0.8888888888888888,
              "#fdca26"
             ],
             [
              1,
              "#f0f921"
             ]
            ],
            "type": "heatmapgl"
           }
          ],
          "histogram": [
           {
            "marker": {
             "pattern": {
              "fillmode": "overlay",
              "size": 10,
              "solidity": 0.2
             }
            },
            "type": "histogram"
           }
          ],
          "histogram2d": [
           {
            "colorbar": {
             "outlinewidth": 0,
             "ticks": ""
            },
            "colorscale": [
             [
              0,
              "#0d0887"
             ],
             [
              0.1111111111111111,
              "#46039f"
             ],
             [
              0.2222222222222222,
              "#7201a8"
             ],
             [
              0.3333333333333333,
              "#9c179e"
             ],
             [
              0.4444444444444444,
              "#bd3786"
             ],
             [
              0.5555555555555556,
              "#d8576b"
             ],
             [
              0.6666666666666666,
              "#ed7953"
             ],
             [
              0.7777777777777778,
              "#fb9f3a"
             ],
             [
              0.8888888888888888,
              "#fdca26"
             ],
             [
              1,
              "#f0f921"
             ]
            ],
            "type": "histogram2d"
           }
          ],
          "histogram2dcontour": [
           {
            "colorbar": {
             "outlinewidth": 0,
             "ticks": ""
            },
            "colorscale": [
             [
              0,
              "#0d0887"
             ],
             [
              0.1111111111111111,
              "#46039f"
             ],
             [
              0.2222222222222222,
              "#7201a8"
             ],
             [
              0.3333333333333333,
              "#9c179e"
             ],
             [
              0.4444444444444444,
              "#bd3786"
             ],
             [
              0.5555555555555556,
              "#d8576b"
             ],
             [
              0.6666666666666666,
              "#ed7953"
             ],
             [
              0.7777777777777778,
              "#fb9f3a"
             ],
             [
              0.8888888888888888,
              "#fdca26"
             ],
             [
              1,
              "#f0f921"
             ]
            ],
            "type": "histogram2dcontour"
           }
          ],
          "mesh3d": [
           {
            "colorbar": {
             "outlinewidth": 0,
             "ticks": ""
            },
            "type": "mesh3d"
           }
          ],
          "parcoords": [
           {
            "line": {
             "colorbar": {
              "outlinewidth": 0,
              "ticks": ""
             }
            },
            "type": "parcoords"
           }
          ],
          "pie": [
           {
            "automargin": true,
            "type": "pie"
           }
          ],
          "scatter": [
           {
            "fillpattern": {
             "fillmode": "overlay",
             "size": 10,
             "solidity": 0.2
            },
            "type": "scatter"
           }
          ],
          "scatter3d": [
           {
            "line": {
             "colorbar": {
              "outlinewidth": 0,
              "ticks": ""
             }
            },
            "marker": {
             "colorbar": {
              "outlinewidth": 0,
              "ticks": ""
             }
            },
            "type": "scatter3d"
           }
          ],
          "scattercarpet": [
           {
            "marker": {
             "colorbar": {
              "outlinewidth": 0,
              "ticks": ""
             }
            },
            "type": "scattercarpet"
           }
          ],
          "scattergeo": [
           {
            "marker": {
             "colorbar": {
              "outlinewidth": 0,
              "ticks": ""
             }
            },
            "type": "scattergeo"
           }
          ],
          "scattergl": [
           {
            "marker": {
             "colorbar": {
              "outlinewidth": 0,
              "ticks": ""
             }
            },
            "type": "scattergl"
           }
          ],
          "scattermapbox": [
           {
            "marker": {
             "colorbar": {
              "outlinewidth": 0,
              "ticks": ""
             }
            },
            "type": "scattermapbox"
           }
          ],
          "scatterpolar": [
           {
            "marker": {
             "colorbar": {
              "outlinewidth": 0,
              "ticks": ""
             }
            },
            "type": "scatterpolar"
           }
          ],
          "scatterpolargl": [
           {
            "marker": {
             "colorbar": {
              "outlinewidth": 0,
              "ticks": ""
             }
            },
            "type": "scatterpolargl"
           }
          ],
          "scatterternary": [
           {
            "marker": {
             "colorbar": {
              "outlinewidth": 0,
              "ticks": ""
             }
            },
            "type": "scatterternary"
           }
          ],
          "surface": [
           {
            "colorbar": {
             "outlinewidth": 0,
             "ticks": ""
            },
            "colorscale": [
             [
              0,
              "#0d0887"
             ],
             [
              0.1111111111111111,
              "#46039f"
             ],
             [
              0.2222222222222222,
              "#7201a8"
             ],
             [
              0.3333333333333333,
              "#9c179e"
             ],
             [
              0.4444444444444444,
              "#bd3786"
             ],
             [
              0.5555555555555556,
              "#d8576b"
             ],
             [
              0.6666666666666666,
              "#ed7953"
             ],
             [
              0.7777777777777778,
              "#fb9f3a"
             ],
             [
              0.8888888888888888,
              "#fdca26"
             ],
             [
              1,
              "#f0f921"
             ]
            ],
            "type": "surface"
           }
          ],
          "table": [
           {
            "cells": {
             "fill": {
              "color": "#EBF0F8"
             },
             "line": {
              "color": "white"
             }
            },
            "header": {
             "fill": {
              "color": "#C8D4E3"
             },
             "line": {
              "color": "white"
             }
            },
            "type": "table"
           }
          ]
         },
         "layout": {
          "annotationdefaults": {
           "arrowcolor": "#2a3f5f",
           "arrowhead": 0,
           "arrowwidth": 1
          },
          "autotypenumbers": "strict",
          "coloraxis": {
           "colorbar": {
            "outlinewidth": 0,
            "ticks": ""
           }
          },
          "colorscale": {
           "diverging": [
            [
             0,
             "#8e0152"
            ],
            [
             0.1,
             "#c51b7d"
            ],
            [
             0.2,
             "#de77ae"
            ],
            [
             0.3,
             "#f1b6da"
            ],
            [
             0.4,
             "#fde0ef"
            ],
            [
             0.5,
             "#f7f7f7"
            ],
            [
             0.6,
             "#e6f5d0"
            ],
            [
             0.7,
             "#b8e186"
            ],
            [
             0.8,
             "#7fbc41"
            ],
            [
             0.9,
             "#4d9221"
            ],
            [
             1,
             "#276419"
            ]
           ],
           "sequential": [
            [
             0,
             "#0d0887"
            ],
            [
             0.1111111111111111,
             "#46039f"
            ],
            [
             0.2222222222222222,
             "#7201a8"
            ],
            [
             0.3333333333333333,
             "#9c179e"
            ],
            [
             0.4444444444444444,
             "#bd3786"
            ],
            [
             0.5555555555555556,
             "#d8576b"
            ],
            [
             0.6666666666666666,
             "#ed7953"
            ],
            [
             0.7777777777777778,
             "#fb9f3a"
            ],
            [
             0.8888888888888888,
             "#fdca26"
            ],
            [
             1,
             "#f0f921"
            ]
           ],
           "sequentialminus": [
            [
             0,
             "#0d0887"
            ],
            [
             0.1111111111111111,
             "#46039f"
            ],
            [
             0.2222222222222222,
             "#7201a8"
            ],
            [
             0.3333333333333333,
             "#9c179e"
            ],
            [
             0.4444444444444444,
             "#bd3786"
            ],
            [
             0.5555555555555556,
             "#d8576b"
            ],
            [
             0.6666666666666666,
             "#ed7953"
            ],
            [
             0.7777777777777778,
             "#fb9f3a"
            ],
            [
             0.8888888888888888,
             "#fdca26"
            ],
            [
             1,
             "#f0f921"
            ]
           ]
          },
          "colorway": [
           "#636efa",
           "#EF553B",
           "#00cc96",
           "#ab63fa",
           "#FFA15A",
           "#19d3f3",
           "#FF6692",
           "#B6E880",
           "#FF97FF",
           "#FECB52"
          ],
          "font": {
           "color": "#2a3f5f"
          },
          "geo": {
           "bgcolor": "white",
           "lakecolor": "white",
           "landcolor": "#E5ECF6",
           "showlakes": true,
           "showland": true,
           "subunitcolor": "white"
          },
          "hoverlabel": {
           "align": "left"
          },
          "hovermode": "closest",
          "mapbox": {
           "style": "light"
          },
          "paper_bgcolor": "white",
          "plot_bgcolor": "#E5ECF6",
          "polar": {
           "angularaxis": {
            "gridcolor": "white",
            "linecolor": "white",
            "ticks": ""
           },
           "bgcolor": "#E5ECF6",
           "radialaxis": {
            "gridcolor": "white",
            "linecolor": "white",
            "ticks": ""
           }
          },
          "scene": {
           "xaxis": {
            "backgroundcolor": "#E5ECF6",
            "gridcolor": "white",
            "gridwidth": 2,
            "linecolor": "white",
            "showbackground": true,
            "ticks": "",
            "zerolinecolor": "white"
           },
           "yaxis": {
            "backgroundcolor": "#E5ECF6",
            "gridcolor": "white",
            "gridwidth": 2,
            "linecolor": "white",
            "showbackground": true,
            "ticks": "",
            "zerolinecolor": "white"
           },
           "zaxis": {
            "backgroundcolor": "#E5ECF6",
            "gridcolor": "white",
            "gridwidth": 2,
            "linecolor": "white",
            "showbackground": true,
            "ticks": "",
            "zerolinecolor": "white"
           }
          },
          "shapedefaults": {
           "line": {
            "color": "#2a3f5f"
           }
          },
          "ternary": {
           "aaxis": {
            "gridcolor": "white",
            "linecolor": "white",
            "ticks": ""
           },
           "baxis": {
            "gridcolor": "white",
            "linecolor": "white",
            "ticks": ""
           },
           "bgcolor": "#E5ECF6",
           "caxis": {
            "gridcolor": "white",
            "linecolor": "white",
            "ticks": ""
           }
          },
          "title": {
           "x": 0.05
          },
          "xaxis": {
           "automargin": true,
           "gridcolor": "white",
           "linecolor": "white",
           "ticks": "",
           "title": {
            "standoff": 15
           },
           "zerolinecolor": "white",
           "zerolinewidth": 2
          },
          "yaxis": {
           "automargin": true,
           "gridcolor": "white",
           "linecolor": "white",
           "ticks": "",
           "title": {
            "standoff": 15
           },
           "zerolinecolor": "white",
           "zerolinewidth": 2
          }
         }
        },
        "title": {
         "text": "Cantidad de peliculas por pais"
        }
       }
      }
     },
     "metadata": {},
     "output_type": "display_data"
    }
   ],
   "source": [
    "#Eliminar la fila con el pais 'United States of America'\n",
    "df_country_count.drop(df_country_count[df_country_count['production_countries'] == 'United States of America'].index, inplace=True)\n",
    "\n",
    "# Obtener mapa cloropletico de la cantidad de peliculas por pais\n",
    "\n",
    "px.choropleth(df_country_count,\n",
    "                locations='production_countries',\n",
    "                color='count',\n",
    "                locationmode='country names',\n",
    "                title='Cantidad de peliculas por pais',\n",
    "                color_continuous_scale=px.colors.sequential.Plasma,) # Buscar color para colorblind\n"
   ]
  },
  {
   "cell_type": "code",
   "execution_count": 24,
   "metadata": {},
   "outputs": [
    {
     "data": {
      "text/html": [
       "<div>\n",
       "<style scoped>\n",
       "    .dataframe tbody tr th:only-of-type {\n",
       "        vertical-align: middle;\n",
       "    }\n",
       "\n",
       "    .dataframe tbody tr th {\n",
       "        vertical-align: top;\n",
       "    }\n",
       "\n",
       "    .dataframe thead th {\n",
       "        text-align: right;\n",
       "    }\n",
       "</style>\n",
       "<table border=\"1\" class=\"dataframe\">\n",
       "  <thead>\n",
       "    <tr style=\"text-align: right;\">\n",
       "      <th></th>\n",
       "      <th>movieId</th>\n",
       "      <th>title_y</th>\n",
       "      <th>overview</th>\n",
       "    </tr>\n",
       "  </thead>\n",
       "  <tbody>\n",
       "    <tr>\n",
       "      <th>0</th>\n",
       "      <td>318</td>\n",
       "      <td>The Shawshank Redemption</td>\n",
       "      <td>Framed in the 1940s for the double murder of h...</td>\n",
       "    </tr>\n",
       "    <tr>\n",
       "      <th>1</th>\n",
       "      <td>858</td>\n",
       "      <td>The Godfather</td>\n",
       "      <td>Spanning the years 1945 to 1955, a chronicle o...</td>\n",
       "    </tr>\n",
       "    <tr>\n",
       "      <th>2</th>\n",
       "      <td>50</td>\n",
       "      <td>The Usual Suspects</td>\n",
       "      <td>Held in an L.A. interrogation room, Verbal Kin...</td>\n",
       "    </tr>\n",
       "    <tr>\n",
       "      <th>3</th>\n",
       "      <td>1221</td>\n",
       "      <td>The Godfather: Part II</td>\n",
       "      <td>In the continuing saga of the Corleone crime f...</td>\n",
       "    </tr>\n",
       "    <tr>\n",
       "      <th>4</th>\n",
       "      <td>2019</td>\n",
       "      <td>Seven Samurai</td>\n",
       "      <td>A samurai answers a village's request for prot...</td>\n",
       "    </tr>\n",
       "  </tbody>\n",
       "</table>\n",
       "</div>"
      ],
      "text/plain": [
       "   movieId                   title_y  \\\n",
       "0      318  The Shawshank Redemption   \n",
       "1      858             The Godfather   \n",
       "2       50        The Usual Suspects   \n",
       "3     1221    The Godfather: Part II   \n",
       "4     2019             Seven Samurai   \n",
       "\n",
       "                                            overview  \n",
       "0  Framed in the 1940s for the double murder of h...  \n",
       "1  Spanning the years 1945 to 1955, a chronicle o...  \n",
       "2  Held in an L.A. interrogation room, Verbal Kin...  \n",
       "3  In the continuing saga of the Corleone crime f...  \n",
       "4  A samurai answers a village's request for prot...  "
      ]
     },
     "execution_count": 24,
     "metadata": {},
     "output_type": "execute_result"
    }
   ],
   "source": [
    "df_overview = df_final_usable[['movieId', 'title_y', 'overview']]\n",
    "\n",
    "df_overview.head()"
   ]
  },
  {
   "cell_type": "code",
   "execution_count": 25,
   "metadata": {},
   "outputs": [],
   "source": [
    "stopwords = set(STOPWORDS)"
   ]
  },
  {
   "cell_type": "code",
   "execution_count": 26,
   "metadata": {},
   "outputs": [
    {
     "data": {
      "text/plain": [
       "<wordcloud.wordcloud.WordCloud at 0x23d02e05f50>"
      ]
     },
     "execution_count": 26,
     "metadata": {},
     "output_type": "execute_result"
    }
   ],
   "source": [
    "overview_wc = WordCloud(\n",
    "    background_color='white',\n",
    "    stopwords=stopwords\n",
    ")\n",
    "\n",
    "overview_wc.generate(str(df_overview['overview']))"
   ]
  },
  {
   "cell_type": "code",
   "execution_count": 27,
   "metadata": {},
   "outputs": [
    {
     "data": {
      "image/png": "[encoded data removed]",
      "text/plain": [
       "<Figure size 640x480 with 1 Axes>"
      ]
     },
     "metadata": {},
     "output_type": "display_data"
    }
   ],
   "source": [
    "plt.imshow(overview_wc, interpolation='bilinear')\n",
    "plt.axis('off')\n",
    "plt.show()"
   ]
  },
  {
   "cell_type": "code",
   "execution_count": 36,
   "metadata": {},
   "outputs": [
    {
     "name": "stderr",
     "output_type": "stream",
     "text": [
      "C:\\Users\\mvill\\AppData\\Local\\Temp\\ipykernel_23120\\223200157.py:4: SettingWithCopyWarning:\n",
      "\n",
      "\n",
      "A value is trying to be set on a copy of a slice from a DataFrame.\n",
      "Try using .loc[row_indexer,col_indexer] = value instead\n",
      "\n",
      "See the caveats in the documentation: https://pandas.pydata.org/pandas-docs/stable/user_guide/indexing.html#returning-a-view-versus-a-copy\n",
      "\n",
      "C:\\Users\\mvill\\AppData\\Local\\Temp\\ipykernel_23120\\223200157.py:5: SettingWithCopyWarning:\n",
      "\n",
      "\n",
      "A value is trying to be set on a copy of a slice from a DataFrame.\n",
      "Try using .loc[row_indexer,col_indexer] = value instead\n",
      "\n",
      "See the caveats in the documentation: https://pandas.pydata.org/pandas-docs/stable/user_guide/indexing.html#returning-a-view-versus-a-copy\n",
      "\n",
      "C:\\Users\\mvill\\AppData\\Local\\Temp\\ipykernel_23120\\223200157.py:8: SettingWithCopyWarning:\n",
      "\n",
      "\n",
      "A value is trying to be set on a copy of a slice from a DataFrame\n",
      "\n",
      "See the caveats in the documentation: https://pandas.pydata.org/pandas-docs/stable/user_guide/indexing.html#returning-a-view-versus-a-copy\n",
      "\n",
      "C:\\Users\\mvill\\AppData\\Local\\Temp\\ipykernel_23120\\223200157.py:9: SettingWithCopyWarning:\n",
      "\n",
      "\n",
      "A value is trying to be set on a copy of a slice from a DataFrame\n",
      "\n",
      "See the caveats in the documentation: https://pandas.pydata.org/pandas-docs/stable/user_guide/indexing.html#returning-a-view-versus-a-copy\n",
      "\n",
      "C:\\Users\\mvill\\AppData\\Local\\Temp\\ipykernel_23120\\223200157.py:12: SettingWithCopyWarning:\n",
      "\n",
      "\n",
      "A value is trying to be set on a copy of a slice from a DataFrame.\n",
      "Try using .loc[row_indexer,col_indexer] = value instead\n",
      "\n",
      "See the caveats in the documentation: https://pandas.pydata.org/pandas-docs/stable/user_guide/indexing.html#returning-a-view-versus-a-copy\n",
      "\n",
      "C:\\Users\\mvill\\AppData\\Local\\Temp\\ipykernel_23120\\223200157.py:13: SettingWithCopyWarning:\n",
      "\n",
      "\n",
      "A value is trying to be set on a copy of a slice from a DataFrame.\n",
      "Try using .loc[row_indexer,col_indexer] = value instead\n",
      "\n",
      "See the caveats in the documentation: https://pandas.pydata.org/pandas-docs/stable/user_guide/indexing.html#returning-a-view-versus-a-copy\n",
      "\n",
      "C:\\Users\\mvill\\AppData\\Local\\Temp\\ipykernel_23120\\223200157.py:15: SettingWithCopyWarning:\n",
      "\n",
      "\n",
      "A value is trying to be set on a copy of a slice from a DataFrame.\n",
      "Try using .loc[row_indexer,col_indexer] = value instead\n",
      "\n",
      "See the caveats in the documentation: https://pandas.pydata.org/pandas-docs/stable/user_guide/indexing.html#returning-a-view-versus-a-copy\n",
      "\n",
      "C:\\Users\\mvill\\AppData\\Local\\Temp\\ipykernel_23120\\223200157.py:18: SettingWithCopyWarning:\n",
      "\n",
      "\n",
      "A value is trying to be set on a copy of a slice from a DataFrame.\n",
      "Try using .loc[row_indexer,col_indexer] = value instead\n",
      "\n",
      "See the caveats in the documentation: https://pandas.pydata.org/pandas-docs/stable/user_guide/indexing.html#returning-a-view-versus-a-copy\n",
      "\n",
      "C:\\Users\\mvill\\AppData\\Local\\Temp\\ipykernel_23120\\223200157.py:20: SettingWithCopyWarning:\n",
      "\n",
      "\n",
      "A value is trying to be set on a copy of a slice from a DataFrame\n",
      "\n",
      "See the caveats in the documentation: https://pandas.pydata.org/pandas-docs/stable/user_guide/indexing.html#returning-a-view-versus-a-copy\n",
      "\n"
     ]
    },
    {
     "data": {
      "application/vnd.plotly.v1+json": {
       "config": {
        "plotlyServerURL": "https://plot.ly"
       },
       "data": [
        {
         "hovertemplate": "<b>%{hovertext}</b><br><br>release_decade=1920<br>Presupuesto=%{x}<br>Porcentaje de Ganancia=%{y}<br>rating=%{marker.size}<extra></extra>",
         "hovertext": [
          "Metropolis"
         ],
         "ids": [
          "Metropolis"
         ],
         "legendgroup": "",
         "marker": {
          "color": "#636efa",
          "size": [
           3.9765444334324416
          ],
          "sizemode": "area",
          "sizeref": 0.011033940011290837,
          "symbol": "circle"
         },
         "mode": "markers",
         "name": "",
         "orientation": "v",
         "showlegend": false,
         "type": "scatter",
         "x": [
          92620000
         ],
         "xaxis": "x",
         "y": [
          -99.29775210537682
         ],
         "yaxis": "y"
        }
       ],
       "frames": [
        {
         "data": [
          {
           "hovertemplate": "<b>%{hovertext}</b><br><br>release_decade=1920<br>Presupuesto=%{x}<br>Porcentaje de Ganancia=%{y}<br>rating=%{marker.size}<extra></extra>",
           "hovertext": [
            "Metropolis"
           ],
           "ids": [
            "Metropolis"
           ],
           "legendgroup": "",
           "marker": {
            "color": "#636efa",
            "size": [
             3.9765444334324416
            ],
            "sizemode": "area",
            "sizeref": 0.011033940011290837,
            "symbol": "circle"
           },
           "mode": "markers",
           "name": "",
           "orientation": "v",
           "showlegend": false,
           "type": "scatter",
           "x": [
            92620000
           ],
           "xaxis": "x",
           "y": [
            -99.29775210537682
           ],
           "yaxis": "y"
          }
         ],
         "name": "1920"
        },
        {
         "data": [
          {
           "hovertemplate": "<b>%{hovertext}</b><br><br>release_decade=1930<br>Presupuesto=%{x}<br>Porcentaje de Ganancia=%{y}<br>rating=%{marker.size}<extra></extra>",
           "hovertext": [
            "King Kong",
            "Snow White and the Seven Dwarfs",
            "The Wizard of Oz",
            "Gone with the Wind"
           ],
           "ids": [
            "King Kong",
            "Snow White and the Seven Dwarfs",
            "The Wizard of Oz",
            "Gone with the Wind"
           ],
           "legendgroup": "",
           "marker": {
            "color": "#636efa",
            "size": [
             3.543409877319912,
             3.5823021181716834,
             3.9386811582447887,
             3.809824106899373
            ],
            "sizemode": "area",
            "sizeref": 0.011033940011290837,
            "symbol": "circle"
           },
           "mode": "markers",
           "name": "",
           "orientation": "v",
           "showlegend": false,
           "type": "scatter",
           "x": [
            672000,
            1488423,
            2777000,
            4000000
           ],
           "xaxis": "x",
           "y": [
            1388.095238095238,
            12324.256142239135,
            1115.519157364062,
            9904.411475
           ],
           "yaxis": "y"
          }
         ],
         "name": "1930"
        },
        {
         "data": [
          {
           "hovertemplate": "<b>%{hovertext}</b><br><br>release_decade=1940<br>Presupuesto=%{x}<br>Porcentaje de Ganancia=%{y}<br>rating=%{marker.size}<extra></extra>",
           "hovertext": [
            "Fantasia",
            "Pinocchio",
            "Citizen Kane",
            "The Maltese Falcon",
            "Dumbo",
            "Bambi",
            "Casablanca",
            "It's a Wonderful Life"
           ],
           "ids": [
            "Fantasia",
            "Pinocchio",
            "Citizen Kane",
            "The Maltese Falcon",
            "Dumbo",
            "Bambi",
            "Casablanca",
            "It's a Wonderful Life"
           ],
           "legendgroup": "",
           "marker": {
            "color": "#636efa",
            "size": [
             3.717453213995118,
             3.4825773034060585,
             4.092687653868315,
             4.154075222321938,
             3.4733164612676055,
             3.5003770739064857,
             4.206563778356267,
             4.032858814352574
            ],
            "sizemode": "area",
            "sizeref": 0.011033940011290837,
            "symbol": "circle"
           },
           "mode": "markers",
           "name": "",
           "orientation": "v",
           "showlegend": false,
           "type": "scatter",
           "x": [
            2280000,
            2600000,
            839727,
            375000,
            812000,
            858000,
            878000,
            3180000
           ],
           "xaxis": "x",
           "y": [
            3554.385964912281,
            3142.3076923076924,
            2664.9074044302497,
            166.66666666666669,
            97.04433497536947,
            31070.996503496503,
            1091.6287015945331,
            203.27433962264152
           ],
           "yaxis": "y"
          }
         ],
         "name": "1940"
        },
        {
         "data": [
          {
           "hovertemplate": "<b>%{hovertext}</b><br><br>release_decade=1950<br>Presupuesto=%{x}<br>Porcentaje de Ganancia=%{y}<br>rating=%{marker.size}<extra></extra>",
           "hovertext": [
            "Cinderella",
            "Sunset Boulevard",
            "The African Queen",
            "A Streetcar Named Desire",
            "Alice in Wonderland",
            "Singin' in the Rain",
            "Roman Holiday",
            "Peter Pan",
            "Rear Window",
            "Seven Samurai",
            "12 Angry Men",
            "The Bridge on the River Kwai",
            "Vertigo",
            "Ben-Hur",
            "Some Like It Hot",
            "North by Northwest",
            "Sleeping Beauty"
           ],
           "ids": [
            "Cinderella",
            "Sunset Boulevard",
            "The African Queen",
            "A Streetcar Named Desire",
            "Alice in Wonderland",
            "Singin' in the Rain",
            "Roman Holiday",
            "Peter Pan",
            "Rear Window",
            "Seven Samurai",
            "12 Angry Men",
            "The Bridge on the River Kwai",
            "Vertigo",
            "Ben-Hur",
            "Some Like It Hot",
            "North by Northwest",
            "Sleeping Beauty"
           ],
           "legendgroup": "",
           "marker": {
            "color": "#636efa",
            "size": [
             3.5569092991773403,
             4.20650108577633,
             4.065862437980348,
             4.000883818094167,
             3.6240485252140817,
             4.050986691142726,
             4.0514797507788165,
             3.5656790770844258,
             4.237947624243627,
             4.25476920775043,
             4.243014062405697,
             4.095140098147855,
             4.120821574161179,
             3.820830052862445,
             4.060091782838341,
             4.196617210682493,
             3.5712149266486257
            ],
            "sizemode": "area",
            "sizeref": 0.011033940011290837,
            "symbol": "circle"
           },
           "mode": "markers",
           "name": "",
           "orientation": "v",
           "showlegend": false,
           "type": "scatter",
           "x": [
            2900000,
            1752000,
            1300000,
            1800000,
            3000000,
            2540800,
            1500000,
            4000000,
            1000000,
            2000000,
            350000,
            3000000,
            2479000,
            15000000,
            2883848,
            4000000,
            6000000
           ],
           "xaxis": "x",
           "y": [
            8989.359137931035,
            185.3881278538813,
            726.9230769230769,
            344.44444444444446,
            18966.666666666664,
            183.37531486146094,
            700,
            2085.116275,
            3576.4313,
            -86.40795,
            185.71428571428572,
            806.6666666666666,
            1029.4876966518757,
            879.3333333333333,
            766.8972844615944,
            231.875,
            750
           ],
           "yaxis": "y"
          }
         ],
         "name": "1950"
        },
        {
         "data": [
          {
           "hovertemplate": "<b>%{hovertext}</b><br><br>release_decade=1960<br>Presupuesto=%{x}<br>Porcentaje de Ganancia=%{y}<br>rating=%{marker.size}<extra></extra>",
           "hovertext": [
            "Psycho",
            "Breakfast at Tiffany's",
            "One Hundred and One Dalmatians",
            "West Side Story",
            "To Kill a Mockingbird",
            "Lawrence of Arabia",
            "Dr. No",
            "The Manchurian Candidate",
            "The Great Escape",
            "From Russia with Love",
            "The Birds",
            "Goldfinger",
            "Mary Poppins",
            "My Fair Lady",
            "Dr. Strangelove or: How I Learned to Stop Worrying and Love the Bomb",
            "A Fistful of Dollars",
            "The Sound of Music",
            "The Good, the Bad and the Ugly",
            "The Dirty Dozen",
            "The Graduate",
            "The Jungle Book",
            "Bonnie and Clyde",
            "Cool Hand Luke",
            "Night of the Living Dead",
            "Rosemary's Baby",
            "2001: A Space Odyssey",
            "Planet of the Apes",
            "Midnight Cowboy",
            "Butch Cassidy and the Sundance Kid"
           ],
           "ids": [
            "Psycho",
            "Breakfast at Tiffany's",
            "One Hundred and One Dalmatians",
            "West Side Story",
            "To Kill a Mockingbird",
            "Lawrence of Arabia",
            "Dr. No",
            "The Manchurian Candidate",
            "The Great Escape",
            "From Russia with Love",
            "The Birds",
            "Goldfinger",
            "Mary Poppins",
            "My Fair Lady",
            "Dr. Strangelove or: How I Learned to Stop Worrying and Love the Bomb",
            "A Fistful of Dollars",
            "The Sound of Music",
            "The Good, the Bad and the Ugly",
            "The Dirty Dozen",
            "The Graduate",
            "The Jungle Book",
            "Bonnie and Clyde",
            "Cool Hand Luke",
            "Night of the Living Dead",
            "Rosemary's Baby",
            "2001: A Space Odyssey",
            "Planet of the Apes",
            "Midnight Cowboy",
            "Butch Cassidy and the Sundance Kid"
           ],
           "legendgroup": "",
           "marker": {
            "color": "#636efa",
            "size": [
             4.067213040729703,
             3.826515524889108,
             3.4367939112855272,
             3.752076752076752,
             4.146440635556112,
             4.136035830866166,
             3.681317204301075,
             4.098406959665574,
             4.103683976919663,
             3.704842219804135,
             3.7450243444093276,
             3.7440284321018265,
             3.7265392500496,
             3.9047152290548905,
             4.215804447106386,
             3.9477652127086698,
             3.8015149527806926,
             4.129335976214073,
             3.8444154715341154,
             4.031510361033967,
             3.650268603263032,
             3.8728776900616415,
             4.089829185814619,
             3.653091817613991,
             3.780226847521048,
             3.981349757113116,
             3.6251903746573255,
             3.9812324053800436,
             4.039633147723551
            ],
            "sizemode": "area",
            "sizeref": 0.011033940011290837,
            "symbol": "circle"
           },
           "mode": "markers",
           "name": "",
           "orientation": "v",
           "showlegend": false,
           "type": "scatter",
           "x": [
            806948,
            2500000,
            4000000,
            6000000,
            2000000,
            15000000,
            950000,
            80000000,
            4000000,
            2000000,
            2500000,
            2500000,
            6000000,
            17000000,
            1800000,
            200000,
            8200000,
            1200000,
            5400000,
            3000000,
            4000000,
            2500000,
            3000000,
            114000,
            3200000,
            10500000,
            5800000,
            3600000,
            6000000
           ],
           "xaxis": "x",
           "y": [
            3865.5591190510413,
            280,
            5297.000349999999,
            627.6137,
            556.4923,
            366.6359,
            6173.684210526316,
            20.1323875,
            193.611775,
            3844.9382499999997,
            356.14116,
            4895.24248,
            1604.54545,
            323.94547647058823,
            424.45955555555554,
            7150,
            3390.4181219512197,
            400,
            738.8888888888889,
            3398.1768333333334,
            5046.0903,
            1928,
            440.5924333333333,
            26215.789473684206,
            943.6070625,
            554.2857142857142,
            475.78320689655175,
            1144.02925,
            1605.1481500000002
           ],
           "yaxis": "y"
          }
         ],
         "name": "1960"
        },
        {
         "data": [
          {
           "hovertemplate": "<b>%{hovertext}</b><br><br>release_decade=1970<br>Presupuesto=%{x}<br>Porcentaje de Ganancia=%{y}<br>rating=%{marker.size}<extra></extra>",
           "hovertext": [
            "The Aristocats",
            "Patton",
            "M*A*S*H",
            "A Clockwork Orange",
            "Willy Wonka & the Chocolate Factory",
            "Dirty Harry",
            "The French Connection",
            "The Godfather",
            "Deliverance",
            "American Graffiti",
            "The Exorcist",
            "The Sting",
            "Sleeper",
            "Blazing Saddles",
            "The Godfather: Part II",
            "Chinatown",
            "Young Frankenstein",
            "Dog Day Afternoon",
            "The Rocky Horror Picture Show",
            "Jaws",
            "One Flew Over the Cuckoo's Nest",
            "Monty Python and the Holy Grail",
            "Carrie",
            "Rocky",
            "Taxi Driver",
            "Close Encounters of the Third Kind",
            "Annie Hall",
            "Star Wars",
            "Grease",
            "Animal House",
            "Halloween",
            "Superman",
            "The Deer Hunter",
            "Alien",
            "Life of Brian",
            "Star Trek: The Motion Picture",
            "Mad Max",
            "Apocalypse Now"
           ],
           "ids": [
            "The Aristocats",
            "Patton",
            "M*A*S*H",
            "A Clockwork Orange",
            "Willy Wonka & the Chocolate Factory",
            "Dirty Harry",
            "The French Connection",
            "The Godfather",
            "Deliverance",
            "American Graffiti",
            "The Exorcist",
            "The Sting",
            "Sleeper",
            "Blazing Saddles",
            "The Godfather: Part II",
            "Chinatown",
            "Young Frankenstein",
            "Dog Day Afternoon",
            "The Rocky Horror Picture Show",
            "Jaws",
            "One Flew Over the Cuckoo's Nest",
            "Monty Python and the Holy Grail",
            "Carrie",
            "Rocky",
            "Taxi Driver",
            "Close Encounters of the Third Kind",
            "Annie Hall",
            "Star Wars",
            "Grease",
            "Animal House",
            "Halloween",
            "Superman",
            "The Deer Hunter",
            "Alien",
            "Life of Brian",
            "Star Trek: The Motion Picture",
            "Mad Max",
            "Apocalypse Now"
           ],
           "legendgroup": "",
           "marker": {
            "color": "#636efa",
            "size": [
             3.387031840917409,
             4.0290668348045395,
             3.8903460990530463,
             3.9841907824222935,
             3.713415719933046,
             3.7704417293233083,
             3.940030334850076,
             4.324336165187245,
             3.7989571965563234,
             3.78390063134779,
             3.7448006932409013,
             4.142360446570973,
             3.8331358317286326,
             3.8608657243816253,
             4.2617585117585115,
             4.158633114773465,
             3.9849621649352316,
             3.9704496242516876,
             3.3509328358208954,
             3.782392095253845,
             4.2186616007543405,
             4.147655276621689,
             3.4604175728577644,
             3.728691334673129,
             4.083479216009336,
             3.77776294714362,
             4.042453118318979,
             4.120188599618726,
             3.3126619770455386,
             3.7919597117304855,
             3.5706573732403992,
             3.3959039739590398,
             3.9688961440042356,
             4.055518882196001,
             3.9880581747020103,
             3.0927526950581705,
             3.528321108394458,
             4.114713689799014
            ],
            "sizemode": "area",
            "sizeref": 0.011033940011290837,
            "symbol": "circle"
           },
           "mode": "markers",
           "name": "",
           "orientation": "v",
           "showlegend": false,
           "type": "scatter",
           "x": [
            4000000,
            12000000,
            3500000,
            2200000,
            3000000,
            4000000,
            1800000,
            6000000,
            2000000,
            777000,
            8000000,
            5500000,
            2000000,
            2600000,
            13000000,
            6000000,
            2800000,
            1800000,
            1200000,
            7000000,
            3000000,
            400000,
            1800000,
            1000000,
            1300000,
            20000000,
            4000000,
            11000000,
            6000000,
            2700000,
            300000,
            55000000,
            15000000,
            11000000,
            4000000,
            35000000,
            400000,
            31500000
           ],
           "xaxis": "x",
           "y": [
            1291.881425,
            648.3333333333334,
            2231.428571428571,
            1108.590909090909,
            33.33333333333333,
            799.4,
            2186.597611111111,
            3984.4401833333336,
            2206.11775,
            17918.018018018018,
            5416.3268125,
            2802.115036363636,
            817.2364500000001,
            4496.153846153846,
            265.71416153846155,
            400,
            2981.1904642857144,
            2492.5475555555554,
            9307.69325,
            6623.628571428571,
            3532.709166666667,
            1157.2369999999999,
            1777.7777777777778,
            11623.5147,
            2074.0441538461537,
            1418.943175,
            856.285625,
            6949.072790909091,
            2930.2295,
            5122.222222222222,
            23233.333333333336,
            445.8509418181818,
            233.33333333333334,
            853.9254636363637,
            401.12787499999996,
            297.14285714285717,
            24900,
            184.0012095238095
           ],
           "yaxis": "y"
          }
         ],
         "name": "1970"
        },
        {
         "data": [
          {
           "hovertemplate": "<b>%{hovertext}</b><br><br>release_decade=1980<br>Presupuesto=%{x}<br>Porcentaje de Ganancia=%{y}<br>rating=%{marker.size}<extra></extra>",
           "hovertext": [
            "Airplane!",
            "The Elephant Man",
            "The Blues Brothers",
            "Superman II",
            "The Shining",
            "The Empire Strikes Back",
            "Caddyshack",
            "The Gods Must Be Crazy",
            "Raging Bull",
            "Time Bandits",
            "Escape from New York",
            "An American Werewolf in London",
            "Das Boot",
            "Chariots of Fire",
            "The Evil Dead",
            "Stripes",
            "Mad Max 2: The Road Warrior",
            "Raiders of the Lost Ark",
            "First Blood",
            "Tron",
            "Pink Floyd: The Wall",
            "E.T. the Extra-Terrestrial",
            "Poltergeist",
            "The Dark Crystal",
            "Gandhi",
            "Fast Times at Ridgemont High",
            "The Thing",
            "Conan the Barbarian",
            "Star Trek II: The Wrath of Khan",
            "Blade Runner",
            "Tootsie",
            "The Right Stuff",
            "Risky Business",
            "Trading Places",
            "Return of the Jedi",
            "National Lampoon's Vacation",
            "Scarface",
            "The Karate Kid",
            "Gremlins",
            "Sixteen Candles",
            "Star Trek III: The Search for Spock",
            "The Terminator",
            "Splash",
            "A Nightmare on Elm Street",
            "Indiana Jones and the Temple of Doom",
            "This Is Spinal Tap",
            "Romancing the Stone",
            "Police Academy",
            "Ghostbusters",
            "The NeverEnding Story",
            "Amadeus",
            "The Killing Fields",
            "Beverly Hills Cop",
            "Dune",
            "Witness",
            "The Breakfast Club",
            "A Room with a View",
            "Fletch",
            "The Goonies",
            "Back to the Future",
            "Star Trek IV: The Voyage Home",
            "Aliens",
            "Ferris Bueller's Day Off",
            "Top Gun",
            "Little Shop of Horrors",
            "Stand by Me",
            "Platoon",
            "Labyrinth",
            "Blue Velvet",
            "The Fly",
            "Crocodile Dundee",
            "Highlander",
            "The Untouchables",
            "Spaceballs",
            "Evil Dead II",
            "Predator",
            "Dirty Dancing",
            "Lethal Weapon",
            "The Last Emperor",
            "Fatal Attraction",
            "The Running Man",
            "Raising Arizona",
            "RoboCop",
            "Good Morning, Vietnam",
            "Full Metal Jacket",
            "The Princess Bride",
            "Who Framed Roger Rabbit",
            "Rain Man",
            "Bull Durham",
            "Akira",
            "The Naked Gun: From the Files of Police Squad!",
            "Young Guns",
            "Big",
            "Die Hard",
            "Willow",
            "A Fish Called Wanda",
            "Beetlejuice",
            "Dangerous Liaisons",
            "Star Trek V: The Final Frontier",
            "Glory",
            "National Lampoon's Christmas Vacation",
            "Do the Right Thing",
            "The Little Mermaid",
            "When Harry Met Sally...",
            "Dead Poets Society",
            "Lethal Weapon 2",
            "Roger & Me",
            "Bill & Ted's Excellent Adventure",
            "Indiana Jones and the Last Crusade",
            "The Abyss",
            "Ghostbusters II",
            "Batman",
            "Driving Miss Daisy",
            "Back to the Future Part II",
            "Honey, I Shrunk the Kids"
           ],
           "ids": [
            "Airplane!",
            "The Elephant Man",
            "The Blues Brothers",
            "Superman II",
            "The Shining",
            "The Empire Strikes Back",
            "Caddyshack",
            "The Gods Must Be Crazy",
            "Raging Bull",
            "Time Bandits",
            "Escape from New York",
            "An American Werewolf in London",
            "Das Boot",
            "Chariots of Fire",
            "The Evil Dead",
            "Stripes",
            "Mad Max 2: The Road Warrior",
            "Raiders of the Lost Ark",
            "First Blood",
            "Tron",
            "Pink Floyd: The Wall",
            "E.T. the Extra-Terrestrial",
            "Poltergeist",
            "The Dark Crystal",
            "Gandhi",
            "Fast Times at Ridgemont High",
            "The Thing",
            "Conan the Barbarian",
            "Star Trek II: The Wrath of Khan",
            "Blade Runner",
            "Tootsie",
            "The Right Stuff",
            "Risky Business",
            "Trading Places",
            "Return of the Jedi",
            "National Lampoon's Vacation",
            "Scarface",
            "The Karate Kid",
            "Gremlins",
            "Sixteen Candles",
            "Star Trek III: The Search for Spock",
            "The Terminator",
            "Splash",
            "A Nightmare on Elm Street",
            "Indiana Jones and the Temple of Doom",
            "This Is Spinal Tap",
            "Romancing the Stone",
            "Police Academy",
            "Ghostbusters",
            "The NeverEnding Story",
            "Amadeus",
            "The Killing Fields",
            "Beverly Hills Cop",
            "Dune",
            "Witness",
            "The Breakfast Club",
            "A Room with a View",
            "Fletch",
            "The Goonies",
            "Back to the Future",
            "Star Trek IV: The Voyage Home",
            "Aliens",
            "Ferris Bueller's Day Off",
            "Top Gun",
            "Little Shop of Horrors",
            "Stand by Me",
            "Platoon",
            "Labyrinth",
            "Blue Velvet",
            "The Fly",
            "Crocodile Dundee",
            "Highlander",
            "The Untouchables",
            "Spaceballs",
            "Evil Dead II",
            "Predator",
            "Dirty Dancing",
            "Lethal Weapon",
            "The Last Emperor",
            "Fatal Attraction",
            "The Running Man",
            "Raising Arizona",
            "RoboCop",
            "Good Morning, Vietnam",
            "Full Metal Jacket",
            "The Princess Bride",
            "Who Framed Roger Rabbit",
            "Rain Man",
            "Bull Durham",
            "Akira",
            "The Naked Gun: From the Files of Police Squad!",
            "Young Guns",
            "Big",
            "Die Hard",
            "Willow",
            "A Fish Called Wanda",
            "Beetlejuice",
            "Dangerous Liaisons",
            "Star Trek V: The Final Frontier",
            "Glory",
            "National Lampoon's Christmas Vacation",
            "Do the Right Thing",
            "The Little Mermaid",
            "When Harry Met Sally...",
            "Dead Poets Society",
            "Lethal Weapon 2",
            "Roger & Me",
            "Bill & Ted's Excellent Adventure",
            "Indiana Jones and the Last Crusade",
            "The Abyss",
            "Ghostbusters II",
            "Batman",
            "Driving Miss Daisy",
            "Back to the Future Part II",
            "Honey, I Shrunk the Kids"
           ],
           "legendgroup": "",
           "marker": {
            "color": "#636efa",
            "size": [
             3.7991697191697194,
             3.9168367346938777,
             3.8001710654936462,
             3.107036114570361,
             4.0278640874010225,
             4.144122313069856,
             3.6752749622600818,
             3.6504109257916366,
             4.052931292008962,
             3.594538073563784,
             3.402909447531873,
             3.5829349269588313,
             4.1270905474103,
             3.715008025682183,
             3.7003955174686882,
             3.6671898543445507,
             3.6698520345252774,
             4.123923182441701,
             3.5759786219846887,
             3.324559696409458,
             3.69678334910123,
             3.7330790127738283,
             3.5221202003338896,
             3.5964185572266123,
             3.9856730571016286,
             3.6631319358816277,
             3.881956462337189,
             3.243478260869565,
             3.70209666181035,
             4.115838373930576,
             3.6362038664323375,
             3.943201843567846,
             3.5007030550939535,
             3.745146116893515,
             3.996512919496695,
             3.761369038187292,
             3.9373825503355704,
             3.33851030110935,
             3.2842372881355932,
             3.6323874427438274,
             3.2530893994979726,
             3.8968066922200353,
             3.219836859089279,
             3.316182882770649,
             3.695939274253271,
             4.008968474453437,
             3.481373292867982,
             2.96875,
             3.759075907590759,
             3.521222169587873,
             4.069599241166706,
             4.070998089078348,
             3.5717761557177616,
             3.310567296996663,
             3.842865100733451,
             3.8347800805748222,
             3.9344343517753924,
             3.4606990482441744,
             3.641724312468365,
             3.9538763988305274,
             3.5012713547874452,
             3.9993372048983713,
             3.915679545370678,
             3.4163203442037844,
             3.302448391742679,
             3.991010839869569,
             3.9036080019052157,
             3.642556818181818,
             3.8498276211721763,
             3.450278293135436,
             3.1458333333333335,
             3.6180026281208937,
             3.876533550325488,
             3.416593608033793,
             3.7882338581716097,
             3.656842858847393,
             3.25002094679514,
             3.693994406037258,
             3.8468555324829428,
             3.4221747232270086,
             3.2291162658317916,
             3.8756302521008403,
             3.362146487684087,
             3.666639263400197,
             4.0433978262545285,
             4.129097007632781,
             3.5416914014338556,
             3.900244489986697,
             3.6947384336256426,
             3.9070299727520434,
             3.6152546463915036,
             3.2948275862068965,
             3.6170431714607734,
             3.9332307440897702,
             3.4694789622847177,
             3.8345168653309663,
             3.5006235909243535,
             3.8842742503167678,
             2.850331967792061,
             3.960027567195038,
             3.614030819140308,
             3.85711917785513,
             3.5317596566523606,
             3.8318020282569125,
             3.9223771740001605,
             3.342348835444959,
             3.8783705421861407,
             3.387918567137613,
             3.985201012978791,
             3.6682604735883424,
             3.0315704574259708,
             3.4069031965540693,
             3.699016904447908,
             3.554849934754241,
             2.718742232165051
            ],
            "sizemode": "area",
            "sizeref": 0.011033940011290837,
            "symbol": "circle"
           },
           "mode": "markers",
           "name": "",
           "orientation": "v",
           "showlegend": false,
           "type": "scatter",
           "x": [
            3500000,
            5000000,
            27000000,
            54000000,
            19000000,
            18000000,
            6000000,
            5000000,
            18000000,
            5000000,
            6000000,
            10000000,
            14000000,
            5500000,
            350000,
            10000000,
            2000000,
            18000000,
            15000000,
            17000000,
            12000000,
            10500000,
            10700000,
            15000000,
            22000000,
            4500000,
            15000000,
            20000000,
            12000000,
            28000000,
            21000000,
            27000000,
            6200000,
            40600000,
            32350000,
            15000000,
            25000000,
            8000000,
            11000000,
            6500000,
            18000000,
            6400000,
            8000000,
            1800000,
            28000000,
            2500000,
            10000000,
            4500000,
            30000000,
            27000000,
            18000000,
            14400000,
            15000000,
            40000000,
            12000000,
            1000000,
            3000000,
            8000000,
            19000000,
            19000000,
            24000000,
            18500000,
            6000000,
            15000000,
            25000000,
            8000000,
            6000000,
            25000000,
            6000000,
            15000000,
            5000000,
            16000000,
            25000000,
            22700000,
            3600000,
            18000000,
            6000000,
            15000000,
            23000000,
            14000000,
            27000000,
            6000000,
            13000000,
            13000000,
            17000000,
            16000000,
            70000000,
            25000000,
            7000000,
            8000000,
            12000000,
            13000000,
            18000000,
            28000000,
            35000000,
            7500000,
            15000000,
            14000000,
            30000000,
            18000000,
            27000000,
            6500000,
            40000000,
            16000000,
            16400000,
            25000000,
            160000,
            10000000,
            48000000,
            70000000,
            37000000,
            35000000,
            7500000,
            40000000,
            32000000
           ],
           "xaxis": "x",
           "y": [
            2284.386828571429,
            420.21727999999996,
            326.77737037037036,
            252.70130740740743,
            131.67038947368422,
            2891.1111111111113,
            564.1057333333333,
            1100,
            27.77777777777778,
            747.31162,
            737.4116666666666,
            219.73248999999998,
            507.1428571428571,
            972.2346181818182,
            8300,
            753,
            1130.0416,
            2066.2553944444444,
            734.7526933333334,
            94.11764705882352,
            85.36839166666667,
            7452.050723809523,
            1042.056074766355,
            170.51334,
            253.3540409090909,
            502.064,
            30.865066666666667,
            295.570425,
            706.6666666666666,
            18.355778571428573,
            743.8095238095239,
            -20.37037037037037,
            924.8673709677419,
            122.66009852216749,
            1670.32457496136,
            309.3303466666667,
            163.538812,
            1035.194475,
            1291.6645636363637,
            264.40041538461537,
            383.33333333333337,
            1124.55,
            772.766675,
            1316.9173888888888,
            1089.2857142857142,
            89.44807999999999,
            765.7223799999999,
            3148.8643555555554,
            884.0415566666668,
            -25.337748148148147,
            188.73905,
            140.97424305555555,
            2009.0698533333334,
            -22.685775,
            472.558275,
            5052.5171,
            598.8881333333334,
            645.1611,
            223.70114736842103,
            1905.840852631579,
            454.1666666666667,
            890.8997567567567,
            1068.9394833333333,
            2278.8706733333333,
            54.993579999999994,
            553.592675,
            2208.8427500000003,
            -49.080332,
            42.520466666666664,
            304.1943933333333,
            6464.070119999999,
            -63.125,
            205.081816,
            67.92723788546256,
            64.529,
            445.7530444444444,
            3465.9045666666666,
            701.3808466666666,
            91.23578260869564,
            2186.75495,
            41.19298148148148,
            386.33799999999997,
            307.69230769230774,
            853.2489999999999,
            172.6922117647059,
            92.86133749999999,
            371.14851142857145,
            1551.2,
            626.9714285714285,
            -93.0853625,
            556.301475,
            244.0511076923077,
            742.6043,
            402.7427,
            63.62818,
            733.2494933333332,
            388.84444,
            147.648,
            134,
            49.04647222222222,
            164.14814814814815,
            473.77607692307697,
            455.75,
            480.1471625,
            1338.17143902439,
            811.415944,
            4091.48,
            304.85039,
            887.8579291666666,
            28.571568571428575,
            482.1479405405405,
            1075.28264,
            1843.9106133333332,
            730,
            596.0130375
           ],
           "yaxis": "y"
          }
         ],
         "name": "1980"
        },
        {
         "data": [
          {
           "hovertemplate": "<b>%{hovertext}</b><br><br>release_decade=1990<br>Presupuesto=%{x}<br>Porcentaje de Ganancia=%{y}<br>rating=%{marker.size}<extra></extra>",
           "hovertext": [
            "The Hunt for Red October",
            "Dances with Wolves",
            "Edward Scissorhands",
            "Total Recall",
            "The Godfather: Part III",
            "Ghost",
            "GoodFellas",
            "Die Hard 2",
            "Back to the Future Part III",
            "Miller's Crossing",
            "Misery",
            "Arachnophobia",
            "Pretty Woman",
            "Home Alone",
            "Robin Hood: Prince of Thieves",
            "Terminator 2: Judgment Day",
            "Thelma & Louise",
            "Star Trek VI: The Undiscovered Country",
            "The Doors",
            "Fried Green Tomatoes",
            "City Slickers",
            "The Fisher King",
            "The Addams Family",
            "Delicatessen",
            "The Silence of the Lambs",
            "JFK",
            "The Rocketeer",
            "Hook",
            "Backdraft",
            "Cape Fear",
            "Beauty and the Beast",
            "The Bodyguard",
            "Reservoir Dogs",
            "Alien³",
            "Batman Returns",
            "Strictly Ballroom",
            "A Few Good Men",
            "Sister Act",
            "The Lawnmower Man",
            "Basic Instinct",
            "Scent of a Woman",
            "Unforgiven",
            "Lethal Weapon 3",
            "Wayne's World",
            "Dracula",
            "A League of Their Own",
            "The Crying Game",
            "Home Alone 2: Lost in New York",
            "Patriot Games",
            "Like Water for Chocolate",
            "Aladdin",
            "Under Siege",
            "My Cousin Vinny",
            "The Player",
            "The Last of the Mohicans",
            "Glengarry Glen Ross",
            "Philadelphia",
            "Robin Hood: Men in Tights",
            "What's Eating Gilbert Grape",
            "Demolition Man",
            "The Fugitive",
            "Sleepless in Seattle",
            "Cliffhanger",
            "Hot Shots! Part Deux",
            "True Romance",
            "Carlito's Way",
            "Groundhog Day",
            "In the Name of the Father",
            "The Piano",
            "Cool Runnings",
            "The Three Musketeers",
            "Rudy",
            "Free Willy",
            "Dazed and Confused",
            "Schindler's List",
            "Tombstone",
            "So I Married an Axe Murderer",
            "Jurassic Park",
            "In the Line of Fire",
            "Falling Down",
            "Mrs. Doubtfire",
            "Last Action Hero",
            "The Remains of the Day",
            "The Nightmare Before Christmas",
            "The Firm",
            "Clear and Present Danger",
            "Ed Wood",
            "The Flintstones",
            "Ace Ventura: Pet Detective",
            "The Naked Gun 33⅓: The Final Insult",
            "Legends of the Fall",
            "Forrest Gump",
            "Pulp Fiction",
            "Interview with the Vampire",
            "Four Weddings and a Funeral",
            "Junior",
            "Dumb and Dumber",
            "Beverly Hills Cop III",
            "The Crow",
            "Hoop Dreams",
            "Leon: The Professional",
            "The Specialist",
            "Muriel's Wedding",
            "Speed",
            "The Shawshank Redemption",
            "Stargate",
            "The Lion King",
            "Nell",
            "Heavenly Creatures",
            "The Santa Clause",
            "True Lies",
            "Mary Shelley's Frankenstein",
            "Clerks",
            "Star Trek: Generations",
            "Disclosure",
            "Don Juan DeMarco",
            "The Mask",
            "Reality Bites",
            "The Client",
            "Natural Born Killers",
            "Judge Dredd",
            "Sense and Sensibility",
            "Hackers",
            "To Die For",
            "The American President",
            "Casino",
            "Billy Madison",
            "The Usual Suspects",
            "Se7en",
            "Tank Girl",
            "Species",
            "Toy Story",
            "Get Shorty",
            "Mallrats",
            "Leaving Las Vegas",
            "Johnny Mnemonic",
            "Babe",
            "The Bridges of Madison County",
            "Before Sunrise",
            "Heat",
            "Waterworld",
            "Mortal Kombat",
            "Ace Ventura: When Nature Calls",
            "Showgirls",
            "Dead Man Walking",
            "Jumanji",
            "Apollo 13",
            "Congo",
            "Bad Boys",
            "The City of Lost Children",
            "Batman Forever",
            "While You Were Sleeping",
            "GoldenEye",
            "Pocahontas",
            "Under Siege 2: Dark Territory",
            "Rob Roy",
            "Twelve Monkeys",
            "Braveheart",
            "Strange Days",
            "Mighty Aphrodite",
            "Casper",
            "Desperado",
            "First Knight",
            "Die Hard: With a Vengeance",
            "The Quick and the Dead",
            "Crimson Tide",
            "Rumble in the Bronx",
            "The Net",
            "Outbreak",
            "Primal Fear",
            "The English Patient",
            "Mission: Impossible",
            "Tin Cup",
            "Ransom",
            "A Time to Kill",
            "The Long Kiss Goodnight",
            "Phenomenon",
            "The Birdcage",
            "The Cable Guy",
            "Twister",
            "Star Trek: First Contact",
            "Kingpin",
            "Scream",
            "Sleepers",
            "101 Dalmatians",
            "Mars Attacks!",
            "James and the Giant Peach",
            "Broken Arrow",
            "Romeo + Juliet",
            "Fargo",
            "DragonHeart",
            "The People vs. Larry Flynt",
            "Happy Gilmore",
            "Lone Star",
            "Courage Under Fire",
            "The Nutty Professor",
            "The Rock",
            "The First Wives Club",
            "Independence Day",
            "From Dusk Till Dawn",
            "Swingers",
            "The Craft",
            "Jerry Maguire",
            "Space Jam",
            "Escape from L.A.",
            "Eraser",
            "Trainspotting",
            "Striptease",
            "Emma",
            "Sling Blade",
            "Executive Decision",
            "The Hunchback of Notre Dame",
            "I Know What You Did Last Summer",
            "Liar Liar",
            "The Lost World: Jurassic Park",
            "Alien: Resurrection",
            "Wag the Dog",
            "Event Horizon",
            "The Devil's Advocate",
            "Men in Black",
            "Austin Powers: International Man of Mystery",
            "Titanic",
            "Cube",
            "Scream 2",
            "Hercules",
            "Face/Off",
            "G.I. Jane",
            "Conspiracy Theory",
            "Chasing Amy",
            "The Saint",
            "Air Force One",
            "Starship Troopers",
            "My Best Friend's Wedding",
            "Con Air",
            "Tomorrow Never Dies",
            "Batman & Robin",
            "Donnie Brasco",
            "Jackie Brown",
            "Life Is Beautiful",
            "The Game",
            "As Good as It Gets",
            "Contact",
            "The Fifth Element",
            "The Full Monty",
            "Gattaca",
            "L.A. Confidential",
            "Good Will Hunting",
            "Boogie Nights",
            "Princess Mononoke",
            "Lost in Space",
            "Antz",
            "The Negotiator",
            "Patch Adams",
            "Rounders",
            "Rush Hour",
            "The Thin Red Line",
            "Dark City",
            "The Prince of Egypt",
            "Ronin",
            "Wild Things",
            "The Big Lebowski",
            "Shakespeare in Love",
            "Enemy of the State",
            "A Bug's Life",
            "Run Lola Run",
            "Mulan",
            "Star Trek: Insurrection",
            "You've Got Mail",
            "Sliding Doors",
            "Lethal Weapon 4",
            "Sphere",
            "Fear and Loathing in Las Vegas",
            "Doctor Dolittle",
            "American History X",
            "Pi",
            "Elizabeth",
            "There's Something About Mary",
            "The Wedding Singer",
            "Blade",
            "Saving Private Ryan",
            "Godzilla",
            "Deep Impact",
            "The Truman Show",
            "Armageddon",
            "The Mask of Zorro",
            "Rushmore",
            "The X Files",
            "Lock, Stock and Two Smoking Barrels",
            "The Waterboy",
            "Meet Joe Black",
            "Out of Sight",
            "The Bone Collector",
            "The Green Mile",
            "The Insider",
            "The World Is Not Enough",
            "Austin Powers: The Spy Who Shagged Me",
            "Double Jeopardy",
            "Big Daddy",
            "The Mummy",
            "Tarzan",
            "Toy Story 2",
            "The Matrix",
            "Fight Club",
            "The Talented Mr. Ripley",
            "The Thomas Crown Affair",
            "Wild Wild West",
            "Entrapment",
            "10 Things I Hate About You",
            "The 13th Warrior",
            "Being John Malkovich",
            "Man on the Moon",
            "Sleepy Hollow",
            "Go",
            "The Blair Witch Project",
            "Cruel Intentions",
            "Deep Blue Sea",
            "Eyes Wide Shut",
            "Galaxy Quest",
            "The Boondock Saints",
            "Office Space",
            "The Sixth Sense",
            "Payback",
            "Magnolia",
            "Analyze This",
            "American Beauty",
            "The Virgin Suicides",
            "Boys Don't Cry",
            "Mystery Men",
            "Star Wars: Episode I - The Phantom Menace",
            "Three Kings",
            "Never Been Kissed",
            "Runaway Bride",
            "American Pie",
            "The Cider House Rules",
            "Notting Hill",
            "The Iron Giant",
            "Dogma"
           ],
           "ids": [
            "The Hunt for Red October",
            "Dances with Wolves",
            "Edward Scissorhands",
            "Total Recall",
            "The Godfather: Part III",
            "Ghost",
            "GoodFellas",
            "Die Hard 2",
            "Back to the Future Part III",
            "Miller's Crossing",
            "Misery",
            "Arachnophobia",
            "Pretty Woman",
            "Home Alone",
            "Robin Hood: Prince of Thieves",
            "Terminator 2: Judgment Day",
            "Thelma & Louise",
            "Star Trek VI: The Undiscovered Country",
            "The Doors",
            "Fried Green Tomatoes",
            "City Slickers",
            "The Fisher King",
            "The Addams Family",
            "Delicatessen",
            "The Silence of the Lambs",
            "JFK",
            "The Rocketeer",
            "Hook",
            "Backdraft",
            "Cape Fear",
            "Beauty and the Beast",
            "The Bodyguard",
            "Reservoir Dogs",
            "Alien³",
            "Batman Returns",
            "Strictly Ballroom",
            "A Few Good Men",
            "Sister Act",
            "The Lawnmower Man",
            "Basic Instinct",
            "Scent of a Woman",
            "Unforgiven",
            "Lethal Weapon 3",
            "Wayne's World",
            "Dracula",
            "A League of Their Own",
            "The Crying Game",
            "Home Alone 2: Lost in New York",
            "Patriot Games",
            "Like Water for Chocolate",
            "Aladdin",
            "Under Siege",
            "My Cousin Vinny",
            "The Player",
            "The Last of the Mohicans",
            "Glengarry Glen Ross",
            "Philadelphia",
            "Robin Hood: Men in Tights",
            "What's Eating Gilbert Grape",
            "Demolition Man",
            "The Fugitive",
            "Sleepless in Seattle",
            "Cliffhanger",
            "Hot Shots! Part Deux",
            "True Romance",
            "Carlito's Way",
            "Groundhog Day",
            "In the Name of the Father",
            "The Piano",
            "Cool Runnings",
            "The Three Musketeers",
            "Rudy",
            "Free Willy",
            "Dazed and Confused",
            "Schindler's List",
            "Tombstone",
            "So I Married an Axe Murderer",
            "Jurassic Park",
            "In the Line of Fire",
            "Falling Down",
            "Mrs. Doubtfire",
            "Last Action Hero",
            "The Remains of the Day",
            "The Nightmare Before Christmas",
            "The Firm",
            "Clear and Present Danger",
            "Ed Wood",
            "The Flintstones",
            "Ace Ventura: Pet Detective",
            "The Naked Gun 33⅓: The Final Insult",
            "Legends of the Fall",
            "Forrest Gump",
            "Pulp Fiction",
            "Interview with the Vampire",
            "Four Weddings and a Funeral",
            "Junior",
            "Dumb and Dumber",
            "Beverly Hills Cop III",
            "The Crow",
            "Hoop Dreams",
            "Leon: The Professional",
            "The Specialist",
            "Muriel's Wedding",
            "Speed",
            "The Shawshank Redemption",
            "Stargate",
            "The Lion King",
            "Nell",
            "Heavenly Creatures",
            "The Santa Clause",
            "True Lies",
            "Mary Shelley's Frankenstein",
            "Clerks",
            "Star Trek: Generations",
            "Disclosure",
            "Don Juan DeMarco",
            "The Mask",
            "Reality Bites",
            "The Client",
            "Natural Born Killers",
            "Judge Dredd",
            "Sense and Sensibility",
            "Hackers",
            "To Die For",
            "The American President",
            "Casino",
            "Billy Madison",
            "The Usual Suspects",
            "Se7en",
            "Tank Girl",
            "Species",
            "Toy Story",
            "Get Shorty",
            "Mallrats",
            "Leaving Las Vegas",
            "Johnny Mnemonic",
            "Babe",
            "The Bridges of Madison County",
            "Before Sunrise",
            "Heat",
            "Waterworld",
            "Mortal Kombat",
            "Ace Ventura: When Nature Calls",
            "Showgirls",
            "Dead Man Walking",
            "Jumanji",
            "Apollo 13",
            "Congo",
            "Bad Boys",
            "The City of Lost Children",
            "Batman Forever",
            "While You Were Sleeping",
            "GoldenEye",
            "Pocahontas",
            "Under Siege 2: Dark Territory",
            "Rob Roy",
            "Twelve Monkeys",
            "Braveheart",
            "Strange Days",
            "Mighty Aphrodite",
            "Casper",
            "Desperado",
            "First Knight",
            "Die Hard: With a Vengeance",
            "The Quick and the Dead",
            "Crimson Tide",
            "Rumble in the Bronx",
            "The Net",
            "Outbreak",
            "Primal Fear",
            "The English Patient",
            "Mission: Impossible",
            "Tin Cup",
            "Ransom",
            "A Time to Kill",
            "The Long Kiss Goodnight",
            "Phenomenon",
            "The Birdcage",
            "The Cable Guy",
            "Twister",
            "Star Trek: First Contact",
            "Kingpin",
            "Scream",
            "Sleepers",
            "101 Dalmatians",
            "Mars Attacks!",
            "James and the Giant Peach",
            "Broken Arrow",
            "Romeo + Juliet",
            "Fargo",
            "DragonHeart",
            "The People vs. Larry Flynt",
            "Happy Gilmore",
            "Lone Star",
            "Courage Under Fire",
            "The Nutty Professor",
            "The Rock",
            "The First Wives Club",
            "Independence Day",
            "From Dusk Till Dawn",
            "Swingers",
            "The Craft",
            "Jerry Maguire",
            "Space Jam",
            "Escape from L.A.",
            "Eraser",
            "Trainspotting",
            "Striptease",
            "Emma",
            "Sling Blade",
            "Executive Decision",
            "The Hunchback of Notre Dame",
            "I Know What You Did Last Summer",
            "Liar Liar",
            "The Lost World: Jurassic Park",
            "Alien: Resurrection",
            "Wag the Dog",
            "Event Horizon",
            "The Devil's Advocate",
            "Men in Black",
            "Austin Powers: International Man of Mystery",
            "Titanic",
            "Cube",
            "Scream 2",
            "Hercules",
            "Face/Off",
            "G.I. Jane",
            "Conspiracy Theory",
            "Chasing Amy",
            "The Saint",
            "Air Force One",
            "Starship Troopers",
            "My Best Friend's Wedding",
            "Con Air",
            "Tomorrow Never Dies",
            "Batman & Robin",
            "Donnie Brasco",
            "Jackie Brown",
            "Life Is Beautiful",
            "The Game",
            "As Good as It Gets",
            "Contact",
            "The Fifth Element",
            "The Full Monty",
            "Gattaca",
            "L.A. Confidential",
            "Good Will Hunting",
            "Boogie Nights",
            "Princess Mononoke",
            "Lost in Space",
            "Antz",
            "The Negotiator",
            "Patch Adams",
            "Rounders",
            "Rush Hour",
            "The Thin Red Line",
            "Dark City",
            "The Prince of Egypt",
            "Ronin",
            "Wild Things",
            "The Big Lebowski",
            "Shakespeare in Love",
            "Enemy of the State",
            "A Bug's Life",
            "Run Lola Run",
            "Mulan",
            "Star Trek: Insurrection",
            "You've Got Mail",
            "Sliding Doors",
            "Lethal Weapon 4",
            "Sphere",
            "Fear and Loathing in Las Vegas",
            "Doctor Dolittle",
            "American History X",
            "Pi",
            "Elizabeth",
            "There's Something About Mary",
            "The Wedding Singer",
            "Blade",
            "Saving Private Ryan",
            "Godzilla",
            "Deep Impact",
            "The Truman Show",
            "Armageddon",
            "The Mask of Zorro",
            "Rushmore",
            "The X Files",
            "Lock, Stock and Two Smoking Barrels",
            "The Waterboy",
            "Meet Joe Black",
            "Out of Sight",
            "The Bone Collector",
            "The Green Mile",
            "The Insider",
            "The World Is Not Enough",
            "Austin Powers: The Spy Who Shagged Me",
            "Double Jeopardy",
            "Big Daddy",
            "The Mummy",
            "Tarzan",
            "Toy Story 2",
            "The Matrix",
            "Fight Club",
            "The Talented Mr. Ripley",
            "The Thomas Crown Affair",
            "Wild Wild West",
            "Entrapment",
            "10 Things I Hate About You",
            "The 13th Warrior",
            "Being John Malkovich",
            "Man on the Moon",
            "Sleepy Hollow",
            "Go",
            "The Blair Witch Project",
            "Cruel Intentions",
            "Deep Blue Sea",
            "Eyes Wide Shut",
            "Galaxy Quest",
            "The Boondock Saints",
            "Office Space",
            "The Sixth Sense",
            "Payback",
            "Magnolia",
            "Analyze This",
            "American Beauty",
            "The Virgin Suicides",
            "Boys Don't Cry",
            "Mystery Men",
            "Star Wars: Episode I - The Phantom Menace",
            "Three Kings",
            "Never Been Kissed",
            "Runaway Bride",
            "American Pie",
            "The Cider House Rules",
            "Notting Hill",
            "The Iron Giant",
            "Dogma"
           ],
           "legendgroup": "",
           "marker": {
            "color": "#636efa",
            "size": [
             3.862846830588766,
             3.7256878529376425,
             3.726025958751628,
             3.606875334403424,
             3.433191085822665,
             3.4342123720016833,
             4.1805253650920005,
             3.4474861010394005,
             3.3372789177825513,
             3.966821606026607,
             3.7730917580186762,
             2.792260930558803,
             3.42649120757142,
             3.141875423155044,
             3.293815071888944,
             3.94637410899458,
             3.588040006723819,
             3.319209862162687,
             3.3601018442058903,
             3.741083916083916,
             3.3131096659769437,
             3.6207037087352263,
             3.2275993972412196,
             3.955622517463361,
             4.151341616415071,
             3.668711656441718,
             3.0642526964560863,
             3.2140234948604993,
             3.3173794976238966,
             3.5417077715663705,
             3.6809198555552447,
             2.7966725323948167,
             4.092293699832535,
             3.112239715591671,
             3.1304380270129095,
             3.8267927724449464,
             3.8179903546792016,
             3.0083143355236692,
             2.736326653608558,
             3.350841659915384,
             3.777930806522697,
             3.994798000270234,
             3.215144230769231,
             3.4550245708995084,
             3.44905273937532,
             3.5161209068010075,
             3.6508745715039113,
             2.665938864628821,
             3.6219283746556474,
             3.921667748817364,
             3.6987526802388584,
             3.136,
             3.6027882114995666,
             3.9386049061258053,
             3.7138791227189016,
             3.8585456906346374,
             3.8021304391518442,
             3.0674973674973676,
             3.7512185215272136,
             3.0712903582485627,
             3.9721584270115637,
             3.5094537441802607,
             3.0492658841872755,
             2.939754383254808,
             3.810891994253624,
             3.719788264444194,
             3.8917614844746917,
             3.9152097902097904,
             3.6811163895486936,
             3.2586713697824807,
             3.213334986772487,
             3.5334577630305546,
             2.617824773413897,
             3.689785470502194,
             4.247579083279535,
             3.703341938184609,
             3.2368374868374867,
             3.6791749812920926,
             3.7212436096910424,
             3.587871102491422,
             3.3863104638240626,
             2.7995211310428703,
             3.8977364185110663,
             3.738263445761167,
             3.4994205537850256,
             3.6551898004754015,
             3.664388396868181,
             2.4127870563674323,
             2.9898406002189413,
             2.9788651669293595,
             3.5003490069166827,
             4.048011436845787,
             4.188912039361382,
             3.508920477209269,
             3.6408326781234788,
             2.7017581020970134,
             2.964968752944132,
             2.7501075885812654,
             3.517972748011591,
             4.028236985316767,
             4.0885985748218525,
             2.8919378338999513,
             3.507638565440149,
             3.481247881458525,
             4.413576004516335,
             3.3710611452604335,
             3.817136507193824,
             3.409440492213036,
             3.8224384098544233,
             3.128074747346342,
             3.4922731744774795,
             3.132062978222484,
             3.847214137214137,
             3.322669104204753,
             3.2840320910973086,
             3.4449993597131514,
             3.183039195863782,
             3.2500337154416723,
             3.466657593903103,
             3.2577711853476075,
             2.555359804851606,
             3.948806325713417,
             3.215710400207227,
             3.382907947260191,
             3.6571705198920315,
             3.8237068028689416,
             3.2408267020335986,
             4.284353213163313,
             4.0791663372598626,
             2.816469884920042,
             2.8360270915108137,
             3.893707794587238,
             3.5701620505454055,
             3.5757829309108295,
             3.677304434479322,
             2.7515630141493914,
             3.6031917599186163,
             3.3332222962469467,
             3.914843512610149,
             3.854908898649748,
             2.8652335902399826,
             2.6546241414996707,
             2.6421677802524126,
             2.2478297395687483,
             3.91868681658758,
             3.2515271586594023,
             3.87355561527172,
             2.6022161264708004,
             3.275515786183182,
             3.936724864539434,
             2.8716600752387382,
             3.4993894441680613,
             3.42145763311516,
             2.9777505385929723,
             2.926604922608475,
             3.53139284174213,
             3.9057678412037236,
             4.002272573668559,
             3.417996761508212,
             3.532892426548051,
             2.921479069028517,
             3.4392585818795722,
             3.081881687151826,
             3.506566659749192,
             3.0432486221677895,
             3.739861235452104,
             3.40623288921336,
             3.102854287948562,
             3.4105008077544428,
             3.760456621004566,
             3.6195416327637644,
             3.4016470905899823,
             3.178850644735506,
             3.446133294822731,
             3.6992076210826212,
             3.4245560318432333,
             3.4703280797684144,
             3.5101652454593633,
             2.705886421802587,
             3.1890463917525773,
             3.6545932715342153,
             3.279727095516569,
             3.2786216005283064,
             3.6400787495525595,
             3.0324079320113313,
             2.9703603907039406,
             3.30327868852459,
             3.077245421955237,
             3.5503586800573887,
             4.111421282646425,
             3.219017015993573,
             3.560452238117213,
             3.3943981240229286,
             4.053235429095915,
             3.5356705241660995,
             2.811082662765179,
             3.6686106507395477,
             3.088307641849787,
             3.373931536542473,
             3.326568919110356,
             3.8360339092177274,
             3.085627818656539,
             3.5969512195121953,
             2.7609040814420474,
             2.7584182686105017,
             3.1348300025953804,
             4.007664971082154,
             2.403895524054024,
             3.7754716981132077,
             3.999015748031496,
             3.353110599078341,
             3.2644248782315475,
             2.4885263297519566,
             3.2380838259572884,
             2.9984304369663484,
             3.0286508074318457,
             3.520889153517912,
             2.9764170459247,
             3.547347362181387,
             3.5817083457378187,
             3.4114130902210373,
             3.381151887993212,
             3.589081618932365,
             2.7656227758007117,
             3.4190598656950995,
             3.32798449997516,
             2.9301132075471696,
             3.3279432064681522,
             3.6189967589864467,
             3.1571633611691023,
             3.304844948089842,
             3.2901420701652655,
             3.2756849315068495,
             3.19796903942842,
             3.2240022712524334,
             2.160149918962723,
             3.810181036027962,
             3.69532003859762,
             4.154341841841842,
             3.867109990883252,
             3.7748541801685027,
             3.684536463628801,
             3.7699454046390977,
             3.684585792929628,
             3.804476930105071,
             4.063227503693827,
             4.074935168305646,
             3.7044712201495247,
             4.138093788063338,
             2.5775415644589805,
             3.23630794550608,
             3.5936732872126758,
             3.1479176271707394,
             3.7176131322094057,
             3.435494880546075,
             3.4311140809136194,
             3.805669679539852,
             3.4450664278250485,
             3.5767524401064774,
             3.2063706303144826,
             3.9743764824265075,
             3.7905082491792377,
             3.5716231996885948,
             3.569155800809933,
             3.9699857074797524,
             3.731475645989016,
             3.2010862700517873,
             3.185315237118283,
             3.545137342242019,
             3.1185075980948063,
             2.8675073698001965,
             3.750595862331967,
             2.6674366512669745,
             4.1400006419103255,
             3.728033894885504,
             3.8752777452929483,
             3.519487750556793,
             3.391284174459276,
             3.363192683114288,
             4.044107902443195,
             2.373144567793439,
             2.964855134579119,
             3.859743262873914,
             2.9930307441224473,
             3.2816606498194947,
             3.8518341742806492,
             3.338609532138172,
             4.02666147455867,
             2.913390570869107,
             3.336322869955157,
             3.6761898359774134,
             3.3040392214254353,
             4.027754084377666,
             3.918241858346618,
             3.1951137884872827,
             3.1937196905935634,
             3.1902964205816553,
             3.1083543029693006,
             3.2055174579908914,
             3.4847839318320144,
             3.8114636719927644,
             4.154099127610975,
             4.228310618821568,
             3.5054833321228847,
             3.5077312945623227,
             2.31967073274759,
             3.150108251142651,
             3.5330780452224655,
             3.126992778307671,
             3.9334735998396955,
             3.52568208018445,
             3.5239280114527234,
             3.680228941147194,
             2.8979267166170586,
             3.296861471861472,
             2.688434627520922,
             3.2784747236368155,
             3.6077836141619484,
             3.880666538609297,
             3.982837478764647,
             4.009751032903046,
             3.427330840670607,
             3.869057874539901,
             3.2473347547974414,
             4.107340423550448,
             3.6371345029239768,
             3.793705836168542,
             3.063125237431936,
             3.0698558281245094,
             3.595676943699732,
             3.0751429349305743,
             2.862689393939394,
             3.282000241283629,
             3.688912322988852,
             3.458824760974248,
             3.8665144596651446,
             3.625320662313433
            ],
            "sizemode": "area",
            "sizeref": 0.011033940011290837,
            "symbol": "circle"
           },
           "mode": "markers",
           "name": "",
           "orientation": "v",
           "showlegend": false,
           "type": "scatter",
           "x": [
            30000000,
            22000000,
            20000000,
            65000000,
            54000000,
            22000000,
            25000000,
            70000000,
            40000000,
            14000000,
            20000000,
            31000000,
            14000000,
            18000000,
            48000000,
            100000000,
            16000000,
            27000000,
            38000000,
            11000000,
            27000000,
            24000000,
            30000000,
            4000000,
            19000000,
            40000000,
            42000000,
            70000000,
            75000000,
            35000000,
            25000000,
            25000000,
            1200000,
            50000000,
            80000000,
            3000000,
            40000000,
            31000000,
            10000000,
            49000000,
            31000000,
            14000000,
            35000000,
            20000000,
            40000000,
            40000000,
            3705538,
            18000000,
            45000000,
            2000000,
            28000000,
            35000000,
            11000000,
            8000000,
            40000000,
            12500000,
            26000000,
            20000000,
            11000000,
            57000000,
            44000000,
            21000000,
            70000000,
            25000000,
            12500000,
            30000000,
            14600000,
            13000000,
            7000000,
            14000000,
            30000000,
            12000000,
            20000000,
            6900000,
            22000000,
            25000000,
            20000000,
            63000000,
            40000000,
            25000000,
            25000000,
            85000000,
            11500000,
            18000000,
            42000000,
            62000000,
            18000000,
            46000000,
            15000000,
            30000000,
            30000000,
            55000000,
            8000000,
            60000000,
            6000000,
            60000000,
            16000000,
            50000000,
            15000000,
            700000,
            16000000,
            45000000,
            3000000,
            30000000,
            25000000,
            55000000,
            45000000,
            31000000,
            5000000,
            22000000,
            115000000,
            45000000,
            27000,
            38000000,
            55000000,
            25000000,
            23000000,
            11500000,
            45000000,
            34000000,
            90000000,
            16500000,
            20000000,
            20000000,
            62000000,
            52000000,
            10000000,
            6000000,
            33000000,
            25000000,
            35000000,
            30000000,
            30250000,
            6000000,
            3600000,
            25000000,
            30000000,
            24000000,
            2500000,
            60000000,
            175000000,
            18000000,
            30000000,
            45000000,
            11000000,
            65000000,
            52000000,
            50000000,
            19000000,
            18000000,
            100000000,
            17000000,
            58000000,
            55000000,
            60000000,
            28000000,
            29500000,
            72000000,
            42000000,
            15000000,
            50000000,
            7000000,
            55000000,
            90000000,
            32000000,
            53000000,
            7500000,
            22000000,
            50000000,
            30000000,
            27000000,
            80000000,
            45000000,
            80000000,
            40000000,
            65000000,
            32000000,
            31000000,
            47000000,
            92000000,
            46000000,
            27000000,
            14000000,
            44000000,
            54000000,
            70000000,
            38000000,
            50000000,
            14500000,
            7000000,
            57000000,
            36000000,
            12000000,
            5000000,
            46000000,
            54000000,
            75000000,
            26000000,
            75000000,
            19000000,
            200000,
            15000000,
            50000000,
            80000000,
            50000000,
            100000000,
            4000000,
            50000000,
            6000000,
            1000000,
            55000000,
            100000000,
            17000000,
            45000000,
            73000000,
            70000000,
            15000000,
            60000000,
            57000000,
            90000000,
            16500000,
            200000000,
            250000,
            24000000,
            85000000,
            80000000,
            50000000,
            75000000,
            250000,
            68000000,
            85000000,
            105000000,
            38000000,
            75000000,
            110000000,
            125000000,
            35000000,
            12000000,
            20000000,
            50000000,
            50000000,
            90000000,
            90000000,
            3500000,
            36000000,
            35000000,
            10000000,
            15000000,
            26500000,
            80000000,
            60000000,
            50000000,
            50000000,
            12000000,
            33000000,
            52000000,
            27000000,
            70000000,
            55000000,
            20000000,
            15000000,
            25000000,
            90000000,
            120000000,
            1530000,
            90000000,
            70000000,
            65000000,
            6000000,
            140000000,
            75000000,
            18500000,
            71000000,
            20000000,
            60000,
            30000000,
            23000000,
            18000000,
            45000000,
            70000000,
            130000000,
            75000000,
            60000000,
            140000000,
            95000000,
            9000000,
            66000000,
            1350000,
            23000000,
            90000000,
            48000000,
            73000000,
            60000000,
            90000000,
            135000000,
            33000000,
            70000000,
            34200000,
            80000000,
            150000000,
            90000000,
            63000000,
            63000000,
            40000000,
            48000000,
            170000000,
            66000000,
            16000000,
            160000000,
            13000000,
            82000000,
            100000000,
            6500000,
            60000,
            10500000,
            60000000,
            65000000,
            45000000,
            6000000,
            10000000,
            40000000,
            90000000,
            37000000,
            80000000,
            15000000,
            6000000,
            2000000,
            68000000,
            115000000,
            75000000,
            25000000,
            70000000,
            11000000,
            24000000,
            42000000,
            70000000,
            10000000
           ],
           "xaxis": "x",
           "y": [
            564,
            1828.2220363636363,
            165,
            302.02757076923075,
            153.27048518518518,
            2195.4545454545455,
            87.34557600000001,
            242.90156285714284,
            511.3189575,
            -63.71136428571429,
            206.38436,
            71.63929032258064,
            3207.142857142857,
            2548.2481944444444,
            713.5289750000001,
            420,
            183.50625,
            258.8888888888889,
            -9.42922894736842,
            985.6227363636365,
            563.0881148148148,
            74.56454583333333,
            538.34142,
            -55.145325,
            1335.4890631578946,
            413.51374500000003,
            47.61904761904761,
            329.7926042857143,
            103.15811333333333,
            420.85714285714283,
            1409.402212,
            1544.0269600000001,
            1121.7505833333335,
            219.54709000000003,
            250,
            1031.5408,
            508.100445,
            647.1133870967742,
            221.01000000000002,
            620.2596408163265,
            332.56533225806453,
            1036.8389071428571,
            819.2329342857142,
            508.486615,
            439.65673,
            168.6469625,
            1587.9855772630049,
            1894.3982277777777,
            295.6701933333334,
            983.2734,
            1700.1793535714285,
            347.32325428571426,
            482.6232,
            171.3262625,
            88.76464,
            -14.198176000000002,
            694.9170769230769,
            78.698775,
            -8.793045454545455,
            179.04520701754385,
            738.354,
            984.7613523809524,
            264.2860157142857,
            435.0113,
            -1.7475919999999998,
            21.720039999999997,
            385.664198630137,
            406.12970769230765,
            1567.142857142857,
            1006.1742928571429,
            79.66281666666667,
            89.58635833333334,
            668.493125,
            15.841144927536233,
            1360.7525772727274,
            126.02026,
            -42.072585000000004,
            1360.4761904761904,
            342.49291999999997,
            63.614371999999996,
            1665.14478,
            61.527634117647054,
            102.06879130434783,
            320.1911611111111,
            543.4484928571429,
            248.2059951612903,
            -67.29190555555556,
            642.6765391304348,
            614.7826399999999,
            70.44199333333333,
            435.4629433333334,
            1132.6279981818182,
            2574.109525,
            272.77434666666664,
            4145.013866666667,
            -38.333333333333336,
            1445.4710875,
            138.417978,
            526.6666666666666,
            1018.6587142857143,
            183.03108749999998,
            278.58351555555555,
            403.9879666666667,
            1068.1604833333333,
            13.365875999999998,
            257.3950218181818,
            1651.6483911111113,
            244.14134516129033,
            -39.0173,
            762.8788954545454,
            229.46296608695653,
            148.90288,
            11570.851851851852,
            215.78947368421052,
            289.1183436363636,
            -11.200000000000001,
            1428.6235086956522,
            74.60739130434783,
            161.36713555555556,
            47.890488235294114,
            26.10386777777778,
            718.1818181818181,
            -62.18136,
            6.4225699999999994,
            73.9991870967742,
            123.29302884615385,
            164.88734,
            289.0261333333333,
            891.8541181818181,
            -83.74202,
            223.92600857142858,
            1145.18011,
            280.5012297520661,
            -64.62398333333333,
            1283.3333333333335,
            -23.697119999999998,
            747.1163666666666,
            658.4025708333332,
            121.4162,
            212.39469666666668,
            50.98184,
            578.8662222222223,
            607.9517766666667,
            -54.77610222222222,
            257.8512272727273,
            304.30346,
            583.1498711538462,
            204.04420199999998,
            644.2474947368421,
            -90.34105,
            236.529144,
            970.9236235294118,
            507.2310931034483,
            529.2359509090909,
            73.87347166666667,
            12.846110714285713,
            472.33898305084745,
            191.66666666666669,
            -81.04930714285715,
            -55.333333333333336,
            475.856388,
            262.93492857142854,
            132.0007909090909,
            306.77962888888885,
            -42.0235625,
            196.95697169811322,
            331.89396,
            402.8543863636363,
            279.71912,
            242.05394333333334,
            759.1719444444444,
            472.12044875,
            19.676862222222223,
            286.86585125,
            280.66501750000003,
            37.62578615384615,
            375.11369375000004,
            497.6146870967742,
            118.77828936170214,
            437.4690478260869,
            226.08695652173913,
            -7.320614814814815,
            1136.047592857143,
            276.398375,
            493.86906296296297,
            44.81573857142857,
            -23.89141052631579,
            200.54029400000002,
            915.853524137931,
            765.8853571428572,
            102.22346491228069,
            -43.61004166666667,
            243.375825,
            165.39926,
            119.26264782608695,
            138.46175,
            346.7501613333333,
            347.6923076923077,
            989.2923573333333,
            35.982189473684215,
            2152.9610000000002,
            65.12977333333333,
            447.105184,
            212.75,
            -15.44527,
            142.295562,
            312.277,
            126.619486,
            270.5276333333333,
            2344.4121,
            121.76221090909092,
            0.138851,
            638.7419647058824,
            572.6902555555555,
            213.80071780821916,
            131.42857142857142,
            328.37675333333334,
            -55.54459666666667,
            168.3239649122807,
            554.8783766666667,
            310.2059939393939,
            822.517094,
            100.7272,
            618.1804208333333,
            197.30835411764707,
            207.0951825,
            -3.661688,
            82.64377866666666,
            4708.5088,
            73.62250588235294,
            270.77224588235293,
            15.44226380952381,
            687.6015921052631,
            198.68297866666666,
            202.73733454545453,
            90.5656976,
            19.87142,
            230.60968333333332,
            1047,
            118.84729599999999,
            528.356022,
            90.13369888888889,
            193.24464444444445,
            7267.146342857142,
            -65.18673055555556,
            260.61982857142857,
            2159.33435,
            187.34396,
            501.41625660377355,
            70.19927875,
            186.263105,
            -10.904638,
            304.585804,
            91.01581666666667,
            640.5662545454545,
            88.7049326923077,
            0.7419111111111111,
            212.30455428571426,
            -24.343847272727274,
            236,
            207.93045333333336,
            1057.271176,
            178.49981777777776,
            202.71571583333335,
            375.00555555555553,
            238.13361555555556,
            68.57142857142857,
            285.87922307692304,
            866.6666666666666,
            103.88900214285715,
            -82.53333333333333,
            -42.26878378378379,
            314.72761267605637,
            19.375635,
            5268.586666666667,
            173.83547333333334,
            1508.1941347826087,
            585.0388166666667,
            191.51895555555555,
            588.3441557142858,
            191.54945692307692,
            87.28621866666667,
            340.19700166666667,
            295.57111857142854,
            163.46160315789473,
            89.95614444444445,
            186.6641106060606,
            188.70881481481482,
            708.6593304347825,
            58.82233333333333,
            61.96993333333334,
            107.52555479452054,
            374.3333333333333,
            -33.01120888888889,
            168.024,
            842.2426848484848,
            154.05936857142856,
            586.5552485380117,
            419.85686,
            198.66666666666666,
            452.6298544444445,
            635.7418777777779,
            60.085322222222224,
            221.9956625,
            158.96912708333332,
            30.649812352941176,
            221.82484242424243,
            234.2385375,
            -61.438188125,
            75.87381538461538,
            -42.153134146341465,
            106.071502,
            337.71726153846157,
            413233.3333333333,
            622.8781714285715,
            22.747046666666666,
            149.37108923076923,
            101.51981333333333,
            -99.49215,
            28.27813,
            1582.01573,
            79.58457888888888,
            30.95081891891892,
            121.10707249999999,
            2275.3106733333334,
            73.48961666666666,
            477.03035,
            -56.232336764705884,
            703.7543982608696,
            44,
            238.26092,
            342.0821557142857,
            2040.754581818182,
            268.93788333333333,
            766.4039952380953,
            -66.91527857142857,
            206.5289
           ],
           "yaxis": "y"
          }
         ],
         "name": "1990"
        },
        {
         "data": [
          {
           "hovertemplate": "<b>%{hovertext}</b><br><br>release_decade=2000<br>Presupuesto=%{x}<br>Porcentaje de Ganancia=%{y}<br>rating=%{marker.size}<extra></extra>",
           "hovertext": [
            "O Brother, Where Art Thou?",
            "Shanghai Noon",
            "How the Grinch Stole Christmas",
            "Almost Famous",
            "High Fidelity",
            "Crouching Tiger, Hidden Dragon",
            "Pay It Forward",
            "Unbreakable",
            "Meet the Parents",
            "Charlie's Angels",
            "Traffic",
            "The Whole Nine Yards",
            "Pitch Black",
            "Remember the Titans",
            "Chicken Run",
            "Battle Royale",
            "Billy Elliot",
            "The Patriot",
            "Scary Movie",
            "Snatch",
            "What Lies Beneath",
            "U-571",
            "Gladiator",
            "The Emperor's New Groove",
            "The Perfect Storm",
            "What Women Want",
            "Gone in Sixty Seconds",
            "X-Men",
            "American Psycho",
            "Final Destination",
            "Amores perros",
            "Frequency",
            "The Cell",
            "Miss Congeniality",
            "The Beach",
            "Hollow Man",
            "Erin Brockovich",
            "Requiem for a Dream",
            "Mission: Impossible II",
            "Dude, Where’s My Car?",
            "Road Trip",
            "Cast Away",
            "Memento",
            "Mission to Mars",
            "Me, Myself & Irene",
            "Chocolat",
            "Scream 3",
            "Finding Forrester",
            "Pearl Harbor",
            "Training Day",
            "Rush Hour 2",
            "Monsters, Inc.",
            "Shrek",
            "Amélie",
            "Enemy at the Gates",
            "Shallow Hal",
            "Mulholland Drive",
            "The Lord of the Rings: The Fellowship of the Ring",
            "Harry Potter and the Philosopher's Stone",
            "Ocean's Eleven",
            "The Mummy Returns",
            "Lara Croft: Tomb Raider",
            "Black Hawk Down",
            "A.I. Artificial Intelligence",
            "Bridget Jones's Diary",
            "Vanilla Sky",
            "Spirited Away",
            "Spy Game",
            "Jay and Silent Bob Strike Back",
            "Gosford Park",
            "Swordfish",
            "The Fast and the Furious",
            "Blow",
            "Final Fantasy: The Spirits Within",
            "Legally Blonde",
            "Hannibal",
            "The Royal Tenenbaums",
            "K-PAX",
            "American Pie 2",
            "A Knight's Tale",
            "Planet of the Apes",
            "Donnie Darko",
            "Moulin Rouge!",
            "Zoolander",
            "A Beautiful Mind",
            "Jurassic Park III",
            "My Big Fat Greek Wedding",
            "Austin Powers in Goldmember",
            "Punch-Drunk Love",
            "Catch Me If You Can",
            "Minority Report",
            "The Pianist",
            "Ice Age",
            "Gangs of New York",
            "8 Mile",
            "About a Boy",
            "Harry Potter and the Chamber of Secrets",
            "Road to Perdition",
            "Adaptation.",
            "Phone Booth",
            "The Ring",
            "Blade II",
            "Chicago",
            "28 Days Later",
            "Lilo & Stitch",
            "Resident Evil",
            "Bowling for Columbine",
            "Hero",
            "Men in Black II",
            "Signs",
            "The Count of Monte Cristo",
            "Star Wars: Episode II - Attack of the Clones",
            "Spider-Man",
            "Bend It Like Beckham",
            "The Lord of the Rings: The Two Towers",
            "Die Another Day",
            "The Bourne Identity",
            "Equilibrium",
            "Red Dragon",
            "City of God",
            "Panic Room",
            "Insomnia",
            "Underworld",
            "Love Actually",
            "Finding Nemo",
            "Kill Bill: Vol. 1",
            "The Matrix Reloaded",
            "Pirates of the Caribbean: The Curse of the Black Pearl",
            "The Last Samurai",
            "Oldboy",
            "Terminator 3: Rise of the Machines",
            "Elf",
            "Lost in Translation",
            "The League of Extraordinary Gentlemen",
            "Old School",
            "X2",
            "Daredevil",
            "Mystic River",
            "The Italian Job",
            "The Lord of the Rings: The Return of the King",
            "Hulk",
            "Identity",
            "The Matrix Revolutions",
            "Big Fish",
            "21 Grams",
            "Master and Commander: The Far Side of the World",
            "School of Rock",
            "Bruce Almighty",
            "The Incredibles",
            "Hotel Rwanda",
            "50 First Dates",
            "Ocean's Twelve",
            "The Day After Tomorrow",
            "Eternal Sunshine of the Spotless Mind",
            "Shaun of the Dead",
            "Saw",
            "The Village",
            "Meet the Fockers",
            "DodgeBall: A True Underdog Story",
            "The Bourne Supremacy",
            "Hellboy",
            "Howl's Moving Castle",
            "The Machinist",
            "Harry Potter and the Prisoner of Azkaban",
            "Man on Fire",
            "Mean Girls",
            "Garden State",
            "Team America: World Police",
            "Spider-Man 2",
            "Kill Bill: Vol. 2",
            "The Terminal",
            "Million Dollar Baby",
            "Crash",
            "National Treasure",
            "The Life Aquatic with Steve Zissou",
            "The Butterfly Effect",
            "Super Size Me",
            "I, Robot",
            "The Aviator",
            "Fahrenheit 9/11",
            "Shrek 2",
            "Troy",
            "Anchorman: The Legend of Ron Burgundy",
            "Collateral",
            "Napoleon Dynamite",
            "Finding Neverland",
            "The Notebook",
            "Sideways",
            "Wedding Crashers",
            "Batman Begins",
            "King Kong",
            "The Hitchhiker's Guide to the Galaxy",
            "Harry Potter and the Goblet of Fire",
            "Lord of War",
            "Charlie and the Chocolate Factory",
            "Mr. & Mrs. Smith",
            "The 40 Year Old Virgin",
            "War of the Worlds",
            "Constantine",
            "Corpse Bride",
            "Fantastic Four",
            "Walk the Line",
            "Sin City",
            "Pride & Prejudice",
            "Munich",
            "Kiss Kiss Bang Bang",
            "The Island",
            "Hitch",
            "Brokeback Mountain",
            "Thank You for Smoking",
            "Star Wars: Episode III - Revenge of the Sith",
            "The Chronicles of Narnia: The Lion, the Witch and the Wardrobe",
            "Serenity",
            "Madagascar",
            "Children of Men",
            "Stranger Than Fiction",
            "Borat: Cultural Learnings of America for Make Benefit Glorious Nation of Kazakhstan",
            "The Lives of Others",
            "The Pursuit of Happyness",
            "V for Vendetta",
            "The Devil Wears Prada",
            "Cars",
            "Lucky Number Slevin",
            "The Da Vinci Code",
            "Night at the Museum",
            "Blood Diamond",
            "Casino Royale",
            "Pirates of the Caribbean: Dead Man's Chest",
            "The Prestige",
            "300",
            "The Departed",
            "The Illusionist",
            "Inside Man",
            "Little Miss Sunshine",
            "Pan's Labyrinth",
            "X-Men: The Last Stand",
            "Harry Potter and the Order of the Phoenix",
            "3:10 to Yuma",
            "Juno",
            "Superbad",
            "Spider-Man 3",
            "Zodiac",
            "Ocean's Thirteen",
            "There Will Be Blood",
            "No Country for Old Men",
            "Transformers",
            "I Am Legend",
            "Ratatouille",
            "Into the Wild",
            "Knocked Up",
            "Stardust",
            "The Simpsons Movie",
            "American Gangster",
            "Pirates of the Caribbean: At World's End",
            "Live Free or Die Hard",
            "Sweeney Todd: The Demon Barber of Fleet Street",
            "The Bourne Ultimatum",
            "Hot Fuzz",
            "Burn After Reading",
            "The Dark Knight",
            "The Hurt Locker",
            "WALL·E",
            "Iron Man",
            "In Bruges",
            "Indiana Jones and the Kingdom of the Crystal Skull",
            "Gran Torino",
            "The Wrestler",
            "Tropic Thunder",
            "Cloverfield",
            "Taken",
            "Forgetting Sarah Marshall",
            "Slumdog Millionaire",
            "Twilight",
            "Hancock",
            "Quantum of Solace",
            "The Curious Case of Benjamin Button",
            "Kung Fu Panda",
            "Coraline",
            "Watchmen",
            "Inglourious Basterds",
            "The Blind Side",
            "(500) Days of Summer",
            "Avatar",
            "The Hangover",
            "Harry Potter and the Half-Blood Prince",
            "Fantastic Mr. Fox",
            "Moon",
            "Up in the Air",
            "X-Men Origins: Wolverine",
            "Up",
            "District 9",
            "Star Trek",
            "Sherlock Holmes",
            "Zombieland"
           ],
           "ids": [
            "O Brother, Where Art Thou?",
            "Shanghai Noon",
            "How the Grinch Stole Christmas",
            "Almost Famous",
            "High Fidelity",
            "Crouching Tiger, Hidden Dragon",
            "Pay It Forward",
            "Unbreakable",
            "Meet the Parents",
            "Charlie's Angels",
            "Traffic",
            "The Whole Nine Yards",
            "Pitch Black",
            "Remember the Titans",
            "Chicken Run",
            "Battle Royale",
            "Billy Elliot",
            "The Patriot",
            "Scary Movie",
            "Snatch",
            "What Lies Beneath",
            "U-571",
            "Gladiator",
            "The Emperor's New Groove",
            "The Perfect Storm",
            "What Women Want",
            "Gone in Sixty Seconds",
            "X-Men",
            "American Psycho",
            "Final Destination",
            "Amores perros",
            "Frequency",
            "The Cell",
            "Miss Congeniality",
            "The Beach",
            "Hollow Man",
            "Erin Brockovich",
            "Requiem for a Dream",
            "Mission: Impossible II",
            "Dude, Where’s My Car?",
            "Road Trip",
            "Cast Away",
            "Memento",
            "Mission to Mars",
            "Me, Myself & Irene",
            "Chocolat",
            "Scream 3",
            "Finding Forrester",
            "Pearl Harbor",
            "Training Day",
            "Rush Hour 2",
            "Monsters, Inc.",
            "Shrek",
            "Amélie",
            "Enemy at the Gates",
            "Shallow Hal",
            "Mulholland Drive",
            "The Lord of the Rings: The Fellowship of the Ring",
            "Harry Potter and the Philosopher's Stone",
            "Ocean's Eleven",
            "The Mummy Returns",
            "Lara Croft: Tomb Raider",
            "Black Hawk Down",
            "A.I. Artificial Intelligence",
            "Bridget Jones's Diary",
            "Vanilla Sky",
            "Spirited Away",
            "Spy Game",
            "Jay and Silent Bob Strike Back",
            "Gosford Park",
            "Swordfish",
            "The Fast and the Furious",
            "Blow",
            "Final Fantasy: The Spirits Within",
            "Legally Blonde",
            "Hannibal",
            "The Royal Tenenbaums",
            "K-PAX",
            "American Pie 2",
            "A Knight's Tale",
            "Planet of the Apes",
            "Donnie Darko",
            "Moulin Rouge!",
            "Zoolander",
            "A Beautiful Mind",
            "Jurassic Park III",
            "My Big Fat Greek Wedding",
            "Austin Powers in Goldmember",
            "Punch-Drunk Love",
            "Catch Me If You Can",
            "Minority Report",
            "The Pianist",
            "Ice Age",
            "Gangs of New York",
            "8 Mile",
            "About a Boy",
            "Harry Potter and the Chamber of Secrets",
            "Road to Perdition",
            "Adaptation.",
            "Phone Booth",
            "The Ring",
            "Blade II",
            "Chicago",
            "28 Days Later",
            "Lilo & Stitch",
            "Resident Evil",
            "Bowling for Columbine",
            "Hero",
            "Men in Black II",
            "Signs",
            "The Count of Monte Cristo",
            "Star Wars: Episode II - Attack of the Clones",
            "Spider-Man",
            "Bend It Like Beckham",
            "The Lord of the Rings: The Two Towers",
            "Die Another Day",
            "The Bourne Identity",
            "Equilibrium",
            "Red Dragon",
            "City of God",
            "Panic Room",
            "Insomnia",
            "Underworld",
            "Love Actually",
            "Finding Nemo",
            "Kill Bill: Vol. 1",
            "The Matrix Reloaded",
            "Pirates of the Caribbean: The Curse of the Black Pearl",
            "The Last Samurai",
            "Oldboy",
            "Terminator 3: Rise of the Machines",
            "Elf",
            "Lost in Translation",
            "The League of Extraordinary Gentlemen",
            "Old School",
            "X2",
            "Daredevil",
            "Mystic River",
            "The Italian Job",
            "The Lord of the Rings: The Return of the King",
            "Hulk",
            "Identity",
            "The Matrix Revolutions",
            "Big Fish",
            "21 Grams",
            "Master and Commander: The Far Side of the World",
            "School of Rock",
            "Bruce Almighty",
            "The Incredibles",
            "Hotel Rwanda",
            "50 First Dates",
            "Ocean's Twelve",
            "The Day After Tomorrow",
            "Eternal Sunshine of the Spotless Mind",
            "Shaun of the Dead",
            "Saw",
            "The Village",
            "Meet the Fockers",
            "DodgeBall: A True Underdog Story",
            "The Bourne Supremacy",
            "Hellboy",
            "Howl's Moving Castle",
            "The Machinist",
            "Harry Potter and the Prisoner of Azkaban",
            "Man on Fire",
            "Mean Girls",
            "Garden State",
            "Team America: World Police",
            "Spider-Man 2",
            "Kill Bill: Vol. 2",
            "The Terminal",
            "Million Dollar Baby",
            "Crash",
            "National Treasure",
            "The Life Aquatic with Steve Zissou",
            "The Butterfly Effect",
            "Super Size Me",
            "I, Robot",
            "The Aviator",
            "Fahrenheit 9/11",
            "Shrek 2",
            "Troy",
            "Anchorman: The Legend of Ron Burgundy",
            "Collateral",
            "Napoleon Dynamite",
            "Finding Neverland",
            "The Notebook",
            "Sideways",
            "Wedding Crashers",
            "Batman Begins",
            "King Kong",
            "The Hitchhiker's Guide to the Galaxy",
            "Harry Potter and the Goblet of Fire",
            "Lord of War",
            "Charlie and the Chocolate Factory",
            "Mr. & Mrs. Smith",
            "The 40 Year Old Virgin",
            "War of the Worlds",
            "Constantine",
            "Corpse Bride",
            "Fantastic Four",
            "Walk the Line",
            "Sin City",
            "Pride & Prejudice",
            "Munich",
            "Kiss Kiss Bang Bang",
            "The Island",
            "Hitch",
            "Brokeback Mountain",
            "Thank You for Smoking",
            "Star Wars: Episode III - Revenge of the Sith",
            "The Chronicles of Narnia: The Lion, the Witch and the Wardrobe",
            "Serenity",
            "Madagascar",
            "Children of Men",
            "Stranger Than Fiction",
            "Borat: Cultural Learnings of America for Make Benefit Glorious Nation of Kazakhstan",
            "The Lives of Others",
            "The Pursuit of Happyness",
            "V for Vendetta",
            "The Devil Wears Prada",
            "Cars",
            "Lucky Number Slevin",
            "The Da Vinci Code",
            "Night at the Museum",
            "Blood Diamond",
            "Casino Royale",
            "Pirates of the Caribbean: Dead Man's Chest",
            "The Prestige",
            "300",
            "The Departed",
            "The Illusionist",
            "Inside Man",
            "Little Miss Sunshine",
            "Pan's Labyrinth",
            "X-Men: The Last Stand",
            "Harry Potter and the Order of the Phoenix",
            "3:10 to Yuma",
            "Juno",
            "Superbad",
            "Spider-Man 3",
            "Zodiac",
            "Ocean's Thirteen",
            "There Will Be Blood",
            "No Country for Old Men",
            "Transformers",
            "I Am Legend",
            "Ratatouille",
            "Into the Wild",
            "Knocked Up",
            "Stardust",
            "The Simpsons Movie",
            "American Gangster",
            "Pirates of the Caribbean: At World's End",
            "Live Free or Die Hard",
            "Sweeney Todd: The Demon Barber of Fleet Street",
            "The Bourne Ultimatum",
            "Hot Fuzz",
            "Burn After Reading",
            "The Dark Knight",
            "The Hurt Locker",
            "WALL·E",
            "Iron Man",
            "In Bruges",
            "Indiana Jones and the Kingdom of the Crystal Skull",
            "Gran Torino",
            "The Wrestler",
            "Tropic Thunder",
            "Cloverfield",
            "Taken",
            "Forgetting Sarah Marshall",
            "Slumdog Millionaire",
            "Twilight",
            "Hancock",
            "Quantum of Solace",
            "The Curious Case of Benjamin Button",
            "Kung Fu Panda",
            "Coraline",
            "Watchmen",
            "Inglourious Basterds",
            "The Blind Side",
            "(500) Days of Summer",
            "Avatar",
            "The Hangover",
            "Harry Potter and the Half-Blood Prince",
            "Fantastic Mr. Fox",
            "Moon",
            "Up in the Air",
            "X-Men Origins: Wolverine",
            "Up",
            "District 9",
            "Star Trek",
            "Sherlock Holmes",
            "Zombieland"
           ],
           "legendgroup": "",
           "marker": {
            "color": "#636efa",
            "size": [
             3.8768003783481664,
             3.265695437053326,
             2.876852832186342,
             3.8336601800170964,
             3.8059227921734533,
             3.8524278803081886,
             3.3876352395672336,
             3.498943045237664,
             3.394530860504537,
             2.7529431456787368,
             3.7975386242142983,
             3.347122779103686,
             3.456673093401885,
             3.7734241908006814,
             3.488753864193583,
             3.791361517976032,
             3.780396745792934,
             3.4504284772577454,
             2.717772160725181,
             4.063324170351779,
             3.21253534401508,
             3.3299970777323202,
             3.951473486205661,
             3.6209520331141953,
             3.0708174462940576,
             3.1038624384342866,
             3.0878756114605173,
             3.559661183402897,
             3.6151245126899516,
             3.1105570594101724,
             3.9949534773695,
             3.569032419576918,
             3.0440147111163838,
             3.051689379888719,
             3.0795249549007817,
             2.53809586689555,
             3.5725766362883182,
             3.993678056738874,
             2.9808583737797893,
             2.509899383317105,
             3.1277730634016243,
             3.663023497442455,
             4.1499575191163975,
             2.6575492341356672,
             2.974651892527947,
             3.673926718037427,
             2.430953105968331,
             3.6716621253405997,
             2.833935833709896,
             3.7179475628434995,
             3.2422947422947423,
             3.8486202707393264,
             3.7548282627709617,
             4.101282051282051,
             3.713,
             2.82799408575653,
             3.841056943217412,
             4.091188818716808,
             3.678158491145853,
             3.80918961447679,
             2.9644052044609666,
             2.764912850492584,
             3.6828080868143305,
             3.2765728239011778,
             3.386938667373162,
             3.399880974180553,
             4.212267265284564,
             3.625081168831169,
             3.2800708350360988,
             3.607235351246358,
             3.0712690213597655,
             2.9372215891432716,
             3.735930735930736,
             3.086248924577,
             3.1577326186094887,
             3.2158277343319748,
             3.77259521253079,
             3.5336185082540066,
             2.886996612721114,
             3.330984110712455,
             2.745055593820722,
             3.954067179279644,
             3.5290399606713954,
             3.2208824335434367,
             3.9610988664987405,
             2.7088261060008763,
             3.3876695147762015,
             2.9527383551673947,
             3.5519610870907967,
             3.92903168068731,
             3.6899983440967046,
             4.047393087287639,
             3.540186659346692,
             3.5363981042654027,
             3.2938172043010754,
             3.6366459627329193,
             3.6417839310031774,
             3.683810422564748,
             3.8351608187134505,
             3.350393157676921,
             3.3494741798775705,
             3.1195463738803815,
             3.5261511389187605,
             3.7555582702174446,
             3.524213249030033,
             3.176320272572402,
             3.7066231000807695,
             3.897158814958718,
             3.0116109295696307,
             3.2450275842044136,
             3.783409773841531,
             3.0537027373215047,
             3.4786404531822726,
             3.4626358695652173,
             4.0680511556963515,
             3.0862018023341706,
             3.908775143429875,
             3.730915848661012,
             3.562050486532224,
             4.18158741329044,
             3.2346062591797535,
             3.4835331313397444,
             3.3733503299340133,
             3.7291497975708503,
             3.8339767227471766,
             3.8578206757915274,
             3.3468825875823796,
             3.7892121309802027,
             3.668189605939463,
             4.080128472511888,
             3.0588082452797507,
             3.3494235398454326,
             3.7939422318611986,
             2.781758208039276,
             3.5999166782391336,
             3.6012122426489004,
             2.5169466106778646,
             3.8187326869806095,
             3.5507716394542608,
             4.0903399807075225,
             2.6377331420373027,
             3.6045719844357977,
             3.2099977868761758,
             3.7985794157918757,
             3.6893210749646395,
             3.6326051060586817,
             3.3860200621644534,
             3.210894684714427,
             3.854885151495321,
             3.9784505321933343,
             3.2867511094674557,
             3.327336331834083,
             3.051621596505901,
             4.066350639578631,
             3.8776715410573677,
             3.3129898013955983,
             3.2287759484609877,
             3.0375881523272215,
             3.302920603755062,
             3.8543626499427606,
             3.30687887203589,
             4.093274353120243,
             3.8155199287463817,
             3.811112096095031,
             3.807955292570677,
             3.5496789639786703,
             3.7374912526242126,
             3.4407224451991354,
             3.4454764776839566,
             3.8232229317240893,
             3.6001411148069753,
             3.8293636935112105,
             3.760454265340259,
             3.3807445868316393,
             3.7098781107160996,
             3.7028124001278364,
             3.5095757353614956,
             3.469776571791467,
             3.606186924089513,
             3.496595698692316,
             3.475467868105753,
             3.35157435508346,
             3.490556978233035,
             3.6867014827939943,
             3.3494759316770186,
             3.6998880875404128,
             3.683260267651131,
             3.65461262875056,
             3.4271955450063905,
             3.9299634988919308,
             3.199072987561605,
             3.434224209650582,
             3.7678798811544993,
             3.7655352480417754,
             3.1757178277213467,
             3.2337121506966606,
             3.457628844978611,
             3.141000094885663,
             3.45964590964591,
             3.5532083443358857,
             2.705553878659825,
             3.7807143647019794,
             3.780095191055633,
             3.8398146615919244,
             3.7134410393071287,
             3.8396147403685092,
             3.4066731141199225,
             3.3461399057629575,
             3.589728976697062,
             3.8206114208805997,
             3.388894829706464,
             3.393433455823614,
             3.9812515728546263,
             3.360500654926503,
             3.8978955055433846,
             3.7867494824016563,
             3.3622776319626713,
             4.200392285060477,
             3.836974702069831,
             3.908041554444017,
             3.47936694021102,
             3.325702712654965,
             3.849455192350456,
             3.1486119807973285,
             3.0459352280237937,
             3.844497022109815,
             3.82065509655341,
             3.4570565520677627,
             4.093231050865188,
             3.567504928339283,
             4.12123663338989,
             3.808407643312102,
             3.89065606361829,
             3.8633714825703485,
             3.979917455204349,
             3.2537871703759116,
             3.768890283005716,
             3.7316413875957353,
             3.7328471539385992,
             3.7347471953281084,
             2.863171036204744,
             3.744266633064516,
             3.5142060541688793,
             3.982726005575468,
             4.026144852224748,
             3.0907170873981697,
             3.491044986602736,
             3.8111395312418437,
             3.8751936483346245,
             3.413657770800628,
             3.812228708277204,
             3.397111716621253,
             3.7935357094457243,
             3.3906291361510634,
             3.454859028194361,
             3.4549924357034794,
             3.919385562176419,
             3.8518737809974923,
             3.5426376440460947,
             4.166538211421277,
             3.7274175756832943,
             4.004931687002265,
             3.833800786880137,
             3.8866075594960336,
             2.8993029624097586,
             3.9093684837652667,
             3.798507462686567,
             3.379861591695502,
             3.3194640338504935,
             3.7480179704016914,
             3.562898207141799,
             3.832616788129817,
             2.391414554374489,
             3.1386393659180976,
             3.3197583511016346,
             3.5953075042317097,
             3.6060040856203925,
             3.7189127105666158,
             3.7075786662215173,
             4.011396628677905,
             3.7241286138881384,
             3.72534353800661,
             3.6222502851556135,
             3.599251506115743,
             3.834885361552028,
             3.871353654539495,
             4.017547837127052,
             3.6824505928853757,
             3.175597293191548,
             3.9635849882596412,
             3.806483027267668,
             3.8380049720323184,
             3.746882535308302,
             3.7629512767830935
            ],
            "sizemode": "area",
            "sizeref": 0.011033940011290837,
            "symbol": "circle"
           },
           "mode": "markers",
           "name": "",
           "orientation": "v",
           "showlegend": false,
           "type": "scatter",
           "x": [
            26000000,
            55000000,
            123000000,
            60000000,
            30000000,
            17000000,
            40000000,
            75000000,
            55000000,
            92000000,
            48000000,
            41300000,
            23000000,
            30000000,
            45000000,
            4500000,
            5000000,
            110000000,
            19000000,
            10000000,
            100000000,
            62000000,
            103000000,
            100000000,
            120000000,
            70000000,
            90000000,
            75000000,
            7000000,
            23000000,
            2000000,
            31000000,
            33000000,
            45000000,
            40000000,
            95000000,
            52000000,
            4500000,
            125000000,
            13000000,
            16000000,
            90000000,
            9000000,
            90000000,
            51000000,
            25000000,
            40000000,
            43000000,
            140000000,
            45000000,
            90000000,
            115000000,
            60000000,
            10000000,
            68000000,
            40000000,
            15000000,
            93000000,
            125000000,
            85000000,
            98000000,
            115000000,
            92000000,
            100000000,
            25000000,
            68000000,
            15000000,
            92000000,
            22000000,
            19800000,
            102000000,
            38000000,
            53000000,
            137000000,
            18000000,
            87000000,
            21000000,
            48000000,
            30000000,
            65000000,
            100000000,
            6000000,
            52500000,
            28000000,
            60000000,
            93000000,
            5000000,
            63000000,
            25000000,
            52000000,
            102000000,
            35000000,
            59000000,
            100000000,
            41000000,
            27000000,
            100000000,
            80000000,
            19000000,
            13000000,
            48000000,
            54000000,
            45000000,
            5000000,
            80000000,
            33000000,
            4000000,
            31000000,
            140000000,
            72000000,
            35000000,
            120000000,
            139000000,
            3500159,
            79000000,
            140000000,
            60000000,
            20000000,
            78000000,
            3300000,
            48000000,
            46000000,
            22000000,
            40000000,
            94000000,
            30000000,
            150000000,
            140000000,
            140000000,
            3000000,
            200000000,
            32000000,
            4000000,
            78000000,
            24000000,
            110000000,
            78000000,
            25000000,
            60000000,
            94000000,
            137000000,
            30000000,
            150000000,
            70000000,
            20000000,
            150000000,
            35000000,
            80000000,
            92000000,
            17500000,
            75000000,
            110000000,
            125000000,
            20000000,
            4000000,
            1200000,
            60000000,
            80000000,
            20000000,
            75000000,
            66000000,
            24000000,
            5000000,
            130000000,
            70000000,
            17000000,
            2500000,
            32000000,
            200000000,
            30000000,
            60000000,
            30000000,
            6500000,
            100000000,
            50000000,
            13000000,
            65000,
            120000000,
            116000000,
            6000000,
            150000000,
            175000000,
            26000000,
            65000000,
            400000,
            25000000,
            29000000,
            16000000,
            40000000,
            150000000,
            207000000,
            50000000,
            150000000,
            42000000,
            150000000,
            110000000,
            26000000,
            132000000,
            100000000,
            40000000,
            100000000,
            28000000,
            40000000,
            28000000,
            70000000,
            15000000,
            126000000,
            70000000,
            14000000,
            6500000,
            113000000,
            180000000,
            39000000,
            75000000,
            76000000,
            30000000,
            18000000,
            2000000,
            55000000,
            54000000,
            35000000,
            120000000,
            27000000,
            125000000,
            110000000,
            100000000,
            150000000,
            200000000,
            40000000,
            65000000,
            90000000,
            40000000,
            45000000,
            8000000,
            19000000,
            210000000,
            150000000,
            55000000,
            7500000,
            20000000,
            258000000,
            65000000,
            85000000,
            25000000,
            25000000,
            150000000,
            150000000,
            150000000,
            15000000,
            30000000,
            70000000,
            75000000,
            100000000,
            300000000,
            110000000,
            50000000,
            70000000,
            12000000,
            37000000,
            185000000,
            15000000,
            180000000,
            140000000,
            15000000,
            185000000,
            33000000,
            6000000,
            92000000,
            25000000,
            25000000,
            30000000,
            15000000,
            37000000,
            150000000,
            200000000,
            150000000,
            130000000,
            60000000,
            130000000,
            70000000,
            29000000,
            7500000,
            237000000,
            35000000,
            250000000,
            40000000,
            5000000,
            25000000,
            150000000,
            175000000,
            30000000,
            150000000,
            90000000,
            23600000
           ],
           "xaxis": "x",
           "y": [
            176.4166423076923,
            3.5132818181818184,
            180.60276666666667,
            -21.027185,
            57.087650000000004,
            1156.0337411764706,
            39.2685275,
            230.82416133333334,
            500.80735454545453,
            187.0712445652174,
            332.3244270833333,
            157.5584769975787,
            131.25069130434784,
            355.6889433333333,
            399.6323644444444,
            455.55555555555554,
            2100,
            95.72212909090909,
            1363.2619526315789,
            735.57872,
            55.464351,
            105.91357258064515,
            344.3110941747573,
            69.327687,
            171.46386416666667,
            434.4452957142857,
            163.55811,
            295.11936933333334,
            389.52234285714286,
            131.74919130434785,
            945.42335,
            119.69756451612903,
            215.62376666666668,
            371.11111111111114,
            260.1421825,
            100.22468947368421,
            392.8293961538461,
            64.22462222222222,
            337.110484,
            462.92863846153847,
            648.4642375,
            377.3690466666667,
            341.3677333333333,
            -32.361538888888894,
            192.68823333333333,
            510.00137199999995,
            304.58569,
            86.16224186046512,
            220.8721035714286,
            133.05829555555556,
            285.91755777777774,
            389.40544,
            707.3486966666667,
            1639.2195399999998,
            42.61216176470588,
            252.67464999999999,
            34.11559333333333,
            836.9552301075269,
            681.18044,
            430.2554705882353,
            341.85027959183674,
            138.8724695652174,
            88.03222934782609,
            135.926552,
            1027.71918,
            199.10050147058826,
            1732.8339666666668,
            55.488652173913046,
            53.58255,
            343.2022424242424,
            44.19648333333333,
            445.48401315789476,
            57.13640754716981,
            -37.85997810218978,
            687.6371055555555,
            304.2439862068965,
            240.19642857142856,
            4.8232083333333335,
            858.5119833333333,
            80.74995846153847,
            262.21174,
            -78.82463333333334,
            241.35892190476193,
            117.07493214285714,
            422.57056833333337,
            296.53850430107525,
            7274.880880000001,
            370.8816365079365,
            -32,
            577.1429076923077,
            251.34600588235293,
            243.06450571428573,
            549.5883661016949,
            93.772504,
            424.39024390243907,
            377.77777777777777,
            776.6884819999999,
            126.2518475,
            72.63775263157895,
            652.5933692307692,
            419.47694375,
            187.05561481481482,
            581.7260711111112,
            1554.3977,
            82.21440875,
            212.0753393939394,
            789.111825,
            472.2401032258064,
            215.58485928571426,
            467.01099583333337,
            115.41442285714285,
            441.1652733333334,
            491.15723093525185,
            2087.861779993423,
            1072.5156962025317,
            208.55079714285716,
            256.72370666666666,
            -73.201775,
            168.20038205128205,
            828.5384848484849,
            309.16128125,
            147.20615217391304,
            335.0384409090909,
            512.329415,
            900.3569531914893,
            503.16333333333336,
            392.3998006666667,
            367.86516,
            226.25641500000003,
            399.3335,
            117.5,
            441.87036875,
            2893.0964,
            129.8271846153846,
            262.7306208333333,
            270.6468627272727,
            129.71758717948717,
            527.28808,
            193.450285,
            1090.3074244680852,
            79.09524087591241,
            200.86512000000002,
            183.325474,
            75.59865,
            202.139195,
            41.34074066666666,
            275.09414,
            505.71604375000004,
            586.3501,
            117.14285714285715,
            161.977176,
            229.76752727272728,
            335.4179216,
            261.29063,
            650.9848,
            8559.30575,
            327.8292,
            545.8036737499999,
            738.61155,
            284.666956,
            50.48331363636363,
            877.9602291666666,
            64.0647,
            507.5419646153846,
            86.13387714285714,
            659.0757117647059,
            971.26892,
            59.085693750000004,
            291.8831705,
            407.19820333333337,
            265.695425,
            622.5454866666666,
            1414.0009384615385,
            247.45189399999998,
            -30.383194000000003,
            638.929676923077,
            43861.65846153846,
            189.36243,
            -12.068965517241379,
            1885.24195,
            513.2258386666667,
            184.23420114285713,
            248.36226153846152,
            235.02198615384614,
            11429.52425,
            367.066224,
            298.631824137931,
            584.38939375,
            612.9418525,
            149.47911533333334,
            165.70048309178745,
            108.95683199999999,
            497.28069066666666,
            -42.55263095238095,
            216.64584200000002,
            334.7341090909091,
            320.9586038461539,
            348.28740833333336,
            130.884728,
            192.9876525,
            230.57971899999998,
            565.8531535714285,
            296.83455,
            332.6712392857143,
            86.22701571428571,
            5.23432,
            29.324733333333334,
            425.8577428571429,
            1171.74115,
            281.4386,
            652.2123893805309,
            316.003865,
            -0.3347076923076923,
            610.2408946666667,
            -7.94769605263158,
            78.84408,
            1353.1819111111113,
            3400,
            458.3223545454546,
            145.39080555555554,
            833.0031257142856,
            284.9859575,
            108.55141111111111,
            514.2563672,
            422.25531,
            70.877916,
            299.3639733333334,
            432.829906,
            174.1907775,
            550.1698753846154,
            222.05261555555555,
            117.2875425,
            309.7250088888889,
            1156.5397624999998,
            338.2011894736842,
            118.74264523809524,
            525.4751586666667,
            27.302218181818183,
            2985.4877866666666,
            507.31613,
            245.29907984496126,
            30.439867692307693,
            266.25014588235297,
            208.83484399999998,
            586.4,
            373.13985333333335,
            290.2326733333333,
            315.815212,
            275.03427999999997,
            630.25506,
            93.65718,
            602.758468,
            166.465037,
            220.33333333333331,
            248.6649672727273,
            204,
            532.6059114285714,
            571.4481166666667,
            342.486672972973,
            443.00456432432435,
            180,
            189.6177,
            317.98158714285717,
            130.22522,
            325.2086664864865,
            718.0552363636364,
            645.0665833333334,
            104.42679239130435,
            583.056104,
            807.322272,
            250.57705,
            2419.4036266666667,
            961.1260135135135,
            316.0195806666667,
            193.04536349999998,
            122.62138866666668,
            385.95735384615386,
            107.66066333333333,
            42.50691,
            355.9015,
            966.235548275862,
            709.6364533333333,
            1076.356576793249,
            1212.2017685714286,
            273.5836788,
            16.1775575,
            95.20208,
            554.6800000000001,
            148.708576,
            320.0566182857143,
            602.7320366666667,
            157.12029733333333,
            482.2540877777778,
            333.86178813559326
           ],
           "yaxis": "y"
          }
         ],
         "name": "2000"
        },
        {
         "data": [
          {
           "hovertemplate": "<b>%{hovertext}</b><br><br>release_decade=2010<br>Presupuesto=%{x}<br>Porcentaje de Ganancia=%{y}<br>rating=%{marker.size}<extra></extra>",
           "hovertext": [
            "Iron Man 2",
            "127 Hours",
            "Kick-Ass",
            "Toy Story 3",
            "Black Swan",
            "The King's Speech",
            "How to Train Your Dragon",
            "Scott Pilgrim vs. the World",
            "Harry Potter and the Deathly Hallows: Part 1",
            "Inception",
            "True Grit",
            "The Social Network",
            "Shutter Island",
            "Alice in Wonderland",
            "Tangled",
            "Despicable Me",
            "Limitless",
            "X-Men: First Class",
            "Moneyball",
            "Drive",
            "Sherlock Holmes: A Game of Shadows",
            "The Girl with the Dragon Tattoo",
            "Rise of the Planet of the Apes",
            "Source Code",
            "Captain America: The First Avenger",
            "Harry Potter and the Deathly Hallows: Part 2",
            "Midnight in Paris",
            "The Intouchables",
            "Thor",
            "Mission: Impossible - Ghost Protocol",
            "The Hobbit: An Unexpected Journey",
            "Prometheus",
            "21 Jump Street",
            "The Avengers",
            "Argo",
            "The Perks of Being a Wallflower",
            "Silver Linings Playbook",
            "The Hunger Games",
            "The Cabin in the Woods",
            "Skyfall",
            "Life of Pi",
            "The Dark Knight Rises",
            "Brave",
            "Django Unchained",
            "The Amazing Spider-Man",
            "Looper",
            "Moonrise Kingdom",
            "Wreck-It Ralph",
            "Iron Man 3",
            "The Hunger Games: Catching Fire",
            "Star Trek Into Darkness",
            "Frozen",
            "Gravity",
            "World War Z",
            "The Hobbit: The Desolation of Smaug",
            "Her",
            "The Wolf of Wall Street",
            "Now You See Me",
            "Dallas Buyers Club",
            "Birdman",
            "The Grand Budapest Hotel",
            "The Imitation Game",
            "Nightcrawler",
            "Edge of Tomorrow",
            "Gone Girl",
            "Guardians of the Galaxy",
            "Whiplash",
            "The Lego Movie",
            "John Wick",
            "The Hunger Games: Mockingjay - Part 1",
            "Interstellar",
            "Big Hero 6",
            "Captain America: The Winter Soldier",
            "X-Men: Days of Future Past",
            "Ant-Man",
            "The Big Short",
            "Star Wars: The Force Awakens",
            "The Martian",
            "Ex Machina",
            "Inside Out",
            "Avengers: Age of Ultron",
            "Mad Max: Fury Road",
            "The Hateful Eight",
            "Kingsman: The Secret Service",
            "The Revenant",
            "Arrival",
            "Zootopia",
            "Captain America: Civil War",
            "Rogue One: A Star Wars Story",
            "Doctor Strange",
            "Deadpool",
            "Guardians of the Galaxy Vol. 2",
            "Logan"
           ],
           "ids": [
            "Iron Man 2",
            "127 Hours",
            "Kick-Ass",
            "Toy Story 3",
            "Black Swan",
            "The King's Speech",
            "How to Train Your Dragon",
            "Scott Pilgrim vs. the World",
            "Harry Potter and the Deathly Hallows: Part 1",
            "Inception",
            "True Grit",
            "The Social Network",
            "Shutter Island",
            "Alice in Wonderland",
            "Tangled",
            "Despicable Me",
            "Limitless",
            "X-Men: First Class",
            "Moneyball",
            "Drive",
            "Sherlock Holmes: A Game of Shadows",
            "The Girl with the Dragon Tattoo",
            "Rise of the Planet of the Apes",
            "Source Code",
            "Captain America: The First Avenger",
            "Harry Potter and the Deathly Hallows: Part 2",
            "Midnight in Paris",
            "The Intouchables",
            "Thor",
            "Mission: Impossible - Ghost Protocol",
            "The Hobbit: An Unexpected Journey",
            "Prometheus",
            "21 Jump Street",
            "The Avengers",
            "Argo",
            "The Perks of Being a Wallflower",
            "Silver Linings Playbook",
            "The Hunger Games",
            "The Cabin in the Woods",
            "Skyfall",
            "Life of Pi",
            "The Dark Knight Rises",
            "Brave",
            "Django Unchained",
            "The Amazing Spider-Man",
            "Looper",
            "Moonrise Kingdom",
            "Wreck-It Ralph",
            "Iron Man 3",
            "The Hunger Games: Catching Fire",
            "Star Trek Into Darkness",
            "Frozen",
            "Gravity",
            "World War Z",
            "The Hobbit: The Desolation of Smaug",
            "Her",
            "The Wolf of Wall Street",
            "Now You See Me",
            "Dallas Buyers Club",
            "Birdman",
            "The Grand Budapest Hotel",
            "The Imitation Game",
            "Nightcrawler",
            "Edge of Tomorrow",
            "Gone Girl",
            "Guardians of the Galaxy",
            "Whiplash",
            "The Lego Movie",
            "John Wick",
            "The Hunger Games: Mockingjay - Part 1",
            "Interstellar",
            "Big Hero 6",
            "Captain America: The Winter Soldier",
            "X-Men: Days of Future Past",
            "Ant-Man",
            "The Big Short",
            "Star Wars: The Force Awakens",
            "The Martian",
            "Ex Machina",
            "Inside Out",
            "Avengers: Age of Ultron",
            "Mad Max: Fury Road",
            "The Hateful Eight",
            "Kingsman: The Secret Service",
            "The Revenant",
            "Arrival",
            "Zootopia",
            "Captain America: Civil War",
            "Rogue One: A Star Wars Story",
            "Doctor Strange",
            "Deadpool",
            "Guardians of the Galaxy Vol. 2",
            "Logan"
           ],
           "legendgroup": "",
           "marker": {
            "color": "#636efa",
            "size": [
             3.4804171988080035,
             3.615000779666303,
             3.610361768646717,
             3.857756827949536,
             3.7858622475401345,
             3.916974674880219,
             3.9112629219981203,
             3.7633714102700973,
             3.8654379847719347,
             4.155508420105412,
             3.789282889533351,
             3.75406156477127,
             3.964762257757069,
             3.0910222612770943,
             3.7333333333333334,
             3.698022364878857,
             3.8465528944051197,
             3.730587594223958,
             3.862861491628615,
             3.8276647771479384,
             3.725545950864422,
             3.811182565201858,
             3.547622083386459,
             3.7489478114478114,
             3.515557328470481,
             3.906986250464511,
             3.780576631259484,
             4.124754805806199,
             3.3739905610907184,
             3.637355685592282,
             3.6632288228822882,
             3.356494275562574,
             3.5976107666717074,
             3.780246983837924,
             3.7677668031799567,
             3.839022435897436,
             3.7094068632825348,
             3.51899425078233,
             3.634873088443954,
             3.7306280193236714,
             3.6783304173956513,
             3.9713489353153877,
             3.527423469387755,
             4.004882293227631,
             3.270796173179828,
             3.655163803435877,
             3.959125834487971,
             3.7200797872340425,
             3.5177253478523896,
             3.5082304526748973,
             3.7413908615838136,
             3.4850415512465376,
             3.6170499021526417,
             3.2801920572916665,
             3.6297756215888417,
             3.884541618718834,
             3.8875540300025424,
             3.6402393970740357,
             3.9095532950022114,
             3.7311665059909105,
             4.016746960311998,
             3.995328608247423,
             3.9468201007762493,
             3.9400804828973843,
             3.9342721173349977,
             3.932246998284734,
             4.137847750245997,
             3.6869186918691867,
             3.7958638583638584,
             3.4284490812830892,
             4.097927896085535,
             3.879612679448887,
             3.7012564249000572,
             3.736804328621908,
             3.575085857009054,
             4.02710027100271,
             3.739115002366304,
             4.033416216871854,
             3.96935522435642,
             3.93240058910162,
             3.5617795622328714,
             3.855033756213369,
             3.866135328562134,
             3.798284823284823,
             3.795143300861217,
             4.02751065728165,
             3.893646408839779,
             3.7235798159314504,
             3.781021897810219,
             3.752340752110514,
             3.852661870503597,
             3.8693748112352764,
             3.8945689271405253
            ],
            "sizemode": "area",
            "sizeref": 0.011033940011290837,
            "symbol": "circle"
           },
           "mode": "markers",
           "name": "",
           "orientation": "v",
           "showlegend": false,
           "type": "scatter",
           "x": [
            200000000,
            18000000,
            28000000,
            200000000,
            13000000,
            15000000,
            165000000,
            60000000,
            250000000,
            160000000,
            38000000,
            40000000,
            80000000,
            200000000,
            260000000,
            69000000,
            27000000,
            160000000,
            50000000,
            15000000,
            125000000,
            90000000,
            93000000,
            32000000,
            140000000,
            125000000,
            30000000,
            13000000,
            150000000,
            145000000,
            250000000,
            130000000,
            42000000,
            220000000,
            44500000,
            13000000,
            21000000,
            75000000,
            30000000,
            200000000,
            120000000,
            250000000,
            185000000,
            100000000,
            215000000,
            30000000,
            16000000,
            165000000,
            200000000,
            130000000,
            190000000,
            150000000,
            105000000,
            200000000,
            250000000,
            23000000,
            100000000,
            75000000,
            5000000,
            18000000,
            30000000,
            14000000,
            8500000,
            178000000,
            61000000,
            170000000,
            3300000,
            60000000,
            20000000,
            125000000,
            165000000,
            165000000,
            170000000,
            250000000,
            130000000,
            28000000,
            245000000,
            108000000,
            15000000,
            175000000,
            280000000,
            150000000,
            44000000,
            81000000,
            135000000,
            47000000,
            150000000,
            250000000,
            200000000,
            165000000,
            58000000,
            200000000,
            97000000
           ],
           "xaxis": "x",
           "y": [
            211.9666655,
            98.294,
            243.53179642857143,
            433.4848515,
            2421.5671615384613,
            2661.4103266666666,
            199.9265206060606,
            -20.559068333333332,
            281.7223472,
            415.9579775,
            563.88665,
            462.3007875,
            268.50524375,
            412.74555499999997,
            127.61343692307692,
            687.7014275362319,
            499.4424259259259,
            121.0150775,
            120.412432,
            420.36550000000005,
            167.692,
            158.4638111111111,
            419.20450000000005,
            360.41467812499997,
            164.69269571428572,
            973.6,
            403.73073,
            3180.6220846153847,
            199.55107866666665,
            379.11267586206895,
            308.4414272,
            210.13087846153846,
            379.96506666666664,
            590.708140909091,
            422.07669213483143,
            156.92307692307693,
            879.7081619047619,
            821.614256,
            121.62026666666668,
            454.28050649999994,
            407.51380416666666,
            333.97563959999997,
            191.34227405405406,
            325.36823799999996,
            249.86784046511627,
            56.80666666666667,
            326.6447875,
            185.5896296969697,
            507.719997,
            551.8641938461539,
            145.98170842105262,
            749.4793393333333,
            582.2787666666667,
            165.9325,
            283.36,
            105.87500434782609,
            292.000694,
            56.93185866666667,
            1003.9657,
            473.41718888888886,
            482.00106,
            1568.2550571428571,
            355.26137647058823,
            108.16924494382023,
            505.4596114754099,
            354.8991935294118,
            296.72727272727275,
            681.9344866666667,
            343.808305,
            501.6801832,
            309.16364666666664,
            295.21542,
            320.45092470588236,
            199.14511,
            299.4707423076923,
            376.2375214285714,
            744.1729077551021,
            483.4832314814815,
            145.79609333333335,
            390.063528,
            401.9298907142857,
            152.57222666666667,
            254.00026590909093,
            411.54511851851856,
            294.7781503703704,
            332.74082127659574,
            582.5227966666666,
            361.321798,
            428.0286365,
            310.73842121212124,
            1250.1947913793103,
            331.7080705,
            535.8781525773196
           ],
           "yaxis": "y"
          }
         ],
         "name": "2010"
        }
       ],
       "layout": {
        "legend": {
         "itemsizing": "constant",
         "tracegroupgap": 0
        },
        "sliders": [
         {
          "active": 0,
          "currentvalue": {
           "prefix": "release_decade="
          },
          "len": 0.9,
          "pad": {
           "b": 10,
           "t": 60
          },
          "steps": [
           {
            "args": [
             [
              "1920"
             ],
             {
              "frame": {
               "duration": 0,
               "redraw": false
              },
              "fromcurrent": true,
              "mode": "immediate",
              "transition": {
               "duration": 0,
               "easing": "linear"
              }
             }
            ],
            "label": "1920",
            "method": "animate"
           },
           {
            "args": [
             [
              "1930"
             ],
             {
              "frame": {
               "duration": 0,
               "redraw": false
              },
              "fromcurrent": true,
              "mode": "immediate",
              "transition": {
               "duration": 0,
               "easing": "linear"
              }
             }
            ],
            "label": "1930",
            "method": "animate"
           },
           {
            "args": [
             [
              "1940"
             ],
             {
              "frame": {
               "duration": 0,
               "redraw": false
              },
              "fromcurrent": true,
              "mode": "immediate",
              "transition": {
               "duration": 0,
               "easing": "linear"
              }
             }
            ],
            "label": "1940",
            "method": "animate"
           },
           {
            "args": [
             [
              "1950"
             ],
             {
              "frame": {
               "duration": 0,
               "redraw": false
              },
              "fromcurrent": true,
              "mode": "immediate",
              "transition": {
               "duration": 0,
               "easing": "linear"
              }
             }
            ],
            "label": "1950",
            "method": "animate"
           },
           {
            "args": [
             [
              "1960"
             ],
             {
              "frame": {
               "duration": 0,
               "redraw": false
              },
              "fromcurrent": true,
              "mode": "immediate",
              "transition": {
               "duration": 0,
               "easing": "linear"
              }
             }
            ],
            "label": "1960",
            "method": "animate"
           },
           {
            "args": [
             [
              "1970"
             ],
             {
              "frame": {
               "duration": 0,
               "redraw": false
              },
              "fromcurrent": true,
              "mode": "immediate",
              "transition": {
               "duration": 0,
               "easing": "linear"
              }
             }
            ],
            "label": "1970",
            "method": "animate"
           },
           {
            "args": [
             [
              "1980"
             ],
             {
              "frame": {
               "duration": 0,
               "redraw": false
              },
              "fromcurrent": true,
              "mode": "immediate",
              "transition": {
               "duration": 0,
               "easing": "linear"
              }
             }
            ],
            "label": "1980",
            "method": "animate"
           },
           {
            "args": [
             [
              "1990"
             ],
             {
              "frame": {
               "duration": 0,
               "redraw": false
              },
              "fromcurrent": true,
              "mode": "immediate",
              "transition": {
               "duration": 0,
               "easing": "linear"
              }
             }
            ],
            "label": "1990",
            "method": "animate"
           },
           {
            "args": [
             [
              "2000"
             ],
             {
              "frame": {
               "duration": 0,
               "redraw": false
              },
              "fromcurrent": true,
              "mode": "immediate",
              "transition": {
               "duration": 0,
               "easing": "linear"
              }
             }
            ],
            "label": "2000",
            "method": "animate"
           },
           {
            "args": [
             [
              "2010"
             ],
             {
              "frame": {
               "duration": 0,
               "redraw": false
              },
              "fromcurrent": true,
              "mode": "immediate",
              "transition": {
               "duration": 0,
               "easing": "linear"
              }
             }
            ],
            "label": "2010",
            "method": "animate"
           }
          ],
          "x": 0.1,
          "xanchor": "left",
          "y": 0,
          "yanchor": "top"
         }
        ],
        "template": {
         "data": {
          "bar": [
           {
            "error_x": {
             "color": "#2a3f5f"
            },
            "error_y": {
             "color": "#2a3f5f"
            },
            "marker": {
             "line": {
              "color": "#E5ECF6",
              "width": 0.5
             },
             "pattern": {
              "fillmode": "overlay",
              "size": 10,
              "solidity": 0.2
             }
            },
            "type": "bar"
           }
          ],
          "barpolar": [
           {
            "marker": {
             "line": {
              "color": "#E5ECF6",
              "width": 0.5
             },
             "pattern": {
              "fillmode": "overlay",
              "size": 10,
              "solidity": 0.2
             }
            },
            "type": "barpolar"
           }
          ],
          "carpet": [
           {
            "aaxis": {
             "endlinecolor": "#2a3f5f",
             "gridcolor": "white",
             "linecolor": "white",
             "minorgridcolor": "white",
             "startlinecolor": "#2a3f5f"
            },
            "baxis": {
             "endlinecolor": "#2a3f5f",
             "gridcolor": "white",
             "linecolor": "white",
             "minorgridcolor": "white",
             "startlinecolor": "#2a3f5f"
            },
            "type": "carpet"
           }
          ],
          "choropleth": [
           {
            "colorbar": {
             "outlinewidth": 0,
             "ticks": ""
            },
            "type": "choropleth"
           }
          ],
          "contour": [
           {
            "colorbar": {
             "outlinewidth": 0,
             "ticks": ""
            },
            "colorscale": [
             [
              0,
              "#0d0887"
             ],
             [
              0.1111111111111111,
              "#46039f"
             ],
             [
              0.2222222222222222,
              "#7201a8"
             ],
             [
              0.3333333333333333,
              "#9c179e"
             ],
             [
              0.4444444444444444,
              "#bd3786"
             ],
             [
              0.5555555555555556,
              "#d8576b"
             ],
             [
              0.6666666666666666,
              "#ed7953"
             ],
             [
              0.7777777777777778,
              "#fb9f3a"
             ],
             [
              0.8888888888888888,
              "#fdca26"
             ],
             [
              1,
              "#f0f921"
             ]
            ],
            "type": "contour"
           }
          ],
          "contourcarpet": [
           {
            "colorbar": {
             "outlinewidth": 0,
             "ticks": ""
            },
            "type": "contourcarpet"
           }
          ],
          "heatmap": [
           {
            "colorbar": {
             "outlinewidth": 0,
             "ticks": ""
            },
            "colorscale": [
             [
              0,
              "#0d0887"
             ],
             [
              0.1111111111111111,
              "#46039f"
             ],
             [
              0.2222222222222222,
              "#7201a8"
             ],
             [
              0.3333333333333333,
              "#9c179e"
             ],
             [
              0.4444444444444444,
              "#bd3786"
             ],
             [
              0.5555555555555556,
              "#d8576b"
             ],
             [
              0.6666666666666666,
              "#ed7953"
             ],
             [
              0.7777777777777778,
              "#fb9f3a"
             ],
             [
              0.8888888888888888,
              "#fdca26"
             ],
             [
              1,
              "#f0f921"
             ]
            ],
            "type": "heatmap"
           }
          ],
          "heatmapgl": [
           {
            "colorbar": {
             "outlinewidth": 0,
             "ticks": ""
            },
            "colorscale": [
             [
              0,
              "#0d0887"
             ],
             [
              0.1111111111111111,
              "#46039f"
             ],
             [
              0.2222222222222222,
              "#7201a8"
             ],
             [
              0.3333333333333333,
              "#9c179e"
             ],
             [
              0.4444444444444444,
              "#bd3786"
             ],
             [
              0.5555555555555556,
              "#d8576b"
             ],
             [
              0.6666666666666666,
              "#ed7953"
             ],
             [
              0.7777777777777778,
              "#fb9f3a"
             ],
             [
              0.8888888888888888,
              "#fdca26"
             ],
             [
              1,
              "#f0f921"
             ]
            ],
            "type": "heatmapgl"
           }
          ],
          "histogram": [
           {
            "marker": {
             "pattern": {
              "fillmode": "overlay",
              "size": 10,
              "solidity": 0.2
             }
            },
            "type": "histogram"
           }
          ],
          "histogram2d": [
           {
            "colorbar": {
             "outlinewidth": 0,
             "ticks": ""
            },
            "colorscale": [
             [
              0,
              "#0d0887"
             ],
             [
              0.1111111111111111,
              "#46039f"
             ],
             [
              0.2222222222222222,
              "#7201a8"
             ],
             [
              0.3333333333333333,
              "#9c179e"
             ],
             [
              0.4444444444444444,
              "#bd3786"
             ],
             [
              0.5555555555555556,
              "#d8576b"
             ],
             [
              0.6666666666666666,
              "#ed7953"
             ],
             [
              0.7777777777777778,
              "#fb9f3a"
             ],
             [
              0.8888888888888888,
              "#fdca26"
             ],
             [
              1,
              "#f0f921"
             ]
            ],
            "type": "histogram2d"
           }
          ],
          "histogram2dcontour": [
           {
            "colorbar": {
             "outlinewidth": 0,
             "ticks": ""
            },
            "colorscale": [
             [
              0,
              "#0d0887"
             ],
             [
              0.1111111111111111,
              "#46039f"
             ],
             [
              0.2222222222222222,
              "#7201a8"
             ],
             [
              0.3333333333333333,
              "#9c179e"
             ],
             [
              0.4444444444444444,
              "#bd3786"
             ],
             [
              0.5555555555555556,
              "#d8576b"
             ],
             [
              0.6666666666666666,
              "#ed7953"
             ],
             [
              0.7777777777777778,
              "#fb9f3a"
             ],
             [
              0.8888888888888888,
              "#fdca26"
             ],
             [
              1,
              "#f0f921"
             ]
            ],
            "type": "histogram2dcontour"
           }
          ],
          "mesh3d": [
           {
            "colorbar": {
             "outlinewidth": 0,
             "ticks": ""
            },
            "type": "mesh3d"
           }
          ],
          "parcoords": [
           {
            "line": {
             "colorbar": {
              "outlinewidth": 0,
              "ticks": ""
             }
            },
            "type": "parcoords"
           }
          ],
          "pie": [
           {
            "automargin": true,
            "type": "pie"
           }
          ],
          "scatter": [
           {
            "fillpattern": {
             "fillmode": "overlay",
             "size": 10,
             "solidity": 0.2
            },
            "type": "scatter"
           }
          ],
          "scatter3d": [
           {
            "line": {
             "colorbar": {
              "outlinewidth": 0,
              "ticks": ""
             }
            },
            "marker": {
             "colorbar": {
              "outlinewidth": 0,
              "ticks": ""
             }
            },
            "type": "scatter3d"
           }
          ],
          "scattercarpet": [
           {
            "marker": {
             "colorbar": {
              "outlinewidth": 0,
              "ticks": ""
             }
            },
            "type": "scattercarpet"
           }
          ],
          "scattergeo": [
           {
            "marker": {
             "colorbar": {
              "outlinewidth": 0,
              "ticks": ""
             }
            },
            "type": "scattergeo"
           }
          ],
          "scattergl": [
           {
            "marker": {
             "colorbar": {
              "outlinewidth": 0,
              "ticks": ""
             }
            },
            "type": "scattergl"
           }
          ],
          "scattermapbox": [
           {
            "marker": {
             "colorbar": {
              "outlinewidth": 0,
              "ticks": ""
             }
            },
            "type": "scattermapbox"
           }
          ],
          "scatterpolar": [
           {
            "marker": {
             "colorbar": {
              "outlinewidth": 0,
              "ticks": ""
             }
            },
            "type": "scatterpolar"
           }
          ],
          "scatterpolargl": [
           {
            "marker": {
             "colorbar": {
              "outlinewidth": 0,
              "ticks": ""
             }
            },
            "type": "scatterpolargl"
           }
          ],
          "scatterternary": [
           {
            "marker": {
             "colorbar": {
              "outlinewidth": 0,
              "ticks": ""
             }
            },
            "type": "scatterternary"
           }
          ],
          "surface": [
           {
            "colorbar": {
             "outlinewidth": 0,
             "ticks": ""
            },
            "colorscale": [
             [
              0,
              "#0d0887"
             ],
             [
              0.1111111111111111,
              "#46039f"
             ],
             [
              0.2222222222222222,
              "#7201a8"
             ],
             [
              0.3333333333333333,
              "#9c179e"
             ],
             [
              0.4444444444444444,
              "#bd3786"
             ],
             [
              0.5555555555555556,
              "#d8576b"
             ],
             [
              0.6666666666666666,
              "#ed7953"
             ],
             [
              0.7777777777777778,
              "#fb9f3a"
             ],
             [
              0.8888888888888888,
              "#fdca26"
             ],
             [
              1,
              "#f0f921"
             ]
            ],
            "type": "surface"
           }
          ],
          "table": [
           {
            "cells": {
             "fill": {
              "color": "#EBF0F8"
             },
             "line": {
              "color": "white"
             }
            },
            "header": {
             "fill": {
              "color": "#C8D4E3"
             },
             "line": {
              "color": "white"
             }
            },
            "type": "table"
           }
          ]
         },
         "layout": {
          "annotationdefaults": {
           "arrowcolor": "#2a3f5f",
           "arrowhead": 0,
           "arrowwidth": 1
          },
          "autotypenumbers": "strict",
          "coloraxis": {
           "colorbar": {
            "outlinewidth": 0,
            "ticks": ""
           }
          },
          "colorscale": {
           "diverging": [
            [
             0,
             "#8e0152"
            ],
            [
             0.1,
             "#c51b7d"
            ],
            [
             0.2,
             "#de77ae"
            ],
            [
             0.3,
             "#f1b6da"
            ],
            [
             0.4,
             "#fde0ef"
            ],
            [
             0.5,
             "#f7f7f7"
            ],
            [
             0.6,
             "#e6f5d0"
            ],
            [
             0.7,
             "#b8e186"
            ],
            [
             0.8,
             "#7fbc41"
            ],
            [
             0.9,
             "#4d9221"
            ],
            [
             1,
             "#276419"
            ]
           ],
           "sequential": [
            [
             0,
             "#0d0887"
            ],
            [
             0.1111111111111111,
             "#46039f"
            ],
            [
             0.2222222222222222,
             "#7201a8"
            ],
            [
             0.3333333333333333,
             "#9c179e"
            ],
            [
             0.4444444444444444,
             "#bd3786"
            ],
            [
             0.5555555555555556,
             "#d8576b"
            ],
            [
             0.6666666666666666,
             "#ed7953"
            ],
            [
             0.7777777777777778,
             "#fb9f3a"
            ],
            [
             0.8888888888888888,
             "#fdca26"
            ],
            [
             1,
             "#f0f921"
            ]
           ],
           "sequentialminus": [
            [
             0,
             "#0d0887"
            ],
            [
             0.1111111111111111,
             "#46039f"
            ],
            [
             0.2222222222222222,
             "#7201a8"
            ],
            [
             0.3333333333333333,
             "#9c179e"
            ],
            [
             0.4444444444444444,
             "#bd3786"
            ],
            [
             0.5555555555555556,
             "#d8576b"
            ],
            [
             0.6666666666666666,
             "#ed7953"
            ],
            [
             0.7777777777777778,
             "#fb9f3a"
            ],
            [
             0.8888888888888888,
             "#fdca26"
            ],
            [
             1,
             "#f0f921"
            ]
           ]
          },
          "colorway": [
           "#636efa",
           "#EF553B",
           "#00cc96",
           "#ab63fa",
           "#FFA15A",
           "#19d3f3",
           "#FF6692",
           "#B6E880",
           "#FF97FF",
           "#FECB52"
          ],
          "font": {
           "color": "#2a3f5f"
          },
          "geo": {
           "bgcolor": "white",
           "lakecolor": "white",
           "landcolor": "#E5ECF6",
           "showlakes": true,
           "showland": true,
           "subunitcolor": "white"
          },
          "hoverlabel": {
           "align": "left"
          },
          "hovermode": "closest",
          "mapbox": {
           "style": "light"
          },
          "paper_bgcolor": "white",
          "plot_bgcolor": "#E5ECF6",
          "polar": {
           "angularaxis": {
            "gridcolor": "white",
            "linecolor": "white",
            "ticks": ""
           },
           "bgcolor": "#E5ECF6",
           "radialaxis": {
            "gridcolor": "white",
            "linecolor": "white",
            "ticks": ""
           }
          },
          "scene": {
           "xaxis": {
            "backgroundcolor": "#E5ECF6",
            "gridcolor": "white",
            "gridwidth": 2,
            "linecolor": "white",
            "showbackground": true,
            "ticks": "",
            "zerolinecolor": "white"
           },
           "yaxis": {
            "backgroundcolor": "#E5ECF6",
            "gridcolor": "white",
            "gridwidth": 2,
            "linecolor": "white",
            "showbackground": true,
            "ticks": "",
            "zerolinecolor": "white"
           },
           "zaxis": {
            "backgroundcolor": "#E5ECF6",
            "gridcolor": "white",
            "gridwidth": 2,
            "linecolor": "white",
            "showbackground": true,
            "ticks": "",
            "zerolinecolor": "white"
           }
          },
          "shapedefaults": {
           "line": {
            "color": "#2a3f5f"
           }
          },
          "ternary": {
           "aaxis": {
            "gridcolor": "white",
            "linecolor": "white",
            "ticks": ""
           },
           "baxis": {
            "gridcolor": "white",
            "linecolor": "white",
            "ticks": ""
           },
           "bgcolor": "#E5ECF6",
           "caxis": {
            "gridcolor": "white",
            "linecolor": "white",
            "ticks": ""
           }
          },
          "title": {
           "x": 0.05
          },
          "xaxis": {
           "automargin": true,
           "gridcolor": "white",
           "linecolor": "white",
           "ticks": "",
           "title": {
            "standoff": 15
           },
           "zerolinecolor": "white",
           "zerolinewidth": 2
          },
          "yaxis": {
           "automargin": true,
           "gridcolor": "white",
           "linecolor": "white",
           "ticks": "",
           "title": {
            "standoff": 15
           },
           "zerolinecolor": "white",
           "zerolinewidth": 2
          }
         }
        },
        "title": {
         "text": "Presupuesto vs Ganancia"
        },
        "updatemenus": [
         {
          "buttons": [
           {
            "args": [
             null,
             {
              "frame": {
               "duration": 500,
               "redraw": false
              },
              "fromcurrent": true,
              "mode": "immediate",
              "transition": {
               "duration": 500,
               "easing": "linear"
              }
             }
            ],
            "label": "&#9654;",
            "method": "animate"
           },
           {
            "args": [
             [
              null
             ],
             {
              "frame": {
               "duration": 0,
               "redraw": false
              },
              "fromcurrent": true,
              "mode": "immediate",
              "transition": {
               "duration": 0,
               "easing": "linear"
              }
             }
            ],
            "label": "&#9724;",
            "method": "animate"
           }
          ],
          "direction": "left",
          "pad": {
           "r": 10,
           "t": 70
          },
          "showactive": false,
          "type": "buttons",
          "x": 0.1,
          "xanchor": "right",
          "y": 0,
          "yanchor": "top"
         }
        ],
        "xaxis": {
         "anchor": "y",
         "domain": [
          0,
          1
         ],
         "range": [
          0,
          8.60205999132796
         ],
         "title": {
          "text": "Presupuesto"
         },
         "type": "log"
        },
        "yaxis": {
         "anchor": "x",
         "domain": [
          0,
          1
         ],
         "range": [
          -100,
          1000
         ],
         "title": {
          "text": "Porcentaje de Ganancia"
         }
        }
       }
      }
     },
     "metadata": {},
     "output_type": "display_data"
    }
   ],
   "source": [
    "df_presupuesto_ganancia = df_final_usable[['movieId', 'title_y', 'budget', 'revenue', 'rating', 'release_date']]\n",
    "\n",
    "# Cambiar el tipo de dato de las columnas budget y revenue a numerico\n",
    "df_presupuesto_ganancia['budget'] = pd.to_numeric(df_presupuesto_ganancia['budget'], errors='coerce')\n",
    "df_presupuesto_ganancia['revenue'] = pd.to_numeric(df_presupuesto_ganancia['revenue'], errors='coerce')\n",
    "\n",
    "# Eliminar los que tengan presupuesto o ganancia igual a 0\n",
    "df_presupuesto_ganancia.drop(df_presupuesto_ganancia[df_presupuesto_ganancia['budget'] == 0].index, inplace=True)\n",
    "df_presupuesto_ganancia.drop(df_presupuesto_ganancia[df_presupuesto_ganancia['revenue'] == 0].index, inplace=True)\n",
    "\n",
    "# Obtener el año de salida\n",
    "df_presupuesto_ganancia['release_date'] = pd.to_datetime(df_presupuesto_ganancia['release_date'])\n",
    "df_presupuesto_ganancia['release_date'] = df_presupuesto_ganancia['release_date'].dt.year\n",
    "\n",
    "df_presupuesto_ganancia['release_decade'] = df_presupuesto_ganancia['release_date'] // 10 * 10\n",
    "\n",
    "# Calculate the profit percentage\n",
    "df_presupuesto_ganancia['profit_percentage'] = (df_presupuesto_ganancia['revenue'] - df_presupuesto_ganancia['budget']) / df_presupuesto_ganancia['budget'] * 100\n",
    "\n",
    "df_presupuesto_ganancia.sort_values(by='release_date', ascending=True, axis=0, inplace=True)\n",
    "\n",
    "fig = px.scatter(df_presupuesto_ganancia,\n",
    "            x='budget',\n",
    "            y='profit_percentage',\n",
    "            size= 'rating',\n",
    "            hover_name='title_y',\n",
    "            title='Presupuesto vs Ganancia',\n",
    "            animation_frame='release_decade',\n",
    "            animation_group='title_y',\n",
    "            range_x=[1, 400000000],\n",
    "            range_y=[-100, 1000],\n",
    "            log_x=True,\n",
    "            labels={'budget': 'Presupuesto', 'profit_percentage': 'Porcentaje de Ganancia', 'title_y': 'Título', 'release_date': 'Año'},\n",
    ")\n",
    "\n",
    "fig.show()\n",
    "\n",
    "# scatter Presupuesto vs ganancia (en bubble el rating)\n",
    "# boxplot genero/rating\n",
    "\n",
    "# sleeccionar genero\n",
    "# año de estreno (input (daypicker))\n"
   ]
  },
  {
   "cell_type": "code",
   "execution_count": null,
   "metadata": {},
   "outputs": [],
   "source": []
  },
  {
   "cell_type": "code",
   "execution_count": 29,
   "metadata": {},
   "outputs": [],
   "source": [
    "app = Dash(__name__, external_stylesheets=[dbc.themes.LUX])\n",
    "# mytitle = dcc.Markdown(children='')"
   ]
  },
  {
   "cell_type": "code",
   "execution_count": 30,
   "metadata": {},
   "outputs": [],
   "source": [
    "barchart_votes_count = dcc.Graph(\n",
    "    figure= px.bar(df_votes_count.head(10).sort_values(by='count', ascending=True),\n",
    "    x='count',\n",
    "    y='title',\n",
    "    title='Top 10 Películas por numero de votos',\n",
    "    labels={'title': 'Título', 'count': 'Número de votos'},\n",
    "    orientation='h',\n",
    "    range_x=[55000, 85000])\n",
    ")"
   ]
  },
  {
   "cell_type": "code",
   "execution_count": 31,
   "metadata": {},
   "outputs": [],
   "source": [
    "mapa = dcc.Graph(\n",
    "    figure= px.choropleth(\n",
    "    df_country_count,\n",
    "    locations='production_countries',\n",
    "    color='count',\n",
    "    locationmode='country names',\n",
    "    title='Cantidad de peliculas por pais',\n",
    "    color_continuous_scale=px.colors.sequential.Plasma,\n",
    "    )\n",
    ")         "
   ]
  },
  {
   "cell_type": "code",
   "execution_count": 32,
   "metadata": {},
   "outputs": [],
   "source": [
    "app.layout = dbc.Container([\n",
    "    dbc.Row([\n",
    "        dbc.Col([barchart_votes_count], width=6)\n",
    "    ], justify = 'center'),\n",
    "    dbc.Row([\n",
    "        dbc.Col([mapa], width=6)\n",
    "    ]),\n",
    "\n",
    "], fluid=True)"
   ]
  },
  {
   "cell_type": "code",
   "execution_count": 33,
   "metadata": {},
   "outputs": [],
   "source": [
    "# @app.callback(\n",
    "#     Output(mygraph, 'figure')\n",
    "# )"
   ]
  },
  {
   "cell_type": "code",
   "execution_count": 34,
   "metadata": {},
   "outputs": [
    {
     "name": "stdout",
     "output_type": "stream",
     "text": [
      "Dash is running on http://127.0.0.1:8050/\n",
      "\n",
      " * Serving Flask app '__main__'\n",
      " * Debug mode: off\n"
     ]
    },
    {
     "name": "stderr",
     "output_type": "stream",
     "text": [
      "WARNING: This is a development server. Do not use it in a production deployment. Use a production WSGI server instead.\n",
      " * Running on http://127.0.0.1:8050\n",
      "Press CTRL+C to quit\n",
      "127.0.0.1 - - [13/Jun/2023 23:11:19] \"GET / HTTP/1.1\" 200 -\n",
      "127.0.0.1 - - [13/Jun/2023 23:11:20] \"GET /_dash-layout HTTP/1.1\" 200 -\n",
      "127.0.0.1 - - [13/Jun/2023 23:11:20] \"GET /_dash-dependencies HTTP/1.1\" 200 -\n",
      "127.0.0.1 - - [13/Jun/2023 23:11:20] \"GET /_dash-component-suites/dash/dcc/async-graph.js HTTP/1.1\" 304 -\n",
      "127.0.0.1 - - [13/Jun/2023 23:11:21] \"GET /_dash-component-suites/dash/dcc/async-plotlyjs.js HTTP/1.1\" 304 -\n"
     ]
    }
   ],
   "source": [
    "if __name__ == '__main__':\n",
    "    app.run_server(port = 8050)"
   ]
  },
  {
   "cell_type": "code",
   "execution_count": null,
   "metadata": {},
   "outputs": [],
   "source": []
  }
 ],
 "metadata": {
  "kernelspec": {
   "display_name": ".venv",
   "language": "python",
   "name": "python3"
  },
  "language_info": {
   "codemirror_mode": {
    "name": "ipython",
    "version": 3
   },
   "file_extension": ".py",
   "mimetype": "text/x-python",
   "name": "python",
   "nbconvert_exporter": "python",
   "pygments_lexer": "ipython3",
   "version": "3.11.0"
  },
  "orig_nbformat": 4
 },
 "nbformat": 4,
 "nbformat_minor": 2
}
