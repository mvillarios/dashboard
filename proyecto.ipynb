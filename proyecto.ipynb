{
 "cells": [
  {
   "cell_type": "code",
   "execution_count": 1,
   "metadata": {},
   "outputs": [],
   "source": [
    "import numpy as np\n",
    "import pandas as pd\n",
    "import matplotlib as mpl\n",
    "import matplotlib.pyplot as plt\n",
    "import plotly.express as px\n",
    "from dash import Dash\n",
    "import json\n",
    "from wordcloud import WordCloud, STOPWORDS"
   ]
  },
  {
   "cell_type": "code",
   "execution_count": 2,
   "metadata": {},
   "outputs": [
    {
     "name": "stdout",
     "output_type": "stream",
     "text": [
      "Archivo cargado correctamente\n"
     ]
    }
   ],
   "source": [
    "df_movies = pd.read_csv('datasets/MovieLens/movies.csv')\n",
    "\n",
    "print(\"Archivo cargado correctamente\")"
   ]
  },
  {
   "cell_type": "code",
   "execution_count": 3,
   "metadata": {},
   "outputs": [
    {
     "name": "stdout",
     "output_type": "stream",
     "text": [
      "Archivo cargado correctamente\n"
     ]
    }
   ],
   "source": [
    "df_ratings = pd.read_csv('datasets/MovieLens/ratings.csv')\n",
    "\n",
    "print(\"Archivo cargado correctamente\")"
   ]
  },
  {
   "cell_type": "code",
   "execution_count": 4,
   "metadata": {},
   "outputs": [
    {
     "data": {
      "text/html": [
       "<div>\n",
       "<style scoped>\n",
       "    .dataframe tbody tr th:only-of-type {\n",
       "        vertical-align: middle;\n",
       "    }\n",
       "\n",
       "    .dataframe tbody tr th {\n",
       "        vertical-align: top;\n",
       "    }\n",
       "\n",
       "    .dataframe thead th {\n",
       "        text-align: right;\n",
       "    }\n",
       "</style>\n",
       "<table border=\"1\" class=\"dataframe\">\n",
       "  <thead>\n",
       "    <tr style=\"text-align: right;\">\n",
       "      <th></th>\n",
       "      <th>title</th>\n",
       "      <th>genres</th>\n",
       "    </tr>\n",
       "    <tr>\n",
       "      <th>movieId</th>\n",
       "      <th></th>\n",
       "      <th></th>\n",
       "    </tr>\n",
       "  </thead>\n",
       "  <tbody>\n",
       "    <tr>\n",
       "      <th>1</th>\n",
       "      <td>Toy Story (1995)</td>\n",
       "      <td>Adventure|Animation|Children|Comedy|Fantasy</td>\n",
       "    </tr>\n",
       "    <tr>\n",
       "      <th>2</th>\n",
       "      <td>Jumanji (1995)</td>\n",
       "      <td>Adventure|Children|Fantasy</td>\n",
       "    </tr>\n",
       "    <tr>\n",
       "      <th>3</th>\n",
       "      <td>Grumpier Old Men (1995)</td>\n",
       "      <td>Comedy|Romance</td>\n",
       "    </tr>\n",
       "    <tr>\n",
       "      <th>4</th>\n",
       "      <td>Waiting to Exhale (1995)</td>\n",
       "      <td>Comedy|Drama|Romance</td>\n",
       "    </tr>\n",
       "    <tr>\n",
       "      <th>5</th>\n",
       "      <td>Father of the Bride Part II (1995)</td>\n",
       "      <td>Comedy</td>\n",
       "    </tr>\n",
       "  </tbody>\n",
       "</table>\n",
       "</div>"
      ],
      "text/plain": [
       "                                      title  \\\n",
       "movieId                                       \n",
       "1                          Toy Story (1995)   \n",
       "2                            Jumanji (1995)   \n",
       "3                   Grumpier Old Men (1995)   \n",
       "4                  Waiting to Exhale (1995)   \n",
       "5        Father of the Bride Part II (1995)   \n",
       "\n",
       "                                              genres  \n",
       "movieId                                               \n",
       "1        Adventure|Animation|Children|Comedy|Fantasy  \n",
       "2                         Adventure|Children|Fantasy  \n",
       "3                                     Comedy|Romance  \n",
       "4                               Comedy|Drama|Romance  \n",
       "5                                             Comedy  "
      ]
     },
     "execution_count": 4,
     "metadata": {},
     "output_type": "execute_result"
    }
   ],
   "source": [
    "df_movies.set_index('movieId', inplace=True)\n",
    "\n",
    "df_movies.head()"
   ]
  },
  {
   "cell_type": "code",
   "execution_count": 5,
   "metadata": {},
   "outputs": [
    {
     "data": {
      "text/html": [
       "<div>\n",
       "<style scoped>\n",
       "    .dataframe tbody tr th:only-of-type {\n",
       "        vertical-align: middle;\n",
       "    }\n",
       "\n",
       "    .dataframe tbody tr th {\n",
       "        vertical-align: top;\n",
       "    }\n",
       "\n",
       "    .dataframe thead th {\n",
       "        text-align: right;\n",
       "    }\n",
       "</style>\n",
       "<table border=\"1\" class=\"dataframe\">\n",
       "  <thead>\n",
       "    <tr style=\"text-align: right;\">\n",
       "      <th></th>\n",
       "      <th>userId</th>\n",
       "      <th>movieId</th>\n",
       "      <th>rating</th>\n",
       "    </tr>\n",
       "  </thead>\n",
       "  <tbody>\n",
       "    <tr>\n",
       "      <th>0</th>\n",
       "      <td>1</td>\n",
       "      <td>296</td>\n",
       "      <td>5.0</td>\n",
       "    </tr>\n",
       "    <tr>\n",
       "      <th>1</th>\n",
       "      <td>1</td>\n",
       "      <td>306</td>\n",
       "      <td>3.5</td>\n",
       "    </tr>\n",
       "    <tr>\n",
       "      <th>2</th>\n",
       "      <td>1</td>\n",
       "      <td>307</td>\n",
       "      <td>5.0</td>\n",
       "    </tr>\n",
       "    <tr>\n",
       "      <th>3</th>\n",
       "      <td>1</td>\n",
       "      <td>665</td>\n",
       "      <td>5.0</td>\n",
       "    </tr>\n",
       "    <tr>\n",
       "      <th>4</th>\n",
       "      <td>1</td>\n",
       "      <td>899</td>\n",
       "      <td>3.5</td>\n",
       "    </tr>\n",
       "  </tbody>\n",
       "</table>\n",
       "</div>"
      ],
      "text/plain": [
       "   userId  movieId  rating\n",
       "0       1      296     5.0\n",
       "1       1      306     3.5\n",
       "2       1      307     5.0\n",
       "3       1      665     5.0\n",
       "4       1      899     3.5"
      ]
     },
     "execution_count": 5,
     "metadata": {},
     "output_type": "execute_result"
    }
   ],
   "source": [
    "df_ratings.drop('timestamp', axis=1, inplace=True)\n",
    "\n",
    "df_ratings.head()"
   ]
  },
  {
   "cell_type": "code",
   "execution_count": 6,
   "metadata": {},
   "outputs": [
    {
     "data": {
      "text/html": [
       "<div>\n",
       "<style scoped>\n",
       "    .dataframe tbody tr th:only-of-type {\n",
       "        vertical-align: middle;\n",
       "    }\n",
       "\n",
       "    .dataframe tbody tr th {\n",
       "        vertical-align: top;\n",
       "    }\n",
       "\n",
       "    .dataframe thead th {\n",
       "        text-align: right;\n",
       "    }\n",
       "</style>\n",
       "<table border=\"1\" class=\"dataframe\">\n",
       "  <thead>\n",
       "    <tr style=\"text-align: right;\">\n",
       "      <th></th>\n",
       "      <th>movieId</th>\n",
       "      <th>rating</th>\n",
       "    </tr>\n",
       "  </thead>\n",
       "  <tbody>\n",
       "    <tr>\n",
       "      <th>29523</th>\n",
       "      <td>136782</td>\n",
       "      <td>5.0</td>\n",
       "    </tr>\n",
       "    <tr>\n",
       "      <th>49654</th>\n",
       "      <td>186119</td>\n",
       "      <td>5.0</td>\n",
       "    </tr>\n",
       "    <tr>\n",
       "      <th>29643</th>\n",
       "      <td>137032</td>\n",
       "      <td>5.0</td>\n",
       "    </tr>\n",
       "    <tr>\n",
       "      <th>49041</th>\n",
       "      <td>184643</td>\n",
       "      <td>5.0</td>\n",
       "    </tr>\n",
       "    <tr>\n",
       "      <th>29646</th>\n",
       "      <td>137038</td>\n",
       "      <td>5.0</td>\n",
       "    </tr>\n",
       "    <tr>\n",
       "      <th>...</th>\n",
       "      <td>...</td>\n",
       "      <td>...</td>\n",
       "    </tr>\n",
       "    <tr>\n",
       "      <th>5693</th>\n",
       "      <td>5805</td>\n",
       "      <td>0.5</td>\n",
       "    </tr>\n",
       "    <tr>\n",
       "      <th>55757</th>\n",
       "      <td>199922</td>\n",
       "      <td>0.5</td>\n",
       "    </tr>\n",
       "    <tr>\n",
       "      <th>53387</th>\n",
       "      <td>194608</td>\n",
       "      <td>0.5</td>\n",
       "    </tr>\n",
       "    <tr>\n",
       "      <th>58517</th>\n",
       "      <td>207153</td>\n",
       "      <td>0.5</td>\n",
       "    </tr>\n",
       "    <tr>\n",
       "      <th>45900</th>\n",
       "      <td>177419</td>\n",
       "      <td>0.5</td>\n",
       "    </tr>\n",
       "  </tbody>\n",
       "</table>\n",
       "<p>59047 rows × 2 columns</p>\n",
       "</div>"
      ],
      "text/plain": [
       "       movieId  rating\n",
       "29523   136782     5.0\n",
       "49654   186119     5.0\n",
       "29643   137032     5.0\n",
       "49041   184643     5.0\n",
       "29646   137038     5.0\n",
       "...        ...     ...\n",
       "5693      5805     0.5\n",
       "55757   199922     0.5\n",
       "53387   194608     0.5\n",
       "58517   207153     0.5\n",
       "45900   177419     0.5\n",
       "\n",
       "[59047 rows x 2 columns]"
      ]
     },
     "execution_count": 6,
     "metadata": {},
     "output_type": "execute_result"
    }
   ],
   "source": [
    "df_prom_ratings = df_ratings.groupby('movieId')['rating'].mean().reset_index()\n",
    "\n",
    "df_prom_ratings.sort_values(by='rating', ascending=False, axis=0, inplace=True)\n",
    "\n",
    "df_prom_ratings"
   ]
  },
  {
   "cell_type": "code",
   "execution_count": 7,
   "metadata": {},
   "outputs": [
    {
     "data": {
      "text/html": [
       "<div>\n",
       "<style scoped>\n",
       "    .dataframe tbody tr th:only-of-type {\n",
       "        vertical-align: middle;\n",
       "    }\n",
       "\n",
       "    .dataframe tbody tr th {\n",
       "        vertical-align: top;\n",
       "    }\n",
       "\n",
       "    .dataframe thead th {\n",
       "        text-align: right;\n",
       "    }\n",
       "</style>\n",
       "<table border=\"1\" class=\"dataframe\">\n",
       "  <thead>\n",
       "    <tr style=\"text-align: right;\">\n",
       "      <th></th>\n",
       "      <th>movieId</th>\n",
       "      <th>title</th>\n",
       "      <th>genres</th>\n",
       "      <th>rating</th>\n",
       "    </tr>\n",
       "  </thead>\n",
       "  <tbody>\n",
       "    <tr>\n",
       "      <th>29523</th>\n",
       "      <td>136782</td>\n",
       "      <td>The Girl is in Trouble (2015)</td>\n",
       "      <td>Thriller</td>\n",
       "      <td>5.0</td>\n",
       "    </tr>\n",
       "    <tr>\n",
       "      <th>49654</th>\n",
       "      <td>186119</td>\n",
       "      <td>A Gift Horse (2015)</td>\n",
       "      <td>Children</td>\n",
       "      <td>5.0</td>\n",
       "    </tr>\n",
       "    <tr>\n",
       "      <th>29643</th>\n",
       "      <td>137032</td>\n",
       "      <td>The Perfect Neighbor (2005)</td>\n",
       "      <td>Drama|Thriller</td>\n",
       "      <td>5.0</td>\n",
       "    </tr>\n",
       "    <tr>\n",
       "      <th>49041</th>\n",
       "      <td>184643</td>\n",
       "      <td>Relentless (2018)</td>\n",
       "      <td>Thriller</td>\n",
       "      <td>5.0</td>\n",
       "    </tr>\n",
       "    <tr>\n",
       "      <th>29646</th>\n",
       "      <td>137038</td>\n",
       "      <td>The Perfect Wife (2001)</td>\n",
       "      <td>Drama|Thriller</td>\n",
       "      <td>5.0</td>\n",
       "    </tr>\n",
       "  </tbody>\n",
       "</table>\n",
       "</div>"
      ],
      "text/plain": [
       "       movieId                          title          genres  rating\n",
       "29523   136782  The Girl is in Trouble (2015)        Thriller     5.0\n",
       "49654   186119            A Gift Horse (2015)        Children     5.0\n",
       "29643   137032    The Perfect Neighbor (2005)  Drama|Thriller     5.0\n",
       "49041   184643              Relentless (2018)        Thriller     5.0\n",
       "29646   137038        The Perfect Wife (2001)  Drama|Thriller     5.0"
      ]
     },
     "execution_count": 7,
     "metadata": {},
     "output_type": "execute_result"
    }
   ],
   "source": [
    "df_movies_rating = df_movies.merge(df_prom_ratings, on='movieId')\n",
    "df_movies_rating.sort_values(by='rating', ascending=False, axis=0, inplace=True)\n",
    "df_movies_rating.head()"
   ]
  },
  {
   "cell_type": "code",
   "execution_count": 8,
   "metadata": {},
   "outputs": [
    {
     "data": {
      "text/html": [
       "<div>\n",
       "<style scoped>\n",
       "    .dataframe tbody tr th:only-of-type {\n",
       "        vertical-align: middle;\n",
       "    }\n",
       "\n",
       "    .dataframe tbody tr th {\n",
       "        vertical-align: top;\n",
       "    }\n",
       "\n",
       "    .dataframe thead th {\n",
       "        text-align: right;\n",
       "    }\n",
       "</style>\n",
       "<table border=\"1\" class=\"dataframe\">\n",
       "  <thead>\n",
       "    <tr style=\"text-align: right;\">\n",
       "      <th></th>\n",
       "      <th>movieId</th>\n",
       "      <th>title</th>\n",
       "      <th>genres</th>\n",
       "      <th>rating</th>\n",
       "      <th>count</th>\n",
       "    </tr>\n",
       "  </thead>\n",
       "  <tbody>\n",
       "    <tr>\n",
       "      <th>2566</th>\n",
       "      <td>356</td>\n",
       "      <td>Forrest Gump (1994)</td>\n",
       "      <td>Comedy|Drama|Romance|War</td>\n",
       "      <td>4.048011</td>\n",
       "      <td>81491</td>\n",
       "    </tr>\n",
       "    <tr>\n",
       "      <th>1532</th>\n",
       "      <td>318</td>\n",
       "      <td>Shawshank Redemption, The (1994)</td>\n",
       "      <td>Crime|Drama</td>\n",
       "      <td>4.413576</td>\n",
       "      <td>81482</td>\n",
       "    </tr>\n",
       "    <tr>\n",
       "      <th>2038</th>\n",
       "      <td>296</td>\n",
       "      <td>Pulp Fiction (1994)</td>\n",
       "      <td>Comedy|Crime|Drama|Thriller</td>\n",
       "      <td>4.188912</td>\n",
       "      <td>79672</td>\n",
       "    </tr>\n",
       "    <tr>\n",
       "      <th>2209</th>\n",
       "      <td>593</td>\n",
       "      <td>Silence of the Lambs, The (1991)</td>\n",
       "      <td>Crime|Horror|Thriller</td>\n",
       "      <td>4.151342</td>\n",
       "      <td>74127</td>\n",
       "    </tr>\n",
       "    <tr>\n",
       "      <th>2201</th>\n",
       "      <td>2571</td>\n",
       "      <td>Matrix, The (1999)</td>\n",
       "      <td>Action|Sci-Fi|Thriller</td>\n",
       "      <td>4.154099</td>\n",
       "      <td>72674</td>\n",
       "    </tr>\n",
       "  </tbody>\n",
       "</table>\n",
       "</div>"
      ],
      "text/plain": [
       "      movieId                             title                       genres  \\\n",
       "2566      356               Forrest Gump (1994)     Comedy|Drama|Romance|War   \n",
       "1532      318  Shawshank Redemption, The (1994)                  Crime|Drama   \n",
       "2038      296               Pulp Fiction (1994)  Comedy|Crime|Drama|Thriller   \n",
       "2209      593  Silence of the Lambs, The (1991)        Crime|Horror|Thriller   \n",
       "2201     2571                Matrix, The (1999)       Action|Sci-Fi|Thriller   \n",
       "\n",
       "        rating  count  \n",
       "2566  4.048011  81491  \n",
       "1532  4.413576  81482  \n",
       "2038  4.188912  79672  \n",
       "2209  4.151342  74127  \n",
       "2201  4.154099  72674  "
      ]
     },
     "execution_count": 8,
     "metadata": {},
     "output_type": "execute_result"
    }
   ],
   "source": [
    "num_votos = df_ratings['movieId'].value_counts().reset_index()\n",
    "\n",
    "df_movies_rating_final = df_movies_rating.merge(num_votos, on='movieId')\n",
    "df_movies_rating_final.sort_values(by='count', ascending=False, axis=0, inplace=True)\n",
    "\n",
    "df_movies_rating_final.head()"
   ]
  },
  {
   "cell_type": "code",
   "execution_count": 9,
   "metadata": {},
   "outputs": [
    {
     "name": "stderr",
     "output_type": "stream",
     "text": [
      "C:\\Users\\mvill\\AppData\\Local\\Temp\\ipykernel_15668\\1283463326.py:2: SettingWithCopyWarning: \n",
      "A value is trying to be set on a copy of a slice from a DataFrame\n",
      "\n",
      "See the caveats in the documentation: https://pandas.pydata.org/pandas-docs/stable/user_guide/indexing.html#returning-a-view-versus-a-copy\n",
      "  df_movies_rating_filtered.sort_values(by='rating', ascending=False, axis=0, inplace=True)\n",
      "C:\\Users\\mvill\\AppData\\Local\\Temp\\ipykernel_15668\\1283463326.py:4: SettingWithCopyWarning: \n",
      "A value is trying to be set on a copy of a slice from a DataFrame\n",
      "\n",
      "See the caveats in the documentation: https://pandas.pydata.org/pandas-docs/stable/user_guide/indexing.html#returning-a-view-versus-a-copy\n",
      "  df_movies_rating_filtered.drop(['genres'], axis=1, inplace=True)\n"
     ]
    },
    {
     "data": {
      "text/html": [
       "<div>\n",
       "<style scoped>\n",
       "    .dataframe tbody tr th:only-of-type {\n",
       "        vertical-align: middle;\n",
       "    }\n",
       "\n",
       "    .dataframe tbody tr th {\n",
       "        vertical-align: top;\n",
       "    }\n",
       "\n",
       "    .dataframe thead th {\n",
       "        text-align: right;\n",
       "    }\n",
       "</style>\n",
       "<table border=\"1\" class=\"dataframe\">\n",
       "  <thead>\n",
       "    <tr style=\"text-align: right;\">\n",
       "      <th></th>\n",
       "      <th>movieId</th>\n",
       "      <th>title</th>\n",
       "      <th>rating</th>\n",
       "      <th>count</th>\n",
       "    </tr>\n",
       "  </thead>\n",
       "  <tbody>\n",
       "    <tr>\n",
       "      <th>1532</th>\n",
       "      <td>318</td>\n",
       "      <td>Shawshank Redemption, The (1994)</td>\n",
       "      <td>4.413576</td>\n",
       "      <td>81482</td>\n",
       "    </tr>\n",
       "    <tr>\n",
       "      <th>1633</th>\n",
       "      <td>858</td>\n",
       "      <td>Godfather, The (1972)</td>\n",
       "      <td>4.324336</td>\n",
       "      <td>52498</td>\n",
       "    </tr>\n",
       "    <tr>\n",
       "      <th>1648</th>\n",
       "      <td>50</td>\n",
       "      <td>Usual Suspects, The (1995)</td>\n",
       "      <td>4.284353</td>\n",
       "      <td>55366</td>\n",
       "    </tr>\n",
       "    <tr>\n",
       "      <th>1652</th>\n",
       "      <td>1221</td>\n",
       "      <td>Godfather: Part II, The (1974)</td>\n",
       "      <td>4.261759</td>\n",
       "      <td>34188</td>\n",
       "    </tr>\n",
       "    <tr>\n",
       "      <th>1655</th>\n",
       "      <td>2019</td>\n",
       "      <td>Seven Samurai (Shichinin no samurai) (1954)</td>\n",
       "      <td>4.254769</td>\n",
       "      <td>13367</td>\n",
       "    </tr>\n",
       "  </tbody>\n",
       "</table>\n",
       "</div>"
      ],
      "text/plain": [
       "      movieId                                        title    rating  count\n",
       "1532      318             Shawshank Redemption, The (1994)  4.413576  81482\n",
       "1633      858                        Godfather, The (1972)  4.324336  52498\n",
       "1648       50                   Usual Suspects, The (1995)  4.284353  55366\n",
       "1652     1221               Godfather: Part II, The (1974)  4.261759  34188\n",
       "1655     2019  Seven Samurai (Shichinin no samurai) (1954)  4.254769  13367"
      ]
     },
     "execution_count": 9,
     "metadata": {},
     "output_type": "execute_result"
    }
   ],
   "source": [
    "df_movies_rating_filtered = df_movies_rating_final.loc[df_movies_rating_final['count'] >= 6000]\n",
    "df_movies_rating_filtered.sort_values(by='rating', ascending=False, axis=0, inplace=True)\n",
    "\n",
    "df_movies_rating_filtered.drop(['genres'], axis=1, inplace=True)\n",
    "\n",
    "\n",
    "\n",
    "df_movies_rating_filtered.head()"
   ]
  },
  {
   "cell_type": "code",
   "execution_count": 10,
   "metadata": {},
   "outputs": [
    {
     "name": "stdout",
     "output_type": "stream",
     "text": [
      "Archivo cargado correctamente\n"
     ]
    }
   ],
   "source": [
    "df_movies_metadata = pd.read_csv('datasets/IMBD/movies_metadata.csv',\n",
    "                             low_memory=False)\n",
    "\n",
    "print(\"Archivo cargado correctamente\")"
   ]
  },
  {
   "cell_type": "code",
   "execution_count": 11,
   "metadata": {},
   "outputs": [],
   "source": [
    "df_movies_meta = df_movies_metadata\n",
    "\n",
    "# Eliminar fila con id 1997-08-20\n",
    "\n",
    "df_movies_meta.drop(df_movies_meta[df_movies_meta['id'].astype(str).str.contains('-')].index, inplace=True)\n",
    "\n",
    "df_movies_meta['id'] = df_movies_meta['id'].astype(int)"
   ]
  },
  {
   "cell_type": "code",
   "execution_count": 12,
   "metadata": {},
   "outputs": [
    {
     "name": "stdout",
     "output_type": "stream",
     "text": [
      "Archivo cargado correctamente\n"
     ]
    }
   ],
   "source": [
    "df_links = pd.read_csv('datasets/IMBD/links.csv')\n",
    "\n",
    "print(\"Archivo cargado correctamente\")"
   ]
  },
  {
   "cell_type": "code",
   "execution_count": 13,
   "metadata": {},
   "outputs": [
    {
     "data": {
      "text/html": [
       "<div>\n",
       "<style scoped>\n",
       "    .dataframe tbody tr th:only-of-type {\n",
       "        vertical-align: middle;\n",
       "    }\n",
       "\n",
       "    .dataframe tbody tr th {\n",
       "        vertical-align: top;\n",
       "    }\n",
       "\n",
       "    .dataframe thead th {\n",
       "        text-align: right;\n",
       "    }\n",
       "</style>\n",
       "<table border=\"1\" class=\"dataframe\">\n",
       "  <thead>\n",
       "    <tr style=\"text-align: right;\">\n",
       "      <th></th>\n",
       "      <th>movieId</th>\n",
       "      <th>id</th>\n",
       "    </tr>\n",
       "  </thead>\n",
       "  <tbody>\n",
       "    <tr>\n",
       "      <th>0</th>\n",
       "      <td>1</td>\n",
       "      <td>862</td>\n",
       "    </tr>\n",
       "    <tr>\n",
       "      <th>1</th>\n",
       "      <td>2</td>\n",
       "      <td>8844</td>\n",
       "    </tr>\n",
       "    <tr>\n",
       "      <th>2</th>\n",
       "      <td>3</td>\n",
       "      <td>15602</td>\n",
       "    </tr>\n",
       "    <tr>\n",
       "      <th>3</th>\n",
       "      <td>4</td>\n",
       "      <td>31357</td>\n",
       "    </tr>\n",
       "    <tr>\n",
       "      <th>4</th>\n",
       "      <td>5</td>\n",
       "      <td>11862</td>\n",
       "    </tr>\n",
       "  </tbody>\n",
       "</table>\n",
       "</div>"
      ],
      "text/plain": [
       "   movieId     id\n",
       "0        1    862\n",
       "1        2   8844\n",
       "2        3  15602\n",
       "3        4  31357\n",
       "4        5  11862"
      ]
     },
     "execution_count": 13,
     "metadata": {},
     "output_type": "execute_result"
    }
   ],
   "source": [
    "df_links = df_links[['movieId', 'tmdbId']]\n",
    "\n",
    "# Cambia el nombre del a segunda columna para que coincida con el df_movies_meta\n",
    "df_links.rename(columns={'tmdbId': 'id'}, inplace=True)\n",
    "\n",
    "df_links.dropna(inplace=True)\n",
    "\n",
    "df_links['id'] = df_links['id'].astype('int')\n",
    "\n",
    "df_links.head()\n"
   ]
  },
  {
   "cell_type": "code",
   "execution_count": 14,
   "metadata": {},
   "outputs": [],
   "source": [
    "# Concatena los df de links y movies_meta usando Concat\n",
    "df_movies_meta_link = pd.merge(df_movies_meta, df_links, on='id')"
   ]
  },
  {
   "cell_type": "code",
   "execution_count": 15,
   "metadata": {},
   "outputs": [
    {
     "data": {
      "text/html": [
       "<div>\n",
       "<style scoped>\n",
       "    .dataframe tbody tr th:only-of-type {\n",
       "        vertical-align: middle;\n",
       "    }\n",
       "\n",
       "    .dataframe tbody tr th {\n",
       "        vertical-align: top;\n",
       "    }\n",
       "\n",
       "    .dataframe thead th {\n",
       "        text-align: right;\n",
       "    }\n",
       "</style>\n",
       "<table border=\"1\" class=\"dataframe\">\n",
       "  <thead>\n",
       "    <tr style=\"text-align: right;\">\n",
       "      <th></th>\n",
       "      <th>movieId</th>\n",
       "      <th>title_x</th>\n",
       "      <th>rating</th>\n",
       "      <th>count</th>\n",
       "      <th>adult</th>\n",
       "      <th>belongs_to_collection</th>\n",
       "      <th>budget</th>\n",
       "      <th>genres</th>\n",
       "      <th>homepage</th>\n",
       "      <th>id</th>\n",
       "      <th>...</th>\n",
       "      <th>release_date</th>\n",
       "      <th>revenue</th>\n",
       "      <th>runtime</th>\n",
       "      <th>spoken_languages</th>\n",
       "      <th>status</th>\n",
       "      <th>tagline</th>\n",
       "      <th>title_y</th>\n",
       "      <th>video</th>\n",
       "      <th>vote_average</th>\n",
       "      <th>vote_count</th>\n",
       "    </tr>\n",
       "  </thead>\n",
       "  <tbody>\n",
       "    <tr>\n",
       "      <th>0</th>\n",
       "      <td>318</td>\n",
       "      <td>Shawshank Redemption, The (1994)</td>\n",
       "      <td>4.413576</td>\n",
       "      <td>81482</td>\n",
       "      <td>False</td>\n",
       "      <td>NaN</td>\n",
       "      <td>25000000</td>\n",
       "      <td>[{'id': 18, 'name': 'Drama'}, {'id': 80, 'name...</td>\n",
       "      <td>NaN</td>\n",
       "      <td>278</td>\n",
       "      <td>...</td>\n",
       "      <td>1994-09-23</td>\n",
       "      <td>28341469.0</td>\n",
       "      <td>142.0</td>\n",
       "      <td>[{'iso_639_1': 'en', 'name': 'English'}]</td>\n",
       "      <td>Released</td>\n",
       "      <td>Fear can hold you prisoner. Hope can set you f...</td>\n",
       "      <td>The Shawshank Redemption</td>\n",
       "      <td>False</td>\n",
       "      <td>8.5</td>\n",
       "      <td>8358.0</td>\n",
       "    </tr>\n",
       "    <tr>\n",
       "      <th>1</th>\n",
       "      <td>858</td>\n",
       "      <td>Godfather, The (1972)</td>\n",
       "      <td>4.324336</td>\n",
       "      <td>52498</td>\n",
       "      <td>False</td>\n",
       "      <td>{'id': 230, 'name': 'The Godfather Collection'...</td>\n",
       "      <td>6000000</td>\n",
       "      <td>[{'id': 18, 'name': 'Drama'}, {'id': 80, 'name...</td>\n",
       "      <td>http://www.thegodfather.com/</td>\n",
       "      <td>238</td>\n",
       "      <td>...</td>\n",
       "      <td>1972-03-14</td>\n",
       "      <td>245066411.0</td>\n",
       "      <td>175.0</td>\n",
       "      <td>[{'iso_639_1': 'en', 'name': 'English'}, {'iso...</td>\n",
       "      <td>Released</td>\n",
       "      <td>An offer you can't refuse.</td>\n",
       "      <td>The Godfather</td>\n",
       "      <td>False</td>\n",
       "      <td>8.5</td>\n",
       "      <td>6024.0</td>\n",
       "    </tr>\n",
       "    <tr>\n",
       "      <th>2</th>\n",
       "      <td>50</td>\n",
       "      <td>Usual Suspects, The (1995)</td>\n",
       "      <td>4.284353</td>\n",
       "      <td>55366</td>\n",
       "      <td>False</td>\n",
       "      <td>NaN</td>\n",
       "      <td>6000000</td>\n",
       "      <td>[{'id': 18, 'name': 'Drama'}, {'id': 80, 'name...</td>\n",
       "      <td>http://www.mgm.com/#/our-titles/2083/The-Usual...</td>\n",
       "      <td>629</td>\n",
       "      <td>...</td>\n",
       "      <td>1995-07-19</td>\n",
       "      <td>23341568.0</td>\n",
       "      <td>106.0</td>\n",
       "      <td>[{'iso_639_1': 'es', 'name': 'Español'}, {'iso...</td>\n",
       "      <td>Released</td>\n",
       "      <td>Five Criminals. One Line Up. No Coincidence.</td>\n",
       "      <td>The Usual Suspects</td>\n",
       "      <td>False</td>\n",
       "      <td>8.1</td>\n",
       "      <td>3334.0</td>\n",
       "    </tr>\n",
       "    <tr>\n",
       "      <th>3</th>\n",
       "      <td>1221</td>\n",
       "      <td>Godfather: Part II, The (1974)</td>\n",
       "      <td>4.261759</td>\n",
       "      <td>34188</td>\n",
       "      <td>False</td>\n",
       "      <td>{'id': 230, 'name': 'The Godfather Collection'...</td>\n",
       "      <td>13000000</td>\n",
       "      <td>[{'id': 18, 'name': 'Drama'}, {'id': 80, 'name...</td>\n",
       "      <td>NaN</td>\n",
       "      <td>240</td>\n",
       "      <td>...</td>\n",
       "      <td>1974-12-20</td>\n",
       "      <td>47542841.0</td>\n",
       "      <td>200.0</td>\n",
       "      <td>[{'iso_639_1': 'en', 'name': 'English'}, {'iso...</td>\n",
       "      <td>Released</td>\n",
       "      <td>I don't feel I have to wipe everybody out, Tom...</td>\n",
       "      <td>The Godfather: Part II</td>\n",
       "      <td>False</td>\n",
       "      <td>8.3</td>\n",
       "      <td>3418.0</td>\n",
       "    </tr>\n",
       "    <tr>\n",
       "      <th>4</th>\n",
       "      <td>2019</td>\n",
       "      <td>Seven Samurai (Shichinin no samurai) (1954)</td>\n",
       "      <td>4.254769</td>\n",
       "      <td>13367</td>\n",
       "      <td>False</td>\n",
       "      <td>NaN</td>\n",
       "      <td>2000000</td>\n",
       "      <td>[{'id': 28, 'name': 'Action'}, {'id': 18, 'nam...</td>\n",
       "      <td>NaN</td>\n",
       "      <td>346</td>\n",
       "      <td>...</td>\n",
       "      <td>1954-04-26</td>\n",
       "      <td>271841.0</td>\n",
       "      <td>207.0</td>\n",
       "      <td>[{'iso_639_1': 'ja', 'name': '日本語'}]</td>\n",
       "      <td>Released</td>\n",
       "      <td>The Mighty Warriors Who Became the Seven Natio...</td>\n",
       "      <td>Seven Samurai</td>\n",
       "      <td>False</td>\n",
       "      <td>8.2</td>\n",
       "      <td>892.0</td>\n",
       "    </tr>\n",
       "  </tbody>\n",
       "</table>\n",
       "<p>5 rows × 28 columns</p>\n",
       "</div>"
      ],
      "text/plain": [
       "   movieId                                      title_x    rating  count  \\\n",
       "0      318             Shawshank Redemption, The (1994)  4.413576  81482   \n",
       "1      858                        Godfather, The (1972)  4.324336  52498   \n",
       "2       50                   Usual Suspects, The (1995)  4.284353  55366   \n",
       "3     1221               Godfather: Part II, The (1974)  4.261759  34188   \n",
       "4     2019  Seven Samurai (Shichinin no samurai) (1954)  4.254769  13367   \n",
       "\n",
       "   adult                              belongs_to_collection    budget  \\\n",
       "0  False                                                NaN  25000000   \n",
       "1  False  {'id': 230, 'name': 'The Godfather Collection'...   6000000   \n",
       "2  False                                                NaN   6000000   \n",
       "3  False  {'id': 230, 'name': 'The Godfather Collection'...  13000000   \n",
       "4  False                                                NaN   2000000   \n",
       "\n",
       "                                              genres  \\\n",
       "0  [{'id': 18, 'name': 'Drama'}, {'id': 80, 'name...   \n",
       "1  [{'id': 18, 'name': 'Drama'}, {'id': 80, 'name...   \n",
       "2  [{'id': 18, 'name': 'Drama'}, {'id': 80, 'name...   \n",
       "3  [{'id': 18, 'name': 'Drama'}, {'id': 80, 'name...   \n",
       "4  [{'id': 28, 'name': 'Action'}, {'id': 18, 'nam...   \n",
       "\n",
       "                                            homepage   id  ... release_date  \\\n",
       "0                                                NaN  278  ...   1994-09-23   \n",
       "1                       http://www.thegodfather.com/  238  ...   1972-03-14   \n",
       "2  http://www.mgm.com/#/our-titles/2083/The-Usual...  629  ...   1995-07-19   \n",
       "3                                                NaN  240  ...   1974-12-20   \n",
       "4                                                NaN  346  ...   1954-04-26   \n",
       "\n",
       "       revenue runtime                                   spoken_languages  \\\n",
       "0   28341469.0   142.0           [{'iso_639_1': 'en', 'name': 'English'}]   \n",
       "1  245066411.0   175.0  [{'iso_639_1': 'en', 'name': 'English'}, {'iso...   \n",
       "2   23341568.0   106.0  [{'iso_639_1': 'es', 'name': 'Español'}, {'iso...   \n",
       "3   47542841.0   200.0  [{'iso_639_1': 'en', 'name': 'English'}, {'iso...   \n",
       "4     271841.0   207.0               [{'iso_639_1': 'ja', 'name': '日本語'}]   \n",
       "\n",
       "     status                                            tagline  \\\n",
       "0  Released  Fear can hold you prisoner. Hope can set you f...   \n",
       "1  Released                         An offer you can't refuse.   \n",
       "2  Released       Five Criminals. One Line Up. No Coincidence.   \n",
       "3  Released  I don't feel I have to wipe everybody out, Tom...   \n",
       "4  Released  The Mighty Warriors Who Became the Seven Natio...   \n",
       "\n",
       "                    title_y  video vote_average  vote_count  \n",
       "0  The Shawshank Redemption  False          8.5      8358.0  \n",
       "1             The Godfather  False          8.5      6024.0  \n",
       "2        The Usual Suspects  False          8.1      3334.0  \n",
       "3    The Godfather: Part II  False          8.3      3418.0  \n",
       "4             Seven Samurai  False          8.2       892.0  \n",
       "\n",
       "[5 rows x 28 columns]"
      ]
     },
     "execution_count": 15,
     "metadata": {},
     "output_type": "execute_result"
    }
   ],
   "source": [
    "# Une el df filtrado y el df de movies_meta usando merge\n",
    "# Ocupar este dataframe para crear otros dataframes\n",
    "df_final_usable = df_movies_rating_filtered.merge(df_movies_meta_link, on='movieId')\n",
    "\n",
    "df_final_usable.head()"
   ]
  },
  {
   "cell_type": "code",
   "execution_count": 16,
   "metadata": {},
   "outputs": [
    {
     "name": "stderr",
     "output_type": "stream",
     "text": [
      "C:\\Users\\mvill\\AppData\\Local\\Temp\\ipykernel_15668\\1209811455.py:3: SettingWithCopyWarning: \n",
      "A value is trying to be set on a copy of a slice from a DataFrame\n",
      "\n",
      "See the caveats in the documentation: https://pandas.pydata.org/pandas-docs/stable/user_guide/indexing.html#returning-a-view-versus-a-copy\n",
      "  df_final.rename(columns={'title_y': 'title'}, inplace=True)\n"
     ]
    }
   ],
   "source": [
    "df_final = df_final_usable[['movieId', 'title_y', 'rating', 'count', 'budget', 'revenue', 'release_date']]\n",
    "\n",
    "df_final.rename(columns={'title_y': 'title'}, inplace=True)"
   ]
  },
  {
   "cell_type": "code",
   "execution_count": 17,
   "metadata": {},
   "outputs": [
    {
     "data": {
      "text/html": [
       "<div>\n",
       "<style scoped>\n",
       "    .dataframe tbody tr th:only-of-type {\n",
       "        vertical-align: middle;\n",
       "    }\n",
       "\n",
       "    .dataframe tbody tr th {\n",
       "        vertical-align: top;\n",
       "    }\n",
       "\n",
       "    .dataframe thead th {\n",
       "        text-align: right;\n",
       "    }\n",
       "</style>\n",
       "<table border=\"1\" class=\"dataframe\">\n",
       "  <thead>\n",
       "    <tr style=\"text-align: right;\">\n",
       "      <th></th>\n",
       "      <th>movieId</th>\n",
       "      <th>title</th>\n",
       "      <th>rating</th>\n",
       "      <th>count</th>\n",
       "      <th>budget</th>\n",
       "      <th>revenue</th>\n",
       "      <th>release_date</th>\n",
       "    </tr>\n",
       "  </thead>\n",
       "  <tbody>\n",
       "    <tr>\n",
       "      <th>0</th>\n",
       "      <td>318</td>\n",
       "      <td>The Shawshank Redemption</td>\n",
       "      <td>4.413576</td>\n",
       "      <td>81482</td>\n",
       "      <td>25000000</td>\n",
       "      <td>2.834147e+07</td>\n",
       "      <td>1994-09-23</td>\n",
       "    </tr>\n",
       "    <tr>\n",
       "      <th>1</th>\n",
       "      <td>858</td>\n",
       "      <td>The Godfather</td>\n",
       "      <td>4.324336</td>\n",
       "      <td>52498</td>\n",
       "      <td>6000000</td>\n",
       "      <td>2.450664e+08</td>\n",
       "      <td>1972-03-14</td>\n",
       "    </tr>\n",
       "    <tr>\n",
       "      <th>2</th>\n",
       "      <td>50</td>\n",
       "      <td>The Usual Suspects</td>\n",
       "      <td>4.284353</td>\n",
       "      <td>55366</td>\n",
       "      <td>6000000</td>\n",
       "      <td>2.334157e+07</td>\n",
       "      <td>1995-07-19</td>\n",
       "    </tr>\n",
       "    <tr>\n",
       "      <th>3</th>\n",
       "      <td>1221</td>\n",
       "      <td>The Godfather: Part II</td>\n",
       "      <td>4.261759</td>\n",
       "      <td>34188</td>\n",
       "      <td>13000000</td>\n",
       "      <td>4.754284e+07</td>\n",
       "      <td>1974-12-20</td>\n",
       "    </tr>\n",
       "    <tr>\n",
       "      <th>4</th>\n",
       "      <td>2019</td>\n",
       "      <td>Seven Samurai</td>\n",
       "      <td>4.254769</td>\n",
       "      <td>13367</td>\n",
       "      <td>2000000</td>\n",
       "      <td>2.718410e+05</td>\n",
       "      <td>1954-04-26</td>\n",
       "    </tr>\n",
       "    <tr>\n",
       "      <th>5</th>\n",
       "      <td>527</td>\n",
       "      <td>Schindler's List</td>\n",
       "      <td>4.247579</td>\n",
       "      <td>60411</td>\n",
       "      <td>22000000</td>\n",
       "      <td>3.213656e+08</td>\n",
       "      <td>1993-11-29</td>\n",
       "    </tr>\n",
       "    <tr>\n",
       "      <th>6</th>\n",
       "      <td>1203</td>\n",
       "      <td>12 Angry Men</td>\n",
       "      <td>4.243014</td>\n",
       "      <td>16569</td>\n",
       "      <td>350000</td>\n",
       "      <td>1.000000e+06</td>\n",
       "      <td>1957-03-25</td>\n",
       "    </tr>\n",
       "    <tr>\n",
       "      <th>7</th>\n",
       "      <td>904</td>\n",
       "      <td>Rear Window</td>\n",
       "      <td>4.237948</td>\n",
       "      <td>20162</td>\n",
       "      <td>1000000</td>\n",
       "      <td>3.676431e+07</td>\n",
       "      <td>1954-08-01</td>\n",
       "    </tr>\n",
       "    <tr>\n",
       "      <th>8</th>\n",
       "      <td>2959</td>\n",
       "      <td>Fight Club</td>\n",
       "      <td>4.228311</td>\n",
       "      <td>58773</td>\n",
       "      <td>63000000</td>\n",
       "      <td>1.008538e+08</td>\n",
       "      <td>1999-10-15</td>\n",
       "    </tr>\n",
       "    <tr>\n",
       "      <th>9</th>\n",
       "      <td>1193</td>\n",
       "      <td>One Flew Over the Cuckoo's Nest</td>\n",
       "      <td>4.218662</td>\n",
       "      <td>36058</td>\n",
       "      <td>3000000</td>\n",
       "      <td>1.089813e+08</td>\n",
       "      <td>1975-11-18</td>\n",
       "    </tr>\n",
       "    <tr>\n",
       "      <th>10</th>\n",
       "      <td>750</td>\n",
       "      <td>Dr. Strangelove or: How I Learned to Stop Worr...</td>\n",
       "      <td>4.215804</td>\n",
       "      <td>26714</td>\n",
       "      <td>1800000</td>\n",
       "      <td>9.440272e+06</td>\n",
       "      <td>1964-01-29</td>\n",
       "    </tr>\n",
       "    <tr>\n",
       "      <th>11</th>\n",
       "      <td>5618</td>\n",
       "      <td>Spirited Away</td>\n",
       "      <td>4.212267</td>\n",
       "      <td>22719</td>\n",
       "      <td>15000000</td>\n",
       "      <td>2.749251e+08</td>\n",
       "      <td>2001-07-20</td>\n",
       "    </tr>\n",
       "    <tr>\n",
       "      <th>12</th>\n",
       "      <td>912</td>\n",
       "      <td>Casablanca</td>\n",
       "      <td>4.206564</td>\n",
       "      <td>26890</td>\n",
       "      <td>878000</td>\n",
       "      <td>1.046250e+07</td>\n",
       "      <td>1942-11-26</td>\n",
       "    </tr>\n",
       "    <tr>\n",
       "      <th>13</th>\n",
       "      <td>922</td>\n",
       "      <td>Sunset Boulevard</td>\n",
       "      <td>4.206501</td>\n",
       "      <td>7368</td>\n",
       "      <td>1752000</td>\n",
       "      <td>5.000000e+06</td>\n",
       "      <td>1950-08-10</td>\n",
       "    </tr>\n",
       "    <tr>\n",
       "      <th>14</th>\n",
       "      <td>1212</td>\n",
       "      <td>The Third Man</td>\n",
       "      <td>4.201487</td>\n",
       "      <td>7194</td>\n",
       "      <td>0</td>\n",
       "      <td>5.963490e+05</td>\n",
       "      <td>1949-08-31</td>\n",
       "    </tr>\n",
       "    <tr>\n",
       "      <th>15</th>\n",
       "      <td>44555</td>\n",
       "      <td>The Lives of Others</td>\n",
       "      <td>4.200392</td>\n",
       "      <td>9177</td>\n",
       "      <td>2000000</td>\n",
       "      <td>7.000000e+07</td>\n",
       "      <td>2006-03-15</td>\n",
       "    </tr>\n",
       "    <tr>\n",
       "      <th>16</th>\n",
       "      <td>908</td>\n",
       "      <td>North by Northwest</td>\n",
       "      <td>4.196617</td>\n",
       "      <td>16850</td>\n",
       "      <td>4000000</td>\n",
       "      <td>1.327500e+07</td>\n",
       "      <td>1959-07-07</td>\n",
       "    </tr>\n",
       "    <tr>\n",
       "      <th>17</th>\n",
       "      <td>296</td>\n",
       "      <td>Pulp Fiction</td>\n",
       "      <td>4.188912</td>\n",
       "      <td>79672</td>\n",
       "      <td>8000000</td>\n",
       "      <td>2.139288e+08</td>\n",
       "      <td>1994-09-10</td>\n",
       "    </tr>\n",
       "    <tr>\n",
       "      <th>18</th>\n",
       "      <td>6016</td>\n",
       "      <td>City of God</td>\n",
       "      <td>4.181587</td>\n",
       "      <td>19894</td>\n",
       "      <td>3300000</td>\n",
       "      <td>3.064177e+07</td>\n",
       "      <td>2002-02-05</td>\n",
       "    </tr>\n",
       "    <tr>\n",
       "      <th>19</th>\n",
       "      <td>1213</td>\n",
       "      <td>GoodFellas</td>\n",
       "      <td>4.180525</td>\n",
       "      <td>32663</td>\n",
       "      <td>25000000</td>\n",
       "      <td>4.683639e+07</td>\n",
       "      <td>1990-09-12</td>\n",
       "    </tr>\n",
       "    <tr>\n",
       "      <th>20</th>\n",
       "      <td>58559</td>\n",
       "      <td>The Dark Knight</td>\n",
       "      <td>4.166538</td>\n",
       "      <td>41519</td>\n",
       "      <td>185000000</td>\n",
       "      <td>1.004558e+09</td>\n",
       "      <td>2008-07-16</td>\n",
       "    </tr>\n",
       "    <tr>\n",
       "      <th>21</th>\n",
       "      <td>1252</td>\n",
       "      <td>Chinatown</td>\n",
       "      <td>4.158633</td>\n",
       "      <td>16929</td>\n",
       "      <td>6000000</td>\n",
       "      <td>3.000000e+07</td>\n",
       "      <td>1974-06-20</td>\n",
       "    </tr>\n",
       "    <tr>\n",
       "      <th>22</th>\n",
       "      <td>79132</td>\n",
       "      <td>Inception</td>\n",
       "      <td>4.155508</td>\n",
       "      <td>38895</td>\n",
       "      <td>160000000</td>\n",
       "      <td>8.255328e+08</td>\n",
       "      <td>2010-07-14</td>\n",
       "    </tr>\n",
       "    <tr>\n",
       "      <th>23</th>\n",
       "      <td>2324</td>\n",
       "      <td>Life Is Beautiful</td>\n",
       "      <td>4.154342</td>\n",
       "      <td>23976</td>\n",
       "      <td>20000000</td>\n",
       "      <td>2.294000e+08</td>\n",
       "      <td>1997-12-20</td>\n",
       "    </tr>\n",
       "    <tr>\n",
       "      <th>24</th>\n",
       "      <td>2571</td>\n",
       "      <td>The Matrix</td>\n",
       "      <td>4.154099</td>\n",
       "      <td>72674</td>\n",
       "      <td>63000000</td>\n",
       "      <td>4.635174e+08</td>\n",
       "      <td>1999-03-30</td>\n",
       "    </tr>\n",
       "    <tr>\n",
       "      <th>25</th>\n",
       "      <td>913</td>\n",
       "      <td>The Maltese Falcon</td>\n",
       "      <td>4.154075</td>\n",
       "      <td>12257</td>\n",
       "      <td>375000</td>\n",
       "      <td>1.000000e+06</td>\n",
       "      <td>1941-11-18</td>\n",
       "    </tr>\n",
       "    <tr>\n",
       "      <th>26</th>\n",
       "      <td>5971</td>\n",
       "      <td>My Neighbor Totoro</td>\n",
       "      <td>4.152463</td>\n",
       "      <td>9340</td>\n",
       "      <td>0</td>\n",
       "      <td>0.000000e+00</td>\n",
       "      <td>1988-04-16</td>\n",
       "    </tr>\n",
       "    <tr>\n",
       "      <th>27</th>\n",
       "      <td>593</td>\n",
       "      <td>The Silence of the Lambs</td>\n",
       "      <td>4.151342</td>\n",
       "      <td>74127</td>\n",
       "      <td>19000000</td>\n",
       "      <td>2.727429e+08</td>\n",
       "      <td>1991-02-01</td>\n",
       "    </tr>\n",
       "    <tr>\n",
       "      <th>28</th>\n",
       "      <td>4226</td>\n",
       "      <td>Memento</td>\n",
       "      <td>4.149958</td>\n",
       "      <td>41195</td>\n",
       "      <td>9000000</td>\n",
       "      <td>3.972310e+07</td>\n",
       "      <td>2000-10-11</td>\n",
       "    </tr>\n",
       "    <tr>\n",
       "      <th>29</th>\n",
       "      <td>1136</td>\n",
       "      <td>Monty Python and the Holy Grail</td>\n",
       "      <td>4.147655</td>\n",
       "      <td>37723</td>\n",
       "      <td>400000</td>\n",
       "      <td>5.028948e+06</td>\n",
       "      <td>1975-03-13</td>\n",
       "    </tr>\n",
       "    <tr>\n",
       "      <th>30</th>\n",
       "      <td>1207</td>\n",
       "      <td>To Kill a Mockingbird</td>\n",
       "      <td>4.146441</td>\n",
       "      <td>15986</td>\n",
       "      <td>2000000</td>\n",
       "      <td>1.312985e+07</td>\n",
       "      <td>1962-12-25</td>\n",
       "    </tr>\n",
       "    <tr>\n",
       "      <th>31</th>\n",
       "      <td>1196</td>\n",
       "      <td>The Empire Strikes Back</td>\n",
       "      <td>4.144122</td>\n",
       "      <td>57361</td>\n",
       "      <td>18000000</td>\n",
       "      <td>5.384000e+08</td>\n",
       "      <td>1980-05-17</td>\n",
       "    </tr>\n",
       "    <tr>\n",
       "      <th>32</th>\n",
       "      <td>1234</td>\n",
       "      <td>The Sting</td>\n",
       "      <td>4.142360</td>\n",
       "      <td>15675</td>\n",
       "      <td>5500000</td>\n",
       "      <td>1.596163e+08</td>\n",
       "      <td>1973-12-25</td>\n",
       "    </tr>\n",
       "    <tr>\n",
       "      <th>33</th>\n",
       "      <td>2329</td>\n",
       "      <td>American History X</td>\n",
       "      <td>4.140001</td>\n",
       "      <td>31157</td>\n",
       "      <td>20000000</td>\n",
       "      <td>2.387513e+07</td>\n",
       "      <td>1998-10-30</td>\n",
       "    </tr>\n",
       "    <tr>\n",
       "      <th>34</th>\n",
       "      <td>3000</td>\n",
       "      <td>Princess Mononoke</td>\n",
       "      <td>4.138094</td>\n",
       "      <td>13136</td>\n",
       "      <td>26500000</td>\n",
       "      <td>1.593753e+08</td>\n",
       "      <td>1997-07-12</td>\n",
       "    </tr>\n",
       "    <tr>\n",
       "      <th>35</th>\n",
       "      <td>112552</td>\n",
       "      <td>Whiplash</td>\n",
       "      <td>4.137848</td>\n",
       "      <td>11179</td>\n",
       "      <td>3300000</td>\n",
       "      <td>1.309200e+07</td>\n",
       "      <td>2014-10-10</td>\n",
       "    </tr>\n",
       "    <tr>\n",
       "      <th>36</th>\n",
       "      <td>898</td>\n",
       "      <td>The Philadelphia Story</td>\n",
       "      <td>4.137713</td>\n",
       "      <td>6499</td>\n",
       "      <td>0</td>\n",
       "      <td>0.000000e+00</td>\n",
       "      <td>1940-12-05</td>\n",
       "    </tr>\n",
       "    <tr>\n",
       "      <th>37</th>\n",
       "      <td>1204</td>\n",
       "      <td>Lawrence of Arabia</td>\n",
       "      <td>4.136036</td>\n",
       "      <td>13173</td>\n",
       "      <td>15000000</td>\n",
       "      <td>6.999538e+07</td>\n",
       "      <td>1962-12-10</td>\n",
       "    </tr>\n",
       "    <tr>\n",
       "      <th>38</th>\n",
       "      <td>1172</td>\n",
       "      <td>Cinema Paradiso</td>\n",
       "      <td>4.131081</td>\n",
       "      <td>9456</td>\n",
       "      <td>0</td>\n",
       "      <td>1.199040e+07</td>\n",
       "      <td>1988-11-17</td>\n",
       "    </tr>\n",
       "    <tr>\n",
       "      <th>39</th>\n",
       "      <td>1201</td>\n",
       "      <td>The Good, the Bad and the Ugly</td>\n",
       "      <td>4.129336</td>\n",
       "      <td>18162</td>\n",
       "      <td>1200000</td>\n",
       "      <td>6.000000e+06</td>\n",
       "      <td>1966-12-23</td>\n",
       "    </tr>\n",
       "    <tr>\n",
       "      <th>40</th>\n",
       "      <td>1197</td>\n",
       "      <td>The Princess Bride</td>\n",
       "      <td>4.129097</td>\n",
       "      <td>37863</td>\n",
       "      <td>16000000</td>\n",
       "      <td>3.085781e+07</td>\n",
       "      <td>1987-09-18</td>\n",
       "    </tr>\n",
       "    <tr>\n",
       "      <th>41</th>\n",
       "      <td>1233</td>\n",
       "      <td>Das Boot</td>\n",
       "      <td>4.127091</td>\n",
       "      <td>13573</td>\n",
       "      <td>14000000</td>\n",
       "      <td>8.500000e+07</td>\n",
       "      <td>1981-09-16</td>\n",
       "    </tr>\n",
       "    <tr>\n",
       "      <th>42</th>\n",
       "      <td>1148</td>\n",
       "      <td>The Wrong Trousers</td>\n",
       "      <td>4.124787</td>\n",
       "      <td>15270</td>\n",
       "      <td>0</td>\n",
       "      <td>0.000000e+00</td>\n",
       "      <td>1993-12-17</td>\n",
       "    </tr>\n",
       "    <tr>\n",
       "      <th>43</th>\n",
       "      <td>92259</td>\n",
       "      <td>The Intouchables</td>\n",
       "      <td>4.124755</td>\n",
       "      <td>12745</td>\n",
       "      <td>13000000</td>\n",
       "      <td>4.264809e+08</td>\n",
       "      <td>2011-11-02</td>\n",
       "    </tr>\n",
       "    <tr>\n",
       "      <th>44</th>\n",
       "      <td>1198</td>\n",
       "      <td>Raiders of the Lost Ark</td>\n",
       "      <td>4.123923</td>\n",
       "      <td>54675</td>\n",
       "      <td>18000000</td>\n",
       "      <td>3.899260e+08</td>\n",
       "      <td>1981-06-12</td>\n",
       "    </tr>\n",
       "    <tr>\n",
       "      <th>45</th>\n",
       "      <td>48516</td>\n",
       "      <td>The Departed</td>\n",
       "      <td>4.121237</td>\n",
       "      <td>25343</td>\n",
       "      <td>90000000</td>\n",
       "      <td>2.898474e+08</td>\n",
       "      <td>2006-10-05</td>\n",
       "    </tr>\n",
       "    <tr>\n",
       "      <th>46</th>\n",
       "      <td>903</td>\n",
       "      <td>Vertigo</td>\n",
       "      <td>4.120822</td>\n",
       "      <td>15945</td>\n",
       "      <td>2479000</td>\n",
       "      <td>2.800000e+07</td>\n",
       "      <td>1958-05-09</td>\n",
       "    </tr>\n",
       "    <tr>\n",
       "      <th>47</th>\n",
       "      <td>260</td>\n",
       "      <td>Star Wars</td>\n",
       "      <td>4.120189</td>\n",
       "      <td>68717</td>\n",
       "      <td>11000000</td>\n",
       "      <td>7.753980e+08</td>\n",
       "      <td>1977-05-25</td>\n",
       "    </tr>\n",
       "    <tr>\n",
       "      <th>48</th>\n",
       "      <td>541</td>\n",
       "      <td>Blade Runner</td>\n",
       "      <td>4.115838</td>\n",
       "      <td>36702</td>\n",
       "      <td>28000000</td>\n",
       "      <td>3.313962e+07</td>\n",
       "      <td>1982-06-25</td>\n",
       "    </tr>\n",
       "    <tr>\n",
       "      <th>49</th>\n",
       "      <td>1208</td>\n",
       "      <td>Apocalypse Now</td>\n",
       "      <td>4.114714</td>\n",
       "      <td>26370</td>\n",
       "      <td>31500000</td>\n",
       "      <td>8.946038e+07</td>\n",
       "      <td>1979-08-15</td>\n",
       "    </tr>\n",
       "  </tbody>\n",
       "</table>\n",
       "</div>"
      ],
      "text/plain": [
       "    movieId                                              title    rating  \\\n",
       "0       318                           The Shawshank Redemption  4.413576   \n",
       "1       858                                      The Godfather  4.324336   \n",
       "2        50                                 The Usual Suspects  4.284353   \n",
       "3      1221                             The Godfather: Part II  4.261759   \n",
       "4      2019                                      Seven Samurai  4.254769   \n",
       "5       527                                   Schindler's List  4.247579   \n",
       "6      1203                                       12 Angry Men  4.243014   \n",
       "7       904                                        Rear Window  4.237948   \n",
       "8      2959                                         Fight Club  4.228311   \n",
       "9      1193                    One Flew Over the Cuckoo's Nest  4.218662   \n",
       "10      750  Dr. Strangelove or: How I Learned to Stop Worr...  4.215804   \n",
       "11     5618                                      Spirited Away  4.212267   \n",
       "12      912                                         Casablanca  4.206564   \n",
       "13      922                                   Sunset Boulevard  4.206501   \n",
       "14     1212                                      The Third Man  4.201487   \n",
       "15    44555                                The Lives of Others  4.200392   \n",
       "16      908                                 North by Northwest  4.196617   \n",
       "17      296                                       Pulp Fiction  4.188912   \n",
       "18     6016                                        City of God  4.181587   \n",
       "19     1213                                         GoodFellas  4.180525   \n",
       "20    58559                                    The Dark Knight  4.166538   \n",
       "21     1252                                          Chinatown  4.158633   \n",
       "22    79132                                          Inception  4.155508   \n",
       "23     2324                                  Life Is Beautiful  4.154342   \n",
       "24     2571                                         The Matrix  4.154099   \n",
       "25      913                                 The Maltese Falcon  4.154075   \n",
       "26     5971                                 My Neighbor Totoro  4.152463   \n",
       "27      593                           The Silence of the Lambs  4.151342   \n",
       "28     4226                                            Memento  4.149958   \n",
       "29     1136                    Monty Python and the Holy Grail  4.147655   \n",
       "30     1207                              To Kill a Mockingbird  4.146441   \n",
       "31     1196                            The Empire Strikes Back  4.144122   \n",
       "32     1234                                          The Sting  4.142360   \n",
       "33     2329                                 American History X  4.140001   \n",
       "34     3000                                  Princess Mononoke  4.138094   \n",
       "35   112552                                           Whiplash  4.137848   \n",
       "36      898                             The Philadelphia Story  4.137713   \n",
       "37     1204                                 Lawrence of Arabia  4.136036   \n",
       "38     1172                                    Cinema Paradiso  4.131081   \n",
       "39     1201                     The Good, the Bad and the Ugly  4.129336   \n",
       "40     1197                                 The Princess Bride  4.129097   \n",
       "41     1233                                           Das Boot  4.127091   \n",
       "42     1148                                 The Wrong Trousers  4.124787   \n",
       "43    92259                                   The Intouchables  4.124755   \n",
       "44     1198                            Raiders of the Lost Ark  4.123923   \n",
       "45    48516                                       The Departed  4.121237   \n",
       "46      903                                            Vertigo  4.120822   \n",
       "47      260                                          Star Wars  4.120189   \n",
       "48      541                                       Blade Runner  4.115838   \n",
       "49     1208                                     Apocalypse Now  4.114714   \n",
       "\n",
       "    count     budget       revenue release_date  \n",
       "0   81482   25000000  2.834147e+07   1994-09-23  \n",
       "1   52498    6000000  2.450664e+08   1972-03-14  \n",
       "2   55366    6000000  2.334157e+07   1995-07-19  \n",
       "3   34188   13000000  4.754284e+07   1974-12-20  \n",
       "4   13367    2000000  2.718410e+05   1954-04-26  \n",
       "5   60411   22000000  3.213656e+08   1993-11-29  \n",
       "6   16569     350000  1.000000e+06   1957-03-25  \n",
       "7   20162    1000000  3.676431e+07   1954-08-01  \n",
       "8   58773   63000000  1.008538e+08   1999-10-15  \n",
       "9   36058    3000000  1.089813e+08   1975-11-18  \n",
       "10  26714    1800000  9.440272e+06   1964-01-29  \n",
       "11  22719   15000000  2.749251e+08   2001-07-20  \n",
       "12  26890     878000  1.046250e+07   1942-11-26  \n",
       "13   7368    1752000  5.000000e+06   1950-08-10  \n",
       "14   7194          0  5.963490e+05   1949-08-31  \n",
       "15   9177    2000000  7.000000e+07   2006-03-15  \n",
       "16  16850    4000000  1.327500e+07   1959-07-07  \n",
       "17  79672    8000000  2.139288e+08   1994-09-10  \n",
       "18  19894    3300000  3.064177e+07   2002-02-05  \n",
       "19  32663   25000000  4.683639e+07   1990-09-12  \n",
       "20  41519  185000000  1.004558e+09   2008-07-16  \n",
       "21  16929    6000000  3.000000e+07   1974-06-20  \n",
       "22  38895  160000000  8.255328e+08   2010-07-14  \n",
       "23  23976   20000000  2.294000e+08   1997-12-20  \n",
       "24  72674   63000000  4.635174e+08   1999-03-30  \n",
       "25  12257     375000  1.000000e+06   1941-11-18  \n",
       "26   9340          0  0.000000e+00   1988-04-16  \n",
       "27  74127   19000000  2.727429e+08   1991-02-01  \n",
       "28  41195    9000000  3.972310e+07   2000-10-11  \n",
       "29  37723     400000  5.028948e+06   1975-03-13  \n",
       "30  15986    2000000  1.312985e+07   1962-12-25  \n",
       "31  57361   18000000  5.384000e+08   1980-05-17  \n",
       "32  15675    5500000  1.596163e+08   1973-12-25  \n",
       "33  31157   20000000  2.387513e+07   1998-10-30  \n",
       "34  13136   26500000  1.593753e+08   1997-07-12  \n",
       "35  11179    3300000  1.309200e+07   2014-10-10  \n",
       "36   6499          0  0.000000e+00   1940-12-05  \n",
       "37  13173   15000000  6.999538e+07   1962-12-10  \n",
       "38   9456          0  1.199040e+07   1988-11-17  \n",
       "39  18162    1200000  6.000000e+06   1966-12-23  \n",
       "40  37863   16000000  3.085781e+07   1987-09-18  \n",
       "41  13573   14000000  8.500000e+07   1981-09-16  \n",
       "42  15270          0  0.000000e+00   1993-12-17  \n",
       "43  12745   13000000  4.264809e+08   2011-11-02  \n",
       "44  54675   18000000  3.899260e+08   1981-06-12  \n",
       "45  25343   90000000  2.898474e+08   2006-10-05  \n",
       "46  15945    2479000  2.800000e+07   1958-05-09  \n",
       "47  68717   11000000  7.753980e+08   1977-05-25  \n",
       "48  36702   28000000  3.313962e+07   1982-06-25  \n",
       "49  26370   31500000  8.946038e+07   1979-08-15  "
      ]
     },
     "execution_count": 17,
     "metadata": {},
     "output_type": "execute_result"
    }
   ],
   "source": [
    "df_final.head(50)"
   ]
  },
  {
   "cell_type": "code",
   "execution_count": 18,
   "metadata": {},
   "outputs": [
    {
     "name": "stderr",
     "output_type": "stream",
     "text": [
      "C:\\Users\\mvill\\AppData\\Local\\Temp\\ipykernel_15668\\808503251.py:2: SettingWithCopyWarning: \n",
      "A value is trying to be set on a copy of a slice from a DataFrame.\n",
      "Try using .loc[row_indexer,col_indexer] = value instead\n",
      "\n",
      "See the caveats in the documentation: https://pandas.pydata.org/pandas-docs/stable/user_guide/indexing.html#returning-a-view-versus-a-copy\n",
      "  df_final['release_date'] = pd.to_datetime(df_final['release_date'], format='%Y-%m-%d')\n",
      "C:\\Users\\mvill\\AppData\\Local\\Temp\\ipykernel_15668\\808503251.py:4: SettingWithCopyWarning: \n",
      "A value is trying to be set on a copy of a slice from a DataFrame.\n",
      "Try using .loc[row_indexer,col_indexer] = value instead\n",
      "\n",
      "See the caveats in the documentation: https://pandas.pydata.org/pandas-docs/stable/user_guide/indexing.html#returning-a-view-versus-a-copy\n",
      "  df_final['budget'] = pd.to_numeric(df_final['budget'], errors='coerce')\n",
      "C:\\Users\\mvill\\AppData\\Local\\Temp\\ipykernel_15668\\808503251.py:6: SettingWithCopyWarning: \n",
      "A value is trying to be set on a copy of a slice from a DataFrame.\n",
      "Try using .loc[row_indexer,col_indexer] = value instead\n",
      "\n",
      "See the caveats in the documentation: https://pandas.pydata.org/pandas-docs/stable/user_guide/indexing.html#returning-a-view-versus-a-copy\n",
      "  df_final['revenue'] = pd.to_numeric(df_final['revenue'], errors='coerce')\n"
     ]
    },
    {
     "data": {
      "text/html": [
       "<div>\n",
       "<style scoped>\n",
       "    .dataframe tbody tr th:only-of-type {\n",
       "        vertical-align: middle;\n",
       "    }\n",
       "\n",
       "    .dataframe tbody tr th {\n",
       "        vertical-align: top;\n",
       "    }\n",
       "\n",
       "    .dataframe thead th {\n",
       "        text-align: right;\n",
       "    }\n",
       "</style>\n",
       "<table border=\"1\" class=\"dataframe\">\n",
       "  <thead>\n",
       "    <tr style=\"text-align: right;\">\n",
       "      <th></th>\n",
       "      <th>movieId</th>\n",
       "      <th>title</th>\n",
       "      <th>rating</th>\n",
       "      <th>count</th>\n",
       "      <th>budget</th>\n",
       "      <th>revenue</th>\n",
       "      <th>release_date</th>\n",
       "    </tr>\n",
       "  </thead>\n",
       "  <tbody>\n",
       "    <tr>\n",
       "      <th>0</th>\n",
       "      <td>318</td>\n",
       "      <td>The Shawshank Redemption</td>\n",
       "      <td>4.413576</td>\n",
       "      <td>81482</td>\n",
       "      <td>25000000</td>\n",
       "      <td>2.834147e+07</td>\n",
       "      <td>1994-09-23</td>\n",
       "    </tr>\n",
       "    <tr>\n",
       "      <th>1</th>\n",
       "      <td>858</td>\n",
       "      <td>The Godfather</td>\n",
       "      <td>4.324336</td>\n",
       "      <td>52498</td>\n",
       "      <td>6000000</td>\n",
       "      <td>2.450664e+08</td>\n",
       "      <td>1972-03-14</td>\n",
       "    </tr>\n",
       "    <tr>\n",
       "      <th>2</th>\n",
       "      <td>50</td>\n",
       "      <td>The Usual Suspects</td>\n",
       "      <td>4.284353</td>\n",
       "      <td>55366</td>\n",
       "      <td>6000000</td>\n",
       "      <td>2.334157e+07</td>\n",
       "      <td>1995-07-19</td>\n",
       "    </tr>\n",
       "    <tr>\n",
       "      <th>3</th>\n",
       "      <td>1221</td>\n",
       "      <td>The Godfather: Part II</td>\n",
       "      <td>4.261759</td>\n",
       "      <td>34188</td>\n",
       "      <td>13000000</td>\n",
       "      <td>4.754284e+07</td>\n",
       "      <td>1974-12-20</td>\n",
       "    </tr>\n",
       "    <tr>\n",
       "      <th>4</th>\n",
       "      <td>2019</td>\n",
       "      <td>Seven Samurai</td>\n",
       "      <td>4.254769</td>\n",
       "      <td>13367</td>\n",
       "      <td>2000000</td>\n",
       "      <td>2.718410e+05</td>\n",
       "      <td>1954-04-26</td>\n",
       "    </tr>\n",
       "    <tr>\n",
       "      <th>5</th>\n",
       "      <td>527</td>\n",
       "      <td>Schindler's List</td>\n",
       "      <td>4.247579</td>\n",
       "      <td>60411</td>\n",
       "      <td>22000000</td>\n",
       "      <td>3.213656e+08</td>\n",
       "      <td>1993-11-29</td>\n",
       "    </tr>\n",
       "    <tr>\n",
       "      <th>6</th>\n",
       "      <td>1203</td>\n",
       "      <td>12 Angry Men</td>\n",
       "      <td>4.243014</td>\n",
       "      <td>16569</td>\n",
       "      <td>350000</td>\n",
       "      <td>1.000000e+06</td>\n",
       "      <td>1957-03-25</td>\n",
       "    </tr>\n",
       "    <tr>\n",
       "      <th>7</th>\n",
       "      <td>904</td>\n",
       "      <td>Rear Window</td>\n",
       "      <td>4.237948</td>\n",
       "      <td>20162</td>\n",
       "      <td>1000000</td>\n",
       "      <td>3.676431e+07</td>\n",
       "      <td>1954-08-01</td>\n",
       "    </tr>\n",
       "    <tr>\n",
       "      <th>8</th>\n",
       "      <td>2959</td>\n",
       "      <td>Fight Club</td>\n",
       "      <td>4.228311</td>\n",
       "      <td>58773</td>\n",
       "      <td>63000000</td>\n",
       "      <td>1.008538e+08</td>\n",
       "      <td>1999-10-15</td>\n",
       "    </tr>\n",
       "    <tr>\n",
       "      <th>9</th>\n",
       "      <td>1193</td>\n",
       "      <td>One Flew Over the Cuckoo's Nest</td>\n",
       "      <td>4.218662</td>\n",
       "      <td>36058</td>\n",
       "      <td>3000000</td>\n",
       "      <td>1.089813e+08</td>\n",
       "      <td>1975-11-18</td>\n",
       "    </tr>\n",
       "    <tr>\n",
       "      <th>10</th>\n",
       "      <td>750</td>\n",
       "      <td>Dr. Strangelove or: How I Learned to Stop Worr...</td>\n",
       "      <td>4.215804</td>\n",
       "      <td>26714</td>\n",
       "      <td>1800000</td>\n",
       "      <td>9.440272e+06</td>\n",
       "      <td>1964-01-29</td>\n",
       "    </tr>\n",
       "    <tr>\n",
       "      <th>11</th>\n",
       "      <td>5618</td>\n",
       "      <td>Spirited Away</td>\n",
       "      <td>4.212267</td>\n",
       "      <td>22719</td>\n",
       "      <td>15000000</td>\n",
       "      <td>2.749251e+08</td>\n",
       "      <td>2001-07-20</td>\n",
       "    </tr>\n",
       "    <tr>\n",
       "      <th>12</th>\n",
       "      <td>912</td>\n",
       "      <td>Casablanca</td>\n",
       "      <td>4.206564</td>\n",
       "      <td>26890</td>\n",
       "      <td>878000</td>\n",
       "      <td>1.046250e+07</td>\n",
       "      <td>1942-11-26</td>\n",
       "    </tr>\n",
       "    <tr>\n",
       "      <th>13</th>\n",
       "      <td>922</td>\n",
       "      <td>Sunset Boulevard</td>\n",
       "      <td>4.206501</td>\n",
       "      <td>7368</td>\n",
       "      <td>1752000</td>\n",
       "      <td>5.000000e+06</td>\n",
       "      <td>1950-08-10</td>\n",
       "    </tr>\n",
       "    <tr>\n",
       "      <th>14</th>\n",
       "      <td>1212</td>\n",
       "      <td>The Third Man</td>\n",
       "      <td>4.201487</td>\n",
       "      <td>7194</td>\n",
       "      <td>0</td>\n",
       "      <td>5.963490e+05</td>\n",
       "      <td>1949-08-31</td>\n",
       "    </tr>\n",
       "    <tr>\n",
       "      <th>15</th>\n",
       "      <td>44555</td>\n",
       "      <td>The Lives of Others</td>\n",
       "      <td>4.200392</td>\n",
       "      <td>9177</td>\n",
       "      <td>2000000</td>\n",
       "      <td>7.000000e+07</td>\n",
       "      <td>2006-03-15</td>\n",
       "    </tr>\n",
       "    <tr>\n",
       "      <th>16</th>\n",
       "      <td>908</td>\n",
       "      <td>North by Northwest</td>\n",
       "      <td>4.196617</td>\n",
       "      <td>16850</td>\n",
       "      <td>4000000</td>\n",
       "      <td>1.327500e+07</td>\n",
       "      <td>1959-07-07</td>\n",
       "    </tr>\n",
       "    <tr>\n",
       "      <th>17</th>\n",
       "      <td>296</td>\n",
       "      <td>Pulp Fiction</td>\n",
       "      <td>4.188912</td>\n",
       "      <td>79672</td>\n",
       "      <td>8000000</td>\n",
       "      <td>2.139288e+08</td>\n",
       "      <td>1994-09-10</td>\n",
       "    </tr>\n",
       "    <tr>\n",
       "      <th>18</th>\n",
       "      <td>6016</td>\n",
       "      <td>City of God</td>\n",
       "      <td>4.181587</td>\n",
       "      <td>19894</td>\n",
       "      <td>3300000</td>\n",
       "      <td>3.064177e+07</td>\n",
       "      <td>2002-02-05</td>\n",
       "    </tr>\n",
       "    <tr>\n",
       "      <th>19</th>\n",
       "      <td>1213</td>\n",
       "      <td>GoodFellas</td>\n",
       "      <td>4.180525</td>\n",
       "      <td>32663</td>\n",
       "      <td>25000000</td>\n",
       "      <td>4.683639e+07</td>\n",
       "      <td>1990-09-12</td>\n",
       "    </tr>\n",
       "    <tr>\n",
       "      <th>20</th>\n",
       "      <td>58559</td>\n",
       "      <td>The Dark Knight</td>\n",
       "      <td>4.166538</td>\n",
       "      <td>41519</td>\n",
       "      <td>185000000</td>\n",
       "      <td>1.004558e+09</td>\n",
       "      <td>2008-07-16</td>\n",
       "    </tr>\n",
       "    <tr>\n",
       "      <th>21</th>\n",
       "      <td>1252</td>\n",
       "      <td>Chinatown</td>\n",
       "      <td>4.158633</td>\n",
       "      <td>16929</td>\n",
       "      <td>6000000</td>\n",
       "      <td>3.000000e+07</td>\n",
       "      <td>1974-06-20</td>\n",
       "    </tr>\n",
       "    <tr>\n",
       "      <th>22</th>\n",
       "      <td>79132</td>\n",
       "      <td>Inception</td>\n",
       "      <td>4.155508</td>\n",
       "      <td>38895</td>\n",
       "      <td>160000000</td>\n",
       "      <td>8.255328e+08</td>\n",
       "      <td>2010-07-14</td>\n",
       "    </tr>\n",
       "    <tr>\n",
       "      <th>23</th>\n",
       "      <td>2324</td>\n",
       "      <td>Life Is Beautiful</td>\n",
       "      <td>4.154342</td>\n",
       "      <td>23976</td>\n",
       "      <td>20000000</td>\n",
       "      <td>2.294000e+08</td>\n",
       "      <td>1997-12-20</td>\n",
       "    </tr>\n",
       "    <tr>\n",
       "      <th>24</th>\n",
       "      <td>2571</td>\n",
       "      <td>The Matrix</td>\n",
       "      <td>4.154099</td>\n",
       "      <td>72674</td>\n",
       "      <td>63000000</td>\n",
       "      <td>4.635174e+08</td>\n",
       "      <td>1999-03-30</td>\n",
       "    </tr>\n",
       "    <tr>\n",
       "      <th>25</th>\n",
       "      <td>913</td>\n",
       "      <td>The Maltese Falcon</td>\n",
       "      <td>4.154075</td>\n",
       "      <td>12257</td>\n",
       "      <td>375000</td>\n",
       "      <td>1.000000e+06</td>\n",
       "      <td>1941-11-18</td>\n",
       "    </tr>\n",
       "    <tr>\n",
       "      <th>26</th>\n",
       "      <td>5971</td>\n",
       "      <td>My Neighbor Totoro</td>\n",
       "      <td>4.152463</td>\n",
       "      <td>9340</td>\n",
       "      <td>0</td>\n",
       "      <td>0.000000e+00</td>\n",
       "      <td>1988-04-16</td>\n",
       "    </tr>\n",
       "    <tr>\n",
       "      <th>27</th>\n",
       "      <td>593</td>\n",
       "      <td>The Silence of the Lambs</td>\n",
       "      <td>4.151342</td>\n",
       "      <td>74127</td>\n",
       "      <td>19000000</td>\n",
       "      <td>2.727429e+08</td>\n",
       "      <td>1991-02-01</td>\n",
       "    </tr>\n",
       "    <tr>\n",
       "      <th>28</th>\n",
       "      <td>4226</td>\n",
       "      <td>Memento</td>\n",
       "      <td>4.149958</td>\n",
       "      <td>41195</td>\n",
       "      <td>9000000</td>\n",
       "      <td>3.972310e+07</td>\n",
       "      <td>2000-10-11</td>\n",
       "    </tr>\n",
       "    <tr>\n",
       "      <th>29</th>\n",
       "      <td>1136</td>\n",
       "      <td>Monty Python and the Holy Grail</td>\n",
       "      <td>4.147655</td>\n",
       "      <td>37723</td>\n",
       "      <td>400000</td>\n",
       "      <td>5.028948e+06</td>\n",
       "      <td>1975-03-13</td>\n",
       "    </tr>\n",
       "    <tr>\n",
       "      <th>30</th>\n",
       "      <td>1207</td>\n",
       "      <td>To Kill a Mockingbird</td>\n",
       "      <td>4.146441</td>\n",
       "      <td>15986</td>\n",
       "      <td>2000000</td>\n",
       "      <td>1.312985e+07</td>\n",
       "      <td>1962-12-25</td>\n",
       "    </tr>\n",
       "    <tr>\n",
       "      <th>31</th>\n",
       "      <td>1196</td>\n",
       "      <td>The Empire Strikes Back</td>\n",
       "      <td>4.144122</td>\n",
       "      <td>57361</td>\n",
       "      <td>18000000</td>\n",
       "      <td>5.384000e+08</td>\n",
       "      <td>1980-05-17</td>\n",
       "    </tr>\n",
       "    <tr>\n",
       "      <th>32</th>\n",
       "      <td>1234</td>\n",
       "      <td>The Sting</td>\n",
       "      <td>4.142360</td>\n",
       "      <td>15675</td>\n",
       "      <td>5500000</td>\n",
       "      <td>1.596163e+08</td>\n",
       "      <td>1973-12-25</td>\n",
       "    </tr>\n",
       "    <tr>\n",
       "      <th>33</th>\n",
       "      <td>2329</td>\n",
       "      <td>American History X</td>\n",
       "      <td>4.140001</td>\n",
       "      <td>31157</td>\n",
       "      <td>20000000</td>\n",
       "      <td>2.387513e+07</td>\n",
       "      <td>1998-10-30</td>\n",
       "    </tr>\n",
       "    <tr>\n",
       "      <th>34</th>\n",
       "      <td>3000</td>\n",
       "      <td>Princess Mononoke</td>\n",
       "      <td>4.138094</td>\n",
       "      <td>13136</td>\n",
       "      <td>26500000</td>\n",
       "      <td>1.593753e+08</td>\n",
       "      <td>1997-07-12</td>\n",
       "    </tr>\n",
       "    <tr>\n",
       "      <th>35</th>\n",
       "      <td>112552</td>\n",
       "      <td>Whiplash</td>\n",
       "      <td>4.137848</td>\n",
       "      <td>11179</td>\n",
       "      <td>3300000</td>\n",
       "      <td>1.309200e+07</td>\n",
       "      <td>2014-10-10</td>\n",
       "    </tr>\n",
       "    <tr>\n",
       "      <th>36</th>\n",
       "      <td>898</td>\n",
       "      <td>The Philadelphia Story</td>\n",
       "      <td>4.137713</td>\n",
       "      <td>6499</td>\n",
       "      <td>0</td>\n",
       "      <td>0.000000e+00</td>\n",
       "      <td>1940-12-05</td>\n",
       "    </tr>\n",
       "    <tr>\n",
       "      <th>37</th>\n",
       "      <td>1204</td>\n",
       "      <td>Lawrence of Arabia</td>\n",
       "      <td>4.136036</td>\n",
       "      <td>13173</td>\n",
       "      <td>15000000</td>\n",
       "      <td>6.999538e+07</td>\n",
       "      <td>1962-12-10</td>\n",
       "    </tr>\n",
       "    <tr>\n",
       "      <th>38</th>\n",
       "      <td>1172</td>\n",
       "      <td>Cinema Paradiso</td>\n",
       "      <td>4.131081</td>\n",
       "      <td>9456</td>\n",
       "      <td>0</td>\n",
       "      <td>1.199040e+07</td>\n",
       "      <td>1988-11-17</td>\n",
       "    </tr>\n",
       "    <tr>\n",
       "      <th>39</th>\n",
       "      <td>1201</td>\n",
       "      <td>The Good, the Bad and the Ugly</td>\n",
       "      <td>4.129336</td>\n",
       "      <td>18162</td>\n",
       "      <td>1200000</td>\n",
       "      <td>6.000000e+06</td>\n",
       "      <td>1966-12-23</td>\n",
       "    </tr>\n",
       "    <tr>\n",
       "      <th>40</th>\n",
       "      <td>1197</td>\n",
       "      <td>The Princess Bride</td>\n",
       "      <td>4.129097</td>\n",
       "      <td>37863</td>\n",
       "      <td>16000000</td>\n",
       "      <td>3.085781e+07</td>\n",
       "      <td>1987-09-18</td>\n",
       "    </tr>\n",
       "    <tr>\n",
       "      <th>41</th>\n",
       "      <td>1233</td>\n",
       "      <td>Das Boot</td>\n",
       "      <td>4.127091</td>\n",
       "      <td>13573</td>\n",
       "      <td>14000000</td>\n",
       "      <td>8.500000e+07</td>\n",
       "      <td>1981-09-16</td>\n",
       "    </tr>\n",
       "    <tr>\n",
       "      <th>42</th>\n",
       "      <td>1148</td>\n",
       "      <td>The Wrong Trousers</td>\n",
       "      <td>4.124787</td>\n",
       "      <td>15270</td>\n",
       "      <td>0</td>\n",
       "      <td>0.000000e+00</td>\n",
       "      <td>1993-12-17</td>\n",
       "    </tr>\n",
       "    <tr>\n",
       "      <th>43</th>\n",
       "      <td>92259</td>\n",
       "      <td>The Intouchables</td>\n",
       "      <td>4.124755</td>\n",
       "      <td>12745</td>\n",
       "      <td>13000000</td>\n",
       "      <td>4.264809e+08</td>\n",
       "      <td>2011-11-02</td>\n",
       "    </tr>\n",
       "    <tr>\n",
       "      <th>44</th>\n",
       "      <td>1198</td>\n",
       "      <td>Raiders of the Lost Ark</td>\n",
       "      <td>4.123923</td>\n",
       "      <td>54675</td>\n",
       "      <td>18000000</td>\n",
       "      <td>3.899260e+08</td>\n",
       "      <td>1981-06-12</td>\n",
       "    </tr>\n",
       "    <tr>\n",
       "      <th>45</th>\n",
       "      <td>48516</td>\n",
       "      <td>The Departed</td>\n",
       "      <td>4.121237</td>\n",
       "      <td>25343</td>\n",
       "      <td>90000000</td>\n",
       "      <td>2.898474e+08</td>\n",
       "      <td>2006-10-05</td>\n",
       "    </tr>\n",
       "    <tr>\n",
       "      <th>46</th>\n",
       "      <td>903</td>\n",
       "      <td>Vertigo</td>\n",
       "      <td>4.120822</td>\n",
       "      <td>15945</td>\n",
       "      <td>2479000</td>\n",
       "      <td>2.800000e+07</td>\n",
       "      <td>1958-05-09</td>\n",
       "    </tr>\n",
       "    <tr>\n",
       "      <th>47</th>\n",
       "      <td>260</td>\n",
       "      <td>Star Wars</td>\n",
       "      <td>4.120189</td>\n",
       "      <td>68717</td>\n",
       "      <td>11000000</td>\n",
       "      <td>7.753980e+08</td>\n",
       "      <td>1977-05-25</td>\n",
       "    </tr>\n",
       "    <tr>\n",
       "      <th>48</th>\n",
       "      <td>541</td>\n",
       "      <td>Blade Runner</td>\n",
       "      <td>4.115838</td>\n",
       "      <td>36702</td>\n",
       "      <td>28000000</td>\n",
       "      <td>3.313962e+07</td>\n",
       "      <td>1982-06-25</td>\n",
       "    </tr>\n",
       "    <tr>\n",
       "      <th>49</th>\n",
       "      <td>1208</td>\n",
       "      <td>Apocalypse Now</td>\n",
       "      <td>4.114714</td>\n",
       "      <td>26370</td>\n",
       "      <td>31500000</td>\n",
       "      <td>8.946038e+07</td>\n",
       "      <td>1979-08-15</td>\n",
       "    </tr>\n",
       "  </tbody>\n",
       "</table>\n",
       "</div>"
      ],
      "text/plain": [
       "    movieId                                              title    rating  \\\n",
       "0       318                           The Shawshank Redemption  4.413576   \n",
       "1       858                                      The Godfather  4.324336   \n",
       "2        50                                 The Usual Suspects  4.284353   \n",
       "3      1221                             The Godfather: Part II  4.261759   \n",
       "4      2019                                      Seven Samurai  4.254769   \n",
       "5       527                                   Schindler's List  4.247579   \n",
       "6      1203                                       12 Angry Men  4.243014   \n",
       "7       904                                        Rear Window  4.237948   \n",
       "8      2959                                         Fight Club  4.228311   \n",
       "9      1193                    One Flew Over the Cuckoo's Nest  4.218662   \n",
       "10      750  Dr. Strangelove or: How I Learned to Stop Worr...  4.215804   \n",
       "11     5618                                      Spirited Away  4.212267   \n",
       "12      912                                         Casablanca  4.206564   \n",
       "13      922                                   Sunset Boulevard  4.206501   \n",
       "14     1212                                      The Third Man  4.201487   \n",
       "15    44555                                The Lives of Others  4.200392   \n",
       "16      908                                 North by Northwest  4.196617   \n",
       "17      296                                       Pulp Fiction  4.188912   \n",
       "18     6016                                        City of God  4.181587   \n",
       "19     1213                                         GoodFellas  4.180525   \n",
       "20    58559                                    The Dark Knight  4.166538   \n",
       "21     1252                                          Chinatown  4.158633   \n",
       "22    79132                                          Inception  4.155508   \n",
       "23     2324                                  Life Is Beautiful  4.154342   \n",
       "24     2571                                         The Matrix  4.154099   \n",
       "25      913                                 The Maltese Falcon  4.154075   \n",
       "26     5971                                 My Neighbor Totoro  4.152463   \n",
       "27      593                           The Silence of the Lambs  4.151342   \n",
       "28     4226                                            Memento  4.149958   \n",
       "29     1136                    Monty Python and the Holy Grail  4.147655   \n",
       "30     1207                              To Kill a Mockingbird  4.146441   \n",
       "31     1196                            The Empire Strikes Back  4.144122   \n",
       "32     1234                                          The Sting  4.142360   \n",
       "33     2329                                 American History X  4.140001   \n",
       "34     3000                                  Princess Mononoke  4.138094   \n",
       "35   112552                                           Whiplash  4.137848   \n",
       "36      898                             The Philadelphia Story  4.137713   \n",
       "37     1204                                 Lawrence of Arabia  4.136036   \n",
       "38     1172                                    Cinema Paradiso  4.131081   \n",
       "39     1201                     The Good, the Bad and the Ugly  4.129336   \n",
       "40     1197                                 The Princess Bride  4.129097   \n",
       "41     1233                                           Das Boot  4.127091   \n",
       "42     1148                                 The Wrong Trousers  4.124787   \n",
       "43    92259                                   The Intouchables  4.124755   \n",
       "44     1198                            Raiders of the Lost Ark  4.123923   \n",
       "45    48516                                       The Departed  4.121237   \n",
       "46      903                                            Vertigo  4.120822   \n",
       "47      260                                          Star Wars  4.120189   \n",
       "48      541                                       Blade Runner  4.115838   \n",
       "49     1208                                     Apocalypse Now  4.114714   \n",
       "\n",
       "    count     budget       revenue release_date  \n",
       "0   81482   25000000  2.834147e+07   1994-09-23  \n",
       "1   52498    6000000  2.450664e+08   1972-03-14  \n",
       "2   55366    6000000  2.334157e+07   1995-07-19  \n",
       "3   34188   13000000  4.754284e+07   1974-12-20  \n",
       "4   13367    2000000  2.718410e+05   1954-04-26  \n",
       "5   60411   22000000  3.213656e+08   1993-11-29  \n",
       "6   16569     350000  1.000000e+06   1957-03-25  \n",
       "7   20162    1000000  3.676431e+07   1954-08-01  \n",
       "8   58773   63000000  1.008538e+08   1999-10-15  \n",
       "9   36058    3000000  1.089813e+08   1975-11-18  \n",
       "10  26714    1800000  9.440272e+06   1964-01-29  \n",
       "11  22719   15000000  2.749251e+08   2001-07-20  \n",
       "12  26890     878000  1.046250e+07   1942-11-26  \n",
       "13   7368    1752000  5.000000e+06   1950-08-10  \n",
       "14   7194          0  5.963490e+05   1949-08-31  \n",
       "15   9177    2000000  7.000000e+07   2006-03-15  \n",
       "16  16850    4000000  1.327500e+07   1959-07-07  \n",
       "17  79672    8000000  2.139288e+08   1994-09-10  \n",
       "18  19894    3300000  3.064177e+07   2002-02-05  \n",
       "19  32663   25000000  4.683639e+07   1990-09-12  \n",
       "20  41519  185000000  1.004558e+09   2008-07-16  \n",
       "21  16929    6000000  3.000000e+07   1974-06-20  \n",
       "22  38895  160000000  8.255328e+08   2010-07-14  \n",
       "23  23976   20000000  2.294000e+08   1997-12-20  \n",
       "24  72674   63000000  4.635174e+08   1999-03-30  \n",
       "25  12257     375000  1.000000e+06   1941-11-18  \n",
       "26   9340          0  0.000000e+00   1988-04-16  \n",
       "27  74127   19000000  2.727429e+08   1991-02-01  \n",
       "28  41195    9000000  3.972310e+07   2000-10-11  \n",
       "29  37723     400000  5.028948e+06   1975-03-13  \n",
       "30  15986    2000000  1.312985e+07   1962-12-25  \n",
       "31  57361   18000000  5.384000e+08   1980-05-17  \n",
       "32  15675    5500000  1.596163e+08   1973-12-25  \n",
       "33  31157   20000000  2.387513e+07   1998-10-30  \n",
       "34  13136   26500000  1.593753e+08   1997-07-12  \n",
       "35  11179    3300000  1.309200e+07   2014-10-10  \n",
       "36   6499          0  0.000000e+00   1940-12-05  \n",
       "37  13173   15000000  6.999538e+07   1962-12-10  \n",
       "38   9456          0  1.199040e+07   1988-11-17  \n",
       "39  18162    1200000  6.000000e+06   1966-12-23  \n",
       "40  37863   16000000  3.085781e+07   1987-09-18  \n",
       "41  13573   14000000  8.500000e+07   1981-09-16  \n",
       "42  15270          0  0.000000e+00   1993-12-17  \n",
       "43  12745   13000000  4.264809e+08   2011-11-02  \n",
       "44  54675   18000000  3.899260e+08   1981-06-12  \n",
       "45  25343   90000000  2.898474e+08   2006-10-05  \n",
       "46  15945    2479000  2.800000e+07   1958-05-09  \n",
       "47  68717   11000000  7.753980e+08   1977-05-25  \n",
       "48  36702   28000000  3.313962e+07   1982-06-25  \n",
       "49  26370   31500000  8.946038e+07   1979-08-15  "
      ]
     },
     "execution_count": 18,
     "metadata": {},
     "output_type": "execute_result"
    }
   ],
   "source": [
    "# Convertir la columna 'release_date' a tipo de dato datetime\n",
    "df_final['release_date'] = pd.to_datetime(df_final['release_date'], format='%Y-%m-%d')\n",
    "\n",
    "df_final['budget'] = pd.to_numeric(df_final['budget'], errors='coerce')\n",
    "\n",
    "df_final['revenue'] = pd.to_numeric(df_final['revenue'], errors='coerce')\n",
    "\n",
    "df_final.head(50)"
   ]
  },
  {
   "cell_type": "code",
   "execution_count": 19,
   "metadata": {},
   "outputs": [
    {
     "data": {
      "application/vnd.plotly.v1+json": {
       "config": {
        "plotlyServerURL": "https://plot.ly"
       },
       "data": [
        {
         "alignmentgroup": "True",
         "hovertemplate": "Número de votos=%{x}<br>Título=%{y}<extra></extra>",
         "legendgroup": "",
         "marker": {
          "color": "#636efa",
          "pattern": {
           "shape": ""
          }
         },
         "name": "",
         "offsetgroup": "",
         "orientation": "h",
         "showlegend": false,
         "textposition": "auto",
         "type": "bar",
         "x": [
          58773,
          59184,
          60411,
          64144,
          68717,
          72674,
          74127,
          79672,
          81482,
          81491
         ],
         "xaxis": "x",
         "y": [
          "Fight Club",
          "Braveheart",
          "Schindler's List",
          "Jurassic Park",
          "Star Wars",
          "The Matrix",
          "The Silence of the Lambs",
          "Pulp Fiction",
          "The Shawshank Redemption",
          "Forrest Gump"
         ],
         "yaxis": "y"
        }
       ],
       "layout": {
        "barmode": "relative",
        "legend": {
         "tracegroupgap": 0
        },
        "template": {
         "data": {
          "bar": [
           {
            "error_x": {
             "color": "#2a3f5f"
            },
            "error_y": {
             "color": "#2a3f5f"
            },
            "marker": {
             "line": {
              "color": "#E5ECF6",
              "width": 0.5
             },
             "pattern": {
              "fillmode": "overlay",
              "size": 10,
              "solidity": 0.2
             }
            },
            "type": "bar"
           }
          ],
          "barpolar": [
           {
            "marker": {
             "line": {
              "color": "#E5ECF6",
              "width": 0.5
             },
             "pattern": {
              "fillmode": "overlay",
              "size": 10,
              "solidity": 0.2
             }
            },
            "type": "barpolar"
           }
          ],
          "carpet": [
           {
            "aaxis": {
             "endlinecolor": "#2a3f5f",
             "gridcolor": "white",
             "linecolor": "white",
             "minorgridcolor": "white",
             "startlinecolor": "#2a3f5f"
            },
            "baxis": {
             "endlinecolor": "#2a3f5f",
             "gridcolor": "white",
             "linecolor": "white",
             "minorgridcolor": "white",
             "startlinecolor": "#2a3f5f"
            },
            "type": "carpet"
           }
          ],
          "choropleth": [
           {
            "colorbar": {
             "outlinewidth": 0,
             "ticks": ""
            },
            "type": "choropleth"
           }
          ],
          "contour": [
           {
            "colorbar": {
             "outlinewidth": 0,
             "ticks": ""
            },
            "colorscale": [
             [
              0,
              "#0d0887"
             ],
             [
              0.1111111111111111,
              "#46039f"
             ],
             [
              0.2222222222222222,
              "#7201a8"
             ],
             [
              0.3333333333333333,
              "#9c179e"
             ],
             [
              0.4444444444444444,
              "#bd3786"
             ],
             [
              0.5555555555555556,
              "#d8576b"
             ],
             [
              0.6666666666666666,
              "#ed7953"
             ],
             [
              0.7777777777777778,
              "#fb9f3a"
             ],
             [
              0.8888888888888888,
              "#fdca26"
             ],
             [
              1,
              "#f0f921"
             ]
            ],
            "type": "contour"
           }
          ],
          "contourcarpet": [
           {
            "colorbar": {
             "outlinewidth": 0,
             "ticks": ""
            },
            "type": "contourcarpet"
           }
          ],
          "heatmap": [
           {
            "colorbar": {
             "outlinewidth": 0,
             "ticks": ""
            },
            "colorscale": [
             [
              0,
              "#0d0887"
             ],
             [
              0.1111111111111111,
              "#46039f"
             ],
             [
              0.2222222222222222,
              "#7201a8"
             ],
             [
              0.3333333333333333,
              "#9c179e"
             ],
             [
              0.4444444444444444,
              "#bd3786"
             ],
             [
              0.5555555555555556,
              "#d8576b"
             ],
             [
              0.6666666666666666,
              "#ed7953"
             ],
             [
              0.7777777777777778,
              "#fb9f3a"
             ],
             [
              0.8888888888888888,
              "#fdca26"
             ],
             [
              1,
              "#f0f921"
             ]
            ],
            "type": "heatmap"
           }
          ],
          "heatmapgl": [
           {
            "colorbar": {
             "outlinewidth": 0,
             "ticks": ""
            },
            "colorscale": [
             [
              0,
              "#0d0887"
             ],
             [
              0.1111111111111111,
              "#46039f"
             ],
             [
              0.2222222222222222,
              "#7201a8"
             ],
             [
              0.3333333333333333,
              "#9c179e"
             ],
             [
              0.4444444444444444,
              "#bd3786"
             ],
             [
              0.5555555555555556,
              "#d8576b"
             ],
             [
              0.6666666666666666,
              "#ed7953"
             ],
             [
              0.7777777777777778,
              "#fb9f3a"
             ],
             [
              0.8888888888888888,
              "#fdca26"
             ],
             [
              1,
              "#f0f921"
             ]
            ],
            "type": "heatmapgl"
           }
          ],
          "histogram": [
           {
            "marker": {
             "pattern": {
              "fillmode": "overlay",
              "size": 10,
              "solidity": 0.2
             }
            },
            "type": "histogram"
           }
          ],
          "histogram2d": [
           {
            "colorbar": {
             "outlinewidth": 0,
             "ticks": ""
            },
            "colorscale": [
             [
              0,
              "#0d0887"
             ],
             [
              0.1111111111111111,
              "#46039f"
             ],
             [
              0.2222222222222222,
              "#7201a8"
             ],
             [
              0.3333333333333333,
              "#9c179e"
             ],
             [
              0.4444444444444444,
              "#bd3786"
             ],
             [
              0.5555555555555556,
              "#d8576b"
             ],
             [
              0.6666666666666666,
              "#ed7953"
             ],
             [
              0.7777777777777778,
              "#fb9f3a"
             ],
             [
              0.8888888888888888,
              "#fdca26"
             ],
             [
              1,
              "#f0f921"
             ]
            ],
            "type": "histogram2d"
           }
          ],
          "histogram2dcontour": [
           {
            "colorbar": {
             "outlinewidth": 0,
             "ticks": ""
            },
            "colorscale": [
             [
              0,
              "#0d0887"
             ],
             [
              0.1111111111111111,
              "#46039f"
             ],
             [
              0.2222222222222222,
              "#7201a8"
             ],
             [
              0.3333333333333333,
              "#9c179e"
             ],
             [
              0.4444444444444444,
              "#bd3786"
             ],
             [
              0.5555555555555556,
              "#d8576b"
             ],
             [
              0.6666666666666666,
              "#ed7953"
             ],
             [
              0.7777777777777778,
              "#fb9f3a"
             ],
             [
              0.8888888888888888,
              "#fdca26"
             ],
             [
              1,
              "#f0f921"
             ]
            ],
            "type": "histogram2dcontour"
           }
          ],
          "mesh3d": [
           {
            "colorbar": {
             "outlinewidth": 0,
             "ticks": ""
            },
            "type": "mesh3d"
           }
          ],
          "parcoords": [
           {
            "line": {
             "colorbar": {
              "outlinewidth": 0,
              "ticks": ""
             }
            },
            "type": "parcoords"
           }
          ],
          "pie": [
           {
            "automargin": true,
            "type": "pie"
           }
          ],
          "scatter": [
           {
            "fillpattern": {
             "fillmode": "overlay",
             "size": 10,
             "solidity": 0.2
            },
            "type": "scatter"
           }
          ],
          "scatter3d": [
           {
            "line": {
             "colorbar": {
              "outlinewidth": 0,
              "ticks": ""
             }
            },
            "marker": {
             "colorbar": {
              "outlinewidth": 0,
              "ticks": ""
             }
            },
            "type": "scatter3d"
           }
          ],
          "scattercarpet": [
           {
            "marker": {
             "colorbar": {
              "outlinewidth": 0,
              "ticks": ""
             }
            },
            "type": "scattercarpet"
           }
          ],
          "scattergeo": [
           {
            "marker": {
             "colorbar": {
              "outlinewidth": 0,
              "ticks": ""
             }
            },
            "type": "scattergeo"
           }
          ],
          "scattergl": [
           {
            "marker": {
             "colorbar": {
              "outlinewidth": 0,
              "ticks": ""
             }
            },
            "type": "scattergl"
           }
          ],
          "scattermapbox": [
           {
            "marker": {
             "colorbar": {
              "outlinewidth": 0,
              "ticks": ""
             }
            },
            "type": "scattermapbox"
           }
          ],
          "scatterpolar": [
           {
            "marker": {
             "colorbar": {
              "outlinewidth": 0,
              "ticks": ""
             }
            },
            "type": "scatterpolar"
           }
          ],
          "scatterpolargl": [
           {
            "marker": {
             "colorbar": {
              "outlinewidth": 0,
              "ticks": ""
             }
            },
            "type": "scatterpolargl"
           }
          ],
          "scatterternary": [
           {
            "marker": {
             "colorbar": {
              "outlinewidth": 0,
              "ticks": ""
             }
            },
            "type": "scatterternary"
           }
          ],
          "surface": [
           {
            "colorbar": {
             "outlinewidth": 0,
             "ticks": ""
            },
            "colorscale": [
             [
              0,
              "#0d0887"
             ],
             [
              0.1111111111111111,
              "#46039f"
             ],
             [
              0.2222222222222222,
              "#7201a8"
             ],
             [
              0.3333333333333333,
              "#9c179e"
             ],
             [
              0.4444444444444444,
              "#bd3786"
             ],
             [
              0.5555555555555556,
              "#d8576b"
             ],
             [
              0.6666666666666666,
              "#ed7953"
             ],
             [
              0.7777777777777778,
              "#fb9f3a"
             ],
             [
              0.8888888888888888,
              "#fdca26"
             ],
             [
              1,
              "#f0f921"
             ]
            ],
            "type": "surface"
           }
          ],
          "table": [
           {
            "cells": {
             "fill": {
              "color": "#EBF0F8"
             },
             "line": {
              "color": "white"
             }
            },
            "header": {
             "fill": {
              "color": "#C8D4E3"
             },
             "line": {
              "color": "white"
             }
            },
            "type": "table"
           }
          ]
         },
         "layout": {
          "annotationdefaults": {
           "arrowcolor": "#2a3f5f",
           "arrowhead": 0,
           "arrowwidth": 1
          },
          "autotypenumbers": "strict",
          "coloraxis": {
           "colorbar": {
            "outlinewidth": 0,
            "ticks": ""
           }
          },
          "colorscale": {
           "diverging": [
            [
             0,
             "#8e0152"
            ],
            [
             0.1,
             "#c51b7d"
            ],
            [
             0.2,
             "#de77ae"
            ],
            [
             0.3,
             "#f1b6da"
            ],
            [
             0.4,
             "#fde0ef"
            ],
            [
             0.5,
             "#f7f7f7"
            ],
            [
             0.6,
             "#e6f5d0"
            ],
            [
             0.7,
             "#b8e186"
            ],
            [
             0.8,
             "#7fbc41"
            ],
            [
             0.9,
             "#4d9221"
            ],
            [
             1,
             "#276419"
            ]
           ],
           "sequential": [
            [
             0,
             "#0d0887"
            ],
            [
             0.1111111111111111,
             "#46039f"
            ],
            [
             0.2222222222222222,
             "#7201a8"
            ],
            [
             0.3333333333333333,
             "#9c179e"
            ],
            [
             0.4444444444444444,
             "#bd3786"
            ],
            [
             0.5555555555555556,
             "#d8576b"
            ],
            [
             0.6666666666666666,
             "#ed7953"
            ],
            [
             0.7777777777777778,
             "#fb9f3a"
            ],
            [
             0.8888888888888888,
             "#fdca26"
            ],
            [
             1,
             "#f0f921"
            ]
           ],
           "sequentialminus": [
            [
             0,
             "#0d0887"
            ],
            [
             0.1111111111111111,
             "#46039f"
            ],
            [
             0.2222222222222222,
             "#7201a8"
            ],
            [
             0.3333333333333333,
             "#9c179e"
            ],
            [
             0.4444444444444444,
             "#bd3786"
            ],
            [
             0.5555555555555556,
             "#d8576b"
            ],
            [
             0.6666666666666666,
             "#ed7953"
            ],
            [
             0.7777777777777778,
             "#fb9f3a"
            ],
            [
             0.8888888888888888,
             "#fdca26"
            ],
            [
             1,
             "#f0f921"
            ]
           ]
          },
          "colorway": [
           "#636efa",
           "#EF553B",
           "#00cc96",
           "#ab63fa",
           "#FFA15A",
           "#19d3f3",
           "#FF6692",
           "#B6E880",
           "#FF97FF",
           "#FECB52"
          ],
          "font": {
           "color": "#2a3f5f"
          },
          "geo": {
           "bgcolor": "white",
           "lakecolor": "white",
           "landcolor": "#E5ECF6",
           "showlakes": true,
           "showland": true,
           "subunitcolor": "white"
          },
          "hoverlabel": {
           "align": "left"
          },
          "hovermode": "closest",
          "mapbox": {
           "style": "light"
          },
          "paper_bgcolor": "white",
          "plot_bgcolor": "#E5ECF6",
          "polar": {
           "angularaxis": {
            "gridcolor": "white",
            "linecolor": "white",
            "ticks": ""
           },
           "bgcolor": "#E5ECF6",
           "radialaxis": {
            "gridcolor": "white",
            "linecolor": "white",
            "ticks": ""
           }
          },
          "scene": {
           "xaxis": {
            "backgroundcolor": "#E5ECF6",
            "gridcolor": "white",
            "gridwidth": 2,
            "linecolor": "white",
            "showbackground": true,
            "ticks": "",
            "zerolinecolor": "white"
           },
           "yaxis": {
            "backgroundcolor": "#E5ECF6",
            "gridcolor": "white",
            "gridwidth": 2,
            "linecolor": "white",
            "showbackground": true,
            "ticks": "",
            "zerolinecolor": "white"
           },
           "zaxis": {
            "backgroundcolor": "#E5ECF6",
            "gridcolor": "white",
            "gridwidth": 2,
            "linecolor": "white",
            "showbackground": true,
            "ticks": "",
            "zerolinecolor": "white"
           }
          },
          "shapedefaults": {
           "line": {
            "color": "#2a3f5f"
           }
          },
          "ternary": {
           "aaxis": {
            "gridcolor": "white",
            "linecolor": "white",
            "ticks": ""
           },
           "baxis": {
            "gridcolor": "white",
            "linecolor": "white",
            "ticks": ""
           },
           "bgcolor": "#E5ECF6",
           "caxis": {
            "gridcolor": "white",
            "linecolor": "white",
            "ticks": ""
           }
          },
          "title": {
           "x": 0.05
          },
          "xaxis": {
           "automargin": true,
           "gridcolor": "white",
           "linecolor": "white",
           "ticks": "",
           "title": {
            "standoff": 15
           },
           "zerolinecolor": "white",
           "zerolinewidth": 2
          },
          "yaxis": {
           "automargin": true,
           "gridcolor": "white",
           "linecolor": "white",
           "ticks": "",
           "title": {
            "standoff": 15
           },
           "zerolinecolor": "white",
           "zerolinewidth": 2
          }
         }
        },
        "title": {
         "text": "Top 10 Películas por numero de votos"
        },
        "xaxis": {
         "anchor": "y",
         "domain": [
          0,
          1
         ],
         "range": [
          55000,
          85000
         ],
         "title": {
          "text": "Número de votos"
         }
        },
        "yaxis": {
         "anchor": "x",
         "domain": [
          0,
          1
         ],
         "title": {
          "text": "Título"
         }
        }
       }
      }
     },
     "metadata": {},
     "output_type": "display_data"
    }
   ],
   "source": [
    "df_votes_count = df_final.sort_values(by='count', ascending=False, axis=0)\n",
    "\n",
    "px.bar(df_votes_count.head(10).sort_values(by='count', ascending=True),\n",
    "       x='count',\n",
    "       y='title',\n",
    "       title='Top 10 Películas por numero de votos',\n",
    "       labels={'title': 'Título', 'count': 'Número de votos'},\n",
    "       orientation='h',\n",
    "       range_x=[55000, 85000])"
   ]
  },
  {
   "cell_type": "code",
   "execution_count": 20,
   "metadata": {},
   "outputs": [
    {
     "data": {
      "application/vnd.plotly.v1+json": {
       "config": {
        "plotlyServerURL": "https://plot.ly"
       },
       "data": [
        {
         "alignmentgroup": "True",
         "hovertemplate": "Valoracion=%{x}<br>Título=%{y}<extra></extra>",
         "legendgroup": "",
         "marker": {
          "color": "#636efa",
          "pattern": {
           "shape": ""
          }
         },
         "name": "",
         "offsetgroup": "",
         "orientation": "h",
         "showlegend": false,
         "textposition": "auto",
         "type": "bar",
         "x": [
          4.2186616007543405,
          4.228310618821568,
          4.237947624243627,
          4.243014062405697,
          4.247579083279535,
          4.25476920775043,
          4.2617585117585115,
          4.284353213163313,
          4.324336165187245,
          4.413576004516335
         ],
         "xaxis": "x",
         "y": [
          "One Flew Over the Cuckoo's Nest",
          "Fight Club",
          "Rear Window",
          "12 Angry Men",
          "Schindler's List",
          "Seven Samurai",
          "The Godfather: Part II",
          "The Usual Suspects",
          "The Godfather",
          "The Shawshank Redemption"
         ],
         "yaxis": "y"
        }
       ],
       "layout": {
        "barmode": "relative",
        "legend": {
         "tracegroupgap": 0
        },
        "template": {
         "data": {
          "bar": [
           {
            "error_x": {
             "color": "#2a3f5f"
            },
            "error_y": {
             "color": "#2a3f5f"
            },
            "marker": {
             "line": {
              "color": "#E5ECF6",
              "width": 0.5
             },
             "pattern": {
              "fillmode": "overlay",
              "size": 10,
              "solidity": 0.2
             }
            },
            "type": "bar"
           }
          ],
          "barpolar": [
           {
            "marker": {
             "line": {
              "color": "#E5ECF6",
              "width": 0.5
             },
             "pattern": {
              "fillmode": "overlay",
              "size": 10,
              "solidity": 0.2
             }
            },
            "type": "barpolar"
           }
          ],
          "carpet": [
           {
            "aaxis": {
             "endlinecolor": "#2a3f5f",
             "gridcolor": "white",
             "linecolor": "white",
             "minorgridcolor": "white",
             "startlinecolor": "#2a3f5f"
            },
            "baxis": {
             "endlinecolor": "#2a3f5f",
             "gridcolor": "white",
             "linecolor": "white",
             "minorgridcolor": "white",
             "startlinecolor": "#2a3f5f"
            },
            "type": "carpet"
           }
          ],
          "choropleth": [
           {
            "colorbar": {
             "outlinewidth": 0,
             "ticks": ""
            },
            "type": "choropleth"
           }
          ],
          "contour": [
           {
            "colorbar": {
             "outlinewidth": 0,
             "ticks": ""
            },
            "colorscale": [
             [
              0,
              "#0d0887"
             ],
             [
              0.1111111111111111,
              "#46039f"
             ],
             [
              0.2222222222222222,
              "#7201a8"
             ],
             [
              0.3333333333333333,
              "#9c179e"
             ],
             [
              0.4444444444444444,
              "#bd3786"
             ],
             [
              0.5555555555555556,
              "#d8576b"
             ],
             [
              0.6666666666666666,
              "#ed7953"
             ],
             [
              0.7777777777777778,
              "#fb9f3a"
             ],
             [
              0.8888888888888888,
              "#fdca26"
             ],
             [
              1,
              "#f0f921"
             ]
            ],
            "type": "contour"
           }
          ],
          "contourcarpet": [
           {
            "colorbar": {
             "outlinewidth": 0,
             "ticks": ""
            },
            "type": "contourcarpet"
           }
          ],
          "heatmap": [
           {
            "colorbar": {
             "outlinewidth": 0,
             "ticks": ""
            },
            "colorscale": [
             [
              0,
              "#0d0887"
             ],
             [
              0.1111111111111111,
              "#46039f"
             ],
             [
              0.2222222222222222,
              "#7201a8"
             ],
             [
              0.3333333333333333,
              "#9c179e"
             ],
             [
              0.4444444444444444,
              "#bd3786"
             ],
             [
              0.5555555555555556,
              "#d8576b"
             ],
             [
              0.6666666666666666,
              "#ed7953"
             ],
             [
              0.7777777777777778,
              "#fb9f3a"
             ],
             [
              0.8888888888888888,
              "#fdca26"
             ],
             [
              1,
              "#f0f921"
             ]
            ],
            "type": "heatmap"
           }
          ],
          "heatmapgl": [
           {
            "colorbar": {
             "outlinewidth": 0,
             "ticks": ""
            },
            "colorscale": [
             [
              0,
              "#0d0887"
             ],
             [
              0.1111111111111111,
              "#46039f"
             ],
             [
              0.2222222222222222,
              "#7201a8"
             ],
             [
              0.3333333333333333,
              "#9c179e"
             ],
             [
              0.4444444444444444,
              "#bd3786"
             ],
             [
              0.5555555555555556,
              "#d8576b"
             ],
             [
              0.6666666666666666,
              "#ed7953"
             ],
             [
              0.7777777777777778,
              "#fb9f3a"
             ],
             [
              0.8888888888888888,
              "#fdca26"
             ],
             [
              1,
              "#f0f921"
             ]
            ],
            "type": "heatmapgl"
           }
          ],
          "histogram": [
           {
            "marker": {
             "pattern": {
              "fillmode": "overlay",
              "size": 10,
              "solidity": 0.2
             }
            },
            "type": "histogram"
           }
          ],
          "histogram2d": [
           {
            "colorbar": {
             "outlinewidth": 0,
             "ticks": ""
            },
            "colorscale": [
             [
              0,
              "#0d0887"
             ],
             [
              0.1111111111111111,
              "#46039f"
             ],
             [
              0.2222222222222222,
              "#7201a8"
             ],
             [
              0.3333333333333333,
              "#9c179e"
             ],
             [
              0.4444444444444444,
              "#bd3786"
             ],
             [
              0.5555555555555556,
              "#d8576b"
             ],
             [
              0.6666666666666666,
              "#ed7953"
             ],
             [
              0.7777777777777778,
              "#fb9f3a"
             ],
             [
              0.8888888888888888,
              "#fdca26"
             ],
             [
              1,
              "#f0f921"
             ]
            ],
            "type": "histogram2d"
           }
          ],
          "histogram2dcontour": [
           {
            "colorbar": {
             "outlinewidth": 0,
             "ticks": ""
            },
            "colorscale": [
             [
              0,
              "#0d0887"
             ],
             [
              0.1111111111111111,
              "#46039f"
             ],
             [
              0.2222222222222222,
              "#7201a8"
             ],
             [
              0.3333333333333333,
              "#9c179e"
             ],
             [
              0.4444444444444444,
              "#bd3786"
             ],
             [
              0.5555555555555556,
              "#d8576b"
             ],
             [
              0.6666666666666666,
              "#ed7953"
             ],
             [
              0.7777777777777778,
              "#fb9f3a"
             ],
             [
              0.8888888888888888,
              "#fdca26"
             ],
             [
              1,
              "#f0f921"
             ]
            ],
            "type": "histogram2dcontour"
           }
          ],
          "mesh3d": [
           {
            "colorbar": {
             "outlinewidth": 0,
             "ticks": ""
            },
            "type": "mesh3d"
           }
          ],
          "parcoords": [
           {
            "line": {
             "colorbar": {
              "outlinewidth": 0,
              "ticks": ""
             }
            },
            "type": "parcoords"
           }
          ],
          "pie": [
           {
            "automargin": true,
            "type": "pie"
           }
          ],
          "scatter": [
           {
            "fillpattern": {
             "fillmode": "overlay",
             "size": 10,
             "solidity": 0.2
            },
            "type": "scatter"
           }
          ],
          "scatter3d": [
           {
            "line": {
             "colorbar": {
              "outlinewidth": 0,
              "ticks": ""
             }
            },
            "marker": {
             "colorbar": {
              "outlinewidth": 0,
              "ticks": ""
             }
            },
            "type": "scatter3d"
           }
          ],
          "scattercarpet": [
           {
            "marker": {
             "colorbar": {
              "outlinewidth": 0,
              "ticks": ""
             }
            },
            "type": "scattercarpet"
           }
          ],
          "scattergeo": [
           {
            "marker": {
             "colorbar": {
              "outlinewidth": 0,
              "ticks": ""
             }
            },
            "type": "scattergeo"
           }
          ],
          "scattergl": [
           {
            "marker": {
             "colorbar": {
              "outlinewidth": 0,
              "ticks": ""
             }
            },
            "type": "scattergl"
           }
          ],
          "scattermapbox": [
           {
            "marker": {
             "colorbar": {
              "outlinewidth": 0,
              "ticks": ""
             }
            },
            "type": "scattermapbox"
           }
          ],
          "scatterpolar": [
           {
            "marker": {
             "colorbar": {
              "outlinewidth": 0,
              "ticks": ""
             }
            },
            "type": "scatterpolar"
           }
          ],
          "scatterpolargl": [
           {
            "marker": {
             "colorbar": {
              "outlinewidth": 0,
              "ticks": ""
             }
            },
            "type": "scatterpolargl"
           }
          ],
          "scatterternary": [
           {
            "marker": {
             "colorbar": {
              "outlinewidth": 0,
              "ticks": ""
             }
            },
            "type": "scatterternary"
           }
          ],
          "surface": [
           {
            "colorbar": {
             "outlinewidth": 0,
             "ticks": ""
            },
            "colorscale": [
             [
              0,
              "#0d0887"
             ],
             [
              0.1111111111111111,
              "#46039f"
             ],
             [
              0.2222222222222222,
              "#7201a8"
             ],
             [
              0.3333333333333333,
              "#9c179e"
             ],
             [
              0.4444444444444444,
              "#bd3786"
             ],
             [
              0.5555555555555556,
              "#d8576b"
             ],
             [
              0.6666666666666666,
              "#ed7953"
             ],
             [
              0.7777777777777778,
              "#fb9f3a"
             ],
             [
              0.8888888888888888,
              "#fdca26"
             ],
             [
              1,
              "#f0f921"
             ]
            ],
            "type": "surface"
           }
          ],
          "table": [
           {
            "cells": {
             "fill": {
              "color": "#EBF0F8"
             },
             "line": {
              "color": "white"
             }
            },
            "header": {
             "fill": {
              "color": "#C8D4E3"
             },
             "line": {
              "color": "white"
             }
            },
            "type": "table"
           }
          ]
         },
         "layout": {
          "annotationdefaults": {
           "arrowcolor": "#2a3f5f",
           "arrowhead": 0,
           "arrowwidth": 1
          },
          "autotypenumbers": "strict",
          "coloraxis": {
           "colorbar": {
            "outlinewidth": 0,
            "ticks": ""
           }
          },
          "colorscale": {
           "diverging": [
            [
             0,
             "#8e0152"
            ],
            [
             0.1,
             "#c51b7d"
            ],
            [
             0.2,
             "#de77ae"
            ],
            [
             0.3,
             "#f1b6da"
            ],
            [
             0.4,
             "#fde0ef"
            ],
            [
             0.5,
             "#f7f7f7"
            ],
            [
             0.6,
             "#e6f5d0"
            ],
            [
             0.7,
             "#b8e186"
            ],
            [
             0.8,
             "#7fbc41"
            ],
            [
             0.9,
             "#4d9221"
            ],
            [
             1,
             "#276419"
            ]
           ],
           "sequential": [
            [
             0,
             "#0d0887"
            ],
            [
             0.1111111111111111,
             "#46039f"
            ],
            [
             0.2222222222222222,
             "#7201a8"
            ],
            [
             0.3333333333333333,
             "#9c179e"
            ],
            [
             0.4444444444444444,
             "#bd3786"
            ],
            [
             0.5555555555555556,
             "#d8576b"
            ],
            [
             0.6666666666666666,
             "#ed7953"
            ],
            [
             0.7777777777777778,
             "#fb9f3a"
            ],
            [
             0.8888888888888888,
             "#fdca26"
            ],
            [
             1,
             "#f0f921"
            ]
           ],
           "sequentialminus": [
            [
             0,
             "#0d0887"
            ],
            [
             0.1111111111111111,
             "#46039f"
            ],
            [
             0.2222222222222222,
             "#7201a8"
            ],
            [
             0.3333333333333333,
             "#9c179e"
            ],
            [
             0.4444444444444444,
             "#bd3786"
            ],
            [
             0.5555555555555556,
             "#d8576b"
            ],
            [
             0.6666666666666666,
             "#ed7953"
            ],
            [
             0.7777777777777778,
             "#fb9f3a"
            ],
            [
             0.8888888888888888,
             "#fdca26"
            ],
            [
             1,
             "#f0f921"
            ]
           ]
          },
          "colorway": [
           "#636efa",
           "#EF553B",
           "#00cc96",
           "#ab63fa",
           "#FFA15A",
           "#19d3f3",
           "#FF6692",
           "#B6E880",
           "#FF97FF",
           "#FECB52"
          ],
          "font": {
           "color": "#2a3f5f"
          },
          "geo": {
           "bgcolor": "white",
           "lakecolor": "white",
           "landcolor": "#E5ECF6",
           "showlakes": true,
           "showland": true,
           "subunitcolor": "white"
          },
          "hoverlabel": {
           "align": "left"
          },
          "hovermode": "closest",
          "mapbox": {
           "style": "light"
          },
          "paper_bgcolor": "white",
          "plot_bgcolor": "#E5ECF6",
          "polar": {
           "angularaxis": {
            "gridcolor": "white",
            "linecolor": "white",
            "ticks": ""
           },
           "bgcolor": "#E5ECF6",
           "radialaxis": {
            "gridcolor": "white",
            "linecolor": "white",
            "ticks": ""
           }
          },
          "scene": {
           "xaxis": {
            "backgroundcolor": "#E5ECF6",
            "gridcolor": "white",
            "gridwidth": 2,
            "linecolor": "white",
            "showbackground": true,
            "ticks": "",
            "zerolinecolor": "white"
           },
           "yaxis": {
            "backgroundcolor": "#E5ECF6",
            "gridcolor": "white",
            "gridwidth": 2,
            "linecolor": "white",
            "showbackground": true,
            "ticks": "",
            "zerolinecolor": "white"
           },
           "zaxis": {
            "backgroundcolor": "#E5ECF6",
            "gridcolor": "white",
            "gridwidth": 2,
            "linecolor": "white",
            "showbackground": true,
            "ticks": "",
            "zerolinecolor": "white"
           }
          },
          "shapedefaults": {
           "line": {
            "color": "#2a3f5f"
           }
          },
          "ternary": {
           "aaxis": {
            "gridcolor": "white",
            "linecolor": "white",
            "ticks": ""
           },
           "baxis": {
            "gridcolor": "white",
            "linecolor": "white",
            "ticks": ""
           },
           "bgcolor": "#E5ECF6",
           "caxis": {
            "gridcolor": "white",
            "linecolor": "white",
            "ticks": ""
           }
          },
          "title": {
           "x": 0.05
          },
          "xaxis": {
           "automargin": true,
           "gridcolor": "white",
           "linecolor": "white",
           "ticks": "",
           "title": {
            "standoff": 15
           },
           "zerolinecolor": "white",
           "zerolinewidth": 2
          },
          "yaxis": {
           "automargin": true,
           "gridcolor": "white",
           "linecolor": "white",
           "ticks": "",
           "title": {
            "standoff": 15
           },
           "zerolinecolor": "white",
           "zerolinewidth": 2
          }
         }
        },
        "title": {
         "text": "Top 10 Películas por valoracion"
        },
        "xaxis": {
         "anchor": "y",
         "domain": [
          0,
          1
         ],
         "range": [
          4,
          4.5
         ],
         "title": {
          "text": "Valoracion"
         }
        },
        "yaxis": {
         "anchor": "x",
         "domain": [
          0,
          1
         ],
         "title": {
          "text": "Título"
         }
        }
       }
      }
     },
     "metadata": {},
     "output_type": "display_data"
    }
   ],
   "source": [
    "df_rating = df_final.sort_values(by='rating', ascending=False, axis=0)\n",
    "\n",
    "px.bar(df_rating.head(10).sort_values(by='rating', ascending=True),\n",
    "       x='rating',\n",
    "       y='title',\n",
    "       title='Top 10 Películas por valoracion',\n",
    "       labels={'title': 'Título', 'rating': 'Valoracion'},\n",
    "       orientation='h',\n",
    "       range_x=[4.0, 4.5])"
   ]
  },
  {
   "cell_type": "code",
   "execution_count": 21,
   "metadata": {},
   "outputs": [
    {
     "name": "stderr",
     "output_type": "stream",
     "text": [
      "C:\\Users\\mvill\\AppData\\Local\\Temp\\ipykernel_15668\\3235675759.py:6: SettingWithCopyWarning:\n",
      "\n",
      "\n",
      "A value is trying to be set on a copy of a slice from a DataFrame.\n",
      "Try using .loc[row_indexer,col_indexer] = value instead\n",
      "\n",
      "See the caveats in the documentation: https://pandas.pydata.org/pandas-docs/stable/user_guide/indexing.html#returning-a-view-versus-a-copy\n",
      "\n",
      "C:\\Users\\mvill\\AppData\\Local\\Temp\\ipykernel_15668\\3235675759.py:9: SettingWithCopyWarning:\n",
      "\n",
      "\n",
      "A value is trying to be set on a copy of a slice from a DataFrame.\n",
      "Try using .loc[row_indexer,col_indexer] = value instead\n",
      "\n",
      "See the caveats in the documentation: https://pandas.pydata.org/pandas-docs/stable/user_guide/indexing.html#returning-a-view-versus-a-copy\n",
      "\n",
      "C:\\Users\\mvill\\AppData\\Local\\Temp\\ipykernel_15668\\3235675759.py:12: SettingWithCopyWarning:\n",
      "\n",
      "\n",
      "A value is trying to be set on a copy of a slice from a DataFrame.\n",
      "Try using .loc[row_indexer,col_indexer] = value instead\n",
      "\n",
      "See the caveats in the documentation: https://pandas.pydata.org/pandas-docs/stable/user_guide/indexing.html#returning-a-view-versus-a-copy\n",
      "\n"
     ]
    },
    {
     "data": {
      "text/html": [
       "<div>\n",
       "<style scoped>\n",
       "    .dataframe tbody tr th:only-of-type {\n",
       "        vertical-align: middle;\n",
       "    }\n",
       "\n",
       "    .dataframe tbody tr th {\n",
       "        vertical-align: top;\n",
       "    }\n",
       "\n",
       "    .dataframe thead th {\n",
       "        text-align: right;\n",
       "    }\n",
       "</style>\n",
       "<table border=\"1\" class=\"dataframe\">\n",
       "  <thead>\n",
       "    <tr style=\"text-align: right;\">\n",
       "      <th></th>\n",
       "      <th>production_countries</th>\n",
       "      <th>count</th>\n",
       "    </tr>\n",
       "  </thead>\n",
       "  <tbody>\n",
       "    <tr>\n",
       "      <th>0</th>\n",
       "      <td>United States of America</td>\n",
       "      <td>738</td>\n",
       "    </tr>\n",
       "    <tr>\n",
       "      <th>1</th>\n",
       "      <td>United Kingdom</td>\n",
       "      <td>118</td>\n",
       "    </tr>\n",
       "    <tr>\n",
       "      <th>2</th>\n",
       "      <td>Germany</td>\n",
       "      <td>46</td>\n",
       "    </tr>\n",
       "    <tr>\n",
       "      <th>3</th>\n",
       "      <td>France</td>\n",
       "      <td>31</td>\n",
       "    </tr>\n",
       "    <tr>\n",
       "      <th>4</th>\n",
       "      <td>Canada</td>\n",
       "      <td>22</td>\n",
       "    </tr>\n",
       "  </tbody>\n",
       "</table>\n",
       "</div>"
      ],
      "text/plain": [
       "       production_countries  count\n",
       "0  United States of America    738\n",
       "1            United Kingdom    118\n",
       "2                   Germany     46\n",
       "3                    France     31\n",
       "4                    Canada     22"
      ]
     },
     "execution_count": 21,
     "metadata": {},
     "output_type": "execute_result"
    }
   ],
   "source": [
    "df_country = df_final_usable[['movieId', 'title_y','production_countries']]\n",
    "\n",
    "df_country.head()\n",
    "\n",
    "# Replace all single quotes with double quotes in the production_countries column\n",
    "df_country['production_countries'] = df_country['production_countries'].str.replace(\"'\", '\"')\n",
    "\n",
    "# Convert the production_countries column to a list of dictionaries\n",
    "df_country['production_countries'] = df_country['production_countries'].apply(lambda x: json.loads(x) if x != '[]' else [])\n",
    "\n",
    "# Extract the name of the country from the list of dictionaries\n",
    "df_country['production_countries'] = df_country['production_countries'].apply(lambda x: x[0]['name'] if x != [] else np.nan)\n",
    "\n",
    "# Count the number of movies produced in each country\n",
    "df_country_count = df_country['production_countries'].value_counts().reset_index()\n",
    "\n",
    "df_country_count.head()"
   ]
  },
  {
   "cell_type": "code",
   "execution_count": 22,
   "metadata": {},
   "outputs": [
    {
     "data": {
      "application/vnd.plotly.v1+json": {
       "config": {
        "plotlyServerURL": "https://plot.ly"
       },
       "data": [
        {
         "coloraxis": "coloraxis",
         "geo": "geo",
         "hovertemplate": "production_countries=%{location}<br>count=%{z}<extra></extra>",
         "locationmode": "country names",
         "locations": [
          "United States of America",
          "United Kingdom",
          "Germany",
          "France",
          "Canada",
          "Australia",
          "Japan",
          "New Zealand",
          "Italy",
          "China",
          "India",
          "Czech Republic",
          "Spain",
          "Mexico",
          "Hong Kong",
          "South Korea",
          "Belgium",
          "Austria",
          "Iceland",
          "Norway",
          "Brazil",
          "Ireland",
          "South Africa",
          "Peru"
         ],
         "name": "",
         "type": "choropleth",
         "z": [
          738,
          118,
          46,
          31,
          22,
          19,
          14,
          8,
          5,
          5,
          3,
          3,
          3,
          3,
          3,
          1,
          1,
          1,
          1,
          1,
          1,
          1,
          1,
          1
         ]
        }
       ],
       "layout": {
        "coloraxis": {
         "colorbar": {
          "title": {
           "text": "count"
          }
         },
         "colorscale": [
          [
           0,
           "#0d0887"
          ],
          [
           0.1111111111111111,
           "#46039f"
          ],
          [
           0.2222222222222222,
           "#7201a8"
          ],
          [
           0.3333333333333333,
           "#9c179e"
          ],
          [
           0.4444444444444444,
           "#bd3786"
          ],
          [
           0.5555555555555556,
           "#d8576b"
          ],
          [
           0.6666666666666666,
           "#ed7953"
          ],
          [
           0.7777777777777778,
           "#fb9f3a"
          ],
          [
           0.8888888888888888,
           "#fdca26"
          ],
          [
           1,
           "#f0f921"
          ]
         ]
        },
        "geo": {
         "center": {},
         "domain": {
          "x": [
           0,
           1
          ],
          "y": [
           0,
           1
          ]
         }
        },
        "legend": {
         "tracegroupgap": 0
        },
        "template": {
         "data": {
          "bar": [
           {
            "error_x": {
             "color": "#2a3f5f"
            },
            "error_y": {
             "color": "#2a3f5f"
            },
            "marker": {
             "line": {
              "color": "#E5ECF6",
              "width": 0.5
             },
             "pattern": {
              "fillmode": "overlay",
              "size": 10,
              "solidity": 0.2
             }
            },
            "type": "bar"
           }
          ],
          "barpolar": [
           {
            "marker": {
             "line": {
              "color": "#E5ECF6",
              "width": 0.5
             },
             "pattern": {
              "fillmode": "overlay",
              "size": 10,
              "solidity": 0.2
             }
            },
            "type": "barpolar"
           }
          ],
          "carpet": [
           {
            "aaxis": {
             "endlinecolor": "#2a3f5f",
             "gridcolor": "white",
             "linecolor": "white",
             "minorgridcolor": "white",
             "startlinecolor": "#2a3f5f"
            },
            "baxis": {
             "endlinecolor": "#2a3f5f",
             "gridcolor": "white",
             "linecolor": "white",
             "minorgridcolor": "white",
             "startlinecolor": "#2a3f5f"
            },
            "type": "carpet"
           }
          ],
          "choropleth": [
           {
            "colorbar": {
             "outlinewidth": 0,
             "ticks": ""
            },
            "type": "choropleth"
           }
          ],
          "contour": [
           {
            "colorbar": {
             "outlinewidth": 0,
             "ticks": ""
            },
            "colorscale": [
             [
              0,
              "#0d0887"
             ],
             [
              0.1111111111111111,
              "#46039f"
             ],
             [
              0.2222222222222222,
              "#7201a8"
             ],
             [
              0.3333333333333333,
              "#9c179e"
             ],
             [
              0.4444444444444444,
              "#bd3786"
             ],
             [
              0.5555555555555556,
              "#d8576b"
             ],
             [
              0.6666666666666666,
              "#ed7953"
             ],
             [
              0.7777777777777778,
              "#fb9f3a"
             ],
             [
              0.8888888888888888,
              "#fdca26"
             ],
             [
              1,
              "#f0f921"
             ]
            ],
            "type": "contour"
           }
          ],
          "contourcarpet": [
           {
            "colorbar": {
             "outlinewidth": 0,
             "ticks": ""
            },
            "type": "contourcarpet"
           }
          ],
          "heatmap": [
           {
            "colorbar": {
             "outlinewidth": 0,
             "ticks": ""
            },
            "colorscale": [
             [
              0,
              "#0d0887"
             ],
             [
              0.1111111111111111,
              "#46039f"
             ],
             [
              0.2222222222222222,
              "#7201a8"
             ],
             [
              0.3333333333333333,
              "#9c179e"
             ],
             [
              0.4444444444444444,
              "#bd3786"
             ],
             [
              0.5555555555555556,
              "#d8576b"
             ],
             [
              0.6666666666666666,
              "#ed7953"
             ],
             [
              0.7777777777777778,
              "#fb9f3a"
             ],
             [
              0.8888888888888888,
              "#fdca26"
             ],
             [
              1,
              "#f0f921"
             ]
            ],
            "type": "heatmap"
           }
          ],
          "heatmapgl": [
           {
            "colorbar": {
             "outlinewidth": 0,
             "ticks": ""
            },
            "colorscale": [
             [
              0,
              "#0d0887"
             ],
             [
              0.1111111111111111,
              "#46039f"
             ],
             [
              0.2222222222222222,
              "#7201a8"
             ],
             [
              0.3333333333333333,
              "#9c179e"
             ],
             [
              0.4444444444444444,
              "#bd3786"
             ],
             [
              0.5555555555555556,
              "#d8576b"
             ],
             [
              0.6666666666666666,
              "#ed7953"
             ],
             [
              0.7777777777777778,
              "#fb9f3a"
             ],
             [
              0.8888888888888888,
              "#fdca26"
             ],
             [
              1,
              "#f0f921"
             ]
            ],
            "type": "heatmapgl"
           }
          ],
          "histogram": [
           {
            "marker": {
             "pattern": {
              "fillmode": "overlay",
              "size": 10,
              "solidity": 0.2
             }
            },
            "type": "histogram"
           }
          ],
          "histogram2d": [
           {
            "colorbar": {
             "outlinewidth": 0,
             "ticks": ""
            },
            "colorscale": [
             [
              0,
              "#0d0887"
             ],
             [
              0.1111111111111111,
              "#46039f"
             ],
             [
              0.2222222222222222,
              "#7201a8"
             ],
             [
              0.3333333333333333,
              "#9c179e"
             ],
             [
              0.4444444444444444,
              "#bd3786"
             ],
             [
              0.5555555555555556,
              "#d8576b"
             ],
             [
              0.6666666666666666,
              "#ed7953"
             ],
             [
              0.7777777777777778,
              "#fb9f3a"
             ],
             [
              0.8888888888888888,
              "#fdca26"
             ],
             [
              1,
              "#f0f921"
             ]
            ],
            "type": "histogram2d"
           }
          ],
          "histogram2dcontour": [
           {
            "colorbar": {
             "outlinewidth": 0,
             "ticks": ""
            },
            "colorscale": [
             [
              0,
              "#0d0887"
             ],
             [
              0.1111111111111111,
              "#46039f"
             ],
             [
              0.2222222222222222,
              "#7201a8"
             ],
             [
              0.3333333333333333,
              "#9c179e"
             ],
             [
              0.4444444444444444,
              "#bd3786"
             ],
             [
              0.5555555555555556,
              "#d8576b"
             ],
             [
              0.6666666666666666,
              "#ed7953"
             ],
             [
              0.7777777777777778,
              "#fb9f3a"
             ],
             [
              0.8888888888888888,
              "#fdca26"
             ],
             [
              1,
              "#f0f921"
             ]
            ],
            "type": "histogram2dcontour"
           }
          ],
          "mesh3d": [
           {
            "colorbar": {
             "outlinewidth": 0,
             "ticks": ""
            },
            "type": "mesh3d"
           }
          ],
          "parcoords": [
           {
            "line": {
             "colorbar": {
              "outlinewidth": 0,
              "ticks": ""
             }
            },
            "type": "parcoords"
           }
          ],
          "pie": [
           {
            "automargin": true,
            "type": "pie"
           }
          ],
          "scatter": [
           {
            "fillpattern": {
             "fillmode": "overlay",
             "size": 10,
             "solidity": 0.2
            },
            "type": "scatter"
           }
          ],
          "scatter3d": [
           {
            "line": {
             "colorbar": {
              "outlinewidth": 0,
              "ticks": ""
             }
            },
            "marker": {
             "colorbar": {
              "outlinewidth": 0,
              "ticks": ""
             }
            },
            "type": "scatter3d"
           }
          ],
          "scattercarpet": [
           {
            "marker": {
             "colorbar": {
              "outlinewidth": 0,
              "ticks": ""
             }
            },
            "type": "scattercarpet"
           }
          ],
          "scattergeo": [
           {
            "marker": {
             "colorbar": {
              "outlinewidth": 0,
              "ticks": ""
             }
            },
            "type": "scattergeo"
           }
          ],
          "scattergl": [
           {
            "marker": {
             "colorbar": {
              "outlinewidth": 0,
              "ticks": ""
             }
            },
            "type": "scattergl"
           }
          ],
          "scattermapbox": [
           {
            "marker": {
             "colorbar": {
              "outlinewidth": 0,
              "ticks": ""
             }
            },
            "type": "scattermapbox"
           }
          ],
          "scatterpolar": [
           {
            "marker": {
             "colorbar": {
              "outlinewidth": 0,
              "ticks": ""
             }
            },
            "type": "scatterpolar"
           }
          ],
          "scatterpolargl": [
           {
            "marker": {
             "colorbar": {
              "outlinewidth": 0,
              "ticks": ""
             }
            },
            "type": "scatterpolargl"
           }
          ],
          "scatterternary": [
           {
            "marker": {
             "colorbar": {
              "outlinewidth": 0,
              "ticks": ""
             }
            },
            "type": "scatterternary"
           }
          ],
          "surface": [
           {
            "colorbar": {
             "outlinewidth": 0,
             "ticks": ""
            },
            "colorscale": [
             [
              0,
              "#0d0887"
             ],
             [
              0.1111111111111111,
              "#46039f"
             ],
             [
              0.2222222222222222,
              "#7201a8"
             ],
             [
              0.3333333333333333,
              "#9c179e"
             ],
             [
              0.4444444444444444,
              "#bd3786"
             ],
             [
              0.5555555555555556,
              "#d8576b"
             ],
             [
              0.6666666666666666,
              "#ed7953"
             ],
             [
              0.7777777777777778,
              "#fb9f3a"
             ],
             [
              0.8888888888888888,
              "#fdca26"
             ],
             [
              1,
              "#f0f921"
             ]
            ],
            "type": "surface"
           }
          ],
          "table": [
           {
            "cells": {
             "fill": {
              "color": "#EBF0F8"
             },
             "line": {
              "color": "white"
             }
            },
            "header": {
             "fill": {
              "color": "#C8D4E3"
             },
             "line": {
              "color": "white"
             }
            },
            "type": "table"
           }
          ]
         },
         "layout": {
          "annotationdefaults": {
           "arrowcolor": "#2a3f5f",
           "arrowhead": 0,
           "arrowwidth": 1
          },
          "autotypenumbers": "strict",
          "coloraxis": {
           "colorbar": {
            "outlinewidth": 0,
            "ticks": ""
           }
          },
          "colorscale": {
           "diverging": [
            [
             0,
             "#8e0152"
            ],
            [
             0.1,
             "#c51b7d"
            ],
            [
             0.2,
             "#de77ae"
            ],
            [
             0.3,
             "#f1b6da"
            ],
            [
             0.4,
             "#fde0ef"
            ],
            [
             0.5,
             "#f7f7f7"
            ],
            [
             0.6,
             "#e6f5d0"
            ],
            [
             0.7,
             "#b8e186"
            ],
            [
             0.8,
             "#7fbc41"
            ],
            [
             0.9,
             "#4d9221"
            ],
            [
             1,
             "#276419"
            ]
           ],
           "sequential": [
            [
             0,
             "#0d0887"
            ],
            [
             0.1111111111111111,
             "#46039f"
            ],
            [
             0.2222222222222222,
             "#7201a8"
            ],
            [
             0.3333333333333333,
             "#9c179e"
            ],
            [
             0.4444444444444444,
             "#bd3786"
            ],
            [
             0.5555555555555556,
             "#d8576b"
            ],
            [
             0.6666666666666666,
             "#ed7953"
            ],
            [
             0.7777777777777778,
             "#fb9f3a"
            ],
            [
             0.8888888888888888,
             "#fdca26"
            ],
            [
             1,
             "#f0f921"
            ]
           ],
           "sequentialminus": [
            [
             0,
             "#0d0887"
            ],
            [
             0.1111111111111111,
             "#46039f"
            ],
            [
             0.2222222222222222,
             "#7201a8"
            ],
            [
             0.3333333333333333,
             "#9c179e"
            ],
            [
             0.4444444444444444,
             "#bd3786"
            ],
            [
             0.5555555555555556,
             "#d8576b"
            ],
            [
             0.6666666666666666,
             "#ed7953"
            ],
            [
             0.7777777777777778,
             "#fb9f3a"
            ],
            [
             0.8888888888888888,
             "#fdca26"
            ],
            [
             1,
             "#f0f921"
            ]
           ]
          },
          "colorway": [
           "#636efa",
           "#EF553B",
           "#00cc96",
           "#ab63fa",
           "#FFA15A",
           "#19d3f3",
           "#FF6692",
           "#B6E880",
           "#FF97FF",
           "#FECB52"
          ],
          "font": {
           "color": "#2a3f5f"
          },
          "geo": {
           "bgcolor": "white",
           "lakecolor": "white",
           "landcolor": "#E5ECF6",
           "showlakes": true,
           "showland": true,
           "subunitcolor": "white"
          },
          "hoverlabel": {
           "align": "left"
          },
          "hovermode": "closest",
          "mapbox": {
           "style": "light"
          },
          "paper_bgcolor": "white",
          "plot_bgcolor": "#E5ECF6",
          "polar": {
           "angularaxis": {
            "gridcolor": "white",
            "linecolor": "white",
            "ticks": ""
           },
           "bgcolor": "#E5ECF6",
           "radialaxis": {
            "gridcolor": "white",
            "linecolor": "white",
            "ticks": ""
           }
          },
          "scene": {
           "xaxis": {
            "backgroundcolor": "#E5ECF6",
            "gridcolor": "white",
            "gridwidth": 2,
            "linecolor": "white",
            "showbackground": true,
            "ticks": "",
            "zerolinecolor": "white"
           },
           "yaxis": {
            "backgroundcolor": "#E5ECF6",
            "gridcolor": "white",
            "gridwidth": 2,
            "linecolor": "white",
            "showbackground": true,
            "ticks": "",
            "zerolinecolor": "white"
           },
           "zaxis": {
            "backgroundcolor": "#E5ECF6",
            "gridcolor": "white",
            "gridwidth": 2,
            "linecolor": "white",
            "showbackground": true,
            "ticks": "",
            "zerolinecolor": "white"
           }
          },
          "shapedefaults": {
           "line": {
            "color": "#2a3f5f"
           }
          },
          "ternary": {
           "aaxis": {
            "gridcolor": "white",
            "linecolor": "white",
            "ticks": ""
           },
           "baxis": {
            "gridcolor": "white",
            "linecolor": "white",
            "ticks": ""
           },
           "bgcolor": "#E5ECF6",
           "caxis": {
            "gridcolor": "white",
            "linecolor": "white",
            "ticks": ""
           }
          },
          "title": {
           "x": 0.05
          },
          "xaxis": {
           "automargin": true,
           "gridcolor": "white",
           "linecolor": "white",
           "ticks": "",
           "title": {
            "standoff": 15
           },
           "zerolinecolor": "white",
           "zerolinewidth": 2
          },
          "yaxis": {
           "automargin": true,
           "gridcolor": "white",
           "linecolor": "white",
           "ticks": "",
           "title": {
            "standoff": 15
           },
           "zerolinecolor": "white",
           "zerolinewidth": 2
          }
         }
        },
        "title": {
         "text": "Cantidad de peliculas por pais"
        }
       }
      }
     },
     "metadata": {},
     "output_type": "display_data"
    }
   ],
   "source": [
    "# Con EEUU\n",
    "\n",
    "px.choropleth(df_country_count,\n",
    "                locations='production_countries',\n",
    "                color='count',\n",
    "                locationmode='country names',\n",
    "                title='Cantidad de peliculas por pais',\n",
    "                color_continuous_scale=px.colors.sequential.Plasma,) # Buscar color para colorblind"
   ]
  },
  {
   "cell_type": "code",
   "execution_count": 23,
   "metadata": {},
   "outputs": [
    {
     "data": {
      "application/vnd.plotly.v1+json": {
       "config": {
        "plotlyServerURL": "https://plot.ly"
       },
       "data": [
        {
         "coloraxis": "coloraxis",
         "geo": "geo",
         "hovertemplate": "production_countries=%{location}<br>count=%{z}<extra></extra>",
         "locationmode": "country names",
         "locations": [
          "United Kingdom",
          "Germany",
          "France",
          "Canada",
          "Australia",
          "Japan",
          "New Zealand",
          "Italy",
          "China",
          "India",
          "Czech Republic",
          "Spain",
          "Mexico",
          "Hong Kong",
          "South Korea",
          "Belgium",
          "Austria",
          "Iceland",
          "Norway",
          "Brazil",
          "Ireland",
          "South Africa",
          "Peru"
         ],
         "name": "",
         "type": "choropleth",
         "z": [
          118,
          46,
          31,
          22,
          19,
          14,
          8,
          5,
          5,
          3,
          3,
          3,
          3,
          3,
          1,
          1,
          1,
          1,
          1,
          1,
          1,
          1,
          1
         ]
        }
       ],
       "layout": {
        "coloraxis": {
         "colorbar": {
          "title": {
           "text": "count"
          }
         },
         "colorscale": [
          [
           0,
           "#0d0887"
          ],
          [
           0.1111111111111111,
           "#46039f"
          ],
          [
           0.2222222222222222,
           "#7201a8"
          ],
          [
           0.3333333333333333,
           "#9c179e"
          ],
          [
           0.4444444444444444,
           "#bd3786"
          ],
          [
           0.5555555555555556,
           "#d8576b"
          ],
          [
           0.6666666666666666,
           "#ed7953"
          ],
          [
           0.7777777777777778,
           "#fb9f3a"
          ],
          [
           0.8888888888888888,
           "#fdca26"
          ],
          [
           1,
           "#f0f921"
          ]
         ]
        },
        "geo": {
         "center": {},
         "domain": {
          "x": [
           0,
           1
          ],
          "y": [
           0,
           1
          ]
         }
        },
        "legend": {
         "tracegroupgap": 0
        },
        "template": {
         "data": {
          "bar": [
           {
            "error_x": {
             "color": "#2a3f5f"
            },
            "error_y": {
             "color": "#2a3f5f"
            },
            "marker": {
             "line": {
              "color": "#E5ECF6",
              "width": 0.5
             },
             "pattern": {
              "fillmode": "overlay",
              "size": 10,
              "solidity": 0.2
             }
            },
            "type": "bar"
           }
          ],
          "barpolar": [
           {
            "marker": {
             "line": {
              "color": "#E5ECF6",
              "width": 0.5
             },
             "pattern": {
              "fillmode": "overlay",
              "size": 10,
              "solidity": 0.2
             }
            },
            "type": "barpolar"
           }
          ],
          "carpet": [
           {
            "aaxis": {
             "endlinecolor": "#2a3f5f",
             "gridcolor": "white",
             "linecolor": "white",
             "minorgridcolor": "white",
             "startlinecolor": "#2a3f5f"
            },
            "baxis": {
             "endlinecolor": "#2a3f5f",
             "gridcolor": "white",
             "linecolor": "white",
             "minorgridcolor": "white",
             "startlinecolor": "#2a3f5f"
            },
            "type": "carpet"
           }
          ],
          "choropleth": [
           {
            "colorbar": {
             "outlinewidth": 0,
             "ticks": ""
            },
            "type": "choropleth"
           }
          ],
          "contour": [
           {
            "colorbar": {
             "outlinewidth": 0,
             "ticks": ""
            },
            "colorscale": [
             [
              0,
              "#0d0887"
             ],
             [
              0.1111111111111111,
              "#46039f"
             ],
             [
              0.2222222222222222,
              "#7201a8"
             ],
             [
              0.3333333333333333,
              "#9c179e"
             ],
             [
              0.4444444444444444,
              "#bd3786"
             ],
             [
              0.5555555555555556,
              "#d8576b"
             ],
             [
              0.6666666666666666,
              "#ed7953"
             ],
             [
              0.7777777777777778,
              "#fb9f3a"
             ],
             [
              0.8888888888888888,
              "#fdca26"
             ],
             [
              1,
              "#f0f921"
             ]
            ],
            "type": "contour"
           }
          ],
          "contourcarpet": [
           {
            "colorbar": {
             "outlinewidth": 0,
             "ticks": ""
            },
            "type": "contourcarpet"
           }
          ],
          "heatmap": [
           {
            "colorbar": {
             "outlinewidth": 0,
             "ticks": ""
            },
            "colorscale": [
             [
              0,
              "#0d0887"
             ],
             [
              0.1111111111111111,
              "#46039f"
             ],
             [
              0.2222222222222222,
              "#7201a8"
             ],
             [
              0.3333333333333333,
              "#9c179e"
             ],
             [
              0.4444444444444444,
              "#bd3786"
             ],
             [
              0.5555555555555556,
              "#d8576b"
             ],
             [
              0.6666666666666666,
              "#ed7953"
             ],
             [
              0.7777777777777778,
              "#fb9f3a"
             ],
             [
              0.8888888888888888,
              "#fdca26"
             ],
             [
              1,
              "#f0f921"
             ]
            ],
            "type": "heatmap"
           }
          ],
          "heatmapgl": [
           {
            "colorbar": {
             "outlinewidth": 0,
             "ticks": ""
            },
            "colorscale": [
             [
              0,
              "#0d0887"
             ],
             [
              0.1111111111111111,
              "#46039f"
             ],
             [
              0.2222222222222222,
              "#7201a8"
             ],
             [
              0.3333333333333333,
              "#9c179e"
             ],
             [
              0.4444444444444444,
              "#bd3786"
             ],
             [
              0.5555555555555556,
              "#d8576b"
             ],
             [
              0.6666666666666666,
              "#ed7953"
             ],
             [
              0.7777777777777778,
              "#fb9f3a"
             ],
             [
              0.8888888888888888,
              "#fdca26"
             ],
             [
              1,
              "#f0f921"
             ]
            ],
            "type": "heatmapgl"
           }
          ],
          "histogram": [
           {
            "marker": {
             "pattern": {
              "fillmode": "overlay",
              "size": 10,
              "solidity": 0.2
             }
            },
            "type": "histogram"
           }
          ],
          "histogram2d": [
           {
            "colorbar": {
             "outlinewidth": 0,
             "ticks": ""
            },
            "colorscale": [
             [
              0,
              "#0d0887"
             ],
             [
              0.1111111111111111,
              "#46039f"
             ],
             [
              0.2222222222222222,
              "#7201a8"
             ],
             [
              0.3333333333333333,
              "#9c179e"
             ],
             [
              0.4444444444444444,
              "#bd3786"
             ],
             [
              0.5555555555555556,
              "#d8576b"
             ],
             [
              0.6666666666666666,
              "#ed7953"
             ],
             [
              0.7777777777777778,
              "#fb9f3a"
             ],
             [
              0.8888888888888888,
              "#fdca26"
             ],
             [
              1,
              "#f0f921"
             ]
            ],
            "type": "histogram2d"
           }
          ],
          "histogram2dcontour": [
           {
            "colorbar": {
             "outlinewidth": 0,
             "ticks": ""
            },
            "colorscale": [
             [
              0,
              "#0d0887"
             ],
             [
              0.1111111111111111,
              "#46039f"
             ],
             [
              0.2222222222222222,
              "#7201a8"
             ],
             [
              0.3333333333333333,
              "#9c179e"
             ],
             [
              0.4444444444444444,
              "#bd3786"
             ],
             [
              0.5555555555555556,
              "#d8576b"
             ],
             [
              0.6666666666666666,
              "#ed7953"
             ],
             [
              0.7777777777777778,
              "#fb9f3a"
             ],
             [
              0.8888888888888888,
              "#fdca26"
             ],
             [
              1,
              "#f0f921"
             ]
            ],
            "type": "histogram2dcontour"
           }
          ],
          "mesh3d": [
           {
            "colorbar": {
             "outlinewidth": 0,
             "ticks": ""
            },
            "type": "mesh3d"
           }
          ],
          "parcoords": [
           {
            "line": {
             "colorbar": {
              "outlinewidth": 0,
              "ticks": ""
             }
            },
            "type": "parcoords"
           }
          ],
          "pie": [
           {
            "automargin": true,
            "type": "pie"
           }
          ],
          "scatter": [
           {
            "fillpattern": {
             "fillmode": "overlay",
             "size": 10,
             "solidity": 0.2
            },
            "type": "scatter"
           }
          ],
          "scatter3d": [
           {
            "line": {
             "colorbar": {
              "outlinewidth": 0,
              "ticks": ""
             }
            },
            "marker": {
             "colorbar": {
              "outlinewidth": 0,
              "ticks": ""
             }
            },
            "type": "scatter3d"
           }
          ],
          "scattercarpet": [
           {
            "marker": {
             "colorbar": {
              "outlinewidth": 0,
              "ticks": ""
             }
            },
            "type": "scattercarpet"
           }
          ],
          "scattergeo": [
           {
            "marker": {
             "colorbar": {
              "outlinewidth": 0,
              "ticks": ""
             }
            },
            "type": "scattergeo"
           }
          ],
          "scattergl": [
           {
            "marker": {
             "colorbar": {
              "outlinewidth": 0,
              "ticks": ""
             }
            },
            "type": "scattergl"
           }
          ],
          "scattermapbox": [
           {
            "marker": {
             "colorbar": {
              "outlinewidth": 0,
              "ticks": ""
             }
            },
            "type": "scattermapbox"
           }
          ],
          "scatterpolar": [
           {
            "marker": {
             "colorbar": {
              "outlinewidth": 0,
              "ticks": ""
             }
            },
            "type": "scatterpolar"
           }
          ],
          "scatterpolargl": [
           {
            "marker": {
             "colorbar": {
              "outlinewidth": 0,
              "ticks": ""
             }
            },
            "type": "scatterpolargl"
           }
          ],
          "scatterternary": [
           {
            "marker": {
             "colorbar": {
              "outlinewidth": 0,
              "ticks": ""
             }
            },
            "type": "scatterternary"
           }
          ],
          "surface": [
           {
            "colorbar": {
             "outlinewidth": 0,
             "ticks": ""
            },
            "colorscale": [
             [
              0,
              "#0d0887"
             ],
             [
              0.1111111111111111,
              "#46039f"
             ],
             [
              0.2222222222222222,
              "#7201a8"
             ],
             [
              0.3333333333333333,
              "#9c179e"
             ],
             [
              0.4444444444444444,
              "#bd3786"
             ],
             [
              0.5555555555555556,
              "#d8576b"
             ],
             [
              0.6666666666666666,
              "#ed7953"
             ],
             [
              0.7777777777777778,
              "#fb9f3a"
             ],
             [
              0.8888888888888888,
              "#fdca26"
             ],
             [
              1,
              "#f0f921"
             ]
            ],
            "type": "surface"
           }
          ],
          "table": [
           {
            "cells": {
             "fill": {
              "color": "#EBF0F8"
             },
             "line": {
              "color": "white"
             }
            },
            "header": {
             "fill": {
              "color": "#C8D4E3"
             },
             "line": {
              "color": "white"
             }
            },
            "type": "table"
           }
          ]
         },
         "layout": {
          "annotationdefaults": {
           "arrowcolor": "#2a3f5f",
           "arrowhead": 0,
           "arrowwidth": 1
          },
          "autotypenumbers": "strict",
          "coloraxis": {
           "colorbar": {
            "outlinewidth": 0,
            "ticks": ""
           }
          },
          "colorscale": {
           "diverging": [
            [
             0,
             "#8e0152"
            ],
            [
             0.1,
             "#c51b7d"
            ],
            [
             0.2,
             "#de77ae"
            ],
            [
             0.3,
             "#f1b6da"
            ],
            [
             0.4,
             "#fde0ef"
            ],
            [
             0.5,
             "#f7f7f7"
            ],
            [
             0.6,
             "#e6f5d0"
            ],
            [
             0.7,
             "#b8e186"
            ],
            [
             0.8,
             "#7fbc41"
            ],
            [
             0.9,
             "#4d9221"
            ],
            [
             1,
             "#276419"
            ]
           ],
           "sequential": [
            [
             0,
             "#0d0887"
            ],
            [
             0.1111111111111111,
             "#46039f"
            ],
            [
             0.2222222222222222,
             "#7201a8"
            ],
            [
             0.3333333333333333,
             "#9c179e"
            ],
            [
             0.4444444444444444,
             "#bd3786"
            ],
            [
             0.5555555555555556,
             "#d8576b"
            ],
            [
             0.6666666666666666,
             "#ed7953"
            ],
            [
             0.7777777777777778,
             "#fb9f3a"
            ],
            [
             0.8888888888888888,
             "#fdca26"
            ],
            [
             1,
             "#f0f921"
            ]
           ],
           "sequentialminus": [
            [
             0,
             "#0d0887"
            ],
            [
             0.1111111111111111,
             "#46039f"
            ],
            [
             0.2222222222222222,
             "#7201a8"
            ],
            [
             0.3333333333333333,
             "#9c179e"
            ],
            [
             0.4444444444444444,
             "#bd3786"
            ],
            [
             0.5555555555555556,
             "#d8576b"
            ],
            [
             0.6666666666666666,
             "#ed7953"
            ],
            [
             0.7777777777777778,
             "#fb9f3a"
            ],
            [
             0.8888888888888888,
             "#fdca26"
            ],
            [
             1,
             "#f0f921"
            ]
           ]
          },
          "colorway": [
           "#636efa",
           "#EF553B",
           "#00cc96",
           "#ab63fa",
           "#FFA15A",
           "#19d3f3",
           "#FF6692",
           "#B6E880",
           "#FF97FF",
           "#FECB52"
          ],
          "font": {
           "color": "#2a3f5f"
          },
          "geo": {
           "bgcolor": "white",
           "lakecolor": "white",
           "landcolor": "#E5ECF6",
           "showlakes": true,
           "showland": true,
           "subunitcolor": "white"
          },
          "hoverlabel": {
           "align": "left"
          },
          "hovermode": "closest",
          "mapbox": {
           "style": "light"
          },
          "paper_bgcolor": "white",
          "plot_bgcolor": "#E5ECF6",
          "polar": {
           "angularaxis": {
            "gridcolor": "white",
            "linecolor": "white",
            "ticks": ""
           },
           "bgcolor": "#E5ECF6",
           "radialaxis": {
            "gridcolor": "white",
            "linecolor": "white",
            "ticks": ""
           }
          },
          "scene": {
           "xaxis": {
            "backgroundcolor": "#E5ECF6",
            "gridcolor": "white",
            "gridwidth": 2,
            "linecolor": "white",
            "showbackground": true,
            "ticks": "",
            "zerolinecolor": "white"
           },
           "yaxis": {
            "backgroundcolor": "#E5ECF6",
            "gridcolor": "white",
            "gridwidth": 2,
            "linecolor": "white",
            "showbackground": true,
            "ticks": "",
            "zerolinecolor": "white"
           },
           "zaxis": {
            "backgroundcolor": "#E5ECF6",
            "gridcolor": "white",
            "gridwidth": 2,
            "linecolor": "white",
            "showbackground": true,
            "ticks": "",
            "zerolinecolor": "white"
           }
          },
          "shapedefaults": {
           "line": {
            "color": "#2a3f5f"
           }
          },
          "ternary": {
           "aaxis": {
            "gridcolor": "white",
            "linecolor": "white",
            "ticks": ""
           },
           "baxis": {
            "gridcolor": "white",
            "linecolor": "white",
            "ticks": ""
           },
           "bgcolor": "#E5ECF6",
           "caxis": {
            "gridcolor": "white",
            "linecolor": "white",
            "ticks": ""
           }
          },
          "title": {
           "x": 0.05
          },
          "xaxis": {
           "automargin": true,
           "gridcolor": "white",
           "linecolor": "white",
           "ticks": "",
           "title": {
            "standoff": 15
           },
           "zerolinecolor": "white",
           "zerolinewidth": 2
          },
          "yaxis": {
           "automargin": true,
           "gridcolor": "white",
           "linecolor": "white",
           "ticks": "",
           "title": {
            "standoff": 15
           },
           "zerolinecolor": "white",
           "zerolinewidth": 2
          }
         }
        },
        "title": {
         "text": "Cantidad de peliculas por pais"
        }
       }
      }
     },
     "metadata": {},
     "output_type": "display_data"
    }
   ],
   "source": [
    "#Eliminar la fila con el pais 'United States of America'\n",
    "df_country_count.drop(df_country_count[df_country_count['production_countries'] == 'United States of America'].index, inplace=True)\n",
    "\n",
    "# Obtener mapa cloropletico de la cantidad de peliculas por pais\n",
    "\n",
    "px.choropleth(df_country_count,\n",
    "                locations='production_countries',\n",
    "                color='count',\n",
    "                locationmode='country names',\n",
    "                title='Cantidad de peliculas por pais',\n",
    "                color_continuous_scale=px.colors.sequential.Plasma,) # Buscar color para colorblind\n"
   ]
  },
  {
   "cell_type": "code",
   "execution_count": 29,
   "metadata": {},
   "outputs": [
    {
     "data": {
      "text/html": [
       "<div>\n",
       "<style scoped>\n",
       "    .dataframe tbody tr th:only-of-type {\n",
       "        vertical-align: middle;\n",
       "    }\n",
       "\n",
       "    .dataframe tbody tr th {\n",
       "        vertical-align: top;\n",
       "    }\n",
       "\n",
       "    .dataframe thead th {\n",
       "        text-align: right;\n",
       "    }\n",
       "</style>\n",
       "<table border=\"1\" class=\"dataframe\">\n",
       "  <thead>\n",
       "    <tr style=\"text-align: right;\">\n",
       "      <th></th>\n",
       "      <th>movieId</th>\n",
       "      <th>title_y</th>\n",
       "      <th>overview</th>\n",
       "    </tr>\n",
       "  </thead>\n",
       "  <tbody>\n",
       "    <tr>\n",
       "      <th>0</th>\n",
       "      <td>318</td>\n",
       "      <td>The Shawshank Redemption</td>\n",
       "      <td>Framed in the 1940s for the double murder of h...</td>\n",
       "    </tr>\n",
       "    <tr>\n",
       "      <th>1</th>\n",
       "      <td>858</td>\n",
       "      <td>The Godfather</td>\n",
       "      <td>Spanning the years 1945 to 1955, a chronicle o...</td>\n",
       "    </tr>\n",
       "    <tr>\n",
       "      <th>2</th>\n",
       "      <td>50</td>\n",
       "      <td>The Usual Suspects</td>\n",
       "      <td>Held in an L.A. interrogation room, Verbal Kin...</td>\n",
       "    </tr>\n",
       "    <tr>\n",
       "      <th>3</th>\n",
       "      <td>1221</td>\n",
       "      <td>The Godfather: Part II</td>\n",
       "      <td>In the continuing saga of the Corleone crime f...</td>\n",
       "    </tr>\n",
       "    <tr>\n",
       "      <th>4</th>\n",
       "      <td>2019</td>\n",
       "      <td>Seven Samurai</td>\n",
       "      <td>A samurai answers a village's request for prot...</td>\n",
       "    </tr>\n",
       "  </tbody>\n",
       "</table>\n",
       "</div>"
      ],
      "text/plain": [
       "   movieId                   title_y  \\\n",
       "0      318  The Shawshank Redemption   \n",
       "1      858             The Godfather   \n",
       "2       50        The Usual Suspects   \n",
       "3     1221    The Godfather: Part II   \n",
       "4     2019             Seven Samurai   \n",
       "\n",
       "                                            overview  \n",
       "0  Framed in the 1940s for the double murder of h...  \n",
       "1  Spanning the years 1945 to 1955, a chronicle o...  \n",
       "2  Held in an L.A. interrogation room, Verbal Kin...  \n",
       "3  In the continuing saga of the Corleone crime f...  \n",
       "4  A samurai answers a village's request for prot...  "
      ]
     },
     "execution_count": 29,
     "metadata": {},
     "output_type": "execute_result"
    }
   ],
   "source": [
    "df_overview = df_final_usable[['movieId', 'title_y', 'overview']]\n",
    "\n",
    "df_overview.head()"
   ]
  },
  {
   "cell_type": "code",
   "execution_count": 30,
   "metadata": {},
   "outputs": [],
   "source": [
    "stopwords = set(STOPWORDS)"
   ]
  },
  {
   "cell_type": "code",
   "execution_count": 31,
   "metadata": {},
   "outputs": [
    {
     "data": {
      "text/plain": [
       "<wordcloud.wordcloud.WordCloud at 0x208a7c75750>"
      ]
     },
     "execution_count": 31,
     "metadata": {},
     "output_type": "execute_result"
    }
   ],
   "source": [
    "overview_wc = WordCloud(\n",
    "    background_color='white',\n",
    "    stopwords=stopwords\n",
    ")\n",
    "\n",
    "overview_wc.generate(str(df_overview['overview']))"
   ]
  },
  {
   "cell_type": "code",
   "execution_count": 32,
   "metadata": {},
   "outputs": [
    {
     "data": {
      "image/png": "[encoded data removed]",
      "text/plain": [
       "<Figure size 640x480 with 1 Axes>"
      ]
     },
     "metadata": {},
     "output_type": "display_data"
    }
   ],
   "source": [
    "plt.imshow(overview_wc, interpolation='bilinear')\n",
    "plt.axis('off')\n",
    "plt.show()"
   ]
  }
 ],
 "metadata": {
  "kernelspec": {
   "display_name": ".venv",
   "language": "python",
   "name": "python3"
  },
  "language_info": {
   "codemirror_mode": {
    "name": "ipython",
    "version": 3
   },
   "file_extension": ".py",
   "mimetype": "text/x-python",
   "name": "python",
   "nbconvert_exporter": "python",
   "pygments_lexer": "ipython3",
   "version": "3.11.0"
  },
  "orig_nbformat": 4
 },
 "nbformat": 4,
 "nbformat_minor": 2
}
